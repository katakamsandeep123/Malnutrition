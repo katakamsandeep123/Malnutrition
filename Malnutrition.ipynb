{
 "cells": [
  {
   "cell_type": "markdown",
   "id": "3d534ce1",
   "metadata": {},
   "source": [
    "   #  Malnutrition EDA\n",
    "Malnutrition is a condition that results from eating a diet in which one or more nutrients are either not enough or are too much such that the diet causes health problems.\n",
    "\n",
    "#Wasting : Also known as 'acute malnutrition', wasting is characterised by a rapid deterioration in nutritional status over a short period of time in children under five years of age. Wasted children are at higher risk of dying.\n",
    "#Stunting is the impaired growth and development that children experience from poor nutrition, repeated infection, and inadequate psychosocial stimulation. Children are defined as stunted if their height-for-age is more than two standard deviations below the WHO Child Growth Standards median."
   ]
  },
  {
   "cell_type": "markdown",
   "id": "c69f5fd0",
   "metadata": {},
   "source": [
    "# data available\n",
    "\n",
    "Severe Wasting - % of children aged 0–59 months who are below minus three standard deviations from median weight-for-height.\n",
    "Wasting – Moderate and severe: % of children aged 0–59 months who are below minus two standard deviations from median weight-for-height\n",
    "Overweight – Moderate and severe: % aged 0-59 months who are above two standard deviations from median weight-for-height\n",
    "Stunting – Moderate and severe: % of children aged 0–59 months who are below minus two standard deviations from median height-for-age\n",
    "Underweight – Moderate and severe: % of children aged 0–59 months who are below minus two standard deviations from median weight-for-age\n",
    "Income Classification - When it comes to income , the World Bank divides the world's economies into four income groups: high, upper-middle, lower-middle, and low. The income classification is based on a measure of national income per person, or GNI per capita, calculated using the Atlas method\n"
   ]
  },
  {
   "cell_type": "code",
   "execution_count": 73,
   "id": "7c70f5e4",
   "metadata": {},
   "outputs": [],
   "source": [
    "#required libraries\n",
    "import numpy as np\n",
    "import pandas as pd\n",
    "import matplotlib.pyplot as plt\n",
    "import seaborn as sns\n"
   ]
  },
  {
   "cell_type": "code",
   "execution_count": 74,
   "id": "9f5bc4e7",
   "metadata": {},
   "outputs": [
    {
     "data": {
      "text/html": [
       "<div>\n",
       "<style scoped>\n",
       "    .dataframe tbody tr th:only-of-type {\n",
       "        vertical-align: middle;\n",
       "    }\n",
       "\n",
       "    .dataframe tbody tr th {\n",
       "        vertical-align: top;\n",
       "    }\n",
       "\n",
       "    .dataframe thead th {\n",
       "        text-align: right;\n",
       "    }\n",
       "</style>\n",
       "<table border=\"1\" class=\"dataframe\">\n",
       "  <thead>\n",
       "    <tr style=\"text-align: right;\">\n",
       "      <th></th>\n",
       "      <th>Country</th>\n",
       "      <th>Income Classification</th>\n",
       "      <th>Severe Wasting</th>\n",
       "      <th>Wasting</th>\n",
       "      <th>Overweight</th>\n",
       "      <th>Stunting</th>\n",
       "      <th>Underweight</th>\n",
       "      <th>U5 Population ('000s)</th>\n",
       "    </tr>\n",
       "  </thead>\n",
       "  <tbody>\n",
       "    <tr>\n",
       "      <th>0</th>\n",
       "      <td>AFGHANISTAN</td>\n",
       "      <td>0.0</td>\n",
       "      <td>3.033333</td>\n",
       "      <td>10.350000</td>\n",
       "      <td>5.125000</td>\n",
       "      <td>47.775000</td>\n",
       "      <td>30.375000</td>\n",
       "      <td>4918.561500</td>\n",
       "    </tr>\n",
       "    <tr>\n",
       "      <th>1</th>\n",
       "      <td>ALBANIA</td>\n",
       "      <td>2.0</td>\n",
       "      <td>4.075000</td>\n",
       "      <td>7.760000</td>\n",
       "      <td>20.800000</td>\n",
       "      <td>24.160000</td>\n",
       "      <td>7.700000</td>\n",
       "      <td>232.859800</td>\n",
       "    </tr>\n",
       "    <tr>\n",
       "      <th>2</th>\n",
       "      <td>ALGERIA</td>\n",
       "      <td>2.0</td>\n",
       "      <td>2.733333</td>\n",
       "      <td>5.942857</td>\n",
       "      <td>12.833333</td>\n",
       "      <td>19.571429</td>\n",
       "      <td>7.342857</td>\n",
       "      <td>3565.213143</td>\n",
       "    </tr>\n",
       "    <tr>\n",
       "      <th>3</th>\n",
       "      <td>ANGOLA</td>\n",
       "      <td>1.0</td>\n",
       "      <td>2.400000</td>\n",
       "      <td>6.933333</td>\n",
       "      <td>2.550000</td>\n",
       "      <td>42.633333</td>\n",
       "      <td>23.600000</td>\n",
       "      <td>3980.054000</td>\n",
       "    </tr>\n",
       "    <tr>\n",
       "      <th>4</th>\n",
       "      <td>ARGENTINA</td>\n",
       "      <td>2.0</td>\n",
       "      <td>0.200000</td>\n",
       "      <td>2.150000</td>\n",
       "      <td>11.125000</td>\n",
       "      <td>10.025000</td>\n",
       "      <td>2.600000</td>\n",
       "      <td>3613.651750</td>\n",
       "    </tr>\n",
       "    <tr>\n",
       "      <th>...</th>\n",
       "      <td>...</td>\n",
       "      <td>...</td>\n",
       "      <td>...</td>\n",
       "      <td>...</td>\n",
       "      <td>...</td>\n",
       "      <td>...</td>\n",
       "      <td>...</td>\n",
       "      <td>...</td>\n",
       "    </tr>\n",
       "    <tr>\n",
       "      <th>147</th>\n",
       "      <td>VENEZUELA (BOLIVARIAN REPUBLIC OF)</td>\n",
       "      <td>2.0</td>\n",
       "      <td>NaN</td>\n",
       "      <td>4.333333</td>\n",
       "      <td>5.409524</td>\n",
       "      <td>16.957143</td>\n",
       "      <td>4.242857</td>\n",
       "      <td>2787.800095</td>\n",
       "    </tr>\n",
       "    <tr>\n",
       "      <th>148</th>\n",
       "      <td>VIET NAM</td>\n",
       "      <td>1.0</td>\n",
       "      <td>2.331250</td>\n",
       "      <td>8.661905</td>\n",
       "      <td>3.317647</td>\n",
       "      <td>34.922727</td>\n",
       "      <td>22.918182</td>\n",
       "      <td>7507.220273</td>\n",
       "    </tr>\n",
       "    <tr>\n",
       "      <th>149</th>\n",
       "      <td>YEMEN</td>\n",
       "      <td>0.0</td>\n",
       "      <td>5.300000</td>\n",
       "      <td>15.242857</td>\n",
       "      <td>4.842857</td>\n",
       "      <td>51.900000</td>\n",
       "      <td>37.785714</td>\n",
       "      <td>3269.476000</td>\n",
       "    </tr>\n",
       "    <tr>\n",
       "      <th>150</th>\n",
       "      <td>ZAMBIA</td>\n",
       "      <td>1.0</td>\n",
       "      <td>2.042857</td>\n",
       "      <td>5.542857</td>\n",
       "      <td>7.228571</td>\n",
       "      <td>48.137500</td>\n",
       "      <td>17.885714</td>\n",
       "      <td>2083.494500</td>\n",
       "    </tr>\n",
       "    <tr>\n",
       "      <th>151</th>\n",
       "      <td>ZIMBABWE</td>\n",
       "      <td>1.0</td>\n",
       "      <td>1.388889</td>\n",
       "      <td>4.166667</td>\n",
       "      <td>5.788889</td>\n",
       "      <td>30.455556</td>\n",
       "      <td>10.710000</td>\n",
       "      <td>1912.450400</td>\n",
       "    </tr>\n",
       "  </tbody>\n",
       "</table>\n",
       "<p>152 rows × 8 columns</p>\n",
       "</div>"
      ],
      "text/plain": [
       "                                Country  Income Classification  \\\n",
       "0                           AFGHANISTAN                    0.0   \n",
       "1                               ALBANIA                    2.0   \n",
       "2                               ALGERIA                    2.0   \n",
       "3                                ANGOLA                    1.0   \n",
       "4                             ARGENTINA                    2.0   \n",
       "..                                  ...                    ...   \n",
       "147  VENEZUELA (BOLIVARIAN REPUBLIC OF)                    2.0   \n",
       "148                            VIET NAM                    1.0   \n",
       "149                               YEMEN                    0.0   \n",
       "150                              ZAMBIA                    1.0   \n",
       "151                            ZIMBABWE                    1.0   \n",
       "\n",
       "     Severe Wasting    Wasting  Overweight   Stunting  Underweight  \\\n",
       "0          3.033333  10.350000    5.125000  47.775000    30.375000   \n",
       "1          4.075000   7.760000   20.800000  24.160000     7.700000   \n",
       "2          2.733333   5.942857   12.833333  19.571429     7.342857   \n",
       "3          2.400000   6.933333    2.550000  42.633333    23.600000   \n",
       "4          0.200000   2.150000   11.125000  10.025000     2.600000   \n",
       "..              ...        ...         ...        ...          ...   \n",
       "147             NaN   4.333333    5.409524  16.957143     4.242857   \n",
       "148        2.331250   8.661905    3.317647  34.922727    22.918182   \n",
       "149        5.300000  15.242857    4.842857  51.900000    37.785714   \n",
       "150        2.042857   5.542857    7.228571  48.137500    17.885714   \n",
       "151        1.388889   4.166667    5.788889  30.455556    10.710000   \n",
       "\n",
       "     U5 Population ('000s)  \n",
       "0              4918.561500  \n",
       "1               232.859800  \n",
       "2              3565.213143  \n",
       "3              3980.054000  \n",
       "4              3613.651750  \n",
       "..                     ...  \n",
       "147            2787.800095  \n",
       "148            7507.220273  \n",
       "149            3269.476000  \n",
       "150            2083.494500  \n",
       "151            1912.450400  \n",
       "\n",
       "[152 rows x 8 columns]"
      ]
     },
     "execution_count": 74,
     "metadata": {},
     "output_type": "execute_result"
    }
   ],
   "source": [
    "#Data reading using pandas library\n",
    "df=pd.read_csv(\"C:\\\\Users\\\\sandeep\\\\OneDrive\\\\Desktop\\\\country-wise-average.csv\")\n",
    "df"
   ]
  },
  {
   "cell_type": "code",
   "execution_count": 75,
   "id": "3bccd6a7",
   "metadata": {},
   "outputs": [
    {
     "data": {
      "text/html": [
       "<div>\n",
       "<style scoped>\n",
       "    .dataframe tbody tr th:only-of-type {\n",
       "        vertical-align: middle;\n",
       "    }\n",
       "\n",
       "    .dataframe tbody tr th {\n",
       "        vertical-align: top;\n",
       "    }\n",
       "\n",
       "    .dataframe thead th {\n",
       "        text-align: right;\n",
       "    }\n",
       "</style>\n",
       "<table border=\"1\" class=\"dataframe\">\n",
       "  <thead>\n",
       "    <tr style=\"text-align: right;\">\n",
       "      <th></th>\n",
       "      <th>Country</th>\n",
       "      <th>Income Classification</th>\n",
       "      <th>Severe Wasting</th>\n",
       "      <th>Wasting</th>\n",
       "      <th>Overweight</th>\n",
       "      <th>Stunting</th>\n",
       "      <th>Underweight</th>\n",
       "      <th>U5 Population ('000s)</th>\n",
       "    </tr>\n",
       "  </thead>\n",
       "  <tbody>\n",
       "    <tr>\n",
       "      <th>0</th>\n",
       "      <td>AFGHANISTAN</td>\n",
       "      <td>0.0</td>\n",
       "      <td>3.033333</td>\n",
       "      <td>10.350000</td>\n",
       "      <td>5.125000</td>\n",
       "      <td>47.775000</td>\n",
       "      <td>30.375000</td>\n",
       "      <td>4918.561500</td>\n",
       "    </tr>\n",
       "    <tr>\n",
       "      <th>1</th>\n",
       "      <td>ALBANIA</td>\n",
       "      <td>2.0</td>\n",
       "      <td>4.075000</td>\n",
       "      <td>7.760000</td>\n",
       "      <td>20.800000</td>\n",
       "      <td>24.160000</td>\n",
       "      <td>7.700000</td>\n",
       "      <td>232.859800</td>\n",
       "    </tr>\n",
       "    <tr>\n",
       "      <th>2</th>\n",
       "      <td>ALGERIA</td>\n",
       "      <td>2.0</td>\n",
       "      <td>2.733333</td>\n",
       "      <td>5.942857</td>\n",
       "      <td>12.833333</td>\n",
       "      <td>19.571429</td>\n",
       "      <td>7.342857</td>\n",
       "      <td>3565.213143</td>\n",
       "    </tr>\n",
       "    <tr>\n",
       "      <th>3</th>\n",
       "      <td>ANGOLA</td>\n",
       "      <td>1.0</td>\n",
       "      <td>2.400000</td>\n",
       "      <td>6.933333</td>\n",
       "      <td>2.550000</td>\n",
       "      <td>42.633333</td>\n",
       "      <td>23.600000</td>\n",
       "      <td>3980.054000</td>\n",
       "    </tr>\n",
       "    <tr>\n",
       "      <th>4</th>\n",
       "      <td>ARGENTINA</td>\n",
       "      <td>2.0</td>\n",
       "      <td>0.200000</td>\n",
       "      <td>2.150000</td>\n",
       "      <td>11.125000</td>\n",
       "      <td>10.025000</td>\n",
       "      <td>2.600000</td>\n",
       "      <td>3613.651750</td>\n",
       "    </tr>\n",
       "  </tbody>\n",
       "</table>\n",
       "</div>"
      ],
      "text/plain": [
       "       Country  Income Classification  Severe Wasting    Wasting  Overweight  \\\n",
       "0  AFGHANISTAN                    0.0        3.033333  10.350000    5.125000   \n",
       "1      ALBANIA                    2.0        4.075000   7.760000   20.800000   \n",
       "2      ALGERIA                    2.0        2.733333   5.942857   12.833333   \n",
       "3       ANGOLA                    1.0        2.400000   6.933333    2.550000   \n",
       "4    ARGENTINA                    2.0        0.200000   2.150000   11.125000   \n",
       "\n",
       "    Stunting  Underweight  U5 Population ('000s)  \n",
       "0  47.775000    30.375000            4918.561500  \n",
       "1  24.160000     7.700000             232.859800  \n",
       "2  19.571429     7.342857            3565.213143  \n",
       "3  42.633333    23.600000            3980.054000  \n",
       "4  10.025000     2.600000            3613.651750  "
      ]
     },
     "execution_count": 75,
     "metadata": {},
     "output_type": "execute_result"
    }
   ],
   "source": [
    "#Data Preparation and cleaning\n",
    "df.head() #It generates the first five elements of the dataset\n"
   ]
  },
  {
   "cell_type": "code",
   "execution_count": 76,
   "id": "5d922e86",
   "metadata": {},
   "outputs": [
    {
     "data": {
      "text/html": [
       "<div>\n",
       "<style scoped>\n",
       "    .dataframe tbody tr th:only-of-type {\n",
       "        vertical-align: middle;\n",
       "    }\n",
       "\n",
       "    .dataframe tbody tr th {\n",
       "        vertical-align: top;\n",
       "    }\n",
       "\n",
       "    .dataframe thead th {\n",
       "        text-align: right;\n",
       "    }\n",
       "</style>\n",
       "<table border=\"1\" class=\"dataframe\">\n",
       "  <thead>\n",
       "    <tr style=\"text-align: right;\">\n",
       "      <th></th>\n",
       "      <th>Country</th>\n",
       "      <th>Income Classification</th>\n",
       "      <th>Severe Wasting</th>\n",
       "      <th>Wasting</th>\n",
       "      <th>Overweight</th>\n",
       "      <th>Stunting</th>\n",
       "      <th>Underweight</th>\n",
       "      <th>U5 Population ('000s)</th>\n",
       "    </tr>\n",
       "  </thead>\n",
       "  <tbody>\n",
       "    <tr>\n",
       "      <th>147</th>\n",
       "      <td>VENEZUELA (BOLIVARIAN REPUBLIC OF)</td>\n",
       "      <td>2.0</td>\n",
       "      <td>NaN</td>\n",
       "      <td>4.333333</td>\n",
       "      <td>5.409524</td>\n",
       "      <td>16.957143</td>\n",
       "      <td>4.242857</td>\n",
       "      <td>2787.800095</td>\n",
       "    </tr>\n",
       "    <tr>\n",
       "      <th>148</th>\n",
       "      <td>VIET NAM</td>\n",
       "      <td>1.0</td>\n",
       "      <td>2.331250</td>\n",
       "      <td>8.661905</td>\n",
       "      <td>3.317647</td>\n",
       "      <td>34.922727</td>\n",
       "      <td>22.918182</td>\n",
       "      <td>7507.220273</td>\n",
       "    </tr>\n",
       "    <tr>\n",
       "      <th>149</th>\n",
       "      <td>YEMEN</td>\n",
       "      <td>0.0</td>\n",
       "      <td>5.300000</td>\n",
       "      <td>15.242857</td>\n",
       "      <td>4.842857</td>\n",
       "      <td>51.900000</td>\n",
       "      <td>37.785714</td>\n",
       "      <td>3269.476000</td>\n",
       "    </tr>\n",
       "    <tr>\n",
       "      <th>150</th>\n",
       "      <td>ZAMBIA</td>\n",
       "      <td>1.0</td>\n",
       "      <td>2.042857</td>\n",
       "      <td>5.542857</td>\n",
       "      <td>7.228571</td>\n",
       "      <td>48.137500</td>\n",
       "      <td>17.885714</td>\n",
       "      <td>2083.494500</td>\n",
       "    </tr>\n",
       "    <tr>\n",
       "      <th>151</th>\n",
       "      <td>ZIMBABWE</td>\n",
       "      <td>1.0</td>\n",
       "      <td>1.388889</td>\n",
       "      <td>4.166667</td>\n",
       "      <td>5.788889</td>\n",
       "      <td>30.455556</td>\n",
       "      <td>10.710000</td>\n",
       "      <td>1912.450400</td>\n",
       "    </tr>\n",
       "  </tbody>\n",
       "</table>\n",
       "</div>"
      ],
      "text/plain": [
       "                                Country  Income Classification  \\\n",
       "147  VENEZUELA (BOLIVARIAN REPUBLIC OF)                    2.0   \n",
       "148                            VIET NAM                    1.0   \n",
       "149                               YEMEN                    0.0   \n",
       "150                              ZAMBIA                    1.0   \n",
       "151                            ZIMBABWE                    1.0   \n",
       "\n",
       "     Severe Wasting    Wasting  Overweight   Stunting  Underweight  \\\n",
       "147             NaN   4.333333    5.409524  16.957143     4.242857   \n",
       "148        2.331250   8.661905    3.317647  34.922727    22.918182   \n",
       "149        5.300000  15.242857    4.842857  51.900000    37.785714   \n",
       "150        2.042857   5.542857    7.228571  48.137500    17.885714   \n",
       "151        1.388889   4.166667    5.788889  30.455556    10.710000   \n",
       "\n",
       "     U5 Population ('000s)  \n",
       "147            2787.800095  \n",
       "148            7507.220273  \n",
       "149            3269.476000  \n",
       "150            2083.494500  \n",
       "151            1912.450400  "
      ]
     },
     "execution_count": 76,
     "metadata": {},
     "output_type": "execute_result"
    }
   ],
   "source": [
    "df.tail()# It generates the last five elements of the dataset"
   ]
  },
  {
   "cell_type": "code",
   "execution_count": 77,
   "id": "1768f4ae",
   "metadata": {},
   "outputs": [
    {
     "data": {
      "text/plain": [
       "(152, 8)"
      ]
     },
     "execution_count": 77,
     "metadata": {},
     "output_type": "execute_result"
    }
   ],
   "source": [
    "df.shape #it tells about the shape i;e rows and columns present in the dataset"
   ]
  },
  {
   "cell_type": "code",
   "execution_count": 78,
   "id": "4f557d58",
   "metadata": {},
   "outputs": [
    {
     "data": {
      "text/html": [
       "<div>\n",
       "<style scoped>\n",
       "    .dataframe tbody tr th:only-of-type {\n",
       "        vertical-align: middle;\n",
       "    }\n",
       "\n",
       "    .dataframe tbody tr th {\n",
       "        vertical-align: top;\n",
       "    }\n",
       "\n",
       "    .dataframe thead th {\n",
       "        text-align: right;\n",
       "    }\n",
       "</style>\n",
       "<table border=\"1\" class=\"dataframe\">\n",
       "  <thead>\n",
       "    <tr style=\"text-align: right;\">\n",
       "      <th></th>\n",
       "      <th>Income Classification</th>\n",
       "      <th>Severe Wasting</th>\n",
       "      <th>Wasting</th>\n",
       "      <th>Overweight</th>\n",
       "      <th>Stunting</th>\n",
       "      <th>Underweight</th>\n",
       "      <th>U5 Population ('000s)</th>\n",
       "    </tr>\n",
       "  </thead>\n",
       "  <tbody>\n",
       "    <tr>\n",
       "      <th>count</th>\n",
       "      <td>152.000000</td>\n",
       "      <td>140.000000</td>\n",
       "      <td>150.000000</td>\n",
       "      <td>149.000000</td>\n",
       "      <td>151.000000</td>\n",
       "      <td>150.000000</td>\n",
       "      <td>152.000000</td>\n",
       "    </tr>\n",
       "    <tr>\n",
       "      <th>mean</th>\n",
       "      <td>1.427632</td>\n",
       "      <td>2.168650</td>\n",
       "      <td>6.599257</td>\n",
       "      <td>7.201638</td>\n",
       "      <td>25.814728</td>\n",
       "      <td>13.503047</td>\n",
       "      <td>4042.927052</td>\n",
       "    </tr>\n",
       "    <tr>\n",
       "      <th>std</th>\n",
       "      <td>0.967019</td>\n",
       "      <td>1.708939</td>\n",
       "      <td>4.481723</td>\n",
       "      <td>4.649144</td>\n",
       "      <td>14.686807</td>\n",
       "      <td>10.895839</td>\n",
       "      <td>13164.191927</td>\n",
       "    </tr>\n",
       "    <tr>\n",
       "      <th>min</th>\n",
       "      <td>0.000000</td>\n",
       "      <td>0.000000</td>\n",
       "      <td>0.000000</td>\n",
       "      <td>0.962500</td>\n",
       "      <td>1.000000</td>\n",
       "      <td>0.100000</td>\n",
       "      <td>1.000000</td>\n",
       "    </tr>\n",
       "    <tr>\n",
       "      <th>25%</th>\n",
       "      <td>1.000000</td>\n",
       "      <td>0.900000</td>\n",
       "      <td>3.262500</td>\n",
       "      <td>3.850000</td>\n",
       "      <td>13.485000</td>\n",
       "      <td>4.305000</td>\n",
       "      <td>241.765813</td>\n",
       "    </tr>\n",
       "    <tr>\n",
       "      <th>50%</th>\n",
       "      <td>1.000000</td>\n",
       "      <td>1.872500</td>\n",
       "      <td>5.710714</td>\n",
       "      <td>6.300000</td>\n",
       "      <td>24.160000</td>\n",
       "      <td>10.380000</td>\n",
       "      <td>981.233486</td>\n",
       "    </tr>\n",
       "    <tr>\n",
       "      <th>75%</th>\n",
       "      <td>2.000000</td>\n",
       "      <td>2.822727</td>\n",
       "      <td>8.740476</td>\n",
       "      <td>9.080000</td>\n",
       "      <td>36.564935</td>\n",
       "      <td>19.496875</td>\n",
       "      <td>3002.433080</td>\n",
       "    </tr>\n",
       "    <tr>\n",
       "      <th>max</th>\n",
       "      <td>3.000000</td>\n",
       "      <td>11.400000</td>\n",
       "      <td>23.650000</td>\n",
       "      <td>26.500000</td>\n",
       "      <td>57.600000</td>\n",
       "      <td>46.266667</td>\n",
       "      <td>123014.491000</td>\n",
       "    </tr>\n",
       "  </tbody>\n",
       "</table>\n",
       "</div>"
      ],
      "text/plain": [
       "       Income Classification  Severe Wasting     Wasting  Overweight  \\\n",
       "count             152.000000      140.000000  150.000000  149.000000   \n",
       "mean                1.427632        2.168650    6.599257    7.201638   \n",
       "std                 0.967019        1.708939    4.481723    4.649144   \n",
       "min                 0.000000        0.000000    0.000000    0.962500   \n",
       "25%                 1.000000        0.900000    3.262500    3.850000   \n",
       "50%                 1.000000        1.872500    5.710714    6.300000   \n",
       "75%                 2.000000        2.822727    8.740476    9.080000   \n",
       "max                 3.000000       11.400000   23.650000   26.500000   \n",
       "\n",
       "         Stunting  Underweight  U5 Population ('000s)  \n",
       "count  151.000000   150.000000             152.000000  \n",
       "mean    25.814728    13.503047            4042.927052  \n",
       "std     14.686807    10.895839           13164.191927  \n",
       "min      1.000000     0.100000               1.000000  \n",
       "25%     13.485000     4.305000             241.765813  \n",
       "50%     24.160000    10.380000             981.233486  \n",
       "75%     36.564935    19.496875            3002.433080  \n",
       "max     57.600000    46.266667          123014.491000  "
      ]
     },
     "execution_count": 78,
     "metadata": {},
     "output_type": "execute_result"
    }
   ],
   "source": [
    "df.describe() #it tells about the mathematical operations on dataset\n"
   ]
  },
  {
   "cell_type": "code",
   "execution_count": 79,
   "id": "cf61a343",
   "metadata": {},
   "outputs": [
    {
     "name": "stdout",
     "output_type": "stream",
     "text": [
      "<class 'pandas.core.frame.DataFrame'>\n",
      "RangeIndex: 152 entries, 0 to 151\n",
      "Data columns (total 8 columns):\n",
      " #   Column                 Non-Null Count  Dtype  \n",
      "---  ------                 --------------  -----  \n",
      " 0   Country                152 non-null    object \n",
      " 1   Income Classification  152 non-null    float64\n",
      " 2   Severe Wasting         140 non-null    float64\n",
      " 3   Wasting                150 non-null    float64\n",
      " 4   Overweight             149 non-null    float64\n",
      " 5   Stunting               151 non-null    float64\n",
      " 6   Underweight            150 non-null    float64\n",
      " 7   U5 Population ('000s)  152 non-null    float64\n",
      "dtypes: float64(7), object(1)\n",
      "memory usage: 9.6+ KB\n"
     ]
    }
   ],
   "source": [
    "df.info()#represents all the columns in the dataset"
   ]
  },
  {
   "cell_type": "markdown",
   "id": "d5cc6c1b",
   "metadata": {},
   "source": [
    "# Data Visualization\n",
    "\n"
   ]
  },
  {
   "cell_type": "code",
   "execution_count": 80,
   "id": "dcda1a58",
   "metadata": {},
   "outputs": [
    {
     "name": "stderr",
     "output_type": "stream",
     "text": [
      "No artists with labels found to put in legend.  Note that artists whose label start with an underscore are ignored when legend() is called with no argument.\n"
     ]
    },
    {
     "data": {
      "image/png": "[encoded data removed]",
      "text/plain": [
       "<Figure size 432x288 with 1 Axes>"
      ]
     },
     "metadata": {},
     "output_type": "display_data"
    }
   ],
   "source": [
    "#bar graph\n",
    "x='Country'\n",
    "y='Severe Wasting'\n",
    "plt.bar(x,y,data=df)\n",
    "plt.xlabel(\"Country\")\n",
    "plt.ylabel(\"Severe Wasting\")\n",
    "plt.legend()\n",
    "plt.show()"
   ]
  },
  {
   "cell_type": "markdown",
   "id": "c9811dae",
   "metadata": {},
   "source": [
    "# Severe Wasting\n",
    "Severe Wasting - % of children aged 0–59 months who are below minus three standard deviations from median weight-for-height.\n",
    "\n"
   ]
  },
  {
   "cell_type": "code",
   "execution_count": 81,
   "id": "73c3e010",
   "metadata": {},
   "outputs": [
    {
     "name": "stderr",
     "output_type": "stream",
     "text": [
      "C:\\Users\\sandeep\\anaconda3\\lib\\site-packages\\seaborn\\_decorators.py:36: FutureWarning:\n",
      "\n",
      "Pass the following variables as keyword args: x, y. From version 0.12, the only valid positional argument will be `data`, and passing other arguments without an explicit keyword will result in an error or misinterpretation.\n",
      "\n"
     ]
    },
    {
     "data": {
      "text/plain": [
       "(array([0, 1, 2, 3]),\n",
       " [Text(0, 0, '0.0'), Text(1, 0, '1.0'), Text(2, 0, '2.0'), Text(3, 0, '3.0')])"
      ]
     },
     "execution_count": 81,
     "metadata": {},
     "output_type": "execute_result"
    },
    {
     "data": {
      "image/png": "[encoded data removed]",
      "text/plain": [
       "<Figure size 1152x576 with 1 Axes>"
      ]
     },
     "metadata": {},
     "output_type": "display_data"
    }
   ],
   "source": [
    "plt.figure(figsize=(16, 8))\n",
    "x = df.groupby([\"Income Classification\"])[\"Severe Wasting\"].mean()\n",
    "sns.set(style=\"whitegrid\")\n",
    "ax = sns.barplot(x.index, x)\n",
    "ax.set_title('Severe Wasting')\n",
    "ax.set_ylabel('% Severe Wasting')\n",
    "ax.set_xlabel('Income Classification')\n",
    "plt.xticks(rotation = 90)"
   ]
  },
  {
   "cell_type": "markdown",
   "id": "f59f3555",
   "metadata": {},
   "source": [
    "# Wasting\n",
    "Wasting – Moderate and severe: % of children aged 0–59 months who are below minus two standard deviations from median weight-for-height"
   ]
  },
  {
   "cell_type": "code",
   "execution_count": 82,
   "id": "baa2b152",
   "metadata": {},
   "outputs": [
    {
     "name": "stderr",
     "output_type": "stream",
     "text": [
      "C:\\Users\\sandeep\\anaconda3\\lib\\site-packages\\seaborn\\_decorators.py:36: FutureWarning:\n",
      "\n",
      "Pass the following variables as keyword args: x, y. From version 0.12, the only valid positional argument will be `data`, and passing other arguments without an explicit keyword will result in an error or misinterpretation.\n",
      "\n"
     ]
    },
    {
     "data": {
      "text/plain": [
       "(array([0, 1, 2, 3]),\n",
       " [Text(0, 0, '0.0'), Text(1, 0, '1.0'), Text(2, 0, '2.0'), Text(3, 0, '3.0')])"
      ]
     },
     "execution_count": 82,
     "metadata": {},
     "output_type": "execute_result"
    },
    {
     "data": {
      "image/png": "[encoded data removed]",
      "text/plain": [
       "<Figure size 1152x576 with 1 Axes>"
      ]
     },
     "metadata": {},
     "output_type": "display_data"
    }
   ],
   "source": [
    "plt.figure(figsize=(16, 8))\n",
    "x = df.groupby([\"Income Classification\"])[\"Wasting\"].mean()\n",
    "sns.set(style=\"whitegrid\")\n",
    "ax = sns.barplot(x.index, x)\n",
    "ax.set_title('Wasting')\n",
    "ax.set_ylabel('% Wasting')\n",
    "ax.set_xlabel('Income Classification')\n",
    "plt.xticks(rotation = 90)"
   ]
  },
  {
   "cell_type": "markdown",
   "id": "81770673",
   "metadata": {},
   "source": [
    "# Overweight\n",
    "Overweight – Moderate and severe: % aged 0-59 months who are above two standard deviations from median weight-for-height"
   ]
  },
  {
   "cell_type": "code",
   "execution_count": 83,
   "id": "d1905e9c",
   "metadata": {},
   "outputs": [
    {
     "name": "stderr",
     "output_type": "stream",
     "text": [
      "C:\\Users\\sandeep\\anaconda3\\lib\\site-packages\\seaborn\\_decorators.py:36: FutureWarning:\n",
      "\n",
      "Pass the following variables as keyword args: x, y. From version 0.12, the only valid positional argument will be `data`, and passing other arguments without an explicit keyword will result in an error or misinterpretation.\n",
      "\n"
     ]
    },
    {
     "data": {
      "text/plain": [
       "(array([0, 1, 2, 3]),\n",
       " [Text(0, 0, '0.0'), Text(1, 0, '1.0'), Text(2, 0, '2.0'), Text(3, 0, '3.0')])"
      ]
     },
     "execution_count": 83,
     "metadata": {},
     "output_type": "execute_result"
    },
    {
     "data": {
      "image/png": "[encoded data removed]",
      "text/plain": [
       "<Figure size 1152x576 with 1 Axes>"
      ]
     },
     "metadata": {},
     "output_type": "display_data"
    }
   ],
   "source": [
    "plt.figure(figsize=(16, 8))\n",
    "x = df.groupby([\"Income Classification\"])[\"Overweight\"].mean()\n",
    "sns.set(style=\"whitegrid\")\n",
    "ax = sns.barplot(x.index, x)\n",
    "ax.set_title('Overweight')\n",
    "ax.set_ylabel('% Overweight')\n",
    "ax.set_xlabel('Income Classification')\n",
    "plt.xticks(rotation = 90)"
   ]
  },
  {
   "cell_type": "markdown",
   "id": "371c5e43",
   "metadata": {},
   "source": [
    "# Stunting\n",
    "Stunting – Moderate and severe: % of children aged 0–59 months who are below minus two standard deviations from median height-for-age"
   ]
  },
  {
   "cell_type": "code",
   "execution_count": 84,
   "id": "28b15044",
   "metadata": {},
   "outputs": [
    {
     "name": "stderr",
     "output_type": "stream",
     "text": [
      "C:\\Users\\sandeep\\anaconda3\\lib\\site-packages\\seaborn\\_decorators.py:36: FutureWarning:\n",
      "\n",
      "Pass the following variables as keyword args: x, y. From version 0.12, the only valid positional argument will be `data`, and passing other arguments without an explicit keyword will result in an error or misinterpretation.\n",
      "\n"
     ]
    },
    {
     "data": {
      "text/plain": [
       "(array([0, 1, 2, 3]),\n",
       " [Text(0, 0, '0.0'), Text(1, 0, '1.0'), Text(2, 0, '2.0'), Text(3, 0, '3.0')])"
      ]
     },
     "execution_count": 84,
     "metadata": {},
     "output_type": "execute_result"
    },
    {
     "data": {
      "image/png": "[encoded data removed]",
      "text/plain": [
       "<Figure size 1152x720 with 1 Axes>"
      ]
     },
     "metadata": {},
     "output_type": "display_data"
    }
   ],
   "source": [
    "plt.figure(figsize=(16, 10))\n",
    "x = df.groupby([\"Income Classification\"])[\"Stunting\"].mean()\n",
    "sns.set(style=\"whitegrid\")\n",
    "ax = sns.barplot(x.index, x)\n",
    "ax.set_title('Stunting')\n",
    "ax.set_ylabel('% Stunting')\n",
    "ax.set_xlabel('Income Classification')\n",
    "plt.xticks(rotation = 90)"
   ]
  },
  {
   "cell_type": "markdown",
   "id": "29c6f241",
   "metadata": {},
   "source": [
    "# Underweight\n",
    "Underweight – Moderate and severe: % of children aged 0–59 months who are below minus two standard deviations from median weight-for-age"
   ]
  },
  {
   "cell_type": "code",
   "execution_count": 85,
   "id": "b4c9ef90",
   "metadata": {},
   "outputs": [
    {
     "name": "stderr",
     "output_type": "stream",
     "text": [
      "C:\\Users\\sandeep\\anaconda3\\lib\\site-packages\\seaborn\\_decorators.py:36: FutureWarning:\n",
      "\n",
      "Pass the following variables as keyword args: x, y. From version 0.12, the only valid positional argument will be `data`, and passing other arguments without an explicit keyword will result in an error or misinterpretation.\n",
      "\n"
     ]
    },
    {
     "data": {
      "text/plain": [
       "(array([0, 1, 2, 3]),\n",
       " [Text(0, 0, '0.0'), Text(1, 0, '1.0'), Text(2, 0, '2.0'), Text(3, 0, '3.0')])"
      ]
     },
     "execution_count": 85,
     "metadata": {},
     "output_type": "execute_result"
    },
    {
     "data": {
      "image/png": "[encoded data removed]",
      "text/plain": [
       "<Figure size 1152x576 with 1 Axes>"
      ]
     },
     "metadata": {},
     "output_type": "display_data"
    }
   ],
   "source": [
    "plt.figure(figsize=(16, 8))\n",
    "x = df.groupby([\"Income Classification\"])[\"Underweight\"].mean()\n",
    "sns.set(style=\"whitegrid\")\n",
    "ax = sns.barplot(x.index, x)\n",
    "ax.set_title('Underweight')\n",
    "ax.set_ylabel('% Underweight')\n",
    "ax.set_xlabel('Income Classification')\n",
    "plt.xticks(rotation = 90)"
   ]
  },
  {
   "cell_type": "code",
   "execution_count": 86,
   "id": "b0749b14",
   "metadata": {},
   "outputs": [
    {
     "data": {
      "text/html": [
       "<style type=\"text/css\">\n",
       "#T_68b7b_row1_col4, #T_68b7b_row12_col3, #T_68b7b_row13_col3, #T_68b7b_row15_col2, #T_68b7b_row19_col7, #T_68b7b_row32_col5, #T_68b7b_row32_col6 {\n",
       "  background-color: #E65236;\n",
       "}\n",
       "#T_68b7b_row1_col6, #T_68b7b_row10_col2, #T_68b7b_row16_col3, #T_68b7b_row16_col7, #T_68b7b_row38_col5, #T_68b7b_row40_col4 {\n",
       "  background-color: #26BB2D;\n",
       "}\n",
       "</style>\n",
       "<table id=\"T_68b7b\">\n",
       "  <thead>\n",
       "    <tr>\n",
       "      <th class=\"blank level0\" >&nbsp;</th>\n",
       "      <th id=\"T_68b7b_level0_col0\" class=\"col_heading level0 col0\" >Country</th>\n",
       "      <th id=\"T_68b7b_level0_col1\" class=\"col_heading level0 col1\" >Income Classification</th>\n",
       "      <th id=\"T_68b7b_level0_col2\" class=\"col_heading level0 col2\" >Severe Wasting</th>\n",
       "      <th id=\"T_68b7b_level0_col3\" class=\"col_heading level0 col3\" >Wasting</th>\n",
       "      <th id=\"T_68b7b_level0_col4\" class=\"col_heading level0 col4\" >Overweight</th>\n",
       "      <th id=\"T_68b7b_level0_col5\" class=\"col_heading level0 col5\" >Stunting</th>\n",
       "      <th id=\"T_68b7b_level0_col6\" class=\"col_heading level0 col6\" >Underweight</th>\n",
       "      <th id=\"T_68b7b_level0_col7\" class=\"col_heading level0 col7\" >U5 Population ('000s)</th>\n",
       "    </tr>\n",
       "  </thead>\n",
       "  <tbody>\n",
       "    <tr>\n",
       "      <th id=\"T_68b7b_level0_row0\" class=\"row_heading level0 row0\" >3</th>\n",
       "      <td id=\"T_68b7b_row0_col0\" class=\"data row0 col0\" >ANGOLA</td>\n",
       "      <td id=\"T_68b7b_row0_col1\" class=\"data row0 col1\" >1.000000</td>\n",
       "      <td id=\"T_68b7b_row0_col2\" class=\"data row0 col2\" >2.400000</td>\n",
       "      <td id=\"T_68b7b_row0_col3\" class=\"data row0 col3\" >6.933333</td>\n",
       "      <td id=\"T_68b7b_row0_col4\" class=\"data row0 col4\" >2.550000</td>\n",
       "      <td id=\"T_68b7b_row0_col5\" class=\"data row0 col5\" >42.633333</td>\n",
       "      <td id=\"T_68b7b_row0_col6\" class=\"data row0 col6\" >23.600000</td>\n",
       "      <td id=\"T_68b7b_row0_col7\" class=\"data row0 col7\" >3980.054000</td>\n",
       "    </tr>\n",
       "    <tr>\n",
       "      <th id=\"T_68b7b_level0_row1\" class=\"row_heading level0 row1\" >9</th>\n",
       "      <td id=\"T_68b7b_row1_col0\" class=\"data row1 col0\" >BANGLADESH</td>\n",
       "      <td id=\"T_68b7b_row1_col1\" class=\"data row1 col1\" >1.000000</td>\n",
       "      <td id=\"T_68b7b_row1_col2\" class=\"data row1 col2\" >2.813636</td>\n",
       "      <td id=\"T_68b7b_row1_col3\" class=\"data row1 col3\" >14.537500</td>\n",
       "      <td id=\"T_68b7b_row1_col4\" class=\"data row1 col4\" >0.962500</td>\n",
       "      <td id=\"T_68b7b_row1_col5\" class=\"data row1 col5\" >54.229167</td>\n",
       "      <td id=\"T_68b7b_row1_col6\" class=\"data row1 col6\" >46.266667</td>\n",
       "      <td id=\"T_68b7b_row1_col7\" class=\"data row1 col7\" >15837.427500</td>\n",
       "    </tr>\n",
       "    <tr>\n",
       "      <th id=\"T_68b7b_level0_row2\" class=\"row_heading level0 row2\" >14</th>\n",
       "      <td id=\"T_68b7b_row2_col0\" class=\"data row2 col0\" >BHUTAN</td>\n",
       "      <td id=\"T_68b7b_row2_col1\" class=\"data row2 col1\" >1.000000</td>\n",
       "      <td id=\"T_68b7b_row2_col2\" class=\"data row2 col2\" >1.400000</td>\n",
       "      <td id=\"T_68b7b_row2_col3\" class=\"data row2 col3\" >4.525000</td>\n",
       "      <td id=\"T_68b7b_row2_col4\" class=\"data row2 col4\" >5.100000</td>\n",
       "      <td id=\"T_68b7b_row2_col5\" class=\"data row2 col5\" >44.250000</td>\n",
       "      <td id=\"T_68b7b_row2_col6\" class=\"data row2 col6\" >17.800000</td>\n",
       "      <td id=\"T_68b7b_row2_col7\" class=\"data row2 col7\" >74.796750</td>\n",
       "    </tr>\n",
       "    <tr>\n",
       "      <th id=\"T_68b7b_level0_row3\" class=\"row_heading level0 row3\" >15</th>\n",
       "      <td id=\"T_68b7b_row3_col0\" class=\"data row3 col0\" >BOLIVIA (PLURINATIONAL STATE OF)</td>\n",
       "      <td id=\"T_68b7b_row3_col1\" class=\"data row3 col1\" >1.000000</td>\n",
       "      <td id=\"T_68b7b_row3_col2\" class=\"data row3 col2\" >0.700000</td>\n",
       "      <td id=\"T_68b7b_row3_col3\" class=\"data row3 col3\" >1.900000</td>\n",
       "      <td id=\"T_68b7b_row3_col4\" class=\"data row3 col4\" >8.600000</td>\n",
       "      <td id=\"T_68b7b_row3_col5\" class=\"data row3 col5\" >29.728571</td>\n",
       "      <td id=\"T_68b7b_row3_col6\" class=\"data row3 col6\" >7.472727</td>\n",
       "      <td id=\"T_68b7b_row3_col7\" class=\"data row3 col7\" >1104.222182</td>\n",
       "    </tr>\n",
       "    <tr>\n",
       "      <th id=\"T_68b7b_level0_row4\" class=\"row_heading level0 row4\" >23</th>\n",
       "      <td id=\"T_68b7b_row4_col0\" class=\"data row4 col0\" >CABO VERDE</td>\n",
       "      <td id=\"T_68b7b_row4_col1\" class=\"data row4 col1\" >1.000000</td>\n",
       "      <td id=\"T_68b7b_row4_col2\" class=\"data row4 col2\" >nan</td>\n",
       "      <td id=\"T_68b7b_row4_col3\" class=\"data row4 col3\" >5.550000</td>\n",
       "      <td id=\"T_68b7b_row4_col4\" class=\"data row4 col4\" >nan</td>\n",
       "      <td id=\"T_68b7b_row4_col5\" class=\"data row4 col5\" >24.100000</td>\n",
       "      <td id=\"T_68b7b_row4_col6\" class=\"data row4 col6\" >12.750000</td>\n",
       "      <td id=\"T_68b7b_row4_col7\" class=\"data row4 col7\" >60.583000</td>\n",
       "    </tr>\n",
       "    <tr>\n",
       "      <th id=\"T_68b7b_level0_row5\" class=\"row_heading level0 row5\" >24</th>\n",
       "      <td id=\"T_68b7b_row5_col0\" class=\"data row5 col0\" >CAMBODIA</td>\n",
       "      <td id=\"T_68b7b_row5_col1\" class=\"data row5 col1\" >1.000000</td>\n",
       "      <td id=\"T_68b7b_row5_col2\" class=\"data row5 col2\" >3.483333</td>\n",
       "      <td id=\"T_68b7b_row5_col3\" class=\"data row5 col3\" >11.466667</td>\n",
       "      <td id=\"T_68b7b_row5_col4\" class=\"data row5 col4\" >3.033333</td>\n",
       "      <td id=\"T_68b7b_row5_col5\" class=\"data row5 col5\" >43.683333</td>\n",
       "      <td id=\"T_68b7b_row5_col6\" class=\"data row5 col6\" >31.983333</td>\n",
       "      <td id=\"T_68b7b_row5_col7\" class=\"data row5 col7\" >1651.662167</td>\n",
       "    </tr>\n",
       "    <tr>\n",
       "      <th id=\"T_68b7b_level0_row6\" class=\"row_heading level0 row6\" >25</th>\n",
       "      <td id=\"T_68b7b_row6_col0\" class=\"data row6 col0\" >CAMEROON</td>\n",
       "      <td id=\"T_68b7b_row6_col1\" class=\"data row6 col1\" >1.000000</td>\n",
       "      <td id=\"T_68b7b_row6_col2\" class=\"data row6 col2\" >1.814286</td>\n",
       "      <td id=\"T_68b7b_row6_col3\" class=\"data row6 col3\" >5.671429</td>\n",
       "      <td id=\"T_68b7b_row6_col4\" class=\"data row6 col4\" >8.042857</td>\n",
       "      <td id=\"T_68b7b_row6_col5\" class=\"data row6 col5\" >33.742857</td>\n",
       "      <td id=\"T_68b7b_row6_col6\" class=\"data row6 col6\" >14.685714</td>\n",
       "      <td id=\"T_68b7b_row6_col7\" class=\"data row6 col7\" >3170.714286</td>\n",
       "    </tr>\n",
       "    <tr>\n",
       "      <th id=\"T_68b7b_level0_row7\" class=\"row_heading level0 row7\" >32</th>\n",
       "      <td id=\"T_68b7b_row7_col0\" class=\"data row7 col0\" >COMOROS (THE)</td>\n",
       "      <td id=\"T_68b7b_row7_col1\" class=\"data row7 col1\" >1.000000</td>\n",
       "      <td id=\"T_68b7b_row7_col2\" class=\"data row7 col2\" >5.400000</td>\n",
       "      <td id=\"T_68b7b_row7_col3\" class=\"data row7 col3\" >10.125000</td>\n",
       "      <td id=\"T_68b7b_row7_col4\" class=\"data row7 col4\" >12.466667</td>\n",
       "      <td id=\"T_68b7b_row7_col5\" class=\"data row7 col5\" >39.125000</td>\n",
       "      <td id=\"T_68b7b_row7_col6\" class=\"data row7 col6\" >19.575000</td>\n",
       "      <td id=\"T_68b7b_row7_col7\" class=\"data row7 col7\" >90.287750</td>\n",
       "    </tr>\n",
       "    <tr>\n",
       "      <th id=\"T_68b7b_level0_row8\" class=\"row_heading level0 row8\" >33</th>\n",
       "      <td id=\"T_68b7b_row8_col0\" class=\"data row8 col0\" >CONGO (THE)</td>\n",
       "      <td id=\"T_68b7b_row8_col1\" class=\"data row8 col1\" >1.000000</td>\n",
       "      <td id=\"T_68b7b_row8_col2\" class=\"data row8 col2\" >2.433333</td>\n",
       "      <td id=\"T_68b7b_row8_col3\" class=\"data row8 col3\" >7.200000</td>\n",
       "      <td id=\"T_68b7b_row8_col4\" class=\"data row8 col4\" >4.875000</td>\n",
       "      <td id=\"T_68b7b_row8_col5\" class=\"data row8 col5\" >26.725000</td>\n",
       "      <td id=\"T_68b7b_row8_col6\" class=\"data row8 col6\" >13.100000</td>\n",
       "      <td id=\"T_68b7b_row8_col7\" class=\"data row8 col7\" >614.638250</td>\n",
       "    </tr>\n",
       "    <tr>\n",
       "      <th id=\"T_68b7b_level0_row9\" class=\"row_heading level0 row9\" >35</th>\n",
       "      <td id=\"T_68b7b_row9_col0\" class=\"data row9 col0\" >COTE D'IVOIRE</td>\n",
       "      <td id=\"T_68b7b_row9_col1\" class=\"data row9 col1\" >1.000000</td>\n",
       "      <td id=\"T_68b7b_row9_col2\" class=\"data row9 col2\" >2.600000</td>\n",
       "      <td id=\"T_68b7b_row9_col3\" class=\"data row9 col3\" >8.800000</td>\n",
       "      <td id=\"T_68b7b_row9_col4\" class=\"data row9 col4\" >4.300000</td>\n",
       "      <td id=\"T_68b7b_row9_col5\" class=\"data row9 col5\" >31.385714</td>\n",
       "      <td id=\"T_68b7b_row9_col6\" class=\"data row9 col6\" >17.671429</td>\n",
       "      <td id=\"T_68b7b_row9_col7\" class=\"data row9 col7\" >2943.459429</td>\n",
       "    </tr>\n",
       "    <tr>\n",
       "      <th id=\"T_68b7b_level0_row10\" class=\"row_heading level0 row10\" >40</th>\n",
       "      <td id=\"T_68b7b_row10_col0\" class=\"data row10 col0\" >DJIBOUTI</td>\n",
       "      <td id=\"T_68b7b_row10_col1\" class=\"data row10 col1\" >1.000000</td>\n",
       "      <td id=\"T_68b7b_row10_col2\" class=\"data row10 col2\" >9.400000</td>\n",
       "      <td id=\"T_68b7b_row10_col3\" class=\"data row10 col3\" >17.075000</td>\n",
       "      <td id=\"T_68b7b_row10_col4\" class=\"data row10 col4\" >8.250000</td>\n",
       "      <td id=\"T_68b7b_row10_col5\" class=\"data row10 col5\" >30.075000</td>\n",
       "      <td id=\"T_68b7b_row10_col6\" class=\"data row10 col6\" >22.625000</td>\n",
       "      <td id=\"T_68b7b_row10_col7\" class=\"data row10 col7\" >99.445250</td>\n",
       "    </tr>\n",
       "    <tr>\n",
       "      <th id=\"T_68b7b_level0_row11\" class=\"row_heading level0 row11\" >43</th>\n",
       "      <td id=\"T_68b7b_row11_col0\" class=\"data row11 col0\" >EGYPT</td>\n",
       "      <td id=\"T_68b7b_row11_col1\" class=\"data row11 col1\" >1.000000</td>\n",
       "      <td id=\"T_68b7b_row11_col2\" class=\"data row11 col2\" >2.487500</td>\n",
       "      <td id=\"T_68b7b_row11_col3\" class=\"data row11 col3\" >5.790000</td>\n",
       "      <td id=\"T_68b7b_row11_col4\" class=\"data row11 col4\" >13.762500</td>\n",
       "      <td id=\"T_68b7b_row11_col5\" class=\"data row11 col5\" >28.500000</td>\n",
       "      <td id=\"T_68b7b_row11_col6\" class=\"data row11 col6\" >8.640000</td>\n",
       "      <td id=\"T_68b7b_row11_col7\" class=\"data row11 col7\" >8911.539818</td>\n",
       "    </tr>\n",
       "    <tr>\n",
       "      <th id=\"T_68b7b_level0_row12\" class=\"row_heading level0 row12\" >44</th>\n",
       "      <td id=\"T_68b7b_row12_col0\" class=\"data row12 col0\" >EL SALVADOR</td>\n",
       "      <td id=\"T_68b7b_row12_col1\" class=\"data row12 col1\" >1.000000</td>\n",
       "      <td id=\"T_68b7b_row12_col2\" class=\"data row12 col2\" >0.433333</td>\n",
       "      <td id=\"T_68b7b_row12_col3\" class=\"data row12 col3\" >1.700000</td>\n",
       "      <td id=\"T_68b7b_row12_col4\" class=\"data row12 col4\" >4.750000</td>\n",
       "      <td id=\"T_68b7b_row12_col5\" class=\"data row12 col5\" >26.600000</td>\n",
       "      <td id=\"T_68b7b_row12_col6\" class=\"data row12 col6\" >7.766667</td>\n",
       "      <td id=\"T_68b7b_row12_col7\" class=\"data row12 col7\" >696.230000</td>\n",
       "    </tr>\n",
       "    <tr>\n",
       "      <th id=\"T_68b7b_level0_row13\" class=\"row_heading level0 row13\" >47</th>\n",
       "      <td id=\"T_68b7b_row13_col0\" class=\"data row13 col0\" >ESWATINI</td>\n",
       "      <td id=\"T_68b7b_row13_col1\" class=\"data row13 col1\" >1.000000</td>\n",
       "      <td id=\"T_68b7b_row13_col2\" class=\"data row13 col2\" >0.600000</td>\n",
       "      <td id=\"T_68b7b_row13_col3\" class=\"data row13 col3\" >1.700000</td>\n",
       "      <td id=\"T_68b7b_row13_col4\" class=\"data row13 col4\" >11.425000</td>\n",
       "      <td id=\"T_68b7b_row13_col5\" class=\"data row13 col5\" >32.500000</td>\n",
       "      <td id=\"T_68b7b_row13_col6\" class=\"data row13 col6\" >6.820000</td>\n",
       "      <td id=\"T_68b7b_row13_col7\" class=\"data row13 col7\" >148.230400</td>\n",
       "    </tr>\n",
       "    <tr>\n",
       "      <th id=\"T_68b7b_level0_row14\" class=\"row_heading level0 row14\" >54</th>\n",
       "      <td id=\"T_68b7b_row14_col0\" class=\"data row14 col0\" >GHANA</td>\n",
       "      <td id=\"T_68b7b_row14_col1\" class=\"data row14 col1\" >1.000000</td>\n",
       "      <td id=\"T_68b7b_row14_col2\" class=\"data row14 col2\" >2.011111</td>\n",
       "      <td id=\"T_68b7b_row14_col3\" class=\"data row14 col3\" >7.622222</td>\n",
       "      <td id=\"T_68b7b_row14_col4\" class=\"data row14 col4\" >2.822222</td>\n",
       "      <td id=\"T_68b7b_row14_col5\" class=\"data row14 col5\" >29.477778</td>\n",
       "      <td id=\"T_68b7b_row14_col6\" class=\"data row14 col6\" >17.244444</td>\n",
       "      <td id=\"T_68b7b_row14_col7\" class=\"data row14 col7\" >3299.961889</td>\n",
       "    </tr>\n",
       "    <tr>\n",
       "      <th id=\"T_68b7b_level0_row15\" class=\"row_heading level0 row15\" >60</th>\n",
       "      <td id=\"T_68b7b_row15_col0\" class=\"data row15 col0\" >HONDURAS</td>\n",
       "      <td id=\"T_68b7b_row15_col1\" class=\"data row15 col1\" >1.000000</td>\n",
       "      <td id=\"T_68b7b_row15_col2\" class=\"data row15 col2\" >0.275000</td>\n",
       "      <td id=\"T_68b7b_row15_col3\" class=\"data row15 col3\" >1.828571</td>\n",
       "      <td id=\"T_68b7b_row15_col4\" class=\"data row15 col4\" >3.900000</td>\n",
       "      <td id=\"T_68b7b_row15_col5\" class=\"data row15 col5\" >36.857143</td>\n",
       "      <td id=\"T_68b7b_row15_col6\" class=\"data row15 col6\" >13.785714</td>\n",
       "      <td id=\"T_68b7b_row15_col7\" class=\"data row15 col7\" >963.024571</td>\n",
       "    </tr>\n",
       "    <tr>\n",
       "      <th id=\"T_68b7b_level0_row16\" class=\"row_heading level0 row16\" >61</th>\n",
       "      <td id=\"T_68b7b_row16_col0\" class=\"data row16 col0\" >INDIA</td>\n",
       "      <td id=\"T_68b7b_row16_col1\" class=\"data row16 col1\" >1.000000</td>\n",
       "      <td id=\"T_68b7b_row16_col2\" class=\"data row16 col2\" >6.116667</td>\n",
       "      <td id=\"T_68b7b_row16_col3\" class=\"data row16 col3\" >18.766667</td>\n",
       "      <td id=\"T_68b7b_row16_col4\" class=\"data row16 col4\" >2.933333</td>\n",
       "      <td id=\"T_68b7b_row16_col5\" class=\"data row16 col5\" >49.055556</td>\n",
       "      <td id=\"T_68b7b_row16_col6\" class=\"data row16 col6\" >42.977778</td>\n",
       "      <td id=\"T_68b7b_row16_col7\" class=\"data row16 col7\" >123014.491000</td>\n",
       "    </tr>\n",
       "    <tr>\n",
       "      <th id=\"T_68b7b_level0_row17\" class=\"row_heading level0 row17\" >62</th>\n",
       "      <td id=\"T_68b7b_row17_col0\" class=\"data row17 col0\" >INDONESIA</td>\n",
       "      <td id=\"T_68b7b_row17_col1\" class=\"data row17 col1\" >1.000000</td>\n",
       "      <td id=\"T_68b7b_row17_col2\" class=\"data row17 col2\" >4.171429</td>\n",
       "      <td id=\"T_68b7b_row17_col3\" class=\"data row17 col3\" >11.375000</td>\n",
       "      <td id=\"T_68b7b_row17_col4\" class=\"data row17 col4\" >7.200000</td>\n",
       "      <td id=\"T_68b7b_row17_col5\" class=\"data row17 col5\" >38.362500</td>\n",
       "      <td id=\"T_68b7b_row17_col6\" class=\"data row17 col6\" >24.362500</td>\n",
       "      <td id=\"T_68b7b_row17_col7\" class=\"data row17 col7\" >22286.513875</td>\n",
       "    </tr>\n",
       "    <tr>\n",
       "      <th id=\"T_68b7b_level0_row18\" class=\"row_heading level0 row18\" >69</th>\n",
       "      <td id=\"T_68b7b_row18_col0\" class=\"data row18 col0\" >KENYA</td>\n",
       "      <td id=\"T_68b7b_row18_col1\" class=\"data row18 col1\" >1.000000</td>\n",
       "      <td id=\"T_68b7b_row18_col2\" class=\"data row18 col2\" >2.362500</td>\n",
       "      <td id=\"T_68b7b_row18_col3\" class=\"data row18 col3\" >6.466667</td>\n",
       "      <td id=\"T_68b7b_row18_col4\" class=\"data row18 col4\" >5.950000</td>\n",
       "      <td id=\"T_68b7b_row18_col5\" class=\"data row18 col5\" >37.144444</td>\n",
       "      <td id=\"T_68b7b_row18_col6\" class=\"data row18 col6\" >16.750000</td>\n",
       "      <td id=\"T_68b7b_row18_col7\" class=\"data row18 col7\" >5569.008889</td>\n",
       "    </tr>\n",
       "    <tr>\n",
       "      <th id=\"T_68b7b_level0_row19\" class=\"row_heading level0 row19\" >70</th>\n",
       "      <td id=\"T_68b7b_row19_col0\" class=\"data row19 col0\" >KIRIBATI</td>\n",
       "      <td id=\"T_68b7b_row19_col1\" class=\"data row19 col1\" >1.000000</td>\n",
       "      <td id=\"T_68b7b_row19_col2\" class=\"data row19 col2\" >nan</td>\n",
       "      <td id=\"T_68b7b_row19_col3\" class=\"data row19 col3\" >12.600000</td>\n",
       "      <td id=\"T_68b7b_row19_col4\" class=\"data row19 col4\" >15.900000</td>\n",
       "      <td id=\"T_68b7b_row19_col5\" class=\"data row19 col5\" >34.400000</td>\n",
       "      <td id=\"T_68b7b_row19_col6\" class=\"data row19 col6\" >13.200000</td>\n",
       "      <td id=\"T_68b7b_row19_col7\" class=\"data row19 col7\" >11.626000</td>\n",
       "    </tr>\n",
       "    <tr>\n",
       "      <th id=\"T_68b7b_level0_row20\" class=\"row_heading level0 row20\" >72</th>\n",
       "      <td id=\"T_68b7b_row20_col0\" class=\"data row20 col0\" >KYRGYZSTAN</td>\n",
       "      <td id=\"T_68b7b_row20_col1\" class=\"data row20 col1\" >1.000000</td>\n",
       "      <td id=\"T_68b7b_row20_col2\" class=\"data row20 col2\" >0.816667</td>\n",
       "      <td id=\"T_68b7b_row20_col3\" class=\"data row20 col3\" >2.533333</td>\n",
       "      <td id=\"T_68b7b_row20_col4\" class=\"data row20 col4\" >7.666667</td>\n",
       "      <td id=\"T_68b7b_row20_col5\" class=\"data row20 col5\" >19.916667</td>\n",
       "      <td id=\"T_68b7b_row20_col6\" class=\"data row20 col6\" >4.366667</td>\n",
       "      <td id=\"T_68b7b_row20_col7\" class=\"data row20 col7\" >642.159000</td>\n",
       "    </tr>\n",
       "    <tr>\n",
       "      <th id=\"T_68b7b_level0_row21\" class=\"row_heading level0 row21\" >73</th>\n",
       "      <td id=\"T_68b7b_row21_col0\" class=\"data row21 col0\" >LAO PEOPLE'S DEMOCRATIC REP. (THE)</td>\n",
       "      <td id=\"T_68b7b_row21_col1\" class=\"data row21 col1\" >1.000000</td>\n",
       "      <td id=\"T_68b7b_row21_col2\" class=\"data row21 col2\" >3.200000</td>\n",
       "      <td id=\"T_68b7b_row21_col3\" class=\"data row21 col3\" >10.514286</td>\n",
       "      <td id=\"T_68b7b_row21_col4\" class=\"data row21 col4\" >2.400000</td>\n",
       "      <td id=\"T_68b7b_row21_col5\" class=\"data row21 col5\" >44.928571</td>\n",
       "      <td id=\"T_68b7b_row21_col6\" class=\"data row21 col6\" >30.871429</td>\n",
       "      <td id=\"T_68b7b_row21_col7\" class=\"data row21 col7\" >794.602857</td>\n",
       "    </tr>\n",
       "    <tr>\n",
       "      <th id=\"T_68b7b_level0_row22\" class=\"row_heading level0 row22\" >75</th>\n",
       "      <td id=\"T_68b7b_row22_col0\" class=\"data row22 col0\" >LESOTHO</td>\n",
       "      <td id=\"T_68b7b_row22_col1\" class=\"data row22 col1\" >1.000000</td>\n",
       "      <td id=\"T_68b7b_row22_col2\" class=\"data row22 col2\" >1.620000</td>\n",
       "      <td id=\"T_68b7b_row22_col3\" class=\"data row22 col3\" >6.671429</td>\n",
       "      <td id=\"T_68b7b_row22_col4\" class=\"data row22 col4\" >9.820000</td>\n",
       "      <td id=\"T_68b7b_row22_col5\" class=\"data row22 col5\" >40.200000</td>\n",
       "      <td id=\"T_68b7b_row22_col6\" class=\"data row22 col6\" >14.085714</td>\n",
       "      <td id=\"T_68b7b_row22_col7\" class=\"data row22 col7\" >263.292286</td>\n",
       "    </tr>\n",
       "    <tr>\n",
       "      <th id=\"T_68b7b_level0_row23\" class=\"row_heading level0 row23\" >84</th>\n",
       "      <td id=\"T_68b7b_row23_col0\" class=\"data row23 col0\" >MAURITANIA</td>\n",
       "      <td id=\"T_68b7b_row23_col1\" class=\"data row23 col1\" >1.000000</td>\n",
       "      <td id=\"T_68b7b_row23_col2\" class=\"data row23 col2\" >3.975000</td>\n",
       "      <td id=\"T_68b7b_row23_col3\" class=\"data row23 col3\" >13.410000</td>\n",
       "      <td id=\"T_68b7b_row23_col4\" class=\"data row23 col4\" >2.637500</td>\n",
       "      <td id=\"T_68b7b_row23_col5\" class=\"data row23 col5\" >34.170000</td>\n",
       "      <td id=\"T_68b7b_row23_col6\" class=\"data row23 col6\" >24.866667</td>\n",
       "      <td id=\"T_68b7b_row23_col7\" class=\"data row23 col7\" >500.294900</td>\n",
       "    </tr>\n",
       "    <tr>\n",
       "      <th id=\"T_68b7b_level0_row24\" class=\"row_heading level0 row24\" >87</th>\n",
       "      <td id=\"T_68b7b_row24_col0\" class=\"data row24 col0\" >MONGOLIA</td>\n",
       "      <td id=\"T_68b7b_row24_col1\" class=\"data row24 col1\" >1.000000</td>\n",
       "      <td id=\"T_68b7b_row24_col2\" class=\"data row24 col2\" >0.962500</td>\n",
       "      <td id=\"T_68b7b_row24_col3\" class=\"data row24 col3\" >2.444444</td>\n",
       "      <td id=\"T_68b7b_row24_col4\" class=\"data row24 col4\" >9.925000</td>\n",
       "      <td id=\"T_68b7b_row24_col5\" class=\"data row24 col5\" >20.777778</td>\n",
       "      <td id=\"T_68b7b_row24_col6\" class=\"data row24 col6\" >5.911111</td>\n",
       "      <td id=\"T_68b7b_row24_col7\" class=\"data row24 col7\" >290.824667</td>\n",
       "    </tr>\n",
       "    <tr>\n",
       "      <th id=\"T_68b7b_level0_row25\" class=\"row_heading level0 row25\" >89</th>\n",
       "      <td id=\"T_68b7b_row25_col0\" class=\"data row25 col0\" >MOROCCO</td>\n",
       "      <td id=\"T_68b7b_row25_col1\" class=\"data row25 col1\" >1.000000</td>\n",
       "      <td id=\"T_68b7b_row25_col2\" class=\"data row25 col2\" >1.950000</td>\n",
       "      <td id=\"T_68b7b_row25_col3\" class=\"data row25 col3\" >4.483333</td>\n",
       "      <td id=\"T_68b7b_row25_col4\" class=\"data row25 col4\" >10.866667</td>\n",
       "      <td id=\"T_68b7b_row25_col5\" class=\"data row25 col5\" >23.850000</td>\n",
       "      <td id=\"T_68b7b_row25_col6\" class=\"data row25 col6\" >6.916667</td>\n",
       "      <td id=\"T_68b7b_row25_col7\" class=\"data row25 col7\" >3310.867167</td>\n",
       "    </tr>\n",
       "    <tr>\n",
       "      <th id=\"T_68b7b_level0_row26\" class=\"row_heading level0 row26\" >91</th>\n",
       "      <td id=\"T_68b7b_row26_col0\" class=\"data row26 col0\" >MYANMAR</td>\n",
       "      <td id=\"T_68b7b_row26_col1\" class=\"data row26 col1\" >1.000000</td>\n",
       "      <td id=\"T_68b7b_row26_col2\" class=\"data row26 col2\" >2.500000</td>\n",
       "      <td id=\"T_68b7b_row26_col3\" class=\"data row26 col3\" >9.771429</td>\n",
       "      <td id=\"T_68b7b_row26_col4\" class=\"data row26 col4\" >4.620000</td>\n",
       "      <td id=\"T_68b7b_row26_col5\" class=\"data row26 col5\" >45.100000</td>\n",
       "      <td id=\"T_68b7b_row26_col6\" class=\"data row26 col6\" >29.755556</td>\n",
       "      <td id=\"T_68b7b_row26_col7\" class=\"data row26 col7\" >5089.456556</td>\n",
       "    </tr>\n",
       "    <tr>\n",
       "      <th id=\"T_68b7b_level0_row27\" class=\"row_heading level0 row27\" >95</th>\n",
       "      <td id=\"T_68b7b_row27_col0\" class=\"data row27 col0\" >NICARAGUA</td>\n",
       "      <td id=\"T_68b7b_row27_col1\" class=\"data row27 col1\" >1.000000</td>\n",
       "      <td id=\"T_68b7b_row27_col2\" class=\"data row27 col2\" >0.750000</td>\n",
       "      <td id=\"T_68b7b_row27_col3\" class=\"data row27 col3\" >2.033333</td>\n",
       "      <td id=\"T_68b7b_row27_col4\" class=\"data row27 col4\" >6.550000</td>\n",
       "      <td id=\"T_68b7b_row27_col5\" class=\"data row27 col5\" >24.066667</td>\n",
       "      <td id=\"T_68b7b_row27_col6\" class=\"data row27 col6\" >7.033333</td>\n",
       "      <td id=\"T_68b7b_row27_col7\" class=\"data row27 col7\" >671.938833</td>\n",
       "    </tr>\n",
       "    <tr>\n",
       "      <th id=\"T_68b7b_level0_row28\" class=\"row_heading level0 row28\" >97</th>\n",
       "      <td id=\"T_68b7b_row28_col0\" class=\"data row28 col0\" >NIGERIA</td>\n",
       "      <td id=\"T_68b7b_row28_col1\" class=\"data row28 col1\" >1.000000</td>\n",
       "      <td id=\"T_68b7b_row28_col2\" class=\"data row28 col2\" >4.380000</td>\n",
       "      <td id=\"T_68b7b_row28_col3\" class=\"data row28 col3\" >12.045455</td>\n",
       "      <td id=\"T_68b7b_row28_col4\" class=\"data row28 col4\" >4.890909</td>\n",
       "      <td id=\"T_68b7b_row28_col5\" class=\"data row28 col5\" >39.463636</td>\n",
       "      <td id=\"T_68b7b_row28_col6\" class=\"data row28 col6\" >26.681818</td>\n",
       "      <td id=\"T_68b7b_row28_col7\" class=\"data row28 col7\" >26759.820364</td>\n",
       "    </tr>\n",
       "    <tr>\n",
       "      <th id=\"T_68b7b_level0_row29\" class=\"row_heading level0 row29\" >100</th>\n",
       "      <td id=\"T_68b7b_row29_col0\" class=\"data row29 col0\" >PAKISTAN</td>\n",
       "      <td id=\"T_68b7b_row29_col1\" class=\"data row29 col1\" >1.000000</td>\n",
       "      <td id=\"T_68b7b_row29_col2\" class=\"data row29 col2\" >4.500000</td>\n",
       "      <td id=\"T_68b7b_row29_col3\" class=\"data row29 col3\" >14.314286</td>\n",
       "      <td id=\"T_68b7b_row29_col4\" class=\"data row29 col4\" >4.757143</td>\n",
       "      <td id=\"T_68b7b_row29_col5\" class=\"data row29 col5\" >46.671429</td>\n",
       "      <td id=\"T_68b7b_row29_col6\" class=\"data row29 col6\" >33.737500</td>\n",
       "      <td id=\"T_68b7b_row29_col7\" class=\"data row29 col7\" >21774.897875</td>\n",
       "    </tr>\n",
       "    <tr>\n",
       "      <th id=\"T_68b7b_level0_row30\" class=\"row_heading level0 row30\" >102</th>\n",
       "      <td id=\"T_68b7b_row30_col0\" class=\"data row30 col0\" >PAPUA NEW GUINEA</td>\n",
       "      <td id=\"T_68b7b_row30_col1\" class=\"data row30 col1\" >1.000000</td>\n",
       "      <td id=\"T_68b7b_row30_col2\" class=\"data row30 col2\" >2.800000</td>\n",
       "      <td id=\"T_68b7b_row30_col3\" class=\"data row30 col3\" >8.000000</td>\n",
       "      <td id=\"T_68b7b_row30_col4\" class=\"data row30 col4\" >6.733333</td>\n",
       "      <td id=\"T_68b7b_row30_col5\" class=\"data row30 col5\" >46.466667</td>\n",
       "      <td id=\"T_68b7b_row30_col6\" class=\"data row30 col6\" >22.900000</td>\n",
       "      <td id=\"T_68b7b_row30_col7\" class=\"data row30 col7\" >869.428000</td>\n",
       "    </tr>\n",
       "    <tr>\n",
       "      <th id=\"T_68b7b_level0_row31\" class=\"row_heading level0 row31\" >105</th>\n",
       "      <td id=\"T_68b7b_row31_col0\" class=\"data row31 col0\" >PHILIPPINES (THE)</td>\n",
       "      <td id=\"T_68b7b_row31_col1\" class=\"data row31 col1\" >1.000000</td>\n",
       "      <td id=\"T_68b7b_row31_col2\" class=\"data row31 col2\" >1.920000</td>\n",
       "      <td id=\"T_68b7b_row31_col3\" class=\"data row31 col3\" >7.127273</td>\n",
       "      <td id=\"T_68b7b_row31_col4\" class=\"data row31 col4\" >3.100000</td>\n",
       "      <td id=\"T_68b7b_row31_col5\" class=\"data row31 col5\" >36.272727</td>\n",
       "      <td id=\"T_68b7b_row31_col6\" class=\"data row31 col6\" >24.145455</td>\n",
       "      <td id=\"T_68b7b_row31_col7\" class=\"data row31 col7\" >10529.683273</td>\n",
       "    </tr>\n",
       "    <tr>\n",
       "      <th id=\"T_68b7b_level0_row32\" class=\"row_heading level0 row32\" >109</th>\n",
       "      <td id=\"T_68b7b_row32_col0\" class=\"data row32 col0\" >REPUBLIC OF MOLDOVA (THE)</td>\n",
       "      <td id=\"T_68b7b_row32_col1\" class=\"data row32 col1\" >1.000000</td>\n",
       "      <td id=\"T_68b7b_row32_col2\" class=\"data row32 col2\" >1.450000</td>\n",
       "      <td id=\"T_68b7b_row32_col3\" class=\"data row32 col3\" >3.850000</td>\n",
       "      <td id=\"T_68b7b_row32_col4\" class=\"data row32 col4\" >6.900000</td>\n",
       "      <td id=\"T_68b7b_row32_col5\" class=\"data row32 col5\" >8.550000</td>\n",
       "      <td id=\"T_68b7b_row32_col6\" class=\"data row32 col6\" >2.700000</td>\n",
       "      <td id=\"T_68b7b_row32_col7\" class=\"data row32 col7\" >215.551500</td>\n",
       "    </tr>\n",
       "    <tr>\n",
       "      <th id=\"T_68b7b_level0_row33\" class=\"row_heading level0 row33\" >114</th>\n",
       "      <td id=\"T_68b7b_row33_col0\" class=\"data row33 col0\" >SAO TOME AND PRINCIPE</td>\n",
       "      <td id=\"T_68b7b_row33_col1\" class=\"data row33 col1\" >1.000000</td>\n",
       "      <td id=\"T_68b7b_row33_col2\" class=\"data row33 col2\" >2.333333</td>\n",
       "      <td id=\"T_68b7b_row33_col3\" class=\"data row33 col3\" >7.020000</td>\n",
       "      <td id=\"T_68b7b_row33_col4\" class=\"data row33 col4\" >9.550000</td>\n",
       "      <td id=\"T_68b7b_row33_col5\" class=\"data row33 col5\" >28.880000</td>\n",
       "      <td id=\"T_68b7b_row33_col6\" class=\"data row33 col6\" >11.260000</td>\n",
       "      <td id=\"T_68b7b_row33_col7\" class=\"data row33 col7\" >25.896000</td>\n",
       "    </tr>\n",
       "    <tr>\n",
       "      <th id=\"T_68b7b_level0_row34\" class=\"row_heading level0 row34\" >116</th>\n",
       "      <td id=\"T_68b7b_row34_col0\" class=\"data row34 col0\" >SENEGAL</td>\n",
       "      <td id=\"T_68b7b_row34_col1\" class=\"data row34 col1\" >1.000000</td>\n",
       "      <td id=\"T_68b7b_row34_col2\" class=\"data row34 col2\" >1.825000</td>\n",
       "      <td id=\"T_68b7b_row34_col3\" class=\"data row34 col3\" >8.271429</td>\n",
       "      <td id=\"T_68b7b_row34_col4\" class=\"data row34 col4\" >2.115385</td>\n",
       "      <td id=\"T_68b7b_row34_col5\" class=\"data row34 col5\" >22.735714</td>\n",
       "      <td id=\"T_68b7b_row34_col6\" class=\"data row34 col6\" >16.300000</td>\n",
       "      <td id=\"T_68b7b_row34_col7\" class=\"data row34 col7\" >2036.353071</td>\n",
       "    </tr>\n",
       "    <tr>\n",
       "      <th id=\"T_68b7b_level0_row35\" class=\"row_heading level0 row35\" >121</th>\n",
       "      <td id=\"T_68b7b_row35_col0\" class=\"data row35 col0\" >SOLOMON ISLANDS</td>\n",
       "      <td id=\"T_68b7b_row35_col1\" class=\"data row35 col1\" >1.000000</td>\n",
       "      <td id=\"T_68b7b_row35_col2\" class=\"data row35 col2\" >2.333333</td>\n",
       "      <td id=\"T_68b7b_row35_col3\" class=\"data row35 col3\" >6.733333</td>\n",
       "      <td id=\"T_68b7b_row35_col4\" class=\"data row35 col4\" >2.966667</td>\n",
       "      <td id=\"T_68b7b_row35_col5\" class=\"data row35 col5\" >32.733333</td>\n",
       "      <td id=\"T_68b7b_row35_col6\" class=\"data row35 col6\" >14.666667</td>\n",
       "      <td id=\"T_68b7b_row35_col7\" class=\"data row35 col7\" >73.686667</td>\n",
       "    </tr>\n",
       "    <tr>\n",
       "      <th id=\"T_68b7b_level0_row36\" class=\"row_heading level0 row36\" >126</th>\n",
       "      <td id=\"T_68b7b_row36_col0\" class=\"data row36 col0\" >STATE OF PALESTINE</td>\n",
       "      <td id=\"T_68b7b_row36_col1\" class=\"data row36 col1\" >1.000000</td>\n",
       "      <td id=\"T_68b7b_row36_col2\" class=\"data row36 col2\" >0.850000</td>\n",
       "      <td id=\"T_68b7b_row36_col3\" class=\"data row36 col3\" >3.733333</td>\n",
       "      <td id=\"T_68b7b_row36_col4\" class=\"data row36 col4\" >7.580000</td>\n",
       "      <td id=\"T_68b7b_row36_col5\" class=\"data row36 col5\" >11.550000</td>\n",
       "      <td id=\"T_68b7b_row36_col6\" class=\"data row36 col6\" >2.920000</td>\n",
       "      <td id=\"T_68b7b_row36_col7\" class=\"data row36 col7\" >594.952667</td>\n",
       "    </tr>\n",
       "    <tr>\n",
       "      <th id=\"T_68b7b_level0_row37\" class=\"row_heading level0 row37\" >127</th>\n",
       "      <td id=\"T_68b7b_row37_col0\" class=\"data row37 col0\" >SUDAN (THE)</td>\n",
       "      <td id=\"T_68b7b_row37_col1\" class=\"data row37 col1\" >1.000000</td>\n",
       "      <td id=\"T_68b7b_row37_col2\" class=\"data row37 col2\" >4.766667</td>\n",
       "      <td id=\"T_68b7b_row37_col3\" class=\"data row37 col3\" >15.400000</td>\n",
       "      <td id=\"T_68b7b_row37_col4\" class=\"data row37 col4\" >2.900000</td>\n",
       "      <td id=\"T_68b7b_row37_col5\" class=\"data row37 col5\" >36.866667</td>\n",
       "      <td id=\"T_68b7b_row37_col6\" class=\"data row37 col6\" >29.933333</td>\n",
       "      <td id=\"T_68b7b_row37_col7\" class=\"data row37 col7\" >5551.013000</td>\n",
       "    </tr>\n",
       "    <tr>\n",
       "      <th id=\"T_68b7b_level0_row38\" class=\"row_heading level0 row38\" >132</th>\n",
       "      <td id=\"T_68b7b_row38_col0\" class=\"data row38 col0\" >TIMOR-LESTE</td>\n",
       "      <td id=\"T_68b7b_row38_col1\" class=\"data row38 col1\" >1.000000</td>\n",
       "      <td id=\"T_68b7b_row38_col2\" class=\"data row38 col2\" >4.775000</td>\n",
       "      <td id=\"T_68b7b_row38_col3\" class=\"data row38 col3\" >15.620000</td>\n",
       "      <td id=\"T_68b7b_row38_col4\" class=\"data row38 col4\" >3.650000</td>\n",
       "      <td id=\"T_68b7b_row38_col5\" class=\"data row38 col5\" >55.380000</td>\n",
       "      <td id=\"T_68b7b_row38_col6\" class=\"data row38 col6\" >42.800000</td>\n",
       "      <td id=\"T_68b7b_row38_col7\" class=\"data row38 col7\" >160.444800</td>\n",
       "    </tr>\n",
       "    <tr>\n",
       "      <th id=\"T_68b7b_level0_row39\" class=\"row_heading level0 row39\" >136</th>\n",
       "      <td id=\"T_68b7b_row39_col0\" class=\"data row39 col0\" >TUNISIA</td>\n",
       "      <td id=\"T_68b7b_row39_col1\" class=\"data row39 col1\" >1.000000</td>\n",
       "      <td id=\"T_68b7b_row39_col2\" class=\"data row39 col2\" >1.100000</td>\n",
       "      <td id=\"T_68b7b_row39_col3\" class=\"data row39 col3\" >3.583333</td>\n",
       "      <td id=\"T_68b7b_row39_col4\" class=\"data row39 col4\" >9.080000</td>\n",
       "      <td id=\"T_68b7b_row39_col5\" class=\"data row39 col5\" >12.450000</td>\n",
       "      <td id=\"T_68b7b_row39_col6\" class=\"data row39 col6\" >3.650000</td>\n",
       "      <td id=\"T_68b7b_row39_col7\" class=\"data row39 col7\" >928.927000</td>\n",
       "    </tr>\n",
       "    <tr>\n",
       "      <th id=\"T_68b7b_level0_row40\" class=\"row_heading level0 row40\" >141</th>\n",
       "      <td id=\"T_68b7b_row40_col0\" class=\"data row40 col0\" >UKRAINE</td>\n",
       "      <td id=\"T_68b7b_row40_col1\" class=\"data row40 col1\" >1.000000</td>\n",
       "      <td id=\"T_68b7b_row40_col2\" class=\"data row40 col2\" >3.800000</td>\n",
       "      <td id=\"T_68b7b_row40_col3\" class=\"data row40 col3\" >8.200000</td>\n",
       "      <td id=\"T_68b7b_row40_col4\" class=\"data row40 col4\" >26.500000</td>\n",
       "      <td id=\"T_68b7b_row40_col5\" class=\"data row40 col5\" >22.900000</td>\n",
       "      <td id=\"T_68b7b_row40_col6\" class=\"data row40 col6\" >4.100000</td>\n",
       "      <td id=\"T_68b7b_row40_col7\" class=\"data row40 col7\" >2160.097000</td>\n",
       "    </tr>\n",
       "    <tr>\n",
       "      <th id=\"T_68b7b_level0_row41\" class=\"row_heading level0 row41\" >145</th>\n",
       "      <td id=\"T_68b7b_row41_col0\" class=\"data row41 col0\" >UZBEKISTAN</td>\n",
       "      <td id=\"T_68b7b_row41_col1\" class=\"data row41 col1\" >1.000000</td>\n",
       "      <td id=\"T_68b7b_row41_col2\" class=\"data row41 col2\" >2.975000</td>\n",
       "      <td id=\"T_68b7b_row41_col3\" class=\"data row41 col3\" >6.475000</td>\n",
       "      <td id=\"T_68b7b_row41_col4\" class=\"data row41 col4\" >10.925000</td>\n",
       "      <td id=\"T_68b7b_row41_col5\" class=\"data row41 col5\" >23.700000</td>\n",
       "      <td id=\"T_68b7b_row41_col6\" class=\"data row41 col6\" >7.000000</td>\n",
       "      <td id=\"T_68b7b_row41_col7\" class=\"data row41 col7\" >2957.505500</td>\n",
       "    </tr>\n",
       "    <tr>\n",
       "      <th id=\"T_68b7b_level0_row42\" class=\"row_heading level0 row42\" >146</th>\n",
       "      <td id=\"T_68b7b_row42_col0\" class=\"data row42 col0\" >VANUATU</td>\n",
       "      <td id=\"T_68b7b_row42_col1\" class=\"data row42 col1\" >1.000000</td>\n",
       "      <td id=\"T_68b7b_row42_col2\" class=\"data row42 col2\" >1.700000</td>\n",
       "      <td id=\"T_68b7b_row42_col3\" class=\"data row42 col3\" >5.800000</td>\n",
       "      <td id=\"T_68b7b_row42_col4\" class=\"data row42 col4\" >4.800000</td>\n",
       "      <td id=\"T_68b7b_row42_col5\" class=\"data row42 col5\" >26.766667</td>\n",
       "      <td id=\"T_68b7b_row42_col6\" class=\"data row42 col6\" >11.266667</td>\n",
       "      <td id=\"T_68b7b_row42_col7\" class=\"data row42 col7\" >31.771333</td>\n",
       "    </tr>\n",
       "    <tr>\n",
       "      <th id=\"T_68b7b_level0_row43\" class=\"row_heading level0 row43\" >148</th>\n",
       "      <td id=\"T_68b7b_row43_col0\" class=\"data row43 col0\" >VIET NAM</td>\n",
       "      <td id=\"T_68b7b_row43_col1\" class=\"data row43 col1\" >1.000000</td>\n",
       "      <td id=\"T_68b7b_row43_col2\" class=\"data row43 col2\" >2.331250</td>\n",
       "      <td id=\"T_68b7b_row43_col3\" class=\"data row43 col3\" >8.661905</td>\n",
       "      <td id=\"T_68b7b_row43_col4\" class=\"data row43 col4\" >3.317647</td>\n",
       "      <td id=\"T_68b7b_row43_col5\" class=\"data row43 col5\" >34.922727</td>\n",
       "      <td id=\"T_68b7b_row43_col6\" class=\"data row43 col6\" >22.918182</td>\n",
       "      <td id=\"T_68b7b_row43_col7\" class=\"data row43 col7\" >7507.220273</td>\n",
       "    </tr>\n",
       "    <tr>\n",
       "      <th id=\"T_68b7b_level0_row44\" class=\"row_heading level0 row44\" >150</th>\n",
       "      <td id=\"T_68b7b_row44_col0\" class=\"data row44 col0\" >ZAMBIA</td>\n",
       "      <td id=\"T_68b7b_row44_col1\" class=\"data row44 col1\" >1.000000</td>\n",
       "      <td id=\"T_68b7b_row44_col2\" class=\"data row44 col2\" >2.042857</td>\n",
       "      <td id=\"T_68b7b_row44_col3\" class=\"data row44 col3\" >5.542857</td>\n",
       "      <td id=\"T_68b7b_row44_col4\" class=\"data row44 col4\" >7.228571</td>\n",
       "      <td id=\"T_68b7b_row44_col5\" class=\"data row44 col5\" >48.137500</td>\n",
       "      <td id=\"T_68b7b_row44_col6\" class=\"data row44 col6\" >17.885714</td>\n",
       "      <td id=\"T_68b7b_row44_col7\" class=\"data row44 col7\" >2083.494500</td>\n",
       "    </tr>\n",
       "    <tr>\n",
       "      <th id=\"T_68b7b_level0_row45\" class=\"row_heading level0 row45\" >151</th>\n",
       "      <td id=\"T_68b7b_row45_col0\" class=\"data row45 col0\" >ZIMBABWE</td>\n",
       "      <td id=\"T_68b7b_row45_col1\" class=\"data row45 col1\" >1.000000</td>\n",
       "      <td id=\"T_68b7b_row45_col2\" class=\"data row45 col2\" >1.388889</td>\n",
       "      <td id=\"T_68b7b_row45_col3\" class=\"data row45 col3\" >4.166667</td>\n",
       "      <td id=\"T_68b7b_row45_col4\" class=\"data row45 col4\" >5.788889</td>\n",
       "      <td id=\"T_68b7b_row45_col5\" class=\"data row45 col5\" >30.455556</td>\n",
       "      <td id=\"T_68b7b_row45_col6\" class=\"data row45 col6\" >10.710000</td>\n",
       "      <td id=\"T_68b7b_row45_col7\" class=\"data row45 col7\" >1912.450400</td>\n",
       "    </tr>\n",
       "  </tbody>\n",
       "</table>\n"
      ],
      "text/plain": [
       "<pandas.io.formats.style.Styler at 0x1b59cd0b520>"
      ]
     },
     "execution_count": 86,
     "metadata": {},
     "output_type": "execute_result"
    }
   ],
   "source": [
    "\n",
    "Country = df.groupby(['Income Classification'])\n",
    "Country.get_group(1).style.highlight_max(color='#26BB2D',subset=[\"Severe Wasting\",\"Wasting\",\"Overweight\",\"Stunting\",\"Underweight\",\"U5 Population ('000s)\"]).highlight_min(color='#E65236',subset=[\"Severe Wasting\",\"Wasting\",\"Overweight\",\"Stunting\",\"Underweight\",\"U5 Population ('000s)\"])"
   ]
  },
  {
   "cell_type": "markdown",
   "id": "2483d419",
   "metadata": {},
   "source": [
    "Observation:\n",
    "\n",
    "Severe Wasting%: Max : South Sudan Min: Burundi\n",
    "\n",
    "Wasting%: Max : South Sudan Min: Uganda\n",
    "\n",
    "Overweight%: Max : Syrian Republic Min:Nepal\n",
    "\n",
    "Stunting%: Max : Burundi Min:Gambai\n",
    "\n",
    "Underweight%: Max : NiGER Min: Syrian Republic\n",
    "\n",
    "1)South Sudan has both high Severe Wasting% as well Wasting%\n",
    "\n",
    "2)Syrian Republic has more overweight as well least underweight % in contrast\n",
    "\n",
    "3)Burundi has least Severe Wasting% , but on other hand has highest Stunting% which is not suggested\n",
    "\n",
    "Observation:\n",
    "\n",
    "1)Bangladesh has more Undeweight% and least overweight% whcih clearly says that Income in Bangladesh for Health is under red zone\n",
    "\n",
    "2)REPUBLIC OF MOLDOVA has both least , Stunting% and Underweight% clearly depicts that their malnutrition status is improving.\n",
    "\n",
    "3)India has high Wasting% as well U5 population across lower middle Income"
   ]
  },
  {
   "cell_type": "code",
   "execution_count": 87,
   "id": "b5de4b1c",
   "metadata": {},
   "outputs": [
    {
     "data": {
      "text/html": [
       "<style type=\"text/css\">\n",
       "#T_47e13_row2_col2, #T_47e13_row5_col6, #T_47e13_row32_col7, #T_47e13_row37_col2, #T_47e13_row37_col7, #T_47e13_row40_col3, #T_47e13_row42_col5, #T_47e13_row46_col4, #T_47e13_row52_col7 {\n",
       "  background-color: #E65236;\n",
       "}\n",
       "#T_47e13_row11_col7, #T_47e13_row21_col5, #T_47e13_row29_col4, #T_47e13_row31_col2, #T_47e13_row31_col6, #T_47e13_row33_col3 {\n",
       "  background-color: #26BB2D;\n",
       "}\n",
       "</style>\n",
       "<table id=\"T_47e13\">\n",
       "  <thead>\n",
       "    <tr>\n",
       "      <th class=\"blank level0\" >&nbsp;</th>\n",
       "      <th id=\"T_47e13_level0_col0\" class=\"col_heading level0 col0\" >Country</th>\n",
       "      <th id=\"T_47e13_level0_col1\" class=\"col_heading level0 col1\" >Income Classification</th>\n",
       "      <th id=\"T_47e13_level0_col2\" class=\"col_heading level0 col2\" >Severe Wasting</th>\n",
       "      <th id=\"T_47e13_level0_col3\" class=\"col_heading level0 col3\" >Wasting</th>\n",
       "      <th id=\"T_47e13_level0_col4\" class=\"col_heading level0 col4\" >Overweight</th>\n",
       "      <th id=\"T_47e13_level0_col5\" class=\"col_heading level0 col5\" >Stunting</th>\n",
       "      <th id=\"T_47e13_level0_col6\" class=\"col_heading level0 col6\" >Underweight</th>\n",
       "      <th id=\"T_47e13_level0_col7\" class=\"col_heading level0 col7\" >U5 Population ('000s)</th>\n",
       "    </tr>\n",
       "  </thead>\n",
       "  <tbody>\n",
       "    <tr>\n",
       "      <th id=\"T_47e13_level0_row0\" class=\"row_heading level0 row0\" >1</th>\n",
       "      <td id=\"T_47e13_row0_col0\" class=\"data row0 col0\" >ALBANIA</td>\n",
       "      <td id=\"T_47e13_row0_col1\" class=\"data row0 col1\" >2.000000</td>\n",
       "      <td id=\"T_47e13_row0_col2\" class=\"data row0 col2\" >4.075000</td>\n",
       "      <td id=\"T_47e13_row0_col3\" class=\"data row0 col3\" >7.760000</td>\n",
       "      <td id=\"T_47e13_row0_col4\" class=\"data row0 col4\" >20.800000</td>\n",
       "      <td id=\"T_47e13_row0_col5\" class=\"data row0 col5\" >24.160000</td>\n",
       "      <td id=\"T_47e13_row0_col6\" class=\"data row0 col6\" >7.700000</td>\n",
       "      <td id=\"T_47e13_row0_col7\" class=\"data row0 col7\" >232.859800</td>\n",
       "    </tr>\n",
       "    <tr>\n",
       "      <th id=\"T_47e13_level0_row1\" class=\"row_heading level0 row1\" >2</th>\n",
       "      <td id=\"T_47e13_row1_col0\" class=\"data row1 col0\" >ALGERIA</td>\n",
       "      <td id=\"T_47e13_row1_col1\" class=\"data row1 col1\" >2.000000</td>\n",
       "      <td id=\"T_47e13_row1_col2\" class=\"data row1 col2\" >2.733333</td>\n",
       "      <td id=\"T_47e13_row1_col3\" class=\"data row1 col3\" >5.942857</td>\n",
       "      <td id=\"T_47e13_row1_col4\" class=\"data row1 col4\" >12.833333</td>\n",
       "      <td id=\"T_47e13_row1_col5\" class=\"data row1 col5\" >19.571429</td>\n",
       "      <td id=\"T_47e13_row1_col6\" class=\"data row1 col6\" >7.342857</td>\n",
       "      <td id=\"T_47e13_row1_col7\" class=\"data row1 col7\" >3565.213143</td>\n",
       "    </tr>\n",
       "    <tr>\n",
       "      <th id=\"T_47e13_level0_row2\" class=\"row_heading level0 row2\" >4</th>\n",
       "      <td id=\"T_47e13_row2_col0\" class=\"data row2 col0\" >ARGENTINA</td>\n",
       "      <td id=\"T_47e13_row2_col1\" class=\"data row2 col1\" >2.000000</td>\n",
       "      <td id=\"T_47e13_row2_col2\" class=\"data row2 col2\" >0.200000</td>\n",
       "      <td id=\"T_47e13_row2_col3\" class=\"data row2 col3\" >2.150000</td>\n",
       "      <td id=\"T_47e13_row2_col4\" class=\"data row2 col4\" >11.125000</td>\n",
       "      <td id=\"T_47e13_row2_col5\" class=\"data row2 col5\" >10.025000</td>\n",
       "      <td id=\"T_47e13_row2_col6\" class=\"data row2 col6\" >2.600000</td>\n",
       "      <td id=\"T_47e13_row2_col7\" class=\"data row2 col7\" >3613.651750</td>\n",
       "    </tr>\n",
       "    <tr>\n",
       "      <th id=\"T_47e13_level0_row3\" class=\"row_heading level0 row3\" >5</th>\n",
       "      <td id=\"T_47e13_row3_col0\" class=\"data row3 col0\" >ARMENIA</td>\n",
       "      <td id=\"T_47e13_row3_col1\" class=\"data row3 col1\" >2.000000</td>\n",
       "      <td id=\"T_47e13_row3_col2\" class=\"data row3 col2\" >1.600000</td>\n",
       "      <td id=\"T_47e13_row3_col3\" class=\"data row3 col3\" >3.940000</td>\n",
       "      <td id=\"T_47e13_row3_col4\" class=\"data row3 col4\" >13.620000</td>\n",
       "      <td id=\"T_47e13_row3_col5\" class=\"data row3 col5\" >16.120000</td>\n",
       "      <td id=\"T_47e13_row3_col6\" class=\"data row3 col6\" >3.480000</td>\n",
       "      <td id=\"T_47e13_row3_col7\" class=\"data row3 col7\" >204.145200</td>\n",
       "    </tr>\n",
       "    <tr>\n",
       "      <th id=\"T_47e13_level0_row4\" class=\"row_heading level0 row4\" >7</th>\n",
       "      <td id=\"T_47e13_row4_col0\" class=\"data row4 col0\" >AZERBAIJAN</td>\n",
       "      <td id=\"T_47e13_row4_col1\" class=\"data row4 col1\" >2.000000</td>\n",
       "      <td id=\"T_47e13_row4_col2\" class=\"data row4 col2\" >2.575000</td>\n",
       "      <td id=\"T_47e13_row4_col3\" class=\"data row4 col3\" >5.433333</td>\n",
       "      <td id=\"T_47e13_row4_col4\" class=\"data row4 col4\" >9.183333</td>\n",
       "      <td id=\"T_47e13_row4_col5\" class=\"data row4 col5\" >21.816667</td>\n",
       "      <td id=\"T_47e13_row4_col6\" class=\"data row4 col6\" >8.083333</td>\n",
       "      <td id=\"T_47e13_row4_col7\" class=\"data row4 col7\" >740.501667</td>\n",
       "    </tr>\n",
       "    <tr>\n",
       "      <th id=\"T_47e13_level0_row5\" class=\"row_heading level0 row5\" >11</th>\n",
       "      <td id=\"T_47e13_row5_col0\" class=\"data row5 col0\" >BELARUS</td>\n",
       "      <td id=\"T_47e13_row5_col1\" class=\"data row5 col1\" >2.000000</td>\n",
       "      <td id=\"T_47e13_row5_col2\" class=\"data row5 col2\" >0.600000</td>\n",
       "      <td id=\"T_47e13_row5_col3\" class=\"data row5 col3\" >2.200000</td>\n",
       "      <td id=\"T_47e13_row5_col4\" class=\"data row5 col4\" >9.700000</td>\n",
       "      <td id=\"T_47e13_row5_col5\" class=\"data row5 col5\" >4.500000</td>\n",
       "      <td id=\"T_47e13_row5_col6\" class=\"data row5 col6\" >1.300000</td>\n",
       "      <td id=\"T_47e13_row5_col7\" class=\"data row5 col7\" >445.676000</td>\n",
       "    </tr>\n",
       "    <tr>\n",
       "      <th id=\"T_47e13_level0_row6\" class=\"row_heading level0 row6\" >12</th>\n",
       "      <td id=\"T_47e13_row6_col0\" class=\"data row6 col0\" >BELIZE</td>\n",
       "      <td id=\"T_47e13_row6_col1\" class=\"data row6 col1\" >2.000000</td>\n",
       "      <td id=\"T_47e13_row6_col2\" class=\"data row6 col2\" >0.833333</td>\n",
       "      <td id=\"T_47e13_row6_col3\" class=\"data row6 col3\" >2.333333</td>\n",
       "      <td id=\"T_47e13_row6_col4\" class=\"data row6 col4\" >9.600000</td>\n",
       "      <td id=\"T_47e13_row6_col5\" class=\"data row6 col5\" >18.766667</td>\n",
       "      <td id=\"T_47e13_row6_col6\" class=\"data row6 col6\" >5.300000</td>\n",
       "      <td id=\"T_47e13_row6_col7\" class=\"data row6 col7\" >36.104500</td>\n",
       "    </tr>\n",
       "    <tr>\n",
       "      <th id=\"T_47e13_level0_row7\" class=\"row_heading level0 row7\" >16</th>\n",
       "      <td id=\"T_47e13_row7_col0\" class=\"data row7 col0\" >BOSNIA AND HERZEGOVINA</td>\n",
       "      <td id=\"T_47e13_row7_col1\" class=\"data row7 col1\" >2.000000</td>\n",
       "      <td id=\"T_47e13_row7_col2\" class=\"data row7 col2\" >2.200000</td>\n",
       "      <td id=\"T_47e13_row7_col3\" class=\"data row7 col3\" >4.566667</td>\n",
       "      <td id=\"T_47e13_row7_col4\" class=\"data row7 col4\" >19.800000</td>\n",
       "      <td id=\"T_47e13_row7_col5\" class=\"data row7 col5\" >10.933333</td>\n",
       "      <td id=\"T_47e13_row7_col6\" class=\"data row7 col6\" >2.466667</td>\n",
       "      <td id=\"T_47e13_row7_col7\" class=\"data row7 col7\" >194.156667</td>\n",
       "    </tr>\n",
       "    <tr>\n",
       "      <th id=\"T_47e13_level0_row8\" class=\"row_heading level0 row8\" >17</th>\n",
       "      <td id=\"T_47e13_row8_col0\" class=\"data row8 col0\" >BOTSWANA</td>\n",
       "      <td id=\"T_47e13_row8_col1\" class=\"data row8 col1\" >2.000000</td>\n",
       "      <td id=\"T_47e13_row8_col2\" class=\"data row8 col2\" >2.850000</td>\n",
       "      <td id=\"T_47e13_row8_col3\" class=\"data row8 col3\" >8.800000</td>\n",
       "      <td id=\"T_47e13_row8_col4\" class=\"data row8 col4\" >10.050000</td>\n",
       "      <td id=\"T_47e13_row8_col5\" class=\"data row8 col5\" >31.033333</td>\n",
       "      <td id=\"T_47e13_row8_col6\" class=\"data row8 col6\" >12.666667</td>\n",
       "      <td id=\"T_47e13_row8_col7\" class=\"data row8 col7\" >226.709000</td>\n",
       "    </tr>\n",
       "    <tr>\n",
       "      <th id=\"T_47e13_level0_row9\" class=\"row_heading level0 row9\" >18</th>\n",
       "      <td id=\"T_47e13_row9_col0\" class=\"data row9 col0\" >BRAZIL</td>\n",
       "      <td id=\"T_47e13_row9_col1\" class=\"data row9 col1\" >2.000000</td>\n",
       "      <td id=\"T_47e13_row9_col2\" class=\"data row9 col2\" >0.700000</td>\n",
       "      <td id=\"T_47e13_row9_col3\" class=\"data row9 col3\" >2.300000</td>\n",
       "      <td id=\"T_47e13_row9_col4\" class=\"data row9 col4\" >6.250000</td>\n",
       "      <td id=\"T_47e13_row9_col5\" class=\"data row9 col5\" >13.133333</td>\n",
       "      <td id=\"T_47e13_row9_col6\" class=\"data row9 col6\" >3.925000</td>\n",
       "      <td id=\"T_47e13_row9_col7\" class=\"data row9 col7\" >17071.496000</td>\n",
       "    </tr>\n",
       "    <tr>\n",
       "      <th id=\"T_47e13_level0_row10\" class=\"row_heading level0 row10\" >20</th>\n",
       "      <td id=\"T_47e13_row10_col0\" class=\"data row10 col0\" >BULGARIA</td>\n",
       "      <td id=\"T_47e13_row10_col1\" class=\"data row10 col1\" >2.000000</td>\n",
       "      <td id=\"T_47e13_row10_col2\" class=\"data row10 col2\" >1.533333</td>\n",
       "      <td id=\"T_47e13_row10_col3\" class=\"data row10 col3\" >4.666667</td>\n",
       "      <td id=\"T_47e13_row10_col4\" class=\"data row10 col4\" >9.000000</td>\n",
       "      <td id=\"T_47e13_row10_col5\" class=\"data row10 col5\" >7.466667</td>\n",
       "      <td id=\"T_47e13_row10_col6\" class=\"data row10 col6\" >2.000000</td>\n",
       "      <td id=\"T_47e13_row10_col7\" class=\"data row10 col7\" >344.037333</td>\n",
       "    </tr>\n",
       "    <tr>\n",
       "      <th id=\"T_47e13_level0_row11\" class=\"row_heading level0 row11\" >30</th>\n",
       "      <td id=\"T_47e13_row11_col0\" class=\"data row11 col0\" >CHINA</td>\n",
       "      <td id=\"T_47e13_row11_col1\" class=\"data row11 col1\" >2.000000</td>\n",
       "      <td id=\"T_47e13_row11_col2\" class=\"data row11 col2\" >0.920000</td>\n",
       "      <td id=\"T_47e13_row11_col3\" class=\"data row11 col3\" >3.175000</td>\n",
       "      <td id=\"T_47e13_row11_col4\" class=\"data row11 col4\" >7.027273</td>\n",
       "      <td id=\"T_47e13_row11_col5\" class=\"data row11 col5\" >20.600000</td>\n",
       "      <td id=\"T_47e13_row11_col6\" class=\"data row11 col6\" >7.900000</td>\n",
       "      <td id=\"T_47e13_row11_col7\" class=\"data row11 col7\" >97488.133417</td>\n",
       "    </tr>\n",
       "    <tr>\n",
       "      <th id=\"T_47e13_level0_row12\" class=\"row_heading level0 row12\" >31</th>\n",
       "      <td id=\"T_47e13_row12_col0\" class=\"data row12 col0\" >COLOMBIA</td>\n",
       "      <td id=\"T_47e13_row12_col1\" class=\"data row12 col1\" >2.000000</td>\n",
       "      <td id=\"T_47e13_row12_col2\" class=\"data row12 col2\" >0.366667</td>\n",
       "      <td id=\"T_47e13_row12_col3\" class=\"data row12 col3\" >1.657143</td>\n",
       "      <td id=\"T_47e13_row12_col4\" class=\"data row12 col4\" >4.783333</td>\n",
       "      <td id=\"T_47e13_row12_col5\" class=\"data row12 col5\" >18.214286</td>\n",
       "      <td id=\"T_47e13_row12_col6\" class=\"data row12 col6\" >5.857143</td>\n",
       "      <td id=\"T_47e13_row12_col7\" class=\"data row12 col7\" >4111.355286</td>\n",
       "    </tr>\n",
       "    <tr>\n",
       "      <th id=\"T_47e13_level0_row13\" class=\"row_heading level0 row13\" >34</th>\n",
       "      <td id=\"T_47e13_row13_col0\" class=\"data row13 col0\" >COSTA RICA</td>\n",
       "      <td id=\"T_47e13_row13_col1\" class=\"data row13 col1\" >2.000000</td>\n",
       "      <td id=\"T_47e13_row13_col2\" class=\"data row13 col2\" >nan</td>\n",
       "      <td id=\"T_47e13_row13_col3\" class=\"data row13 col3\" >1.700000</td>\n",
       "      <td id=\"T_47e13_row13_col4\" class=\"data row13 col4\" >8.800000</td>\n",
       "      <td id=\"T_47e13_row13_col5\" class=\"data row13 col5\" >6.900000</td>\n",
       "      <td id=\"T_47e13_row13_col6\" class=\"data row13 col6\" >2.237500</td>\n",
       "      <td id=\"T_47e13_row13_col7\" class=\"data row13 col7\" >408.972125</td>\n",
       "    </tr>\n",
       "    <tr>\n",
       "      <th id=\"T_47e13_level0_row14\" class=\"row_heading level0 row14\" >36</th>\n",
       "      <td id=\"T_47e13_row14_col0\" class=\"data row14 col0\" >CUBA</td>\n",
       "      <td id=\"T_47e13_row14_col1\" class=\"data row14 col1\" >2.000000</td>\n",
       "      <td id=\"T_47e13_row14_col2\" class=\"data row14 col2\" >nan</td>\n",
       "      <td id=\"T_47e13_row14_col3\" class=\"data row14 col3\" >2.400000</td>\n",
       "      <td id=\"T_47e13_row14_col4\" class=\"data row14 col4\" >nan</td>\n",
       "      <td id=\"T_47e13_row14_col5\" class=\"data row14 col5\" >7.000000</td>\n",
       "      <td id=\"T_47e13_row14_col6\" class=\"data row14 col6\" >3.400000</td>\n",
       "      <td id=\"T_47e13_row14_col7\" class=\"data row14 col7\" >750.473000</td>\n",
       "    </tr>\n",
       "    <tr>\n",
       "      <th id=\"T_47e13_level0_row15\" class=\"row_heading level0 row15\" >41</th>\n",
       "      <td id=\"T_47e13_row15_col0\" class=\"data row15 col0\" >DOMINICAN REPUBLIC (THE)</td>\n",
       "      <td id=\"T_47e13_row15_col1\" class=\"data row15 col1\" >2.000000</td>\n",
       "      <td id=\"T_47e13_row15_col2\" class=\"data row15 col2\" >0.742857</td>\n",
       "      <td id=\"T_47e13_row15_col3\" class=\"data row15 col3\" >2.212500</td>\n",
       "      <td id=\"T_47e13_row15_col4\" class=\"data row15 col4\" >6.700000</td>\n",
       "      <td id=\"T_47e13_row15_col5\" class=\"data row15 col5\" >12.750000</td>\n",
       "      <td id=\"T_47e13_row15_col6\" class=\"data row15 col6\" >5.162500</td>\n",
       "      <td id=\"T_47e13_row15_col7\" class=\"data row15 col7\" >990.973500</td>\n",
       "    </tr>\n",
       "    <tr>\n",
       "      <th id=\"T_47e13_level0_row16\" class=\"row_heading level0 row16\" >42</th>\n",
       "      <td id=\"T_47e13_row16_col0\" class=\"data row16 col0\" >ECUADOR</td>\n",
       "      <td id=\"T_47e13_row16_col1\" class=\"data row16 col1\" >2.000000</td>\n",
       "      <td id=\"T_47e13_row16_col2\" class=\"data row16 col2\" >0.580000</td>\n",
       "      <td id=\"T_47e13_row16_col3\" class=\"data row16 col3\" >2.183333</td>\n",
       "      <td id=\"T_47e13_row16_col4\" class=\"data row16 col4\" >5.720000</td>\n",
       "      <td id=\"T_47e13_row16_col5\" class=\"data row16 col5\" >28.750000</td>\n",
       "      <td id=\"T_47e13_row16_col6\" class=\"data row16 col6\" >8.316667</td>\n",
       "      <td id=\"T_47e13_row16_col7\" class=\"data row16 col7\" >1530.024833</td>\n",
       "    </tr>\n",
       "    <tr>\n",
       "      <th id=\"T_47e13_level0_row17\" class=\"row_heading level0 row17\" >45</th>\n",
       "      <td id=\"T_47e13_row17_col0\" class=\"data row17 col0\" >EQUATORIAL GUINEA</td>\n",
       "      <td id=\"T_47e13_row17_col1\" class=\"data row17 col1\" >2.000000</td>\n",
       "      <td id=\"T_47e13_row17_col2\" class=\"data row17 col2\" >2.425000</td>\n",
       "      <td id=\"T_47e13_row17_col3\" class=\"data row17 col3\" >4.775000</td>\n",
       "      <td id=\"T_47e13_row17_col4\" class=\"data row17 col4\" >8.850000</td>\n",
       "      <td id=\"T_47e13_row17_col5\" class=\"data row17 col5\" >35.650000</td>\n",
       "      <td id=\"T_47e13_row17_col6\" class=\"data row17 col6\" >11.425000</td>\n",
       "      <td id=\"T_47e13_row17_col7\" class=\"data row17 col7\" >115.386500</td>\n",
       "    </tr>\n",
       "    <tr>\n",
       "      <th id=\"T_47e13_level0_row18\" class=\"row_heading level0 row18\" >49</th>\n",
       "      <td id=\"T_47e13_row18_col0\" class=\"data row18 col0\" >FIJI</td>\n",
       "      <td id=\"T_47e13_row18_col1\" class=\"data row18 col1\" >2.000000</td>\n",
       "      <td id=\"T_47e13_row18_col2\" class=\"data row18 col2\" >2.000000</td>\n",
       "      <td id=\"T_47e13_row18_col3\" class=\"data row18 col3\" >8.050000</td>\n",
       "      <td id=\"T_47e13_row18_col4\" class=\"data row18 col4\" >3.650000</td>\n",
       "      <td id=\"T_47e13_row18_col5\" class=\"data row18 col5\" >5.900000</td>\n",
       "      <td id=\"T_47e13_row18_col6\" class=\"data row18 col6\" >6.100000</td>\n",
       "      <td id=\"T_47e13_row18_col7\" class=\"data row18 col7\" >94.238000</td>\n",
       "    </tr>\n",
       "    <tr>\n",
       "      <th id=\"T_47e13_level0_row19\" class=\"row_heading level0 row19\" >50</th>\n",
       "      <td id=\"T_47e13_row19_col0\" class=\"data row19 col0\" >GABON</td>\n",
       "      <td id=\"T_47e13_row19_col1\" class=\"data row19 col1\" >2.000000</td>\n",
       "      <td id=\"T_47e13_row19_col2\" class=\"data row19 col2\" >1.400000</td>\n",
       "      <td id=\"T_47e13_row19_col3\" class=\"data row19 col3\" >3.800000</td>\n",
       "      <td id=\"T_47e13_row19_col4\" class=\"data row19 col4\" >6.600000</td>\n",
       "      <td id=\"T_47e13_row19_col5\" class=\"data row19 col5\" >21.450000</td>\n",
       "      <td id=\"T_47e13_row19_col6\" class=\"data row19 col6\" >7.700000</td>\n",
       "      <td id=\"T_47e13_row19_col7\" class=\"data row19 col7\" >219.336500</td>\n",
       "    </tr>\n",
       "    <tr>\n",
       "      <th id=\"T_47e13_level0_row20\" class=\"row_heading level0 row20\" >52</th>\n",
       "      <td id=\"T_47e13_row20_col0\" class=\"data row20 col0\" >GEORGIA</td>\n",
       "      <td id=\"T_47e13_row20_col1\" class=\"data row20 col1\" >2.000000</td>\n",
       "      <td id=\"T_47e13_row20_col2\" class=\"data row20 col2\" >0.850000</td>\n",
       "      <td id=\"T_47e13_row20_col3\" class=\"data row20 col3\" >2.566667</td>\n",
       "      <td id=\"T_47e13_row20_col4\" class=\"data row20 col4\" >19.533333</td>\n",
       "      <td id=\"T_47e13_row20_col5\" class=\"data row20 col5\" >14.000000</td>\n",
       "      <td id=\"T_47e13_row20_col6\" class=\"data row20 col6\" >2.066667</td>\n",
       "      <td id=\"T_47e13_row20_col7\" class=\"data row20 col7\" >252.580000</td>\n",
       "    </tr>\n",
       "    <tr>\n",
       "      <th id=\"T_47e13_level0_row21\" class=\"row_heading level0 row21\" >55</th>\n",
       "      <td id=\"T_47e13_row21_col0\" class=\"data row21 col0\" >GUATEMALA</td>\n",
       "      <td id=\"T_47e13_row21_col1\" class=\"data row21 col1\" >2.000000</td>\n",
       "      <td id=\"T_47e13_row21_col2\" class=\"data row21 col2\" >0.857143</td>\n",
       "      <td id=\"T_47e13_row21_col3\" class=\"data row21 col3\" >2.285714</td>\n",
       "      <td id=\"T_47e13_row21_col4\" class=\"data row21 col4\" >5.400000</td>\n",
       "      <td id=\"T_47e13_row21_col5\" class=\"data row21 col5\" >54.100000</td>\n",
       "      <td id=\"T_47e13_row21_col6\" class=\"data row21 col6\" >19.057143</td>\n",
       "      <td id=\"T_47e13_row21_col7\" class=\"data row21 col7\" >1849.864286</td>\n",
       "    </tr>\n",
       "    <tr>\n",
       "      <th id=\"T_47e13_level0_row22\" class=\"row_heading level0 row22\" >58</th>\n",
       "      <td id=\"T_47e13_row22_col0\" class=\"data row22 col0\" >GUYANA</td>\n",
       "      <td id=\"T_47e13_row22_col1\" class=\"data row22 col1\" >2.000000</td>\n",
       "      <td id=\"T_47e13_row22_col2\" class=\"data row22 col2\" >2.450000</td>\n",
       "      <td id=\"T_47e13_row22_col3\" class=\"data row22 col3\" >9.120000</td>\n",
       "      <td id=\"T_47e13_row22_col4\" class=\"data row22 col4\" >5.240000</td>\n",
       "      <td id=\"T_47e13_row22_col5\" class=\"data row22 col5\" >15.280000</td>\n",
       "      <td id=\"T_47e13_row22_col6\" class=\"data row22 col6\" >11.383333</td>\n",
       "      <td id=\"T_47e13_row22_col7\" class=\"data row22 col7\" >87.142833</td>\n",
       "    </tr>\n",
       "    <tr>\n",
       "      <th id=\"T_47e13_level0_row23\" class=\"row_heading level0 row23\" >63</th>\n",
       "      <td id=\"T_47e13_row23_col0\" class=\"data row23 col0\" >IRAN (ISLAMIC REPUBLIC OF)</td>\n",
       "      <td id=\"T_47e13_row23_col1\" class=\"data row23 col1\" >2.000000</td>\n",
       "      <td id=\"T_47e13_row23_col2\" class=\"data row23 col2\" >1.400000</td>\n",
       "      <td id=\"T_47e13_row23_col3\" class=\"data row23 col3\" >5.750000</td>\n",
       "      <td id=\"T_47e13_row23_col4\" class=\"data row23 col4\" >6.200000</td>\n",
       "      <td id=\"T_47e13_row23_col5\" class=\"data row23 col5\" >14.675000</td>\n",
       "      <td id=\"T_47e13_row23_col6\" class=\"data row23 col6\" >8.000000</td>\n",
       "      <td id=\"T_47e13_row23_col7\" class=\"data row23 col7\" >6392.827000</td>\n",
       "    </tr>\n",
       "    <tr>\n",
       "      <th id=\"T_47e13_level0_row24\" class=\"row_heading level0 row24\" >64</th>\n",
       "      <td id=\"T_47e13_row24_col0\" class=\"data row24 col0\" >IRAQ</td>\n",
       "      <td id=\"T_47e13_row24_col1\" class=\"data row24 col1\" >2.000000</td>\n",
       "      <td id=\"T_47e13_row24_col2\" class=\"data row24 col2\" >2.175000</td>\n",
       "      <td id=\"T_47e13_row24_col3\" class=\"data row24 col3\" >5.542857</td>\n",
       "      <td id=\"T_47e13_row24_col4\" class=\"data row24 col4\" >9.500000</td>\n",
       "      <td id=\"T_47e13_row24_col5\" class=\"data row24 col5\" >24.514286</td>\n",
       "      <td id=\"T_47e13_row24_col6\" class=\"data row24 col6\" >8.500000</td>\n",
       "      <td id=\"T_47e13_row24_col7\" class=\"data row24 col7\" >4213.459714</td>\n",
       "    </tr>\n",
       "    <tr>\n",
       "      <th id=\"T_47e13_level0_row25\" class=\"row_heading level0 row25\" >65</th>\n",
       "      <td id=\"T_47e13_row25_col0\" class=\"data row25 col0\" >JAMAICA</td>\n",
       "      <td id=\"T_47e13_row25_col1\" class=\"data row25 col1\" >2.000000</td>\n",
       "      <td id=\"T_47e13_row25_col2\" class=\"data row25 col2\" >0.921053</td>\n",
       "      <td id=\"T_47e13_row25_col3\" class=\"data row25 col3\" >3.395000</td>\n",
       "      <td id=\"T_47e13_row25_col4\" class=\"data row25 col4\" >5.994737</td>\n",
       "      <td id=\"T_47e13_row25_col5\" class=\"data row25 col5\" >8.680000</td>\n",
       "      <td id=\"T_47e13_row25_col6\" class=\"data row25 col6\" >3.955000</td>\n",
       "      <td id=\"T_47e13_row25_col7\" class=\"data row25 col7\" >272.900050</td>\n",
       "    </tr>\n",
       "    <tr>\n",
       "      <th id=\"T_47e13_level0_row26\" class=\"row_heading level0 row26\" >67</th>\n",
       "      <td id=\"T_47e13_row26_col0\" class=\"data row26 col0\" >JORDAN</td>\n",
       "      <td id=\"T_47e13_row26_col1\" class=\"data row26 col1\" >2.000000</td>\n",
       "      <td id=\"T_47e13_row26_col2\" class=\"data row26 col2\" >0.760000</td>\n",
       "      <td id=\"T_47e13_row26_col3\" class=\"data row26 col3\" >2.580000</td>\n",
       "      <td id=\"T_47e13_row26_col4\" class=\"data row26 col4\" >5.720000</td>\n",
       "      <td id=\"T_47e13_row26_col5\" class=\"data row26 col5\" >11.760000</td>\n",
       "      <td id=\"T_47e13_row26_col6\" class=\"data row26 col6\" >3.500000</td>\n",
       "      <td id=\"T_47e13_row26_col7\" class=\"data row26 col7\" >828.377200</td>\n",
       "    </tr>\n",
       "    <tr>\n",
       "      <th id=\"T_47e13_level0_row27\" class=\"row_heading level0 row27\" >68</th>\n",
       "      <td id=\"T_47e13_row27_col0\" class=\"data row27 col0\" >KAZAKHSTAN</td>\n",
       "      <td id=\"T_47e13_row27_col1\" class=\"data row27 col1\" >2.000000</td>\n",
       "      <td id=\"T_47e13_row27_col2\" class=\"data row27 col2\" >1.580000</td>\n",
       "      <td id=\"T_47e13_row27_col3\" class=\"data row27 col3\" >4.200000</td>\n",
       "      <td id=\"T_47e13_row27_col4\" class=\"data row27 col4\" >9.700000</td>\n",
       "      <td id=\"T_47e13_row27_col5\" class=\"data row27 col5\" >15.020000</td>\n",
       "      <td id=\"T_47e13_row27_col6\" class=\"data row27 col6\" >3.760000</td>\n",
       "      <td id=\"T_47e13_row27_col7\" class=\"data row27 col7\" >1485.453600</td>\n",
       "    </tr>\n",
       "    <tr>\n",
       "      <th id=\"T_47e13_level0_row28\" class=\"row_heading level0 row28\" >74</th>\n",
       "      <td id=\"T_47e13_row28_col0\" class=\"data row28 col0\" >LEBANON</td>\n",
       "      <td id=\"T_47e13_row28_col1\" class=\"data row28 col1\" >2.000000</td>\n",
       "      <td id=\"T_47e13_row28_col2\" class=\"data row28 col2\" >2.250000</td>\n",
       "      <td id=\"T_47e13_row28_col3\" class=\"data row28 col3\" >5.100000</td>\n",
       "      <td id=\"T_47e13_row28_col4\" class=\"data row28 col4\" >18.750000</td>\n",
       "      <td id=\"T_47e13_row28_col5\" class=\"data row28 col5\" >16.850000</td>\n",
       "      <td id=\"T_47e13_row28_col6\" class=\"data row28 col6\" >3.850000</td>\n",
       "      <td id=\"T_47e13_row28_col7\" class=\"data row28 col7\" >436.806500</td>\n",
       "    </tr>\n",
       "    <tr>\n",
       "      <th id=\"T_47e13_level0_row29\" class=\"row_heading level0 row29\" >77</th>\n",
       "      <td id=\"T_47e13_row29_col0\" class=\"data row29 col0\" >LIBYA</td>\n",
       "      <td id=\"T_47e13_row29_col1\" class=\"data row29 col1\" >2.000000</td>\n",
       "      <td id=\"T_47e13_row29_col2\" class=\"data row29 col2\" >3.233333</td>\n",
       "      <td id=\"T_47e13_row29_col3\" class=\"data row29 col3\" >6.766667</td>\n",
       "      <td id=\"T_47e13_row29_col4\" class=\"data row29 col4\" >21.800000</td>\n",
       "      <td id=\"T_47e13_row29_col5\" class=\"data row29 col5\" >26.733333</td>\n",
       "      <td id=\"T_47e13_row29_col6\" class=\"data row29 col6\" >7.166667</td>\n",
       "      <td id=\"T_47e13_row29_col7\" class=\"data row29 col7\" >621.903333</td>\n",
       "    </tr>\n",
       "    <tr>\n",
       "      <th id=\"T_47e13_level0_row30\" class=\"row_heading level0 row30\" >80</th>\n",
       "      <td id=\"T_47e13_row30_col0\" class=\"data row30 col0\" >MALAYSIA</td>\n",
       "      <td id=\"T_47e13_row30_col1\" class=\"data row30 col1\" >2.000000</td>\n",
       "      <td id=\"T_47e13_row30_col2\" class=\"data row30 col2\" >nan</td>\n",
       "      <td id=\"T_47e13_row30_col3\" class=\"data row30 col3\" >11.600000</td>\n",
       "      <td id=\"T_47e13_row30_col4\" class=\"data row30 col4\" >6.200000</td>\n",
       "      <td id=\"T_47e13_row30_col5\" class=\"data row30 col5\" >19.075000</td>\n",
       "      <td id=\"T_47e13_row30_col6\" class=\"data row30 col6\" >18.140000</td>\n",
       "      <td id=\"T_47e13_row30_col7\" class=\"data row30 col7\" >2533.192900</td>\n",
       "    </tr>\n",
       "    <tr>\n",
       "      <th id=\"T_47e13_level0_row31\" class=\"row_heading level0 row31\" >81</th>\n",
       "      <td id=\"T_47e13_row31_col0\" class=\"data row31 col0\" >MALDIVES</td>\n",
       "      <td id=\"T_47e13_row31_col1\" class=\"data row31 col1\" >2.000000</td>\n",
       "      <td id=\"T_47e13_row31_col2\" class=\"data row31 col2\" >4.725000</td>\n",
       "      <td id=\"T_47e13_row31_col3\" class=\"data row31 col3\" >15.780000</td>\n",
       "      <td id=\"T_47e13_row31_col4\" class=\"data row31 col4\" >4.660000</td>\n",
       "      <td id=\"T_47e13_row31_col5\" class=\"data row31 col5\" >32.600000</td>\n",
       "      <td id=\"T_47e13_row31_col6\" class=\"data row31 col6\" >30.320000</td>\n",
       "      <td id=\"T_47e13_row31_col7\" class=\"data row31 col7\" >36.045400</td>\n",
       "    </tr>\n",
       "    <tr>\n",
       "      <th id=\"T_47e13_level0_row32\" class=\"row_heading level0 row32\" >83</th>\n",
       "      <td id=\"T_47e13_row32_col0\" class=\"data row32 col0\" >MARSHALL ISLANDS</td>\n",
       "      <td id=\"T_47e13_row32_col1\" class=\"data row32 col1\" >2.000000</td>\n",
       "      <td id=\"T_47e13_row32_col2\" class=\"data row32 col2\" >1.100000</td>\n",
       "      <td id=\"T_47e13_row32_col3\" class=\"data row32 col3\" >3.500000</td>\n",
       "      <td id=\"T_47e13_row32_col4\" class=\"data row32 col4\" >4.100000</td>\n",
       "      <td id=\"T_47e13_row32_col5\" class=\"data row32 col5\" >34.800000</td>\n",
       "      <td id=\"T_47e13_row32_col6\" class=\"data row32 col6\" >11.900000</td>\n",
       "      <td id=\"T_47e13_row32_col7\" class=\"data row32 col7\" >1.000000</td>\n",
       "    </tr>\n",
       "    <tr>\n",
       "      <th id=\"T_47e13_level0_row33\" class=\"row_heading level0 row33\" >85</th>\n",
       "      <td id=\"T_47e13_row33_col0\" class=\"data row33 col0\" >MAURITIUS</td>\n",
       "      <td id=\"T_47e13_row33_col1\" class=\"data row33 col1\" >2.000000</td>\n",
       "      <td id=\"T_47e13_row33_col2\" class=\"data row33 col2\" >nan</td>\n",
       "      <td id=\"T_47e13_row33_col3\" class=\"data row33 col3\" >17.000000</td>\n",
       "      <td id=\"T_47e13_row33_col4\" class=\"data row33 col4\" >7.650000</td>\n",
       "      <td id=\"T_47e13_row33_col5\" class=\"data row33 col5\" >20.450000</td>\n",
       "      <td id=\"T_47e13_row33_col6\" class=\"data row33 col6\" >17.050000</td>\n",
       "      <td id=\"T_47e13_row33_col7\" class=\"data row33 col7\" >107.675000</td>\n",
       "    </tr>\n",
       "    <tr>\n",
       "      <th id=\"T_47e13_level0_row34\" class=\"row_heading level0 row34\" >86</th>\n",
       "      <td id=\"T_47e13_row34_col0\" class=\"data row34 col0\" >MEXICO</td>\n",
       "      <td id=\"T_47e13_row34_col1\" class=\"data row34 col1\" >2.000000</td>\n",
       "      <td id=\"T_47e13_row34_col2\" class=\"data row34 col2\" >0.650000</td>\n",
       "      <td id=\"T_47e13_row34_col3\" class=\"data row34 col3\" >3.825000</td>\n",
       "      <td id=\"T_47e13_row34_col4\" class=\"data row34 col4\" >7.371429</td>\n",
       "      <td id=\"T_47e13_row34_col5\" class=\"data row34 col5\" >19.175000</td>\n",
       "      <td id=\"T_47e13_row34_col6\" class=\"data row34 col6\" >6.525000</td>\n",
       "      <td id=\"T_47e13_row34_col7\" class=\"data row34 col7\" >11349.535250</td>\n",
       "    </tr>\n",
       "    <tr>\n",
       "      <th id=\"T_47e13_level0_row35\" class=\"row_heading level0 row35\" >88</th>\n",
       "      <td id=\"T_47e13_row35_col0\" class=\"data row35 col0\" >MONTENEGRO</td>\n",
       "      <td id=\"T_47e13_row35_col1\" class=\"data row35 col1\" >2.000000</td>\n",
       "      <td id=\"T_47e13_row35_col2\" class=\"data row35 col2\" >1.700000</td>\n",
       "      <td id=\"T_47e13_row35_col3\" class=\"data row35 col3\" >3.500000</td>\n",
       "      <td id=\"T_47e13_row35_col4\" class=\"data row35 col4\" >19.000000</td>\n",
       "      <td id=\"T_47e13_row35_col5\" class=\"data row35 col5\" >8.650000</td>\n",
       "      <td id=\"T_47e13_row35_col6\" class=\"data row35 col6\" >1.600000</td>\n",
       "      <td id=\"T_47e13_row35_col7\" class=\"data row35 col7\" >39.324500</td>\n",
       "    </tr>\n",
       "    <tr>\n",
       "      <th id=\"T_47e13_level0_row36\" class=\"row_heading level0 row36\" >92</th>\n",
       "      <td id=\"T_47e13_row36_col0\" class=\"data row36 col0\" >NAMIBIA</td>\n",
       "      <td id=\"T_47e13_row36_col1\" class=\"data row36 col1\" >2.000000</td>\n",
       "      <td id=\"T_47e13_row36_col2\" class=\"data row36 col2\" >2.750000</td>\n",
       "      <td id=\"T_47e13_row36_col3\" class=\"data row36 col3\" >8.575000</td>\n",
       "      <td id=\"T_47e13_row36_col4\" class=\"data row36 col4\" >4.125000</td>\n",
       "      <td id=\"T_47e13_row36_col5\" class=\"data row36 col5\" >29.200000</td>\n",
       "      <td id=\"T_47e13_row36_col6\" class=\"data row36 col6\" >18.050000</td>\n",
       "      <td id=\"T_47e13_row36_col7\" class=\"data row36 col7\" >273.588500</td>\n",
       "    </tr>\n",
       "    <tr>\n",
       "      <th id=\"T_47e13_level0_row37\" class=\"row_heading level0 row37\" >93</th>\n",
       "      <td id=\"T_47e13_row37_col0\" class=\"data row37 col0\" >NAURU</td>\n",
       "      <td id=\"T_47e13_row37_col1\" class=\"data row37 col1\" >2.000000</td>\n",
       "      <td id=\"T_47e13_row37_col2\" class=\"data row37 col2\" >0.200000</td>\n",
       "      <td id=\"T_47e13_row37_col3\" class=\"data row37 col3\" >1.000000</td>\n",
       "      <td id=\"T_47e13_row37_col4\" class=\"data row37 col4\" >2.800000</td>\n",
       "      <td id=\"T_47e13_row37_col5\" class=\"data row37 col5\" >24.000000</td>\n",
       "      <td id=\"T_47e13_row37_col6\" class=\"data row37 col6\" >4.800000</td>\n",
       "      <td id=\"T_47e13_row37_col7\" class=\"data row37 col7\" >1.000000</td>\n",
       "    </tr>\n",
       "    <tr>\n",
       "      <th id=\"T_47e13_level0_row38\" class=\"row_heading level0 row38\" >98</th>\n",
       "      <td id=\"T_47e13_row38_col0\" class=\"data row38 col0\" >NORTH MACEDONIA</td>\n",
       "      <td id=\"T_47e13_row38_col1\" class=\"data row38 col1\" >2.000000</td>\n",
       "      <td id=\"T_47e13_row38_col2\" class=\"data row38 col2\" >0.633333</td>\n",
       "      <td id=\"T_47e13_row38_col3\" class=\"data row38 col3\" >2.300000</td>\n",
       "      <td id=\"T_47e13_row38_col4\" class=\"data row38 col4\" >12.733333</td>\n",
       "      <td id=\"T_47e13_row38_col5\" class=\"data row38 col5\" >8.066667</td>\n",
       "      <td id=\"T_47e13_row38_col6\" class=\"data row38 col6\" >1.666667</td>\n",
       "      <td id=\"T_47e13_row38_col7\" class=\"data row38 col7\" >125.128667</td>\n",
       "    </tr>\n",
       "    <tr>\n",
       "      <th id=\"T_47e13_level0_row39\" class=\"row_heading level0 row39\" >103</th>\n",
       "      <td id=\"T_47e13_row39_col0\" class=\"data row39 col0\" >PARAGUAY</td>\n",
       "      <td id=\"T_47e13_row39_col1\" class=\"data row39 col1\" >2.000000</td>\n",
       "      <td id=\"T_47e13_row39_col2\" class=\"data row39 col2\" >0.333333</td>\n",
       "      <td id=\"T_47e13_row39_col3\" class=\"data row39 col3\" >1.325000</td>\n",
       "      <td id=\"T_47e13_row39_col4\" class=\"data row39 col4\" >9.275000</td>\n",
       "      <td id=\"T_47e13_row39_col5\" class=\"data row39 col5\" >13.025000</td>\n",
       "      <td id=\"T_47e13_row39_col6\" class=\"data row39 col6\" >2.525000</td>\n",
       "      <td id=\"T_47e13_row39_col7\" class=\"data row39 col7\" >679.476250</td>\n",
       "    </tr>\n",
       "    <tr>\n",
       "      <th id=\"T_47e13_level0_row40\" class=\"row_heading level0 row40\" >104</th>\n",
       "      <td id=\"T_47e13_row40_col0\" class=\"data row40 col0\" >PERU</td>\n",
       "      <td id=\"T_47e13_row40_col1\" class=\"data row40 col1\" >2.000000</td>\n",
       "      <td id=\"T_47e13_row40_col2\" class=\"data row40 col2\" >0.213333</td>\n",
       "      <td id=\"T_47e13_row40_col3\" class=\"data row40 col3\" >0.793333</td>\n",
       "      <td id=\"T_47e13_row40_col4\" class=\"data row40 col4\" >8.940000</td>\n",
       "      <td id=\"T_47e13_row40_col5\" class=\"data row40 col5\" >21.860000</td>\n",
       "      <td id=\"T_47e13_row40_col6\" class=\"data row40 col6\" >4.320000</td>\n",
       "      <td id=\"T_47e13_row40_col7\" class=\"data row40 col7\" >2922.842400</td>\n",
       "    </tr>\n",
       "    <tr>\n",
       "      <th id=\"T_47e13_level0_row41\" class=\"row_heading level0 row41\" >110</th>\n",
       "      <td id=\"T_47e13_row41_col0\" class=\"data row41 col0\" >ROMANIA</td>\n",
       "      <td id=\"T_47e13_row41_col1\" class=\"data row41 col1\" >2.000000</td>\n",
       "      <td id=\"T_47e13_row41_col2\" class=\"data row41 col2\" >0.900000</td>\n",
       "      <td id=\"T_47e13_row41_col3\" class=\"data row41 col3\" >3.720000</td>\n",
       "      <td id=\"T_47e13_row41_col4\" class=\"data row41 col4\" >8.080000</td>\n",
       "      <td id=\"T_47e13_row41_col5\" class=\"data row41 col5\" >13.220000</td>\n",
       "      <td id=\"T_47e13_row41_col6\" class=\"data row41 col6\" >3.880000</td>\n",
       "      <td id=\"T_47e13_row41_col7\" class=\"data row41 col7\" >1268.180600</td>\n",
       "    </tr>\n",
       "    <tr>\n",
       "      <th id=\"T_47e13_level0_row42\" class=\"row_heading level0 row42\" >112</th>\n",
       "      <td id=\"T_47e13_row42_col0\" class=\"data row42 col0\" >SAINT LUCIA</td>\n",
       "      <td id=\"T_47e13_row42_col1\" class=\"data row42 col1\" >2.000000</td>\n",
       "      <td id=\"T_47e13_row42_col2\" class=\"data row42 col2\" >0.700000</td>\n",
       "      <td id=\"T_47e13_row42_col3\" class=\"data row42 col3\" >3.700000</td>\n",
       "      <td id=\"T_47e13_row42_col4\" class=\"data row42 col4\" >6.300000</td>\n",
       "      <td id=\"T_47e13_row42_col5\" class=\"data row42 col5\" >2.500000</td>\n",
       "      <td id=\"T_47e13_row42_col6\" class=\"data row42 col6\" >2.800000</td>\n",
       "      <td id=\"T_47e13_row42_col7\" class=\"data row42 col7\" >11.070000</td>\n",
       "    </tr>\n",
       "    <tr>\n",
       "      <th id=\"T_47e13_level0_row43\" class=\"row_heading level0 row43\" >113</th>\n",
       "      <td id=\"T_47e13_row43_col0\" class=\"data row43 col0\" >SAMOA</td>\n",
       "      <td id=\"T_47e13_row43_col1\" class=\"data row43 col1\" >2.000000</td>\n",
       "      <td id=\"T_47e13_row43_col2\" class=\"data row43 col2\" >1.300000</td>\n",
       "      <td id=\"T_47e13_row43_col3\" class=\"data row43 col3\" >2.600000</td>\n",
       "      <td id=\"T_47e13_row43_col4\" class=\"data row43 col4\" >5.750000</td>\n",
       "      <td id=\"T_47e13_row43_col5\" class=\"data row43 col5\" >5.650000</td>\n",
       "      <td id=\"T_47e13_row43_col6\" class=\"data row43 col6\" >2.450000</td>\n",
       "      <td id=\"T_47e13_row43_col7\" class=\"data row43 col7\" >27.095500</td>\n",
       "    </tr>\n",
       "    <tr>\n",
       "      <th id=\"T_47e13_level0_row44\" class=\"row_heading level0 row44\" >117</th>\n",
       "      <td id=\"T_47e13_row44_col0\" class=\"data row44 col0\" >SERBIA</td>\n",
       "      <td id=\"T_47e13_row44_col1\" class=\"data row44 col1\" >2.000000</td>\n",
       "      <td id=\"T_47e13_row44_col2\" class=\"data row44 col2\" >1.233333</td>\n",
       "      <td id=\"T_47e13_row44_col3\" class=\"data row44 col3\" >3.966667</td>\n",
       "      <td id=\"T_47e13_row44_col4\" class=\"data row44 col4\" >16.266667</td>\n",
       "      <td id=\"T_47e13_row44_col5\" class=\"data row44 col5\" >6.900000</td>\n",
       "      <td id=\"T_47e13_row44_col6\" class=\"data row44 col6\" >1.733333</td>\n",
       "      <td id=\"T_47e13_row44_col7\" class=\"data row44 col7\" >489.826667</td>\n",
       "    </tr>\n",
       "    <tr>\n",
       "      <th id=\"T_47e13_level0_row45\" class=\"row_heading level0 row45\" >123</th>\n",
       "      <td id=\"T_47e13_row45_col0\" class=\"data row45 col0\" >SOUTH AFRICA</td>\n",
       "      <td id=\"T_47e13_row45_col1\" class=\"data row45 col1\" >2.000000</td>\n",
       "      <td id=\"T_47e13_row45_col2\" class=\"data row45 col2\" >2.920000</td>\n",
       "      <td id=\"T_47e13_row45_col3\" class=\"data row45 col3\" >5.371429</td>\n",
       "      <td id=\"T_47e13_row45_col4\" class=\"data row45 col4\" >13.614286</td>\n",
       "      <td id=\"T_47e13_row45_col5\" class=\"data row45 col5\" >29.071429</td>\n",
       "      <td id=\"T_47e13_row45_col6\" class=\"data row45 col6\" >9.714286</td>\n",
       "      <td id=\"T_47e13_row45_col7\" class=\"data row45 col7\" >5274.622000</td>\n",
       "    </tr>\n",
       "    <tr>\n",
       "      <th id=\"T_47e13_level0_row46\" class=\"row_heading level0 row46\" >125</th>\n",
       "      <td id=\"T_47e13_row46_col0\" class=\"data row46 col0\" >SRI LANKA</td>\n",
       "      <td id=\"T_47e13_row46_col1\" class=\"data row46 col1\" >2.000000</td>\n",
       "      <td id=\"T_47e13_row46_col2\" class=\"data row46 col2\" >2.450000</td>\n",
       "      <td id=\"T_47e13_row46_col3\" class=\"data row46 col3\" >15.762500</td>\n",
       "      <td id=\"T_47e13_row46_col4\" class=\"data row46 col4\" >1.050000</td>\n",
       "      <td id=\"T_47e13_row46_col5\" class=\"data row46 col5\" >21.862500</td>\n",
       "      <td id=\"T_47e13_row46_col6\" class=\"data row46 col6\" >26.000000</td>\n",
       "      <td id=\"T_47e13_row46_col7\" class=\"data row46 col7\" >1753.712250</td>\n",
       "    </tr>\n",
       "    <tr>\n",
       "      <th id=\"T_47e13_level0_row47\" class=\"row_heading level0 row47\" >128</th>\n",
       "      <td id=\"T_47e13_row47_col0\" class=\"data row47 col0\" >SURINAME</td>\n",
       "      <td id=\"T_47e13_row47_col1\" class=\"data row47 col1\" >2.000000</td>\n",
       "      <td id=\"T_47e13_row47_col2\" class=\"data row47 col2\" >1.266667</td>\n",
       "      <td id=\"T_47e13_row47_col3\" class=\"data row47 col3\" >5.633333</td>\n",
       "      <td id=\"T_47e13_row47_col4\" class=\"data row47 col4\" >3.633333</td>\n",
       "      <td id=\"T_47e13_row47_col5\" class=\"data row47 col5\" >11.166667</td>\n",
       "      <td id=\"T_47e13_row47_col6\" class=\"data row47 col6\" >8.133333</td>\n",
       "      <td id=\"T_47e13_row47_col7\" class=\"data row47 col7\" >53.059667</td>\n",
       "    </tr>\n",
       "    <tr>\n",
       "      <th id=\"T_47e13_level0_row48\" class=\"row_heading level0 row48\" >131</th>\n",
       "      <td id=\"T_47e13_row48_col0\" class=\"data row48 col0\" >THAILAND</td>\n",
       "      <td id=\"T_47e13_row48_col1\" class=\"data row48 col1\" >2.000000</td>\n",
       "      <td id=\"T_47e13_row48_col2\" class=\"data row48 col2\" >1.475000</td>\n",
       "      <td id=\"T_47e13_row48_col3\" class=\"data row48 col3\" >6.083333</td>\n",
       "      <td id=\"T_47e13_row48_col4\" class=\"data row48 col4\" >6.620000</td>\n",
       "      <td id=\"T_47e13_row48_col5\" class=\"data row48 col5\" >17.733333</td>\n",
       "      <td id=\"T_47e13_row48_col6\" class=\"data row48 col6\" >12.466667</td>\n",
       "      <td id=\"T_47e13_row48_col7\" class=\"data row48 col7\" >4651.628833</td>\n",
       "    </tr>\n",
       "    <tr>\n",
       "      <th id=\"T_47e13_level0_row49\" class=\"row_heading level0 row49\" >134</th>\n",
       "      <td id=\"T_47e13_row49_col0\" class=\"data row49 col0\" >TONGA</td>\n",
       "      <td id=\"T_47e13_row49_col1\" class=\"data row49 col1\" >2.000000</td>\n",
       "      <td id=\"T_47e13_row49_col2\" class=\"data row49 col2\" >2.100000</td>\n",
       "      <td id=\"T_47e13_row49_col3\" class=\"data row49 col3\" >3.250000</td>\n",
       "      <td id=\"T_47e13_row49_col4\" class=\"data row49 col4\" >17.300000</td>\n",
       "      <td id=\"T_47e13_row49_col5\" class=\"data row49 col5\" >5.150000</td>\n",
       "      <td id=\"T_47e13_row49_col6\" class=\"data row49 col6\" >1.900000</td>\n",
       "      <td id=\"T_47e13_row49_col7\" class=\"data row49 col7\" >13.900500</td>\n",
       "    </tr>\n",
       "    <tr>\n",
       "      <th id=\"T_47e13_level0_row50\" class=\"row_heading level0 row50\" >137</th>\n",
       "      <td id=\"T_47e13_row50_col0\" class=\"data row50 col0\" >TURKEY</td>\n",
       "      <td id=\"T_47e13_row50_col1\" class=\"data row50 col1\" >2.000000</td>\n",
       "      <td id=\"T_47e13_row50_col2\" class=\"data row50 col2\" >0.600000</td>\n",
       "      <td id=\"T_47e13_row50_col3\" class=\"data row50 col3\" >2.100000</td>\n",
       "      <td id=\"T_47e13_row50_col4\" class=\"data row50 col4\" >7.750000</td>\n",
       "      <td id=\"T_47e13_row50_col5\" class=\"data row50 col5\" >14.350000</td>\n",
       "      <td id=\"T_47e13_row50_col6\" class=\"data row50 col6\" >4.842857</td>\n",
       "      <td id=\"T_47e13_row50_col7\" class=\"data row50 col7\" >6543.739571</td>\n",
       "    </tr>\n",
       "    <tr>\n",
       "      <th id=\"T_47e13_level0_row51\" class=\"row_heading level0 row51\" >138</th>\n",
       "      <td id=\"T_47e13_row51_col0\" class=\"data row51 col0\" >TURKMENISTAN</td>\n",
       "      <td id=\"T_47e13_row51_col1\" class=\"data row51 col1\" >2.000000</td>\n",
       "      <td id=\"T_47e13_row51_col2\" class=\"data row51 col2\" >1.600000</td>\n",
       "      <td id=\"T_47e13_row51_col3\" class=\"data row51 col3\" >6.166667</td>\n",
       "      <td id=\"T_47e13_row51_col4\" class=\"data row51 col4\" >5.200000</td>\n",
       "      <td id=\"T_47e13_row51_col5\" class=\"data row51 col5\" >19.500000</td>\n",
       "      <td id=\"T_47e13_row51_col6\" class=\"data row51 col6\" >7.633333</td>\n",
       "      <td id=\"T_47e13_row51_col7\" class=\"data row51 col7\" >563.624667</td>\n",
       "    </tr>\n",
       "    <tr>\n",
       "      <th id=\"T_47e13_level0_row52\" class=\"row_heading level0 row52\" >139</th>\n",
       "      <td id=\"T_47e13_row52_col0\" class=\"data row52 col0\" >TUVALU</td>\n",
       "      <td id=\"T_47e13_row52_col1\" class=\"data row52 col1\" >2.000000</td>\n",
       "      <td id=\"T_47e13_row52_col2\" class=\"data row52 col2\" >0.900000</td>\n",
       "      <td id=\"T_47e13_row52_col3\" class=\"data row52 col3\" >3.300000</td>\n",
       "      <td id=\"T_47e13_row52_col4\" class=\"data row52 col4\" >6.300000</td>\n",
       "      <td id=\"T_47e13_row52_col5\" class=\"data row52 col5\" >10.000000</td>\n",
       "      <td id=\"T_47e13_row52_col6\" class=\"data row52 col6\" >1.600000</td>\n",
       "      <td id=\"T_47e13_row52_col7\" class=\"data row52 col7\" >1.000000</td>\n",
       "    </tr>\n",
       "    <tr>\n",
       "      <th id=\"T_47e13_level0_row53\" class=\"row_heading level0 row53\" >147</th>\n",
       "      <td id=\"T_47e13_row53_col0\" class=\"data row53 col0\" >VENEZUELA (BOLIVARIAN REPUBLIC OF)</td>\n",
       "      <td id=\"T_47e13_row53_col1\" class=\"data row53 col1\" >2.000000</td>\n",
       "      <td id=\"T_47e13_row53_col2\" class=\"data row53 col2\" >nan</td>\n",
       "      <td id=\"T_47e13_row53_col3\" class=\"data row53 col3\" >4.333333</td>\n",
       "      <td id=\"T_47e13_row53_col4\" class=\"data row53 col4\" >5.409524</td>\n",
       "      <td id=\"T_47e13_row53_col5\" class=\"data row53 col5\" >16.957143</td>\n",
       "      <td id=\"T_47e13_row53_col6\" class=\"data row53 col6\" >4.242857</td>\n",
       "      <td id=\"T_47e13_row53_col7\" class=\"data row53 col7\" >2787.800095</td>\n",
       "    </tr>\n",
       "  </tbody>\n",
       "</table>\n"
      ],
      "text/plain": [
       "<pandas.io.formats.style.Styler at 0x1b5a2b131c0>"
      ]
     },
     "execution_count": 87,
     "metadata": {},
     "output_type": "execute_result"
    }
   ],
   "source": [
    " Country.get_group(2).style.highlight_max(color='#26BB2D',subset=[\"Severe Wasting\",\"Wasting\",\"Overweight\",\"Stunting\",\"Underweight\",\"U5 Population ('000s)\"]).highlight_min(color='#E65236',subset=[\"Severe Wasting\",\"Wasting\",\"Overweight\",\"Stunting\",\"Underweight\",\"U5 Population ('000s)\"])"
   ]
  },
  {
   "cell_type": "code",
   "execution_count": 88,
   "id": "06ae8f34",
   "metadata": {},
   "outputs": [
    {
     "data": {
      "text/html": [
       "<style type=\"text/css\">\n",
       "#T_14f70_row0_col2, #T_14f70_row0_col3, #T_14f70_row0_col5, #T_14f70_row0_col6, #T_14f70_row8_col4, #T_14f70_row16_col7 {\n",
       "  background-color: #E65236;\n",
       "}\n",
       "#T_14f70_row0_col4, #T_14f70_row10_col3, #T_14f70_row10_col6, #T_14f70_row11_col5, #T_14f70_row15_col2, #T_14f70_row19_col7 {\n",
       "  background-color: #26BB2D;\n",
       "}\n",
       "</style>\n",
       "<table id=\"T_14f70\">\n",
       "  <thead>\n",
       "    <tr>\n",
       "      <th class=\"blank level0\" >&nbsp;</th>\n",
       "      <th id=\"T_14f70_level0_col0\" class=\"col_heading level0 col0\" >Country</th>\n",
       "      <th id=\"T_14f70_level0_col1\" class=\"col_heading level0 col1\" >Income Classification</th>\n",
       "      <th id=\"T_14f70_level0_col2\" class=\"col_heading level0 col2\" >Severe Wasting</th>\n",
       "      <th id=\"T_14f70_level0_col3\" class=\"col_heading level0 col3\" >Wasting</th>\n",
       "      <th id=\"T_14f70_level0_col4\" class=\"col_heading level0 col4\" >Overweight</th>\n",
       "      <th id=\"T_14f70_level0_col5\" class=\"col_heading level0 col5\" >Stunting</th>\n",
       "      <th id=\"T_14f70_level0_col6\" class=\"col_heading level0 col6\" >Underweight</th>\n",
       "      <th id=\"T_14f70_level0_col7\" class=\"col_heading level0 col7\" >U5 Population ('000s)</th>\n",
       "    </tr>\n",
       "  </thead>\n",
       "  <tbody>\n",
       "    <tr>\n",
       "      <th id=\"T_14f70_level0_row0\" class=\"row_heading level0 row0\" >6</th>\n",
       "      <td id=\"T_14f70_row0_col0\" class=\"data row0 col0\" >AUSTRALIA</td>\n",
       "      <td id=\"T_14f70_row0_col1\" class=\"data row0 col1\" >3.000000</td>\n",
       "      <td id=\"T_14f70_row0_col2\" class=\"data row0 col2\" >0.000000</td>\n",
       "      <td id=\"T_14f70_row0_col3\" class=\"data row0 col3\" >0.000000</td>\n",
       "      <td id=\"T_14f70_row0_col4\" class=\"data row0 col4\" >13.875000</td>\n",
       "      <td id=\"T_14f70_row0_col5\" class=\"data row0 col5\" >1.000000</td>\n",
       "      <td id=\"T_14f70_row0_col6\" class=\"data row0 col6\" >0.100000</td>\n",
       "      <td id=\"T_14f70_row0_col7\" class=\"data row0 col7\" >1443.074500</td>\n",
       "    </tr>\n",
       "    <tr>\n",
       "      <th id=\"T_14f70_level0_row1\" class=\"row_heading level0 row1\" >8</th>\n",
       "      <td id=\"T_14f70_row1_col0\" class=\"data row1 col0\" >BAHRAIN</td>\n",
       "      <td id=\"T_14f70_row1_col1\" class=\"data row1 col1\" >3.000000</td>\n",
       "      <td id=\"T_14f70_row1_col2\" class=\"data row1 col2\" >nan</td>\n",
       "      <td id=\"T_14f70_row1_col3\" class=\"data row1 col3\" >6.700000</td>\n",
       "      <td id=\"T_14f70_row1_col4\" class=\"data row1 col4\" >7.500000</td>\n",
       "      <td id=\"T_14f70_row1_col5\" class=\"data row1 col5\" >13.750000</td>\n",
       "      <td id=\"T_14f70_row1_col6\" class=\"data row1 col6\" >6.950000</td>\n",
       "      <td id=\"T_14f70_row1_col7\" class=\"data row1 col7\" >63.371000</td>\n",
       "    </tr>\n",
       "    <tr>\n",
       "      <th id=\"T_14f70_level0_row2\" class=\"row_heading level0 row2\" >10</th>\n",
       "      <td id=\"T_14f70_row2_col0\" class=\"data row2 col0\" >BARBADOS</td>\n",
       "      <td id=\"T_14f70_row2_col1\" class=\"data row2 col1\" >3.000000</td>\n",
       "      <td id=\"T_14f70_row2_col2\" class=\"data row2 col2\" >2.000000</td>\n",
       "      <td id=\"T_14f70_row2_col3\" class=\"data row2 col3\" >6.800000</td>\n",
       "      <td id=\"T_14f70_row2_col4\" class=\"data row2 col4\" >12.200000</td>\n",
       "      <td id=\"T_14f70_row2_col5\" class=\"data row2 col5\" >7.700000</td>\n",
       "      <td id=\"T_14f70_row2_col6\" class=\"data row2 col6\" >3.500000</td>\n",
       "      <td id=\"T_14f70_row2_col7\" class=\"data row2 col7\" >16.653000</td>\n",
       "    </tr>\n",
       "    <tr>\n",
       "      <th id=\"T_14f70_level0_row3\" class=\"row_heading level0 row3\" >19</th>\n",
       "      <td id=\"T_14f70_row3_col0\" class=\"data row3 col0\" >BRUNEI DARUSSALAM</td>\n",
       "      <td id=\"T_14f70_row3_col1\" class=\"data row3 col1\" >3.000000</td>\n",
       "      <td id=\"T_14f70_row3_col2\" class=\"data row3 col2\" >0.400000</td>\n",
       "      <td id=\"T_14f70_row3_col3\" class=\"data row3 col3\" >2.900000</td>\n",
       "      <td id=\"T_14f70_row3_col4\" class=\"data row3 col4\" >8.300000</td>\n",
       "      <td id=\"T_14f70_row3_col5\" class=\"data row3 col5\" >19.700000</td>\n",
       "      <td id=\"T_14f70_row3_col6\" class=\"data row3 col6\" >9.600000</td>\n",
       "      <td id=\"T_14f70_row3_col7\" class=\"data row3 col7\" >31.337000</td>\n",
       "    </tr>\n",
       "    <tr>\n",
       "      <th id=\"T_14f70_level0_row4\" class=\"row_heading level0 row4\" >26</th>\n",
       "      <td id=\"T_14f70_row4_col0\" class=\"data row4 col0\" >CANADA</td>\n",
       "      <td id=\"T_14f70_row4_col1\" class=\"data row4 col1\" >3.000000</td>\n",
       "      <td id=\"T_14f70_row4_col2\" class=\"data row4 col2\" >nan</td>\n",
       "      <td id=\"T_14f70_row4_col3\" class=\"data row4 col3\" >nan</td>\n",
       "      <td id=\"T_14f70_row4_col4\" class=\"data row4 col4\" >10.400000</td>\n",
       "      <td id=\"T_14f70_row4_col5\" class=\"data row4 col5\" >nan</td>\n",
       "      <td id=\"T_14f70_row4_col6\" class=\"data row4 col6\" >nan</td>\n",
       "      <td id=\"T_14f70_row4_col7\" class=\"data row4 col7\" >1697.603000</td>\n",
       "    </tr>\n",
       "    <tr>\n",
       "      <th id=\"T_14f70_level0_row5\" class=\"row_heading level0 row5\" >29</th>\n",
       "      <td id=\"T_14f70_row5_col0\" class=\"data row5 col0\" >CHILE</td>\n",
       "      <td id=\"T_14f70_row5_col1\" class=\"data row5 col1\" >3.000000</td>\n",
       "      <td id=\"T_14f70_row5_col2\" class=\"data row5 col2\" >nan</td>\n",
       "      <td id=\"T_14f70_row5_col3\" class=\"data row5 col3\" >0.466667</td>\n",
       "      <td id=\"T_14f70_row5_col4\" class=\"data row5 col4\" >11.313333</td>\n",
       "      <td id=\"T_14f70_row5_col5\" class=\"data row5 col5\" >3.453333</td>\n",
       "      <td id=\"T_14f70_row5_col6\" class=\"data row5 col6\" >0.746667</td>\n",
       "      <td id=\"T_14f70_row5_col7\" class=\"data row5 col7\" >1303.080133</td>\n",
       "    </tr>\n",
       "    <tr>\n",
       "      <th id=\"T_14f70_level0_row6\" class=\"row_heading level0 row6\" >37</th>\n",
       "      <td id=\"T_14f70_row6_col0\" class=\"data row6 col0\" >CZECHIA</td>\n",
       "      <td id=\"T_14f70_row6_col1\" class=\"data row6 col1\" >3.000000</td>\n",
       "      <td id=\"T_14f70_row6_col2\" class=\"data row6 col2\" >1.000000</td>\n",
       "      <td id=\"T_14f70_row6_col3\" class=\"data row6 col3\" >3.700000</td>\n",
       "      <td id=\"T_14f70_row6_col4\" class=\"data row6 col4\" >5.550000</td>\n",
       "      <td id=\"T_14f70_row6_col5\" class=\"data row6 col5\" >2.900000</td>\n",
       "      <td id=\"T_14f70_row6_col6\" class=\"data row6 col6\" >1.500000</td>\n",
       "      <td id=\"T_14f70_row6_col7\" class=\"data row6 col7\" >543.606500</td>\n",
       "    </tr>\n",
       "    <tr>\n",
       "      <th id=\"T_14f70_level0_row7\" class=\"row_heading level0 row7\" >53</th>\n",
       "      <td id=\"T_14f70_row7_col0\" class=\"data row7 col0\" >GERMANY</td>\n",
       "      <td id=\"T_14f70_row7_col1\" class=\"data row7 col1\" >3.000000</td>\n",
       "      <td id=\"T_14f70_row7_col2\" class=\"data row7 col2\" >0.100000</td>\n",
       "      <td id=\"T_14f70_row7_col3\" class=\"data row7 col3\" >0.650000</td>\n",
       "      <td id=\"T_14f70_row7_col4\" class=\"data row7 col4\" >3.350000</td>\n",
       "      <td id=\"T_14f70_row7_col5\" class=\"data row7 col5\" >1.500000</td>\n",
       "      <td id=\"T_14f70_row7_col6\" class=\"data row7 col6\" >0.800000</td>\n",
       "      <td id=\"T_14f70_row7_col7\" class=\"data row7 col7\" >3641.690000</td>\n",
       "    </tr>\n",
       "    <tr>\n",
       "      <th id=\"T_14f70_level0_row8\" class=\"row_heading level0 row8\" >66</th>\n",
       "      <td id=\"T_14f70_row8_col0\" class=\"data row8 col0\" >JAPAN</td>\n",
       "      <td id=\"T_14f70_row8_col1\" class=\"data row8 col1\" >3.000000</td>\n",
       "      <td id=\"T_14f70_row8_col2\" class=\"data row8 col2\" >0.200000</td>\n",
       "      <td id=\"T_14f70_row8_col3\" class=\"data row8 col3\" >2.300000</td>\n",
       "      <td id=\"T_14f70_row8_col4\" class=\"data row8 col4\" >1.500000</td>\n",
       "      <td id=\"T_14f70_row8_col5\" class=\"data row8 col5\" >7.100000</td>\n",
       "      <td id=\"T_14f70_row8_col6\" class=\"data row8 col6\" >3.400000</td>\n",
       "      <td id=\"T_14f70_row8_col7\" class=\"data row8 col7\" >5554.144000</td>\n",
       "    </tr>\n",
       "    <tr>\n",
       "      <th id=\"T_14f70_level0_row9\" class=\"row_heading level0 row9\" >71</th>\n",
       "      <td id=\"T_14f70_row9_col0\" class=\"data row9 col0\" >KUWAIT</td>\n",
       "      <td id=\"T_14f70_row9_col1\" class=\"data row9 col1\" >3.000000</td>\n",
       "      <td id=\"T_14f70_row9_col2\" class=\"data row9 col2\" >0.628571</td>\n",
       "      <td id=\"T_14f70_row9_col3\" class=\"data row9 col3\" >2.522222</td>\n",
       "      <td id=\"T_14f70_row9_col4\" class=\"data row9 col4\" >7.988889</td>\n",
       "      <td id=\"T_14f70_row9_col5\" class=\"data row9 col5\" >4.661111</td>\n",
       "      <td id=\"T_14f70_row9_col6\" class=\"data row9 col6\" >2.353333</td>\n",
       "      <td id=\"T_14f70_row9_col7\" class=\"data row9 col7\" >254.762889</td>\n",
       "    </tr>\n",
       "    <tr>\n",
       "      <th id=\"T_14f70_level0_row10\" class=\"row_heading level0 row10\" >99</th>\n",
       "      <td id=\"T_14f70_row10_col0\" class=\"data row10 col0\" >OMAN</td>\n",
       "      <td id=\"T_14f70_row10_col1\" class=\"data row10 col1\" >3.000000</td>\n",
       "      <td id=\"T_14f70_row10_col2\" class=\"data row10 col2\" >1.680000</td>\n",
       "      <td id=\"T_14f70_row10_col3\" class=\"data row10 col3\" >7.783333</td>\n",
       "      <td id=\"T_14f70_row10_col4\" class=\"data row10 col4\" >3.550000</td>\n",
       "      <td id=\"T_14f70_row10_col5\" class=\"data row10 col5\" >16.066667</td>\n",
       "      <td id=\"T_14f70_row10_col6\" class=\"data row10 col6\" >11.916667</td>\n",
       "      <td id=\"T_14f70_row10_col7\" class=\"data row10 col7\" >332.156000</td>\n",
       "    </tr>\n",
       "    <tr>\n",
       "      <th id=\"T_14f70_level0_row11\" class=\"row_heading level0 row11\" >101</th>\n",
       "      <td id=\"T_14f70_row11_col0\" class=\"data row11 col0\" >PANAMA</td>\n",
       "      <td id=\"T_14f70_row11_col1\" class=\"data row11 col1\" >3.000000</td>\n",
       "      <td id=\"T_14f70_row11_col2\" class=\"data row11 col2\" >0.333333</td>\n",
       "      <td id=\"T_14f70_row11_col3\" class=\"data row11 col3\" >1.366667</td>\n",
       "      <td id=\"T_14f70_row11_col4\" class=\"data row11 col4\" >9.066667</td>\n",
       "      <td id=\"T_14f70_row11_col5\" class=\"data row11 col5\" >19.833333</td>\n",
       "      <td id=\"T_14f70_row11_col6\" class=\"data row11 col6\" >4.733333</td>\n",
       "      <td id=\"T_14f70_row11_col7\" class=\"data row11 col7\" >346.002667</td>\n",
       "    </tr>\n",
       "    <tr>\n",
       "      <th id=\"T_14f70_level0_row12\" class=\"row_heading level0 row12\" >106</th>\n",
       "      <td id=\"T_14f70_row12_col0\" class=\"data row12 col0\" >POLAND</td>\n",
       "      <td id=\"T_14f70_row12_col1\" class=\"data row12 col1\" >3.000000</td>\n",
       "      <td id=\"T_14f70_row12_col2\" class=\"data row12 col2\" >nan</td>\n",
       "      <td id=\"T_14f70_row12_col3\" class=\"data row12 col3\" >nan</td>\n",
       "      <td id=\"T_14f70_row12_col4\" class=\"data row12 col4\" >nan</td>\n",
       "      <td id=\"T_14f70_row12_col5\" class=\"data row12 col5\" >2.750000</td>\n",
       "      <td id=\"T_14f70_row12_col6\" class=\"data row12 col6\" >nan</td>\n",
       "      <td id=\"T_14f70_row12_col7\" class=\"data row12 col7\" >1951.373000</td>\n",
       "    </tr>\n",
       "    <tr>\n",
       "      <th id=\"T_14f70_level0_row13\" class=\"row_heading level0 row13\" >107</th>\n",
       "      <td id=\"T_14f70_row13_col0\" class=\"data row13 col0\" >QATAR</td>\n",
       "      <td id=\"T_14f70_row13_col1\" class=\"data row13 col1\" >3.000000</td>\n",
       "      <td id=\"T_14f70_row13_col2\" class=\"data row13 col2\" >nan</td>\n",
       "      <td id=\"T_14f70_row13_col3\" class=\"data row13 col3\" >2.100000</td>\n",
       "      <td id=\"T_14f70_row13_col4\" class=\"data row13 col4\" >10.400000</td>\n",
       "      <td id=\"T_14f70_row13_col5\" class=\"data row13 col5\" >11.600000</td>\n",
       "      <td id=\"T_14f70_row13_col6\" class=\"data row13 col6\" >4.800000</td>\n",
       "      <td id=\"T_14f70_row13_col7\" class=\"data row13 col7\" >50.012000</td>\n",
       "    </tr>\n",
       "    <tr>\n",
       "      <th id=\"T_14f70_level0_row14\" class=\"row_heading level0 row14\" >108</th>\n",
       "      <td id=\"T_14f70_row14_col0\" class=\"data row14 col0\" >REPUBLIC OF KOREA (THE)</td>\n",
       "      <td id=\"T_14f70_row14_col1\" class=\"data row14 col1\" >3.000000</td>\n",
       "      <td id=\"T_14f70_row14_col2\" class=\"data row14 col2\" >0.150000</td>\n",
       "      <td id=\"T_14f70_row14_col3\" class=\"data row14 col3\" >1.050000</td>\n",
       "      <td id=\"T_14f70_row14_col4\" class=\"data row14 col4\" >6.750000</td>\n",
       "      <td id=\"T_14f70_row14_col5\" class=\"data row14 col5\" >2.500000</td>\n",
       "      <td id=\"T_14f70_row14_col6\" class=\"data row14 col6\" >0.800000</td>\n",
       "      <td id=\"T_14f70_row14_col7\" class=\"data row14 col7\" >2487.097000</td>\n",
       "    </tr>\n",
       "    <tr>\n",
       "      <th id=\"T_14f70_level0_row15\" class=\"row_heading level0 row15\" >115</th>\n",
       "      <td id=\"T_14f70_row15_col0\" class=\"data row15 col0\" >SAUDI ARABIA</td>\n",
       "      <td id=\"T_14f70_row15_col1\" class=\"data row15 col1\" >3.000000</td>\n",
       "      <td id=\"T_14f70_row15_col2\" class=\"data row15 col2\" >4.500000</td>\n",
       "      <td id=\"T_14f70_row15_col3\" class=\"data row15 col3\" >7.350000</td>\n",
       "      <td id=\"T_14f70_row15_col4\" class=\"data row15 col4\" >3.650000</td>\n",
       "      <td id=\"T_14f70_row15_col5\" class=\"data row15 col5\" >15.350000</td>\n",
       "      <td id=\"T_14f70_row15_col6\" class=\"data row15 col6\" >9.400000</td>\n",
       "      <td id=\"T_14f70_row15_col7\" class=\"data row15 col7\" >2744.397000</td>\n",
       "    </tr>\n",
       "    <tr>\n",
       "      <th id=\"T_14f70_level0_row16\" class=\"row_heading level0 row16\" >118</th>\n",
       "      <td id=\"T_14f70_row16_col0\" class=\"data row16 col0\" >SEYCHELLES</td>\n",
       "      <td id=\"T_14f70_row16_col1\" class=\"data row16 col1\" >3.000000</td>\n",
       "      <td id=\"T_14f70_row16_col2\" class=\"data row16 col2\" >1.200000</td>\n",
       "      <td id=\"T_14f70_row16_col3\" class=\"data row16 col3\" >3.500000</td>\n",
       "      <td id=\"T_14f70_row16_col4\" class=\"data row16 col4\" >8.000000</td>\n",
       "      <td id=\"T_14f70_row16_col5\" class=\"data row16 col5\" >7.800000</td>\n",
       "      <td id=\"T_14f70_row16_col6\" class=\"data row16 col6\" >4.300000</td>\n",
       "      <td id=\"T_14f70_row16_col7\" class=\"data row16 col7\" >8.106500</td>\n",
       "    </tr>\n",
       "    <tr>\n",
       "      <th id=\"T_14f70_level0_row17\" class=\"row_heading level0 row17\" >120</th>\n",
       "      <td id=\"T_14f70_row17_col0\" class=\"data row17 col0\" >SINGAPORE</td>\n",
       "      <td id=\"T_14f70_row17_col1\" class=\"data row17 col1\" >3.000000</td>\n",
       "      <td id=\"T_14f70_row17_col2\" class=\"data row17 col2\" >0.500000</td>\n",
       "      <td id=\"T_14f70_row17_col3\" class=\"data row17 col3\" >3.600000</td>\n",
       "      <td id=\"T_14f70_row17_col4\" class=\"data row17 col4\" >2.600000</td>\n",
       "      <td id=\"T_14f70_row17_col5\" class=\"data row17 col5\" >4.400000</td>\n",
       "      <td id=\"T_14f70_row17_col6\" class=\"data row17 col6\" >3.300000</td>\n",
       "      <td id=\"T_14f70_row17_col7\" class=\"data row17 col7\" >237.083000</td>\n",
       "    </tr>\n",
       "    <tr>\n",
       "      <th id=\"T_14f70_level0_row18\" class=\"row_heading level0 row18\" >135</th>\n",
       "      <td id=\"T_14f70_row18_col0\" class=\"data row18 col0\" >TRINIDAD AND TOBAGO</td>\n",
       "      <td id=\"T_14f70_row18_col1\" class=\"data row18 col1\" >3.000000</td>\n",
       "      <td id=\"T_14f70_row18_col2\" class=\"data row18 col2\" >1.400000</td>\n",
       "      <td id=\"T_14f70_row18_col3\" class=\"data row18 col3\" >5.466667</td>\n",
       "      <td id=\"T_14f70_row18_col4\" class=\"data row18 col4\" >6.633333</td>\n",
       "      <td id=\"T_14f70_row18_col5\" class=\"data row18 col5\" >6.933333</td>\n",
       "      <td id=\"T_14f70_row18_col6\" class=\"data row18 col6\" >5.133333</td>\n",
       "      <td id=\"T_14f70_row18_col7\" class=\"data row18 col7\" >113.713333</td>\n",
       "    </tr>\n",
       "    <tr>\n",
       "      <th id=\"T_14f70_level0_row19\" class=\"row_heading level0 row19\" >143</th>\n",
       "      <td id=\"T_14f70_row19_col0\" class=\"data row19 col0\" >UNITED STATES OF AMERICA (THE)</td>\n",
       "      <td id=\"T_14f70_row19_col1\" class=\"data row19 col1\" >3.000000</td>\n",
       "      <td id=\"T_14f70_row19_col2\" class=\"data row19 col2\" >0.040000</td>\n",
       "      <td id=\"T_14f70_row19_col3\" class=\"data row19 col3\" >0.514286</td>\n",
       "      <td id=\"T_14f70_row19_col4\" class=\"data row19 col4\" >7.414286</td>\n",
       "      <td id=\"T_14f70_row19_col5\" class=\"data row19 col5\" >2.914286</td>\n",
       "      <td id=\"T_14f70_row19_col6\" class=\"data row19 col6\" >0.880000</td>\n",
       "      <td id=\"T_14f70_row19_col7\" class=\"data row19 col7\" >20077.909571</td>\n",
       "    </tr>\n",
       "    <tr>\n",
       "      <th id=\"T_14f70_level0_row20\" class=\"row_heading level0 row20\" >144</th>\n",
       "      <td id=\"T_14f70_row20_col0\" class=\"data row20 col0\" >URUGUAY</td>\n",
       "      <td id=\"T_14f70_row20_col1\" class=\"data row20 col1\" >3.000000</td>\n",
       "      <td id=\"T_14f70_row20_col2\" class=\"data row20 col2\" >0.650000</td>\n",
       "      <td id=\"T_14f70_row20_col3\" class=\"data row20 col3\" >2.383333</td>\n",
       "      <td id=\"T_14f70_row20_col4\" class=\"data row20 col4\" >9.166667</td>\n",
       "      <td id=\"T_14f70_row20_col5\" class=\"data row20 col5\" >14.242857</td>\n",
       "      <td id=\"T_14f70_row20_col6\" class=\"data row20 col6\" >5.128571</td>\n",
       "      <td id=\"T_14f70_row20_col7\" class=\"data row20 col7\" >255.659000</td>\n",
       "    </tr>\n",
       "  </tbody>\n",
       "</table>\n"
      ],
      "text/plain": [
       "<pandas.io.formats.style.Styler at 0x1b5a2393f10>"
      ]
     },
     "execution_count": 88,
     "metadata": {},
     "output_type": "execute_result"
    }
   ],
   "source": [
    "Country.get_group(3).style.highlight_max(color='#26BB2D',subset=[\"Severe Wasting\",\"Wasting\",\"Overweight\",\"Stunting\",\"Underweight\",\"U5 Population ('000s)\"]).highlight_min(color='#E65236',subset=[\"Severe Wasting\",\"Wasting\",\"Overweight\",\"Stunting\",\"Underweight\",\"U5 Population ('000s)\"])"
   ]
  },
  {
   "cell_type": "markdown",
   "id": "e0794895",
   "metadata": {},
   "source": [
    "Observation:\n",
    "\n",
    "1)Nauru has least severe Wasting% and as well U5 population% which is expected rate for not-Malnourished\n",
    "\n",
    "1)Australia has least parmater% except overweight% which is high across High Income . If decreased over Years might lead Australia first country in the world to succeed Malnutrition."
   ]
  },
  {
   "cell_type": "code",
   "execution_count": 89,
   "id": "568f25ce",
   "metadata": {},
   "outputs": [
    {
     "data": {
      "text/plain": [
       "<Figure size 864x576 with 0 Axes>"
      ]
     },
     "metadata": {},
     "output_type": "display_data"
    },
    {
     "data": {
      "image/png": "[encoded data removed]",
      "text/plain": [
       "<Figure size 900x900 with 20 Axes>"
      ]
     },
     "metadata": {},
     "output_type": "display_data"
    }
   ],
   "source": [
    " \n",
    "plt.figure(figsize=(12, 8))\n",
    "sns.set(style=\"whitegrid\")\n",
    "cols = [\"Severe Wasting\",\"Wasting\",\"Overweight\",\"Stunting\",\"Underweight\"]\n",
    "sns.pairplot(df[cols], height = 2.5,corner=True )\n",
    "plt.show()"
   ]
  },
  {
   "cell_type": "markdown",
   "id": "11f4b0df",
   "metadata": {},
   "source": [
    "Observation:\n",
    "\n",
    "1)Stunting and Underweight has a Linear relationship\n",
    "\n",
    "2)Wasting and Underweight also exhibits Linear Relationship"
   ]
  },
  {
   "cell_type": "code",
   "execution_count": 90,
   "id": "c246c67c",
   "metadata": {},
   "outputs": [
    {
     "name": "stderr",
     "output_type": "stream",
     "text": [
      "C:\\Users\\sandeep\\anaconda3\\lib\\site-packages\\seaborn\\_decorators.py:36: FutureWarning:\n",
      "\n",
      "Pass the following variables as keyword args: x, y. From version 0.12, the only valid positional argument will be `data`, and passing other arguments without an explicit keyword will result in an error or misinterpretation.\n",
      "\n"
     ]
    },
    {
     "data": {
      "text/plain": [
       "(array([0, 1, 2, 3]),\n",
       " [Text(0, 0, '0.0'), Text(1, 0, '1.0'), Text(2, 0, '2.0'), Text(3, 0, '3.0')])"
      ]
     },
     "execution_count": 90,
     "metadata": {},
     "output_type": "execute_result"
    },
    {
     "data": {
      "image/png": "[encoded data removed]",
      "text/plain": [
       "<Figure size 864x576 with 1 Axes>"
      ]
     },
     "metadata": {},
     "output_type": "display_data"
    }
   ],
   "source": [
    " plt.figure(figsize=(12, 8))\n",
    "p = df.groupby([\"Income Classification\"])[\"Severe Wasting\"].mean()\n",
    "sns.set(style=\"darkgrid\")\n",
    "ax = sns.barplot(x.index, p)\n",
    "ax.set_title('Severe Wasting')\n",
    "ax.set_ylabel('% Severe Wasting')\n",
    "ax.set_xlabel('Income Classification')\n",
    "plt.xticks(rotation = 90)"
   ]
  },
  {
   "cell_type": "markdown",
   "id": "d4e8c2ca",
   "metadata": {},
   "source": [
    "Observation:\n",
    "\n",
    "1) Low-Income has High Severe Wasting% of 3-4% approx across all income Classes following up are Lower-middle-2.5%, upper-middle 1.5%,High-Income 1-2%"
   ]
  },
  {
   "cell_type": "code",
   "execution_count": 91,
   "id": "e70792b6",
   "metadata": {},
   "outputs": [
    {
     "name": "stderr",
     "output_type": "stream",
     "text": [
      "C:\\Users\\sandeep\\anaconda3\\lib\\site-packages\\seaborn\\_decorators.py:36: FutureWarning:\n",
      "\n",
      "Pass the following variables as keyword args: x, y. From version 0.12, the only valid positional argument will be `data`, and passing other arguments without an explicit keyword will result in an error or misinterpretation.\n",
      "\n"
     ]
    },
    {
     "data": {
      "text/plain": [
       "(array([0, 1, 2, 3]),\n",
       " [Text(0, 0, '0.0'), Text(1, 0, '1.0'), Text(2, 0, '2.0'), Text(3, 0, '3.0')])"
      ]
     },
     "execution_count": 91,
     "metadata": {},
     "output_type": "execute_result"
    },
    {
     "data": {
      "image/png": "[encoded data removed]",
      "text/plain": [
       "<Figure size 864x576 with 1 Axes>"
      ]
     },
     "metadata": {},
     "output_type": "display_data"
    }
   ],
   "source": [
    "plt.figure(figsize=(12, 8))\n",
    "x = df.groupby([\"Income Classification\"])[\"Wasting\"].mean()\n",
    "sns.set(style=\"whitegrid\")\n",
    "ax = sns.barplot(x.index, x)\n",
    "ax.set_title('Wasting')\n",
    "ax.set_ylabel('% Wasting')\n",
    "ax.set_xlabel('Income Classification')\n",
    "plt.xticks(rotation = 90)"
   ]
  },
  {
   "cell_type": "markdown",
   "id": "4a25056e",
   "metadata": {},
   "source": [
    "Observation:\n",
    "\n",
    "1) Low-Income has High Wasting% 10%,across all income Classes following up are Lower-middle 8%, upper-middle4-5%,High-Income3% approx"
   ]
  },
  {
   "cell_type": "code",
   "execution_count": 92,
   "id": "9db09d3d",
   "metadata": {},
   "outputs": [
    {
     "name": "stderr",
     "output_type": "stream",
     "text": [
      "C:\\Users\\sandeep\\anaconda3\\lib\\site-packages\\seaborn\\_decorators.py:36: FutureWarning:\n",
      "\n",
      "Pass the following variables as keyword args: x, y. From version 0.12, the only valid positional argument will be `data`, and passing other arguments without an explicit keyword will result in an error or misinterpretation.\n",
      "\n"
     ]
    },
    {
     "data": {
      "text/plain": [
       "(array([0, 1, 2, 3]),\n",
       " [Text(0, 0, '0.0'), Text(1, 0, '1.0'), Text(2, 0, '2.0'), Text(3, 0, '3.0')])"
      ]
     },
     "execution_count": 92,
     "metadata": {},
     "output_type": "execute_result"
    },
    {
     "data": {
      "image/png": "[encoded data removed]",
      "text/plain": [
       "<Figure size 864x576 with 1 Axes>"
      ]
     },
     "metadata": {},
     "output_type": "display_data"
    }
   ],
   "source": [
    "plt.figure(figsize=(12, 8))\n",
    "x = df.groupby([\"Income Classification\"])[\"Stunting\"].mean()\n",
    "sns.set(style=\"whitegrid\")\n",
    "ax = sns.barplot(x.index, x)\n",
    "ax.set_title('Stunting')\n",
    "ax.set_ylabel('% Stunting')\n",
    "ax.set_xlabel('Income Classification')\n",
    "plt.xticks(rotation = 90)"
   ]
  },
  {
   "cell_type": "markdown",
   "id": "96259d8f",
   "metadata": {},
   "source": [
    "Observation:\n",
    "\n",
    "1) Low-Income has High Stunting% of 40% across all income Classes following up are Lower-middle(30-35)%, upper-middle(15-20)%,High-Income(5-10)%"
   ]
  },
  {
   "cell_type": "code",
   "execution_count": 93,
   "id": "3b213661",
   "metadata": {},
   "outputs": [
    {
     "name": "stderr",
     "output_type": "stream",
     "text": [
      "C:\\Users\\sandeep\\anaconda3\\lib\\site-packages\\seaborn\\_decorators.py:36: FutureWarning:\n",
      "\n",
      "Pass the following variables as keyword args: x, y. From version 0.12, the only valid positional argument will be `data`, and passing other arguments without an explicit keyword will result in an error or misinterpretation.\n",
      "\n"
     ]
    },
    {
     "data": {
      "text/plain": [
       "(array([0, 1, 2, 3]),\n",
       " [Text(0, 0, '0.0'), Text(1, 0, '1.0'), Text(2, 0, '2.0'), Text(3, 0, '3.0')])"
      ]
     },
     "execution_count": 93,
     "metadata": {},
     "output_type": "execute_result"
    },
    {
     "data": {
      "image/png": "[encoded data removed]",
      "text/plain": [
       "<Figure size 864x576 with 1 Axes>"
      ]
     },
     "metadata": {},
     "output_type": "display_data"
    }
   ],
   "source": [
    "plt.figure(figsize=(12, 8))\n",
    "x = df.groupby([\"Income Classification\"])[\"Underweight\"].mean()\n",
    "sns.set(style=\"whitegrid\")\n",
    "ax = sns.barplot(x.index, x)\n",
    "ax.set_title('Underweight')\n",
    "ax.set_ylabel('% Underweight')\n",
    "ax.set_xlabel('Income Classification')\n",
    "plt.xticks(rotation = 90)"
   ]
  },
  {
   "cell_type": "markdown",
   "id": "98027fc8",
   "metadata": {},
   "source": [
    "Observation:\n",
    "\n",
    "Upper-Middle-Income has highest Overweight % around 8-10% approx following up are High-Income with 7% and 6-8% Lower-Middle-Income of 7%, low income 4-5% approx"
   ]
  },
  {
   "cell_type": "markdown",
   "id": "a232f0fe",
   "metadata": {},
   "source": [
    "Final Observation:\n",
    "\n",
    "1)Intrestingly , Low-Income has high Parameter % across all plots which depicts that Income is main Effect for Malnutrition levels . They have insufficient food left and live with striped Muscles\n",
    "\n",
    "2)Overweight % is high in Upper-Middle-Income, High-Income as their income is high and as well they tend to have over-Nutrition as expected to other Incomes in terms of Quality and Saturated Fats"
   ]
  },
  {
   "cell_type": "code",
   "execution_count": 94,
   "id": "12e3a920",
   "metadata": {
    "scrolled": true
   },
   "outputs": [
    {
     "data": {
      "application/vnd.plotly.v1+json": {
       "config": {
        "plotlyServerURL": "https://plot.ly"
       },
       "data": [
        {
         "colorbar": {
          "len": 200,
          "lenmode": "pixels",
          "title": {
           "text": "Severe Wasting % "
          }
         },
         "colorscale": [
          [
           0,
           "rgb(12,51,131)"
          ],
          [
           0.25,
           "rgb(10,136,186)"
          ],
          [
           0.5,
           "rgb(242,211,56)"
          ],
          [
           0.75,
           "rgb(242,143,56)"
          ],
          [
           1,
           "rgb(217,30,30)"
          ]
         ],
         "locationmode": "country names",
         "locations": [
          "AFGHANISTAN",
          "ALBANIA",
          "ALGERIA",
          "ANGOLA",
          "ARGENTINA",
          "ARMENIA",
          "AUSTRALIA",
          "AZERBAIJAN",
          "BAHRAIN",
          "BANGLADESH",
          "BARBADOS",
          "BELARUS",
          "BELIZE",
          "BENIN",
          "BHUTAN",
          "BOLIVIA (PLURINATIONAL STATE OF)",
          "BOSNIA AND HERZEGOVINA",
          "BOTSWANA",
          "BRAZIL",
          "BRUNEI DARUSSALAM",
          "BULGARIA",
          "BURKINA FASO",
          "BURUNDI",
          "CABO VERDE",
          "CAMBODIA",
          "CAMEROON",
          "CANADA",
          "CENTRAL AFRICAN REPUBLIC (THE)",
          "CHAD",
          "CHILE",
          "CHINA",
          "COLOMBIA",
          "COMOROS (THE)",
          "CONGO (THE)",
          "COSTA RICA",
          "COTE D'IVOIRE",
          "CUBA",
          "CZECHIA",
          "DEMOCRATIC PEOPLE'S REP. OF KOREA (THE)",
          "DEMOCRATIC REP. OF THE CONGO (THE)",
          "DJIBOUTI",
          "DOMINICAN REPUBLIC (THE)",
          "ECUADOR",
          "EGYPT",
          "EL SALVADOR",
          "EQUATORIAL GUINEA",
          "ERITREA",
          "ESWATINI",
          "ETHIOPIA",
          "FIJI",
          "GABON",
          "GAMBIA (THE)",
          "GEORGIA",
          "GERMANY",
          "GHANA",
          "GUATEMALA",
          "GUINEA",
          "GUINEA-BISSAU",
          "GUYANA",
          "HAITI",
          "HONDURAS",
          "INDIA",
          "INDONESIA",
          "IRAN (ISLAMIC REPUBLIC OF)",
          "IRAQ",
          "JAMAICA",
          "JAPAN",
          "JORDAN",
          "KAZAKHSTAN",
          "KENYA",
          "KIRIBATI",
          "KUWAIT",
          "KYRGYZSTAN",
          "LAO PEOPLE'S DEMOCRATIC REP. (THE)",
          "LEBANON",
          "LESOTHO",
          "LIBERIA",
          "LIBYA",
          "MADAGASCAR",
          "MALAWI",
          "MALAYSIA",
          "MALDIVES",
          "MALI",
          "MARSHALL ISLANDS",
          "MAURITANIA",
          "MAURITIUS",
          "MEXICO",
          "MONGOLIA",
          "MONTENEGRO",
          "MOROCCO",
          "MOZAMBIQUE",
          "MYANMAR",
          "NAMIBIA",
          "NAURU",
          "NEPAL",
          "NICARAGUA",
          "NIGER (THE)",
          "NIGERIA",
          "NORTH MACEDONIA",
          "OMAN",
          "PAKISTAN",
          "PANAMA",
          "PAPUA NEW GUINEA",
          "PARAGUAY",
          "PERU",
          "PHILIPPINES (THE)",
          "POLAND",
          "QATAR",
          "REPUBLIC OF KOREA (THE)",
          "REPUBLIC OF MOLDOVA (THE)",
          "ROMANIA",
          "RWANDA",
          "SAINT LUCIA",
          "SAMOA",
          "SAO TOME AND PRINCIPE",
          "SAUDI ARABIA",
          "SENEGAL",
          "SERBIA",
          "SEYCHELLES",
          "SIERRA LEONE",
          "SINGAPORE",
          "SOLOMON ISLANDS",
          "SOMALIA",
          "SOUTH AFRICA",
          "SOUTH SUDAN",
          "SRI LANKA",
          "STATE OF PALESTINE",
          "SUDAN (THE)",
          "SURINAME",
          "SYRIAN ARAB REPUBLIC (THE)",
          "TAJIKISTAN",
          "THAILAND",
          "TIMOR-LESTE",
          "TOGO",
          "TONGA",
          "TRINIDAD AND TOBAGO",
          "TUNISIA",
          "TURKEY",
          "TURKMENISTAN",
          "TUVALU",
          "UGANDA",
          "UKRAINE",
          "UNITED REPUBLIC OF TANZANIA (THE)",
          "UNITED STATES OF AMERICA (THE)",
          "URUGUAY",
          "UZBEKISTAN",
          "VANUATU",
          "VENEZUELA (BOLIVARIAN REPUBLIC OF)",
          "VIET NAM",
          "YEMEN",
          "ZAMBIA",
          "ZIMBABWE"
         ],
         "text": [
          "AFGHANISTAN",
          "ALBANIA",
          "ALGERIA",
          "ANGOLA",
          "ARGENTINA",
          "ARMENIA",
          "AUSTRALIA",
          "AZERBAIJAN",
          "BAHRAIN",
          "BANGLADESH",
          "BARBADOS",
          "BELARUS",
          "BELIZE",
          "BENIN",
          "BHUTAN",
          "BOLIVIA (PLURINATIONAL STATE OF)",
          "BOSNIA AND HERZEGOVINA",
          "BOTSWANA",
          "BRAZIL",
          "BRUNEI DARUSSALAM",
          "BULGARIA",
          "BURKINA FASO",
          "BURUNDI",
          "CABO VERDE",
          "CAMBODIA",
          "CAMEROON",
          "CANADA",
          "CENTRAL AFRICAN REPUBLIC (THE)",
          "CHAD",
          "CHILE",
          "CHINA",
          "COLOMBIA",
          "COMOROS (THE)",
          "CONGO (THE)",
          "COSTA RICA",
          "COTE D'IVOIRE",
          "CUBA",
          "CZECHIA",
          "DEMOCRATIC PEOPLE'S REP. OF KOREA (THE)",
          "DEMOCRATIC REP. OF THE CONGO (THE)",
          "DJIBOUTI",
          "DOMINICAN REPUBLIC (THE)",
          "ECUADOR",
          "EGYPT",
          "EL SALVADOR",
          "EQUATORIAL GUINEA",
          "ERITREA",
          "ESWATINI",
          "ETHIOPIA",
          "FIJI",
          "GABON",
          "GAMBIA (THE)",
          "GEORGIA",
          "GERMANY",
          "GHANA",
          "GUATEMALA",
          "GUINEA",
          "GUINEA-BISSAU",
          "GUYANA",
          "HAITI",
          "HONDURAS",
          "INDIA",
          "INDONESIA",
          "IRAN (ISLAMIC REPUBLIC OF)",
          "IRAQ",
          "JAMAICA",
          "JAPAN",
          "JORDAN",
          "KAZAKHSTAN",
          "KENYA",
          "KIRIBATI",
          "KUWAIT",
          "KYRGYZSTAN",
          "LAO PEOPLE'S DEMOCRATIC REP. (THE)",
          "LEBANON",
          "LESOTHO",
          "LIBERIA",
          "LIBYA",
          "MADAGASCAR",
          "MALAWI",
          "MALAYSIA",
          "MALDIVES",
          "MALI",
          "MARSHALL ISLANDS",
          "MAURITANIA",
          "MAURITIUS",
          "MEXICO",
          "MONGOLIA",
          "MONTENEGRO",
          "MOROCCO",
          "MOZAMBIQUE",
          "MYANMAR",
          "NAMIBIA",
          "NAURU",
          "NEPAL",
          "NICARAGUA",
          "NIGER (THE)",
          "NIGERIA",
          "NORTH MACEDONIA",
          "OMAN",
          "PAKISTAN",
          "PANAMA",
          "PAPUA NEW GUINEA",
          "PARAGUAY",
          "PERU",
          "PHILIPPINES (THE)",
          "POLAND",
          "QATAR",
          "REPUBLIC OF KOREA (THE)",
          "REPUBLIC OF MOLDOVA (THE)",
          "ROMANIA",
          "RWANDA",
          "SAINT LUCIA",
          "SAMOA",
          "SAO TOME AND PRINCIPE",
          "SAUDI ARABIA",
          "SENEGAL",
          "SERBIA",
          "SEYCHELLES",
          "SIERRA LEONE",
          "SINGAPORE",
          "SOLOMON ISLANDS",
          "SOMALIA",
          "SOUTH AFRICA",
          "SOUTH SUDAN",
          "SRI LANKA",
          "STATE OF PALESTINE",
          "SUDAN (THE)",
          "SURINAME",
          "SYRIAN ARAB REPUBLIC (THE)",
          "TAJIKISTAN",
          "THAILAND",
          "TIMOR-LESTE",
          "TOGO",
          "TONGA",
          "TRINIDAD AND TOBAGO",
          "TUNISIA",
          "TURKEY",
          "TURKMENISTAN",
          "TUVALU",
          "UGANDA",
          "UKRAINE",
          "UNITED REPUBLIC OF TANZANIA (THE)",
          "UNITED STATES OF AMERICA (THE)",
          "URUGUAY",
          "UZBEKISTAN",
          "VANUATU",
          "VENEZUELA (BOLIVARIAN REPUBLIC OF)",
          "VIET NAM",
          "YEMEN",
          "ZAMBIA",
          "ZIMBABWE"
         ],
         "type": "choropleth",
         "z": [
          3.033333333333333,
          4.075,
          2.733333333333333,
          2.4,
          0.2,
          1.6,
          0,
          2.575,
          null,
          2.813636363636364,
          2,
          0.6,
          0.8333333333333334,
          2.425,
          1.4,
          0.7000000000000001,
          2.2,
          2.85,
          0.7,
          0.4,
          1.5333333333333332,
          4.1692307692307695,
          1.2600000000000002,
          null,
          3.483333333333334,
          1.8142857142857145,
          null,
          3.16,
          5.5,
          null,
          0.9199999999999996,
          0.3666666666666667,
          5.4,
          2.4333333333333336,
          null,
          2.6,
          null,
          1,
          1.275,
          4.15,
          9.4,
          0.7428571428571429,
          0.58,
          2.4875000000000003,
          0.4333333333333333,
          2.425,
          4.633333333333333,
          0.5999999999999999,
          3.016666666666666,
          2,
          1.4,
          2.085714285714286,
          0.8500000000000001,
          0.1,
          2.011111111111111,
          0.8571428571428571,
          3.242857142857143,
          2.9250000000000003,
          2.45,
          1.98,
          0.275,
          6.116666666666667,
          4.171428571428572,
          1.4,
          2.175,
          0.9210526315789472,
          0.2,
          0.7600000000000001,
          1.58,
          2.3625000000000003,
          null,
          0.6285714285714284,
          0.8166666666666668,
          3.2,
          2.25,
          1.62,
          1.7799999999999998,
          3.233333333333333,
          2.24,
          1.6076923076923082,
          null,
          4.725,
          4.457142857142856,
          1.1,
          3.975,
          null,
          0.6499999999999999,
          0.9625,
          1.7000000000000002,
          1.95,
          2.566666666666667,
          2.5,
          2.75,
          0.2,
          2.5285714285714285,
          0.75,
          4.33,
          4.379999999999999,
          0.6333333333333334,
          1.6800000000000002,
          4.5,
          0.3333333333333333,
          2.8000000000000003,
          0.3333333333333333,
          0.2133333333333333,
          1.92,
          null,
          null,
          0.15,
          1.45,
          0.9000000000000001,
          1.425,
          0.7,
          1.3,
          2.333333333333333,
          4.5,
          1.825,
          1.2333333333333334,
          1.2,
          3.075,
          0.5,
          2.333333333333333,
          4.35,
          2.92,
          11.4,
          2.45,
          0.8499999999999999,
          4.766666666666667,
          1.2666666666666666,
          5.05,
          2.483333333333333,
          1.475,
          4.775,
          2.0375,
          2.1,
          1.4,
          1.1,
          0.6,
          1.6,
          0.9,
          1.3333333333333337,
          3.8,
          1.5,
          0.04,
          0.65,
          2.975,
          1.7,
          null,
          2.3312500000000003,
          5.3,
          2.042857142857143,
          1.3888888888888888
         ]
        }
       ],
       "layout": {
        "geo": {
         "bgcolor": "rgba(255,255,255,0)",
         "projection": {
          "type": "natural earth"
         },
         "scope": "world",
         "showframe": false
        },
        "margin": {
         "b": 0,
         "l": 0,
         "r": 0,
         "t": 40
        },
        "paper_bgcolor": "#000000",
        "template": {
         "data": {
          "bar": [
           {
            "error_x": {
             "color": "#2a3f5f"
            },
            "error_y": {
             "color": "#2a3f5f"
            },
            "marker": {
             "line": {
              "color": "#E5ECF6",
              "width": 0.5
             },
             "pattern": {
              "fillmode": "overlay",
              "size": 10,
              "solidity": 0.2
             }
            },
            "type": "bar"
           }
          ],
          "barpolar": [
           {
            "marker": {
             "line": {
              "color": "#E5ECF6",
              "width": 0.5
             },
             "pattern": {
              "fillmode": "overlay",
              "size": 10,
              "solidity": 0.2
             }
            },
            "type": "barpolar"
           }
          ],
          "carpet": [
           {
            "aaxis": {
             "endlinecolor": "#2a3f5f",
             "gridcolor": "white",
             "linecolor": "white",
             "minorgridcolor": "white",
             "startlinecolor": "#2a3f5f"
            },
            "baxis": {
             "endlinecolor": "#2a3f5f",
             "gridcolor": "white",
             "linecolor": "white",
             "minorgridcolor": "white",
             "startlinecolor": "#2a3f5f"
            },
            "type": "carpet"
           }
          ],
          "choropleth": [
           {
            "colorbar": {
             "outlinewidth": 0,
             "ticks": ""
            },
            "type": "choropleth"
           }
          ],
          "contour": [
           {
            "colorbar": {
             "outlinewidth": 0,
             "ticks": ""
            },
            "colorscale": [
             [
              0,
              "#0d0887"
             ],
             [
              0.1111111111111111,
              "#46039f"
             ],
             [
              0.2222222222222222,
              "#7201a8"
             ],
             [
              0.3333333333333333,
              "#9c179e"
             ],
             [
              0.4444444444444444,
              "#bd3786"
             ],
             [
              0.5555555555555556,
              "#d8576b"
             ],
             [
              0.6666666666666666,
              "#ed7953"
             ],
             [
              0.7777777777777778,
              "#fb9f3a"
             ],
             [
              0.8888888888888888,
              "#fdca26"
             ],
             [
              1,
              "#f0f921"
             ]
            ],
            "type": "contour"
           }
          ],
          "contourcarpet": [
           {
            "colorbar": {
             "outlinewidth": 0,
             "ticks": ""
            },
            "type": "contourcarpet"
           }
          ],
          "heatmap": [
           {
            "colorbar": {
             "outlinewidth": 0,
             "ticks": ""
            },
            "colorscale": [
             [
              0,
              "#0d0887"
             ],
             [
              0.1111111111111111,
              "#46039f"
             ],
             [
              0.2222222222222222,
              "#7201a8"
             ],
             [
              0.3333333333333333,
              "#9c179e"
             ],
             [
              0.4444444444444444,
              "#bd3786"
             ],
             [
              0.5555555555555556,
              "#d8576b"
             ],
             [
              0.6666666666666666,
              "#ed7953"
             ],
             [
              0.7777777777777778,
              "#fb9f3a"
             ],
             [
              0.8888888888888888,
              "#fdca26"
             ],
             [
              1,
              "#f0f921"
             ]
            ],
            "type": "heatmap"
           }
          ],
          "heatmapgl": [
           {
            "colorbar": {
             "outlinewidth": 0,
             "ticks": ""
            },
            "colorscale": [
             [
              0,
              "#0d0887"
             ],
             [
              0.1111111111111111,
              "#46039f"
             ],
             [
              0.2222222222222222,
              "#7201a8"
             ],
             [
              0.3333333333333333,
              "#9c179e"
             ],
             [
              0.4444444444444444,
              "#bd3786"
             ],
             [
              0.5555555555555556,
              "#d8576b"
             ],
             [
              0.6666666666666666,
              "#ed7953"
             ],
             [
              0.7777777777777778,
              "#fb9f3a"
             ],
             [
              0.8888888888888888,
              "#fdca26"
             ],
             [
              1,
              "#f0f921"
             ]
            ],
            "type": "heatmapgl"
           }
          ],
          "histogram": [
           {
            "marker": {
             "pattern": {
              "fillmode": "overlay",
              "size": 10,
              "solidity": 0.2
             }
            },
            "type": "histogram"
           }
          ],
          "histogram2d": [
           {
            "colorbar": {
             "outlinewidth": 0,
             "ticks": ""
            },
            "colorscale": [
             [
              0,
              "#0d0887"
             ],
             [
              0.1111111111111111,
              "#46039f"
             ],
             [
              0.2222222222222222,
              "#7201a8"
             ],
             [
              0.3333333333333333,
              "#9c179e"
             ],
             [
              0.4444444444444444,
              "#bd3786"
             ],
             [
              0.5555555555555556,
              "#d8576b"
             ],
             [
              0.6666666666666666,
              "#ed7953"
             ],
             [
              0.7777777777777778,
              "#fb9f3a"
             ],
             [
              0.8888888888888888,
              "#fdca26"
             ],
             [
              1,
              "#f0f921"
             ]
            ],
            "type": "histogram2d"
           }
          ],
          "histogram2dcontour": [
           {
            "colorbar": {
             "outlinewidth": 0,
             "ticks": ""
            },
            "colorscale": [
             [
              0,
              "#0d0887"
             ],
             [
              0.1111111111111111,
              "#46039f"
             ],
             [
              0.2222222222222222,
              "#7201a8"
             ],
             [
              0.3333333333333333,
              "#9c179e"
             ],
             [
              0.4444444444444444,
              "#bd3786"
             ],
             [
              0.5555555555555556,
              "#d8576b"
             ],
             [
              0.6666666666666666,
              "#ed7953"
             ],
             [
              0.7777777777777778,
              "#fb9f3a"
             ],
             [
              0.8888888888888888,
              "#fdca26"
             ],
             [
              1,
              "#f0f921"
             ]
            ],
            "type": "histogram2dcontour"
           }
          ],
          "mesh3d": [
           {
            "colorbar": {
             "outlinewidth": 0,
             "ticks": ""
            },
            "type": "mesh3d"
           }
          ],
          "parcoords": [
           {
            "line": {
             "colorbar": {
              "outlinewidth": 0,
              "ticks": ""
             }
            },
            "type": "parcoords"
           }
          ],
          "pie": [
           {
            "automargin": true,
            "type": "pie"
           }
          ],
          "scatter": [
           {
            "marker": {
             "colorbar": {
              "outlinewidth": 0,
              "ticks": ""
             }
            },
            "type": "scatter"
           }
          ],
          "scatter3d": [
           {
            "line": {
             "colorbar": {
              "outlinewidth": 0,
              "ticks": ""
             }
            },
            "marker": {
             "colorbar": {
              "outlinewidth": 0,
              "ticks": ""
             }
            },
            "type": "scatter3d"
           }
          ],
          "scattercarpet": [
           {
            "marker": {
             "colorbar": {
              "outlinewidth": 0,
              "ticks": ""
             }
            },
            "type": "scattercarpet"
           }
          ],
          "scattergeo": [
           {
            "marker": {
             "colorbar": {
              "outlinewidth": 0,
              "ticks": ""
             }
            },
            "type": "scattergeo"
           }
          ],
          "scattergl": [
           {
            "marker": {
             "colorbar": {
              "outlinewidth": 0,
              "ticks": ""
             }
            },
            "type": "scattergl"
           }
          ],
          "scattermapbox": [
           {
            "marker": {
             "colorbar": {
              "outlinewidth": 0,
              "ticks": ""
             }
            },
            "type": "scattermapbox"
           }
          ],
          "scatterpolar": [
           {
            "marker": {
             "colorbar": {
              "outlinewidth": 0,
              "ticks": ""
             }
            },
            "type": "scatterpolar"
           }
          ],
          "scatterpolargl": [
           {
            "marker": {
             "colorbar": {
              "outlinewidth": 0,
              "ticks": ""
             }
            },
            "type": "scatterpolargl"
           }
          ],
          "scatterternary": [
           {
            "marker": {
             "colorbar": {
              "outlinewidth": 0,
              "ticks": ""
             }
            },
            "type": "scatterternary"
           }
          ],
          "surface": [
           {
            "colorbar": {
             "outlinewidth": 0,
             "ticks": ""
            },
            "colorscale": [
             [
              0,
              "#0d0887"
             ],
             [
              0.1111111111111111,
              "#46039f"
             ],
             [
              0.2222222222222222,
              "#7201a8"
             ],
             [
              0.3333333333333333,
              "#9c179e"
             ],
             [
              0.4444444444444444,
              "#bd3786"
             ],
             [
              0.5555555555555556,
              "#d8576b"
             ],
             [
              0.6666666666666666,
              "#ed7953"
             ],
             [
              0.7777777777777778,
              "#fb9f3a"
             ],
             [
              0.8888888888888888,
              "#fdca26"
             ],
             [
              1,
              "#f0f921"
             ]
            ],
            "type": "surface"
           }
          ],
          "table": [
           {
            "cells": {
             "fill": {
              "color": "#EBF0F8"
             },
             "line": {
              "color": "white"
             }
            },
            "header": {
             "fill": {
              "color": "#C8D4E3"
             },
             "line": {
              "color": "white"
             }
            },
            "type": "table"
           }
          ]
         },
         "layout": {
          "annotationdefaults": {
           "arrowcolor": "#2a3f5f",
           "arrowhead": 0,
           "arrowwidth": 1
          },
          "autotypenumbers": "strict",
          "coloraxis": {
           "colorbar": {
            "outlinewidth": 0,
            "ticks": ""
           }
          },
          "colorscale": {
           "diverging": [
            [
             0,
             "#8e0152"
            ],
            [
             0.1,
             "#c51b7d"
            ],
            [
             0.2,
             "#de77ae"
            ],
            [
             0.3,
             "#f1b6da"
            ],
            [
             0.4,
             "#fde0ef"
            ],
            [
             0.5,
             "#f7f7f7"
            ],
            [
             0.6,
             "#e6f5d0"
            ],
            [
             0.7,
             "#b8e186"
            ],
            [
             0.8,
             "#7fbc41"
            ],
            [
             0.9,
             "#4d9221"
            ],
            [
             1,
             "#276419"
            ]
           ],
           "sequential": [
            [
             0,
             "#0d0887"
            ],
            [
             0.1111111111111111,
             "#46039f"
            ],
            [
             0.2222222222222222,
             "#7201a8"
            ],
            [
             0.3333333333333333,
             "#9c179e"
            ],
            [
             0.4444444444444444,
             "#bd3786"
            ],
            [
             0.5555555555555556,
             "#d8576b"
            ],
            [
             0.6666666666666666,
             "#ed7953"
            ],
            [
             0.7777777777777778,
             "#fb9f3a"
            ],
            [
             0.8888888888888888,
             "#fdca26"
            ],
            [
             1,
             "#f0f921"
            ]
           ],
           "sequentialminus": [
            [
             0,
             "#0d0887"
            ],
            [
             0.1111111111111111,
             "#46039f"
            ],
            [
             0.2222222222222222,
             "#7201a8"
            ],
            [
             0.3333333333333333,
             "#9c179e"
            ],
            [
             0.4444444444444444,
             "#bd3786"
            ],
            [
             0.5555555555555556,
             "#d8576b"
            ],
            [
             0.6666666666666666,
             "#ed7953"
            ],
            [
             0.7777777777777778,
             "#fb9f3a"
            ],
            [
             0.8888888888888888,
             "#fdca26"
            ],
            [
             1,
             "#f0f921"
            ]
           ]
          },
          "colorway": [
           "#636efa",
           "#EF553B",
           "#00cc96",
           "#ab63fa",
           "#FFA15A",
           "#19d3f3",
           "#FF6692",
           "#B6E880",
           "#FF97FF",
           "#FECB52"
          ],
          "font": {
           "color": "#2a3f5f"
          },
          "geo": {
           "bgcolor": "white",
           "lakecolor": "white",
           "landcolor": "#E5ECF6",
           "showlakes": true,
           "showland": true,
           "subunitcolor": "white"
          },
          "hoverlabel": {
           "align": "left"
          },
          "hovermode": "closest",
          "mapbox": {
           "style": "light"
          },
          "paper_bgcolor": "white",
          "plot_bgcolor": "#E5ECF6",
          "polar": {
           "angularaxis": {
            "gridcolor": "white",
            "linecolor": "white",
            "ticks": ""
           },
           "bgcolor": "#E5ECF6",
           "radialaxis": {
            "gridcolor": "white",
            "linecolor": "white",
            "ticks": ""
           }
          },
          "scene": {
           "xaxis": {
            "backgroundcolor": "#E5ECF6",
            "gridcolor": "white",
            "gridwidth": 2,
            "linecolor": "white",
            "showbackground": true,
            "ticks": "",
            "zerolinecolor": "white"
           },
           "yaxis": {
            "backgroundcolor": "#E5ECF6",
            "gridcolor": "white",
            "gridwidth": 2,
            "linecolor": "white",
            "showbackground": true,
            "ticks": "",
            "zerolinecolor": "white"
           },
           "zaxis": {
            "backgroundcolor": "#E5ECF6",
            "gridcolor": "white",
            "gridwidth": 2,
            "linecolor": "white",
            "showbackground": true,
            "ticks": "",
            "zerolinecolor": "white"
           }
          },
          "shapedefaults": {
           "line": {
            "color": "#2a3f5f"
           }
          },
          "ternary": {
           "aaxis": {
            "gridcolor": "white",
            "linecolor": "white",
            "ticks": ""
           },
           "baxis": {
            "gridcolor": "white",
            "linecolor": "white",
            "ticks": ""
           },
           "bgcolor": "#E5ECF6",
           "caxis": {
            "gridcolor": "white",
            "linecolor": "white",
            "ticks": ""
           }
          },
          "title": {
           "x": 0.05
          },
          "xaxis": {
           "automargin": true,
           "gridcolor": "white",
           "linecolor": "white",
           "ticks": "",
           "title": {
            "standoff": 15
           },
           "zerolinecolor": "white",
           "zerolinewidth": 2
          },
          "yaxis": {
           "automargin": true,
           "gridcolor": "white",
           "linecolor": "white",
           "ticks": "",
           "title": {
            "standoff": 15
           },
           "zerolinecolor": "white",
           "zerolinewidth": 2
          }
         }
        },
        "title": {
         "font": {
          "color": "White",
          "size": 15
         },
         "text": "Severe Wasting % (South-Sudan)"
        }
       }
      },
      "text/html": [
       "<div>                            <div id=\"7aaec1d0-ac57-412f-90e3-a52c7f4559ee\" class=\"plotly-graph-div\" style=\"height:525px; width:100%;\"></div>            <script type=\"text/javascript\">                require([\"plotly\"], function(Plotly) {                    window.PLOTLYENV=window.PLOTLYENV || {};                                    if (document.getElementById(\"7aaec1d0-ac57-412f-90e3-a52c7f4559ee\")) {                    Plotly.newPlot(                        \"7aaec1d0-ac57-412f-90e3-a52c7f4559ee\",                        [{\"colorbar\":{\"len\":200,\"lenmode\":\"pixels\",\"title\":{\"text\":\"Severe Wasting % \"}},\"colorscale\":[[0.0,\"rgb(12,51,131)\"],[0.25,\"rgb(10,136,186)\"],[0.5,\"rgb(242,211,56)\"],[0.75,\"rgb(242,143,56)\"],[1.0,\"rgb(217,30,30)\"]],\"locationmode\":\"country names\",\"locations\":[\"AFGHANISTAN\",\"ALBANIA\",\"ALGERIA\",\"ANGOLA\",\"ARGENTINA\",\"ARMENIA\",\"AUSTRALIA\",\"AZERBAIJAN\",\"BAHRAIN\",\"BANGLADESH\",\"BARBADOS\",\"BELARUS\",\"BELIZE\",\"BENIN\",\"BHUTAN\",\"BOLIVIA (PLURINATIONAL STATE OF)\",\"BOSNIA AND HERZEGOVINA\",\"BOTSWANA\",\"BRAZIL\",\"BRUNEI DARUSSALAM\",\"BULGARIA\",\"BURKINA FASO\",\"BURUNDI\",\"CABO VERDE\",\"CAMBODIA\",\"CAMEROON\",\"CANADA\",\"CENTRAL AFRICAN REPUBLIC (THE)\",\"CHAD\",\"CHILE\",\"CHINA\",\"COLOMBIA\",\"COMOROS (THE)\",\"CONGO (THE)\",\"COSTA RICA\",\"COTE D'IVOIRE\",\"CUBA\",\"CZECHIA\",\"DEMOCRATIC PEOPLE'S REP. OF KOREA (THE)\",\"DEMOCRATIC REP. OF THE CONGO (THE)\",\"DJIBOUTI\",\"DOMINICAN REPUBLIC (THE)\",\"ECUADOR\",\"EGYPT\",\"EL SALVADOR\",\"EQUATORIAL GUINEA\",\"ERITREA\",\"ESWATINI\",\"ETHIOPIA\",\"FIJI\",\"GABON\",\"GAMBIA (THE)\",\"GEORGIA\",\"GERMANY\",\"GHANA\",\"GUATEMALA\",\"GUINEA\",\"GUINEA-BISSAU\",\"GUYANA\",\"HAITI\",\"HONDURAS\",\"INDIA\",\"INDONESIA\",\"IRAN (ISLAMIC REPUBLIC OF)\",\"IRAQ\",\"JAMAICA\",\"JAPAN\",\"JORDAN\",\"KAZAKHSTAN\",\"KENYA\",\"KIRIBATI\",\"KUWAIT\",\"KYRGYZSTAN\",\"LAO PEOPLE'S DEMOCRATIC REP. (THE)\",\"LEBANON\",\"LESOTHO\",\"LIBERIA\",\"LIBYA\",\"MADAGASCAR\",\"MALAWI\",\"MALAYSIA\",\"MALDIVES\",\"MALI\",\"MARSHALL ISLANDS\",\"MAURITANIA\",\"MAURITIUS\",\"MEXICO\",\"MONGOLIA\",\"MONTENEGRO\",\"MOROCCO\",\"MOZAMBIQUE\",\"MYANMAR\",\"NAMIBIA\",\"NAURU\",\"NEPAL\",\"NICARAGUA\",\"NIGER (THE)\",\"NIGERIA\",\"NORTH MACEDONIA\",\"OMAN\",\"PAKISTAN\",\"PANAMA\",\"PAPUA NEW GUINEA\",\"PARAGUAY\",\"PERU\",\"PHILIPPINES (THE)\",\"POLAND\",\"QATAR\",\"REPUBLIC OF KOREA (THE)\",\"REPUBLIC OF MOLDOVA (THE)\",\"ROMANIA\",\"RWANDA\",\"SAINT LUCIA\",\"SAMOA\",\"SAO TOME AND PRINCIPE\",\"SAUDI ARABIA\",\"SENEGAL\",\"SERBIA\",\"SEYCHELLES\",\"SIERRA LEONE\",\"SINGAPORE\",\"SOLOMON ISLANDS\",\"SOMALIA\",\"SOUTH AFRICA\",\"SOUTH SUDAN\",\"SRI LANKA\",\"STATE OF PALESTINE\",\"SUDAN (THE)\",\"SURINAME\",\"SYRIAN ARAB REPUBLIC (THE)\",\"TAJIKISTAN\",\"THAILAND\",\"TIMOR-LESTE\",\"TOGO\",\"TONGA\",\"TRINIDAD AND TOBAGO\",\"TUNISIA\",\"TURKEY\",\"TURKMENISTAN\",\"TUVALU\",\"UGANDA\",\"UKRAINE\",\"UNITED REPUBLIC OF TANZANIA (THE)\",\"UNITED STATES OF AMERICA (THE)\",\"URUGUAY\",\"UZBEKISTAN\",\"VANUATU\",\"VENEZUELA (BOLIVARIAN REPUBLIC OF)\",\"VIET NAM\",\"YEMEN\",\"ZAMBIA\",\"ZIMBABWE\"],\"text\":[\"AFGHANISTAN\",\"ALBANIA\",\"ALGERIA\",\"ANGOLA\",\"ARGENTINA\",\"ARMENIA\",\"AUSTRALIA\",\"AZERBAIJAN\",\"BAHRAIN\",\"BANGLADESH\",\"BARBADOS\",\"BELARUS\",\"BELIZE\",\"BENIN\",\"BHUTAN\",\"BOLIVIA (PLURINATIONAL STATE OF)\",\"BOSNIA AND HERZEGOVINA\",\"BOTSWANA\",\"BRAZIL\",\"BRUNEI DARUSSALAM\",\"BULGARIA\",\"BURKINA FASO\",\"BURUNDI\",\"CABO VERDE\",\"CAMBODIA\",\"CAMEROON\",\"CANADA\",\"CENTRAL AFRICAN REPUBLIC (THE)\",\"CHAD\",\"CHILE\",\"CHINA\",\"COLOMBIA\",\"COMOROS (THE)\",\"CONGO (THE)\",\"COSTA RICA\",\"COTE D'IVOIRE\",\"CUBA\",\"CZECHIA\",\"DEMOCRATIC PEOPLE'S REP. OF KOREA (THE)\",\"DEMOCRATIC REP. OF THE CONGO (THE)\",\"DJIBOUTI\",\"DOMINICAN REPUBLIC (THE)\",\"ECUADOR\",\"EGYPT\",\"EL SALVADOR\",\"EQUATORIAL GUINEA\",\"ERITREA\",\"ESWATINI\",\"ETHIOPIA\",\"FIJI\",\"GABON\",\"GAMBIA (THE)\",\"GEORGIA\",\"GERMANY\",\"GHANA\",\"GUATEMALA\",\"GUINEA\",\"GUINEA-BISSAU\",\"GUYANA\",\"HAITI\",\"HONDURAS\",\"INDIA\",\"INDONESIA\",\"IRAN (ISLAMIC REPUBLIC OF)\",\"IRAQ\",\"JAMAICA\",\"JAPAN\",\"JORDAN\",\"KAZAKHSTAN\",\"KENYA\",\"KIRIBATI\",\"KUWAIT\",\"KYRGYZSTAN\",\"LAO PEOPLE'S DEMOCRATIC REP. (THE)\",\"LEBANON\",\"LESOTHO\",\"LIBERIA\",\"LIBYA\",\"MADAGASCAR\",\"MALAWI\",\"MALAYSIA\",\"MALDIVES\",\"MALI\",\"MARSHALL ISLANDS\",\"MAURITANIA\",\"MAURITIUS\",\"MEXICO\",\"MONGOLIA\",\"MONTENEGRO\",\"MOROCCO\",\"MOZAMBIQUE\",\"MYANMAR\",\"NAMIBIA\",\"NAURU\",\"NEPAL\",\"NICARAGUA\",\"NIGER (THE)\",\"NIGERIA\",\"NORTH MACEDONIA\",\"OMAN\",\"PAKISTAN\",\"PANAMA\",\"PAPUA NEW GUINEA\",\"PARAGUAY\",\"PERU\",\"PHILIPPINES (THE)\",\"POLAND\",\"QATAR\",\"REPUBLIC OF KOREA (THE)\",\"REPUBLIC OF MOLDOVA (THE)\",\"ROMANIA\",\"RWANDA\",\"SAINT LUCIA\",\"SAMOA\",\"SAO TOME AND PRINCIPE\",\"SAUDI ARABIA\",\"SENEGAL\",\"SERBIA\",\"SEYCHELLES\",\"SIERRA LEONE\",\"SINGAPORE\",\"SOLOMON ISLANDS\",\"SOMALIA\",\"SOUTH AFRICA\",\"SOUTH SUDAN\",\"SRI LANKA\",\"STATE OF PALESTINE\",\"SUDAN (THE)\",\"SURINAME\",\"SYRIAN ARAB REPUBLIC (THE)\",\"TAJIKISTAN\",\"THAILAND\",\"TIMOR-LESTE\",\"TOGO\",\"TONGA\",\"TRINIDAD AND TOBAGO\",\"TUNISIA\",\"TURKEY\",\"TURKMENISTAN\",\"TUVALU\",\"UGANDA\",\"UKRAINE\",\"UNITED REPUBLIC OF TANZANIA (THE)\",\"UNITED STATES OF AMERICA (THE)\",\"URUGUAY\",\"UZBEKISTAN\",\"VANUATU\",\"VENEZUELA (BOLIVARIAN REPUBLIC OF)\",\"VIET NAM\",\"YEMEN\",\"ZAMBIA\",\"ZIMBABWE\"],\"z\":[3.033333333333333,4.075,2.733333333333333,2.4,0.2,1.6,0.0,2.575,null,2.813636363636364,2.0,0.6,0.8333333333333334,2.425,1.4,0.7000000000000001,2.2,2.85,0.7,0.4,1.5333333333333332,4.1692307692307695,1.2600000000000002,null,3.483333333333334,1.8142857142857145,null,3.16,5.5,null,0.9199999999999996,0.3666666666666667,5.4,2.4333333333333336,null,2.6,null,1.0,1.275,4.15,9.4,0.7428571428571429,0.58,2.4875000000000003,0.4333333333333333,2.425,4.633333333333333,0.5999999999999999,3.016666666666666,2.0,1.4,2.085714285714286,0.8500000000000001,0.1,2.011111111111111,0.8571428571428571,3.242857142857143,2.9250000000000003,2.45,1.98,0.275,6.116666666666667,4.171428571428572,1.4,2.175,0.9210526315789472,0.2,0.7600000000000001,1.58,2.3625000000000003,null,0.6285714285714284,0.8166666666666668,3.2,2.25,1.62,1.7799999999999998,3.233333333333333,2.24,1.6076923076923082,null,4.725,4.457142857142856,1.1,3.975,null,0.6499999999999999,0.9625,1.7000000000000002,1.95,2.566666666666667,2.5,2.75,0.2,2.5285714285714285,0.75,4.33,4.379999999999999,0.6333333333333334,1.6800000000000002,4.5,0.3333333333333333,2.8000000000000003,0.3333333333333333,0.2133333333333333,1.92,null,null,0.15,1.45,0.9000000000000001,1.425,0.7,1.3,2.333333333333333,4.5,1.825,1.2333333333333334,1.2,3.075,0.5,2.333333333333333,4.35,2.92,11.4,2.45,0.8499999999999999,4.766666666666667,1.2666666666666666,5.05,2.483333333333333,1.475,4.775,2.0375,2.1,1.4,1.1,0.6,1.6,0.9,1.3333333333333337,3.8,1.5,0.04,0.65,2.975,1.7,null,2.3312500000000003,5.3,2.042857142857143,1.3888888888888888],\"type\":\"choropleth\"}],                        {\"geo\":{\"bgcolor\":\"rgba(255,255,255,0)\",\"projection\":{\"type\":\"natural earth\"},\"scope\":\"world\",\"showframe\":false},\"margin\":{\"b\":0,\"l\":0,\"r\":0,\"t\":40},\"paper_bgcolor\":\"#000000\",\"title\":{\"font\":{\"color\":\"White\",\"size\":15},\"text\":\"Severe Wasting % (South-Sudan)\"},\"template\":{\"data\":{\"bar\":[{\"error_x\":{\"color\":\"#2a3f5f\"},\"error_y\":{\"color\":\"#2a3f5f\"},\"marker\":{\"line\":{\"color\":\"#E5ECF6\",\"width\":0.5},\"pattern\":{\"fillmode\":\"overlay\",\"size\":10,\"solidity\":0.2}},\"type\":\"bar\"}],\"barpolar\":[{\"marker\":{\"line\":{\"color\":\"#E5ECF6\",\"width\":0.5},\"pattern\":{\"fillmode\":\"overlay\",\"size\":10,\"solidity\":0.2}},\"type\":\"barpolar\"}],\"carpet\":[{\"aaxis\":{\"endlinecolor\":\"#2a3f5f\",\"gridcolor\":\"white\",\"linecolor\":\"white\",\"minorgridcolor\":\"white\",\"startlinecolor\":\"#2a3f5f\"},\"baxis\":{\"endlinecolor\":\"#2a3f5f\",\"gridcolor\":\"white\",\"linecolor\":\"white\",\"minorgridcolor\":\"white\",\"startlinecolor\":\"#2a3f5f\"},\"type\":\"carpet\"}],\"choropleth\":[{\"colorbar\":{\"outlinewidth\":0,\"ticks\":\"\"},\"type\":\"choropleth\"}],\"contour\":[{\"colorbar\":{\"outlinewidth\":0,\"ticks\":\"\"},\"colorscale\":[[0.0,\"#0d0887\"],[0.1111111111111111,\"#46039f\"],[0.2222222222222222,\"#7201a8\"],[0.3333333333333333,\"#9c179e\"],[0.4444444444444444,\"#bd3786\"],[0.5555555555555556,\"#d8576b\"],[0.6666666666666666,\"#ed7953\"],[0.7777777777777778,\"#fb9f3a\"],[0.8888888888888888,\"#fdca26\"],[1.0,\"#f0f921\"]],\"type\":\"contour\"}],\"contourcarpet\":[{\"colorbar\":{\"outlinewidth\":0,\"ticks\":\"\"},\"type\":\"contourcarpet\"}],\"heatmap\":[{\"colorbar\":{\"outlinewidth\":0,\"ticks\":\"\"},\"colorscale\":[[0.0,\"#0d0887\"],[0.1111111111111111,\"#46039f\"],[0.2222222222222222,\"#7201a8\"],[0.3333333333333333,\"#9c179e\"],[0.4444444444444444,\"#bd3786\"],[0.5555555555555556,\"#d8576b\"],[0.6666666666666666,\"#ed7953\"],[0.7777777777777778,\"#fb9f3a\"],[0.8888888888888888,\"#fdca26\"],[1.0,\"#f0f921\"]],\"type\":\"heatmap\"}],\"heatmapgl\":[{\"colorbar\":{\"outlinewidth\":0,\"ticks\":\"\"},\"colorscale\":[[0.0,\"#0d0887\"],[0.1111111111111111,\"#46039f\"],[0.2222222222222222,\"#7201a8\"],[0.3333333333333333,\"#9c179e\"],[0.4444444444444444,\"#bd3786\"],[0.5555555555555556,\"#d8576b\"],[0.6666666666666666,\"#ed7953\"],[0.7777777777777778,\"#fb9f3a\"],[0.8888888888888888,\"#fdca26\"],[1.0,\"#f0f921\"]],\"type\":\"heatmapgl\"}],\"histogram\":[{\"marker\":{\"pattern\":{\"fillmode\":\"overlay\",\"size\":10,\"solidity\":0.2}},\"type\":\"histogram\"}],\"histogram2d\":[{\"colorbar\":{\"outlinewidth\":0,\"ticks\":\"\"},\"colorscale\":[[0.0,\"#0d0887\"],[0.1111111111111111,\"#46039f\"],[0.2222222222222222,\"#7201a8\"],[0.3333333333333333,\"#9c179e\"],[0.4444444444444444,\"#bd3786\"],[0.5555555555555556,\"#d8576b\"],[0.6666666666666666,\"#ed7953\"],[0.7777777777777778,\"#fb9f3a\"],[0.8888888888888888,\"#fdca26\"],[1.0,\"#f0f921\"]],\"type\":\"histogram2d\"}],\"histogram2dcontour\":[{\"colorbar\":{\"outlinewidth\":0,\"ticks\":\"\"},\"colorscale\":[[0.0,\"#0d0887\"],[0.1111111111111111,\"#46039f\"],[0.2222222222222222,\"#7201a8\"],[0.3333333333333333,\"#9c179e\"],[0.4444444444444444,\"#bd3786\"],[0.5555555555555556,\"#d8576b\"],[0.6666666666666666,\"#ed7953\"],[0.7777777777777778,\"#fb9f3a\"],[0.8888888888888888,\"#fdca26\"],[1.0,\"#f0f921\"]],\"type\":\"histogram2dcontour\"}],\"mesh3d\":[{\"colorbar\":{\"outlinewidth\":0,\"ticks\":\"\"},\"type\":\"mesh3d\"}],\"parcoords\":[{\"line\":{\"colorbar\":{\"outlinewidth\":0,\"ticks\":\"\"}},\"type\":\"parcoords\"}],\"pie\":[{\"automargin\":true,\"type\":\"pie\"}],\"scatter\":[{\"marker\":{\"colorbar\":{\"outlinewidth\":0,\"ticks\":\"\"}},\"type\":\"scatter\"}],\"scatter3d\":[{\"line\":{\"colorbar\":{\"outlinewidth\":0,\"ticks\":\"\"}},\"marker\":{\"colorbar\":{\"outlinewidth\":0,\"ticks\":\"\"}},\"type\":\"scatter3d\"}],\"scattercarpet\":[{\"marker\":{\"colorbar\":{\"outlinewidth\":0,\"ticks\":\"\"}},\"type\":\"scattercarpet\"}],\"scattergeo\":[{\"marker\":{\"colorbar\":{\"outlinewidth\":0,\"ticks\":\"\"}},\"type\":\"scattergeo\"}],\"scattergl\":[{\"marker\":{\"colorbar\":{\"outlinewidth\":0,\"ticks\":\"\"}},\"type\":\"scattergl\"}],\"scattermapbox\":[{\"marker\":{\"colorbar\":{\"outlinewidth\":0,\"ticks\":\"\"}},\"type\":\"scattermapbox\"}],\"scatterpolar\":[{\"marker\":{\"colorbar\":{\"outlinewidth\":0,\"ticks\":\"\"}},\"type\":\"scatterpolar\"}],\"scatterpolargl\":[{\"marker\":{\"colorbar\":{\"outlinewidth\":0,\"ticks\":\"\"}},\"type\":\"scatterpolargl\"}],\"scatterternary\":[{\"marker\":{\"colorbar\":{\"outlinewidth\":0,\"ticks\":\"\"}},\"type\":\"scatterternary\"}],\"surface\":[{\"colorbar\":{\"outlinewidth\":0,\"ticks\":\"\"},\"colorscale\":[[0.0,\"#0d0887\"],[0.1111111111111111,\"#46039f\"],[0.2222222222222222,\"#7201a8\"],[0.3333333333333333,\"#9c179e\"],[0.4444444444444444,\"#bd3786\"],[0.5555555555555556,\"#d8576b\"],[0.6666666666666666,\"#ed7953\"],[0.7777777777777778,\"#fb9f3a\"],[0.8888888888888888,\"#fdca26\"],[1.0,\"#f0f921\"]],\"type\":\"surface\"}],\"table\":[{\"cells\":{\"fill\":{\"color\":\"#EBF0F8\"},\"line\":{\"color\":\"white\"}},\"header\":{\"fill\":{\"color\":\"#C8D4E3\"},\"line\":{\"color\":\"white\"}},\"type\":\"table\"}]},\"layout\":{\"annotationdefaults\":{\"arrowcolor\":\"#2a3f5f\",\"arrowhead\":0,\"arrowwidth\":1},\"autotypenumbers\":\"strict\",\"coloraxis\":{\"colorbar\":{\"outlinewidth\":0,\"ticks\":\"\"}},\"colorscale\":{\"diverging\":[[0,\"#8e0152\"],[0.1,\"#c51b7d\"],[0.2,\"#de77ae\"],[0.3,\"#f1b6da\"],[0.4,\"#fde0ef\"],[0.5,\"#f7f7f7\"],[0.6,\"#e6f5d0\"],[0.7,\"#b8e186\"],[0.8,\"#7fbc41\"],[0.9,\"#4d9221\"],[1,\"#276419\"]],\"sequential\":[[0.0,\"#0d0887\"],[0.1111111111111111,\"#46039f\"],[0.2222222222222222,\"#7201a8\"],[0.3333333333333333,\"#9c179e\"],[0.4444444444444444,\"#bd3786\"],[0.5555555555555556,\"#d8576b\"],[0.6666666666666666,\"#ed7953\"],[0.7777777777777778,\"#fb9f3a\"],[0.8888888888888888,\"#fdca26\"],[1.0,\"#f0f921\"]],\"sequentialminus\":[[0.0,\"#0d0887\"],[0.1111111111111111,\"#46039f\"],[0.2222222222222222,\"#7201a8\"],[0.3333333333333333,\"#9c179e\"],[0.4444444444444444,\"#bd3786\"],[0.5555555555555556,\"#d8576b\"],[0.6666666666666666,\"#ed7953\"],[0.7777777777777778,\"#fb9f3a\"],[0.8888888888888888,\"#fdca26\"],[1.0,\"#f0f921\"]]},\"colorway\":[\"#636efa\",\"#EF553B\",\"#00cc96\",\"#ab63fa\",\"#FFA15A\",\"#19d3f3\",\"#FF6692\",\"#B6E880\",\"#FF97FF\",\"#FECB52\"],\"font\":{\"color\":\"#2a3f5f\"},\"geo\":{\"bgcolor\":\"white\",\"lakecolor\":\"white\",\"landcolor\":\"#E5ECF6\",\"showlakes\":true,\"showland\":true,\"subunitcolor\":\"white\"},\"hoverlabel\":{\"align\":\"left\"},\"hovermode\":\"closest\",\"mapbox\":{\"style\":\"light\"},\"paper_bgcolor\":\"white\",\"plot_bgcolor\":\"#E5ECF6\",\"polar\":{\"angularaxis\":{\"gridcolor\":\"white\",\"linecolor\":\"white\",\"ticks\":\"\"},\"bgcolor\":\"#E5ECF6\",\"radialaxis\":{\"gridcolor\":\"white\",\"linecolor\":\"white\",\"ticks\":\"\"}},\"scene\":{\"xaxis\":{\"backgroundcolor\":\"#E5ECF6\",\"gridcolor\":\"white\",\"gridwidth\":2,\"linecolor\":\"white\",\"showbackground\":true,\"ticks\":\"\",\"zerolinecolor\":\"white\"},\"yaxis\":{\"backgroundcolor\":\"#E5ECF6\",\"gridcolor\":\"white\",\"gridwidth\":2,\"linecolor\":\"white\",\"showbackground\":true,\"ticks\":\"\",\"zerolinecolor\":\"white\"},\"zaxis\":{\"backgroundcolor\":\"#E5ECF6\",\"gridcolor\":\"white\",\"gridwidth\":2,\"linecolor\":\"white\",\"showbackground\":true,\"ticks\":\"\",\"zerolinecolor\":\"white\"}},\"shapedefaults\":{\"line\":{\"color\":\"#2a3f5f\"}},\"ternary\":{\"aaxis\":{\"gridcolor\":\"white\",\"linecolor\":\"white\",\"ticks\":\"\"},\"baxis\":{\"gridcolor\":\"white\",\"linecolor\":\"white\",\"ticks\":\"\"},\"bgcolor\":\"#E5ECF6\",\"caxis\":{\"gridcolor\":\"white\",\"linecolor\":\"white\",\"ticks\":\"\"}},\"title\":{\"x\":0.05},\"xaxis\":{\"automargin\":true,\"gridcolor\":\"white\",\"linecolor\":\"white\",\"ticks\":\"\",\"title\":{\"standoff\":15},\"zerolinecolor\":\"white\",\"zerolinewidth\":2},\"yaxis\":{\"automargin\":true,\"gridcolor\":\"white\",\"linecolor\":\"white\",\"ticks\":\"\",\"title\":{\"standoff\":15},\"zerolinecolor\":\"white\",\"zerolinewidth\":2}}}},                        {\"responsive\": true}                    ).then(function(){\n",
       "                            \n",
       "var gd = document.getElementById('7aaec1d0-ac57-412f-90e3-a52c7f4559ee');\n",
       "var x = new MutationObserver(function (mutations, observer) {{\n",
       "        var display = window.getComputedStyle(gd).display;\n",
       "        if (!display || display === 'none') {{\n",
       "            console.log([gd, 'removed!']);\n",
       "            Plotly.purge(gd);\n",
       "            observer.disconnect();\n",
       "        }}\n",
       "}});\n",
       "\n",
       "// Listen for the removal of the full notebook cells\n",
       "var notebookContainer = gd.closest('#notebook-container');\n",
       "if (notebookContainer) {{\n",
       "    x.observe(notebookContainer, {childList: true});\n",
       "}}\n",
       "\n",
       "// Listen for the clearing of the current output cell\n",
       "var outputEl = gd.closest('.output');\n",
       "if (outputEl) {{\n",
       "    x.observe(outputEl, {childList: true});\n",
       "}}\n",
       "\n",
       "                        })                };                });            </script>        </div>"
      ]
     },
     "metadata": {},
     "output_type": "display_data"
    }
   ],
   "source": [
    "import plotly.graph_objects as go\n",
    "\n",
    "#Plotting on the WorldMap using plotly\n",
    "x1= df.groupby([\"Country\"])[\"Severe Wasting\"].mean()\n",
    "\n",
    "\n",
    "col_map1 = go.Figure(\n",
    "                data=go.Choropleth(\n",
    "                locations = x1.index,\n",
    "                locationmode = 'country names',\n",
    "                colorscale= 'portland',\n",
    "                text= x1.index,\n",
    "                z=x1,\n",
    "                colorbar = {'title':'Severe Wasting % ', 'len':200,'lenmode':'pixels' },\n",
    "                \n",
    "            ), layout = go.Layout(geo=dict(bgcolor= 'rgba(255,255,255,0)',showframe=False, projection = {'type': 'natural earth'}),\n",
    "                                  title = 'Severe Wasting % (South-Sudan)',\n",
    "                                  \n",
    "                                  titlefont = {\"size\": 15, \"color\":\"White\"},\n",
    "                                  geo_scope='world',\n",
    "                                  margin={\"r\":0,\"t\":40,\"l\":0,\"b\":0},\n",
    "                                  paper_bgcolor='#000000',\n",
    "                                 \n",
    "                                  )\n",
    "            )\n",
    "\n",
    "col_map1.show()"
   ]
  },
  {
   "cell_type": "code",
   "execution_count": 95,
   "id": "08a2af7d",
   "metadata": {},
   "outputs": [
    {
     "data": {
      "application/vnd.plotly.v1+json": {
       "config": {
        "plotlyServerURL": "https://plot.ly"
       },
       "data": [
        {
         "colorbar": {
          "len": 200,
          "lenmode": "pixels",
          "title": {
           "text": " Wasting %"
          }
         },
         "colorscale": [
          [
           0,
           "rgb(12,51,131)"
          ],
          [
           0.25,
           "rgb(10,136,186)"
          ],
          [
           0.5,
           "rgb(242,211,56)"
          ],
          [
           0.75,
           "rgb(242,143,56)"
          ],
          [
           1,
           "rgb(217,30,30)"
          ]
         ],
         "locationmode": "country names",
         "locations": [
          "AFGHANISTAN",
          "ALBANIA",
          "ALGERIA",
          "ANGOLA",
          "ARGENTINA",
          "ARMENIA",
          "AUSTRALIA",
          "AZERBAIJAN",
          "BAHRAIN",
          "BANGLADESH",
          "BARBADOS",
          "BELARUS",
          "BELIZE",
          "BENIN",
          "BHUTAN",
          "BOLIVIA (PLURINATIONAL STATE OF)",
          "BOSNIA AND HERZEGOVINA",
          "BOTSWANA",
          "BRAZIL",
          "BRUNEI DARUSSALAM",
          "BULGARIA",
          "BURKINA FASO",
          "BURUNDI",
          "CABO VERDE",
          "CAMBODIA",
          "CAMEROON",
          "CANADA",
          "CENTRAL AFRICAN REPUBLIC (THE)",
          "CHAD",
          "CHILE",
          "CHINA",
          "COLOMBIA",
          "COMOROS (THE)",
          "CONGO (THE)",
          "COSTA RICA",
          "COTE D'IVOIRE",
          "CUBA",
          "CZECHIA",
          "DEMOCRATIC PEOPLE'S REP. OF KOREA (THE)",
          "DEMOCRATIC REP. OF THE CONGO (THE)",
          "DJIBOUTI",
          "DOMINICAN REPUBLIC (THE)",
          "ECUADOR",
          "EGYPT",
          "EL SALVADOR",
          "EQUATORIAL GUINEA",
          "ERITREA",
          "ESWATINI",
          "ETHIOPIA",
          "FIJI",
          "GABON",
          "GAMBIA (THE)",
          "GEORGIA",
          "GERMANY",
          "GHANA",
          "GUATEMALA",
          "GUINEA",
          "GUINEA-BISSAU",
          "GUYANA",
          "HAITI",
          "HONDURAS",
          "INDIA",
          "INDONESIA",
          "IRAN (ISLAMIC REPUBLIC OF)",
          "IRAQ",
          "JAMAICA",
          "JAPAN",
          "JORDAN",
          "KAZAKHSTAN",
          "KENYA",
          "KIRIBATI",
          "KUWAIT",
          "KYRGYZSTAN",
          "LAO PEOPLE'S DEMOCRATIC REP. (THE)",
          "LEBANON",
          "LESOTHO",
          "LIBERIA",
          "LIBYA",
          "MADAGASCAR",
          "MALAWI",
          "MALAYSIA",
          "MALDIVES",
          "MALI",
          "MARSHALL ISLANDS",
          "MAURITANIA",
          "MAURITIUS",
          "MEXICO",
          "MONGOLIA",
          "MONTENEGRO",
          "MOROCCO",
          "MOZAMBIQUE",
          "MYANMAR",
          "NAMIBIA",
          "NAURU",
          "NEPAL",
          "NICARAGUA",
          "NIGER (THE)",
          "NIGERIA",
          "NORTH MACEDONIA",
          "OMAN",
          "PAKISTAN",
          "PANAMA",
          "PAPUA NEW GUINEA",
          "PARAGUAY",
          "PERU",
          "PHILIPPINES (THE)",
          "POLAND",
          "QATAR",
          "REPUBLIC OF KOREA (THE)",
          "REPUBLIC OF MOLDOVA (THE)",
          "ROMANIA",
          "RWANDA",
          "SAINT LUCIA",
          "SAMOA",
          "SAO TOME AND PRINCIPE",
          "SAUDI ARABIA",
          "SENEGAL",
          "SERBIA",
          "SEYCHELLES",
          "SIERRA LEONE",
          "SINGAPORE",
          "SOLOMON ISLANDS",
          "SOMALIA",
          "SOUTH AFRICA",
          "SOUTH SUDAN",
          "SRI LANKA",
          "STATE OF PALESTINE",
          "SUDAN (THE)",
          "SURINAME",
          "SYRIAN ARAB REPUBLIC (THE)",
          "TAJIKISTAN",
          "THAILAND",
          "TIMOR-LESTE",
          "TOGO",
          "TONGA",
          "TRINIDAD AND TOBAGO",
          "TUNISIA",
          "TURKEY",
          "TURKMENISTAN",
          "TUVALU",
          "UGANDA",
          "UKRAINE",
          "UNITED REPUBLIC OF TANZANIA (THE)",
          "UNITED STATES OF AMERICA (THE)",
          "URUGUAY",
          "UZBEKISTAN",
          "VANUATU",
          "VENEZUELA (BOLIVARIAN REPUBLIC OF)",
          "VIET NAM",
          "YEMEN",
          "ZAMBIA",
          "ZIMBABWE"
         ],
         "text": [
          "AFGHANISTAN",
          "ALBANIA",
          "ALGERIA",
          "ANGOLA",
          "ARGENTINA",
          "ARMENIA",
          "AUSTRALIA",
          "AZERBAIJAN",
          "BAHRAIN",
          "BANGLADESH",
          "BARBADOS",
          "BELARUS",
          "BELIZE",
          "BENIN",
          "BHUTAN",
          "BOLIVIA (PLURINATIONAL STATE OF)",
          "BOSNIA AND HERZEGOVINA",
          "BOTSWANA",
          "BRAZIL",
          "BRUNEI DARUSSALAM",
          "BULGARIA",
          "BURKINA FASO",
          "BURUNDI",
          "CABO VERDE",
          "CAMBODIA",
          "CAMEROON",
          "CANADA",
          "CENTRAL AFRICAN REPUBLIC (THE)",
          "CHAD",
          "CHILE",
          "CHINA",
          "COLOMBIA",
          "COMOROS (THE)",
          "CONGO (THE)",
          "COSTA RICA",
          "COTE D'IVOIRE",
          "CUBA",
          "CZECHIA",
          "DEMOCRATIC PEOPLE'S REP. OF KOREA (THE)",
          "DEMOCRATIC REP. OF THE CONGO (THE)",
          "DJIBOUTI",
          "DOMINICAN REPUBLIC (THE)",
          "ECUADOR",
          "EGYPT",
          "EL SALVADOR",
          "EQUATORIAL GUINEA",
          "ERITREA",
          "ESWATINI",
          "ETHIOPIA",
          "FIJI",
          "GABON",
          "GAMBIA (THE)",
          "GEORGIA",
          "GERMANY",
          "GHANA",
          "GUATEMALA",
          "GUINEA",
          "GUINEA-BISSAU",
          "GUYANA",
          "HAITI",
          "HONDURAS",
          "INDIA",
          "INDONESIA",
          "IRAN (ISLAMIC REPUBLIC OF)",
          "IRAQ",
          "JAMAICA",
          "JAPAN",
          "JORDAN",
          "KAZAKHSTAN",
          "KENYA",
          "KIRIBATI",
          "KUWAIT",
          "KYRGYZSTAN",
          "LAO PEOPLE'S DEMOCRATIC REP. (THE)",
          "LEBANON",
          "LESOTHO",
          "LIBERIA",
          "LIBYA",
          "MADAGASCAR",
          "MALAWI",
          "MALAYSIA",
          "MALDIVES",
          "MALI",
          "MARSHALL ISLANDS",
          "MAURITANIA",
          "MAURITIUS",
          "MEXICO",
          "MONGOLIA",
          "MONTENEGRO",
          "MOROCCO",
          "MOZAMBIQUE",
          "MYANMAR",
          "NAMIBIA",
          "NAURU",
          "NEPAL",
          "NICARAGUA",
          "NIGER (THE)",
          "NIGERIA",
          "NORTH MACEDONIA",
          "OMAN",
          "PAKISTAN",
          "PANAMA",
          "PAPUA NEW GUINEA",
          "PARAGUAY",
          "PERU",
          "PHILIPPINES (THE)",
          "POLAND",
          "QATAR",
          "REPUBLIC OF KOREA (THE)",
          "REPUBLIC OF MOLDOVA (THE)",
          "ROMANIA",
          "RWANDA",
          "SAINT LUCIA",
          "SAMOA",
          "SAO TOME AND PRINCIPE",
          "SAUDI ARABIA",
          "SENEGAL",
          "SERBIA",
          "SEYCHELLES",
          "SIERRA LEONE",
          "SINGAPORE",
          "SOLOMON ISLANDS",
          "SOMALIA",
          "SOUTH AFRICA",
          "SOUTH SUDAN",
          "SRI LANKA",
          "STATE OF PALESTINE",
          "SUDAN (THE)",
          "SURINAME",
          "SYRIAN ARAB REPUBLIC (THE)",
          "TAJIKISTAN",
          "THAILAND",
          "TIMOR-LESTE",
          "TOGO",
          "TONGA",
          "TRINIDAD AND TOBAGO",
          "TUNISIA",
          "TURKEY",
          "TURKMENISTAN",
          "TUVALU",
          "UGANDA",
          "UKRAINE",
          "UNITED REPUBLIC OF TANZANIA (THE)",
          "UNITED STATES OF AMERICA (THE)",
          "URUGUAY",
          "UZBEKISTAN",
          "VANUATU",
          "VENEZUELA (BOLIVARIAN REPUBLIC OF)",
          "VIET NAM",
          "YEMEN",
          "ZAMBIA",
          "ZIMBABWE"
         ],
         "type": "choropleth",
         "z": [
          10.35,
          7.76,
          5.942857142857143,
          6.933333333333333,
          2.1500000000000004,
          3.94,
          0,
          5.433333333333334,
          6.699999999999999,
          14.5375,
          6.8,
          2.2,
          2.333333333333333,
          7.7,
          4.525,
          1.9,
          4.566666666666666,
          8.8,
          2.3,
          2.9,
          4.666666666666667,
          12.73076923076923,
          6.666666666666667,
          5.550000000000001,
          11.466666666666669,
          5.671428571428571,
          null,
          8.766666666666667,
          15.239999999999998,
          0.4666666666666667,
          3.1749999999999994,
          1.657142857142857,
          10.125,
          7.2,
          1.7,
          8.8,
          2.4,
          3.7,
          8.842857142857143,
          10.86,
          17.075,
          2.2125,
          2.183333333333333,
          5.79,
          1.7,
          4.775,
          14.6,
          1.7,
          9.957142857142856,
          8.05,
          3.8,
          8.385714285714286,
          2.5666666666666664,
          0.65,
          7.622222222222222,
          2.2857142857142856,
          9.425,
          8.125,
          9.12,
          6.616666666666667,
          1.828571428571429,
          18.766666666666666,
          11.375,
          5.75,
          5.542857142857143,
          3.3950000000000005,
          2.3,
          2.58,
          4.2,
          6.466666666666667,
          12.6,
          2.5222222222222226,
          2.533333333333333,
          10.514285714285714,
          5.1,
          6.671428571428571,
          5.84,
          6.766666666666666,
          9.957142857142856,
          4.64,
          11.6,
          15.779999999999998,
          13.242857142857144,
          3.5,
          13.41,
          17,
          3.825,
          2.444444444444444,
          3.5,
          4.483333333333333,
          6.8,
          9.771428571428572,
          8.575000000000001,
          1,
          10.325,
          2.033333333333333,
          15.936363636363636,
          12.045454545454549,
          2.3,
          7.783333333333334,
          14.314285714285711,
          1.366666666666667,
          8,
          1.3250000000000002,
          0.7933333333333332,
          7.127272727272726,
          null,
          2.1,
          1.05,
          3.85,
          3.72,
          4.866666666666666,
          3.7,
          2.6,
          7.0200000000000005,
          7.35,
          8.27142857142857,
          3.966666666666667,
          3.5,
          8.610000000000001,
          3.6,
          6.733333333333333,
          15.633333333333336,
          5.371428571428572,
          23.65,
          15.7625,
          3.733333333333334,
          15.4,
          5.633333333333333,
          9.566666666666665,
          8.290909090909091,
          6.083333333333333,
          15.62,
          7.712499999999999,
          3.25,
          5.466666666666666,
          3.583333333333334,
          2.1,
          6.166666666666667,
          3.3,
          4.522222222222222,
          8.2,
          5.054545454545454,
          0.5142857142857143,
          2.3833333333333333,
          6.4750000000000005,
          5.8,
          4.333333333333333,
          8.661904761904761,
          15.242857142857142,
          5.542857142857144,
          4.166666666666666
         ]
        }
       ],
       "layout": {
        "geo": {
         "bgcolor": "rgba(255,255,255,0)",
         "projection": {
          "type": "natural earth"
         },
         "scope": "world",
         "showframe": false
        },
        "margin": {
         "b": 0,
         "l": 0,
         "r": 0,
         "t": 40
        },
        "paper_bgcolor": "#000000",
        "template": {
         "data": {
          "bar": [
           {
            "error_x": {
             "color": "#2a3f5f"
            },
            "error_y": {
             "color": "#2a3f5f"
            },
            "marker": {
             "line": {
              "color": "#E5ECF6",
              "width": 0.5
             },
             "pattern": {
              "fillmode": "overlay",
              "size": 10,
              "solidity": 0.2
             }
            },
            "type": "bar"
           }
          ],
          "barpolar": [
           {
            "marker": {
             "line": {
              "color": "#E5ECF6",
              "width": 0.5
             },
             "pattern": {
              "fillmode": "overlay",
              "size": 10,
              "solidity": 0.2
             }
            },
            "type": "barpolar"
           }
          ],
          "carpet": [
           {
            "aaxis": {
             "endlinecolor": "#2a3f5f",
             "gridcolor": "white",
             "linecolor": "white",
             "minorgridcolor": "white",
             "startlinecolor": "#2a3f5f"
            },
            "baxis": {
             "endlinecolor": "#2a3f5f",
             "gridcolor": "white",
             "linecolor": "white",
             "minorgridcolor": "white",
             "startlinecolor": "#2a3f5f"
            },
            "type": "carpet"
           }
          ],
          "choropleth": [
           {
            "colorbar": {
             "outlinewidth": 0,
             "ticks": ""
            },
            "type": "choropleth"
           }
          ],
          "contour": [
           {
            "colorbar": {
             "outlinewidth": 0,
             "ticks": ""
            },
            "colorscale": [
             [
              0,
              "#0d0887"
             ],
             [
              0.1111111111111111,
              "#46039f"
             ],
             [
              0.2222222222222222,
              "#7201a8"
             ],
             [
              0.3333333333333333,
              "#9c179e"
             ],
             [
              0.4444444444444444,
              "#bd3786"
             ],
             [
              0.5555555555555556,
              "#d8576b"
             ],
             [
              0.6666666666666666,
              "#ed7953"
             ],
             [
              0.7777777777777778,
              "#fb9f3a"
             ],
             [
              0.8888888888888888,
              "#fdca26"
             ],
             [
              1,
              "#f0f921"
             ]
            ],
            "type": "contour"
           }
          ],
          "contourcarpet": [
           {
            "colorbar": {
             "outlinewidth": 0,
             "ticks": ""
            },
            "type": "contourcarpet"
           }
          ],
          "heatmap": [
           {
            "colorbar": {
             "outlinewidth": 0,
             "ticks": ""
            },
            "colorscale": [
             [
              0,
              "#0d0887"
             ],
             [
              0.1111111111111111,
              "#46039f"
             ],
             [
              0.2222222222222222,
              "#7201a8"
             ],
             [
              0.3333333333333333,
              "#9c179e"
             ],
             [
              0.4444444444444444,
              "#bd3786"
             ],
             [
              0.5555555555555556,
              "#d8576b"
             ],
             [
              0.6666666666666666,
              "#ed7953"
             ],
             [
              0.7777777777777778,
              "#fb9f3a"
             ],
             [
              0.8888888888888888,
              "#fdca26"
             ],
             [
              1,
              "#f0f921"
             ]
            ],
            "type": "heatmap"
           }
          ],
          "heatmapgl": [
           {
            "colorbar": {
             "outlinewidth": 0,
             "ticks": ""
            },
            "colorscale": [
             [
              0,
              "#0d0887"
             ],
             [
              0.1111111111111111,
              "#46039f"
             ],
             [
              0.2222222222222222,
              "#7201a8"
             ],
             [
              0.3333333333333333,
              "#9c179e"
             ],
             [
              0.4444444444444444,
              "#bd3786"
             ],
             [
              0.5555555555555556,
              "#d8576b"
             ],
             [
              0.6666666666666666,
              "#ed7953"
             ],
             [
              0.7777777777777778,
              "#fb9f3a"
             ],
             [
              0.8888888888888888,
              "#fdca26"
             ],
             [
              1,
              "#f0f921"
             ]
            ],
            "type": "heatmapgl"
           }
          ],
          "histogram": [
           {
            "marker": {
             "pattern": {
              "fillmode": "overlay",
              "size": 10,
              "solidity": 0.2
             }
            },
            "type": "histogram"
           }
          ],
          "histogram2d": [
           {
            "colorbar": {
             "outlinewidth": 0,
             "ticks": ""
            },
            "colorscale": [
             [
              0,
              "#0d0887"
             ],
             [
              0.1111111111111111,
              "#46039f"
             ],
             [
              0.2222222222222222,
              "#7201a8"
             ],
             [
              0.3333333333333333,
              "#9c179e"
             ],
             [
              0.4444444444444444,
              "#bd3786"
             ],
             [
              0.5555555555555556,
              "#d8576b"
             ],
             [
              0.6666666666666666,
              "#ed7953"
             ],
             [
              0.7777777777777778,
              "#fb9f3a"
             ],
             [
              0.8888888888888888,
              "#fdca26"
             ],
             [
              1,
              "#f0f921"
             ]
            ],
            "type": "histogram2d"
           }
          ],
          "histogram2dcontour": [
           {
            "colorbar": {
             "outlinewidth": 0,
             "ticks": ""
            },
            "colorscale": [
             [
              0,
              "#0d0887"
             ],
             [
              0.1111111111111111,
              "#46039f"
             ],
             [
              0.2222222222222222,
              "#7201a8"
             ],
             [
              0.3333333333333333,
              "#9c179e"
             ],
             [
              0.4444444444444444,
              "#bd3786"
             ],
             [
              0.5555555555555556,
              "#d8576b"
             ],
             [
              0.6666666666666666,
              "#ed7953"
             ],
             [
              0.7777777777777778,
              "#fb9f3a"
             ],
             [
              0.8888888888888888,
              "#fdca26"
             ],
             [
              1,
              "#f0f921"
             ]
            ],
            "type": "histogram2dcontour"
           }
          ],
          "mesh3d": [
           {
            "colorbar": {
             "outlinewidth": 0,
             "ticks": ""
            },
            "type": "mesh3d"
           }
          ],
          "parcoords": [
           {
            "line": {
             "colorbar": {
              "outlinewidth": 0,
              "ticks": ""
             }
            },
            "type": "parcoords"
           }
          ],
          "pie": [
           {
            "automargin": true,
            "type": "pie"
           }
          ],
          "scatter": [
           {
            "marker": {
             "colorbar": {
              "outlinewidth": 0,
              "ticks": ""
             }
            },
            "type": "scatter"
           }
          ],
          "scatter3d": [
           {
            "line": {
             "colorbar": {
              "outlinewidth": 0,
              "ticks": ""
             }
            },
            "marker": {
             "colorbar": {
              "outlinewidth": 0,
              "ticks": ""
             }
            },
            "type": "scatter3d"
           }
          ],
          "scattercarpet": [
           {
            "marker": {
             "colorbar": {
              "outlinewidth": 0,
              "ticks": ""
             }
            },
            "type": "scattercarpet"
           }
          ],
          "scattergeo": [
           {
            "marker": {
             "colorbar": {
              "outlinewidth": 0,
              "ticks": ""
             }
            },
            "type": "scattergeo"
           }
          ],
          "scattergl": [
           {
            "marker": {
             "colorbar": {
              "outlinewidth": 0,
              "ticks": ""
             }
            },
            "type": "scattergl"
           }
          ],
          "scattermapbox": [
           {
            "marker": {
             "colorbar": {
              "outlinewidth": 0,
              "ticks": ""
             }
            },
            "type": "scattermapbox"
           }
          ],
          "scatterpolar": [
           {
            "marker": {
             "colorbar": {
              "outlinewidth": 0,
              "ticks": ""
             }
            },
            "type": "scatterpolar"
           }
          ],
          "scatterpolargl": [
           {
            "marker": {
             "colorbar": {
              "outlinewidth": 0,
              "ticks": ""
             }
            },
            "type": "scatterpolargl"
           }
          ],
          "scatterternary": [
           {
            "marker": {
             "colorbar": {
              "outlinewidth": 0,
              "ticks": ""
             }
            },
            "type": "scatterternary"
           }
          ],
          "surface": [
           {
            "colorbar": {
             "outlinewidth": 0,
             "ticks": ""
            },
            "colorscale": [
             [
              0,
              "#0d0887"
             ],
             [
              0.1111111111111111,
              "#46039f"
             ],
             [
              0.2222222222222222,
              "#7201a8"
             ],
             [
              0.3333333333333333,
              "#9c179e"
             ],
             [
              0.4444444444444444,
              "#bd3786"
             ],
             [
              0.5555555555555556,
              "#d8576b"
             ],
             [
              0.6666666666666666,
              "#ed7953"
             ],
             [
              0.7777777777777778,
              "#fb9f3a"
             ],
             [
              0.8888888888888888,
              "#fdca26"
             ],
             [
              1,
              "#f0f921"
             ]
            ],
            "type": "surface"
           }
          ],
          "table": [
           {
            "cells": {
             "fill": {
              "color": "#EBF0F8"
             },
             "line": {
              "color": "white"
             }
            },
            "header": {
             "fill": {
              "color": "#C8D4E3"
             },
             "line": {
              "color": "white"
             }
            },
            "type": "table"
           }
          ]
         },
         "layout": {
          "annotationdefaults": {
           "arrowcolor": "#2a3f5f",
           "arrowhead": 0,
           "arrowwidth": 1
          },
          "autotypenumbers": "strict",
          "coloraxis": {
           "colorbar": {
            "outlinewidth": 0,
            "ticks": ""
           }
          },
          "colorscale": {
           "diverging": [
            [
             0,
             "#8e0152"
            ],
            [
             0.1,
             "#c51b7d"
            ],
            [
             0.2,
             "#de77ae"
            ],
            [
             0.3,
             "#f1b6da"
            ],
            [
             0.4,
             "#fde0ef"
            ],
            [
             0.5,
             "#f7f7f7"
            ],
            [
             0.6,
             "#e6f5d0"
            ],
            [
             0.7,
             "#b8e186"
            ],
            [
             0.8,
             "#7fbc41"
            ],
            [
             0.9,
             "#4d9221"
            ],
            [
             1,
             "#276419"
            ]
           ],
           "sequential": [
            [
             0,
             "#0d0887"
            ],
            [
             0.1111111111111111,
             "#46039f"
            ],
            [
             0.2222222222222222,
             "#7201a8"
            ],
            [
             0.3333333333333333,
             "#9c179e"
            ],
            [
             0.4444444444444444,
             "#bd3786"
            ],
            [
             0.5555555555555556,
             "#d8576b"
            ],
            [
             0.6666666666666666,
             "#ed7953"
            ],
            [
             0.7777777777777778,
             "#fb9f3a"
            ],
            [
             0.8888888888888888,
             "#fdca26"
            ],
            [
             1,
             "#f0f921"
            ]
           ],
           "sequentialminus": [
            [
             0,
             "#0d0887"
            ],
            [
             0.1111111111111111,
             "#46039f"
            ],
            [
             0.2222222222222222,
             "#7201a8"
            ],
            [
             0.3333333333333333,
             "#9c179e"
            ],
            [
             0.4444444444444444,
             "#bd3786"
            ],
            [
             0.5555555555555556,
             "#d8576b"
            ],
            [
             0.6666666666666666,
             "#ed7953"
            ],
            [
             0.7777777777777778,
             "#fb9f3a"
            ],
            [
             0.8888888888888888,
             "#fdca26"
            ],
            [
             1,
             "#f0f921"
            ]
           ]
          },
          "colorway": [
           "#636efa",
           "#EF553B",
           "#00cc96",
           "#ab63fa",
           "#FFA15A",
           "#19d3f3",
           "#FF6692",
           "#B6E880",
           "#FF97FF",
           "#FECB52"
          ],
          "font": {
           "color": "#2a3f5f"
          },
          "geo": {
           "bgcolor": "white",
           "lakecolor": "white",
           "landcolor": "#E5ECF6",
           "showlakes": true,
           "showland": true,
           "subunitcolor": "white"
          },
          "hoverlabel": {
           "align": "left"
          },
          "hovermode": "closest",
          "mapbox": {
           "style": "light"
          },
          "paper_bgcolor": "white",
          "plot_bgcolor": "#E5ECF6",
          "polar": {
           "angularaxis": {
            "gridcolor": "white",
            "linecolor": "white",
            "ticks": ""
           },
           "bgcolor": "#E5ECF6",
           "radialaxis": {
            "gridcolor": "white",
            "linecolor": "white",
            "ticks": ""
           }
          },
          "scene": {
           "xaxis": {
            "backgroundcolor": "#E5ECF6",
            "gridcolor": "white",
            "gridwidth": 2,
            "linecolor": "white",
            "showbackground": true,
            "ticks": "",
            "zerolinecolor": "white"
           },
           "yaxis": {
            "backgroundcolor": "#E5ECF6",
            "gridcolor": "white",
            "gridwidth": 2,
            "linecolor": "white",
            "showbackground": true,
            "ticks": "",
            "zerolinecolor": "white"
           },
           "zaxis": {
            "backgroundcolor": "#E5ECF6",
            "gridcolor": "white",
            "gridwidth": 2,
            "linecolor": "white",
            "showbackground": true,
            "ticks": "",
            "zerolinecolor": "white"
           }
          },
          "shapedefaults": {
           "line": {
            "color": "#2a3f5f"
           }
          },
          "ternary": {
           "aaxis": {
            "gridcolor": "white",
            "linecolor": "white",
            "ticks": ""
           },
           "baxis": {
            "gridcolor": "white",
            "linecolor": "white",
            "ticks": ""
           },
           "bgcolor": "#E5ECF6",
           "caxis": {
            "gridcolor": "white",
            "linecolor": "white",
            "ticks": ""
           }
          },
          "title": {
           "x": 0.05
          },
          "xaxis": {
           "automargin": true,
           "gridcolor": "white",
           "linecolor": "white",
           "ticks": "",
           "title": {
            "standoff": 15
           },
           "zerolinecolor": "white",
           "zerolinewidth": 2
          },
          "yaxis": {
           "automargin": true,
           "gridcolor": "white",
           "linecolor": "white",
           "ticks": "",
           "title": {
            "standoff": 15
           },
           "zerolinecolor": "white",
           "zerolinewidth": 2
          }
         }
        },
        "title": {
         "font": {
          "color": "White",
          "size": 15
         },
         "text": " Wasting % (South-Sudan)"
        }
       }
      },
      "text/html": [
       "<div>                            <div id=\"b541d34f-5d07-4a0f-b807-2eabe44d9fd8\" class=\"plotly-graph-div\" style=\"height:525px; width:100%;\"></div>            <script type=\"text/javascript\">                require([\"plotly\"], function(Plotly) {                    window.PLOTLYENV=window.PLOTLYENV || {};                                    if (document.getElementById(\"b541d34f-5d07-4a0f-b807-2eabe44d9fd8\")) {                    Plotly.newPlot(                        \"b541d34f-5d07-4a0f-b807-2eabe44d9fd8\",                        [{\"colorbar\":{\"len\":200,\"lenmode\":\"pixels\",\"title\":{\"text\":\" Wasting %\"}},\"colorscale\":[[0.0,\"rgb(12,51,131)\"],[0.25,\"rgb(10,136,186)\"],[0.5,\"rgb(242,211,56)\"],[0.75,\"rgb(242,143,56)\"],[1.0,\"rgb(217,30,30)\"]],\"locationmode\":\"country names\",\"locations\":[\"AFGHANISTAN\",\"ALBANIA\",\"ALGERIA\",\"ANGOLA\",\"ARGENTINA\",\"ARMENIA\",\"AUSTRALIA\",\"AZERBAIJAN\",\"BAHRAIN\",\"BANGLADESH\",\"BARBADOS\",\"BELARUS\",\"BELIZE\",\"BENIN\",\"BHUTAN\",\"BOLIVIA (PLURINATIONAL STATE OF)\",\"BOSNIA AND HERZEGOVINA\",\"BOTSWANA\",\"BRAZIL\",\"BRUNEI DARUSSALAM\",\"BULGARIA\",\"BURKINA FASO\",\"BURUNDI\",\"CABO VERDE\",\"CAMBODIA\",\"CAMEROON\",\"CANADA\",\"CENTRAL AFRICAN REPUBLIC (THE)\",\"CHAD\",\"CHILE\",\"CHINA\",\"COLOMBIA\",\"COMOROS (THE)\",\"CONGO (THE)\",\"COSTA RICA\",\"COTE D'IVOIRE\",\"CUBA\",\"CZECHIA\",\"DEMOCRATIC PEOPLE'S REP. OF KOREA (THE)\",\"DEMOCRATIC REP. OF THE CONGO (THE)\",\"DJIBOUTI\",\"DOMINICAN REPUBLIC (THE)\",\"ECUADOR\",\"EGYPT\",\"EL SALVADOR\",\"EQUATORIAL GUINEA\",\"ERITREA\",\"ESWATINI\",\"ETHIOPIA\",\"FIJI\",\"GABON\",\"GAMBIA (THE)\",\"GEORGIA\",\"GERMANY\",\"GHANA\",\"GUATEMALA\",\"GUINEA\",\"GUINEA-BISSAU\",\"GUYANA\",\"HAITI\",\"HONDURAS\",\"INDIA\",\"INDONESIA\",\"IRAN (ISLAMIC REPUBLIC OF)\",\"IRAQ\",\"JAMAICA\",\"JAPAN\",\"JORDAN\",\"KAZAKHSTAN\",\"KENYA\",\"KIRIBATI\",\"KUWAIT\",\"KYRGYZSTAN\",\"LAO PEOPLE'S DEMOCRATIC REP. (THE)\",\"LEBANON\",\"LESOTHO\",\"LIBERIA\",\"LIBYA\",\"MADAGASCAR\",\"MALAWI\",\"MALAYSIA\",\"MALDIVES\",\"MALI\",\"MARSHALL ISLANDS\",\"MAURITANIA\",\"MAURITIUS\",\"MEXICO\",\"MONGOLIA\",\"MONTENEGRO\",\"MOROCCO\",\"MOZAMBIQUE\",\"MYANMAR\",\"NAMIBIA\",\"NAURU\",\"NEPAL\",\"NICARAGUA\",\"NIGER (THE)\",\"NIGERIA\",\"NORTH MACEDONIA\",\"OMAN\",\"PAKISTAN\",\"PANAMA\",\"PAPUA NEW GUINEA\",\"PARAGUAY\",\"PERU\",\"PHILIPPINES (THE)\",\"POLAND\",\"QATAR\",\"REPUBLIC OF KOREA (THE)\",\"REPUBLIC OF MOLDOVA (THE)\",\"ROMANIA\",\"RWANDA\",\"SAINT LUCIA\",\"SAMOA\",\"SAO TOME AND PRINCIPE\",\"SAUDI ARABIA\",\"SENEGAL\",\"SERBIA\",\"SEYCHELLES\",\"SIERRA LEONE\",\"SINGAPORE\",\"SOLOMON ISLANDS\",\"SOMALIA\",\"SOUTH AFRICA\",\"SOUTH SUDAN\",\"SRI LANKA\",\"STATE OF PALESTINE\",\"SUDAN (THE)\",\"SURINAME\",\"SYRIAN ARAB REPUBLIC (THE)\",\"TAJIKISTAN\",\"THAILAND\",\"TIMOR-LESTE\",\"TOGO\",\"TONGA\",\"TRINIDAD AND TOBAGO\",\"TUNISIA\",\"TURKEY\",\"TURKMENISTAN\",\"TUVALU\",\"UGANDA\",\"UKRAINE\",\"UNITED REPUBLIC OF TANZANIA (THE)\",\"UNITED STATES OF AMERICA (THE)\",\"URUGUAY\",\"UZBEKISTAN\",\"VANUATU\",\"VENEZUELA (BOLIVARIAN REPUBLIC OF)\",\"VIET NAM\",\"YEMEN\",\"ZAMBIA\",\"ZIMBABWE\"],\"text\":[\"AFGHANISTAN\",\"ALBANIA\",\"ALGERIA\",\"ANGOLA\",\"ARGENTINA\",\"ARMENIA\",\"AUSTRALIA\",\"AZERBAIJAN\",\"BAHRAIN\",\"BANGLADESH\",\"BARBADOS\",\"BELARUS\",\"BELIZE\",\"BENIN\",\"BHUTAN\",\"BOLIVIA (PLURINATIONAL STATE OF)\",\"BOSNIA AND HERZEGOVINA\",\"BOTSWANA\",\"BRAZIL\",\"BRUNEI DARUSSALAM\",\"BULGARIA\",\"BURKINA FASO\",\"BURUNDI\",\"CABO VERDE\",\"CAMBODIA\",\"CAMEROON\",\"CANADA\",\"CENTRAL AFRICAN REPUBLIC (THE)\",\"CHAD\",\"CHILE\",\"CHINA\",\"COLOMBIA\",\"COMOROS (THE)\",\"CONGO (THE)\",\"COSTA RICA\",\"COTE D'IVOIRE\",\"CUBA\",\"CZECHIA\",\"DEMOCRATIC PEOPLE'S REP. OF KOREA (THE)\",\"DEMOCRATIC REP. OF THE CONGO (THE)\",\"DJIBOUTI\",\"DOMINICAN REPUBLIC (THE)\",\"ECUADOR\",\"EGYPT\",\"EL SALVADOR\",\"EQUATORIAL GUINEA\",\"ERITREA\",\"ESWATINI\",\"ETHIOPIA\",\"FIJI\",\"GABON\",\"GAMBIA (THE)\",\"GEORGIA\",\"GERMANY\",\"GHANA\",\"GUATEMALA\",\"GUINEA\",\"GUINEA-BISSAU\",\"GUYANA\",\"HAITI\",\"HONDURAS\",\"INDIA\",\"INDONESIA\",\"IRAN (ISLAMIC REPUBLIC OF)\",\"IRAQ\",\"JAMAICA\",\"JAPAN\",\"JORDAN\",\"KAZAKHSTAN\",\"KENYA\",\"KIRIBATI\",\"KUWAIT\",\"KYRGYZSTAN\",\"LAO PEOPLE'S DEMOCRATIC REP. (THE)\",\"LEBANON\",\"LESOTHO\",\"LIBERIA\",\"LIBYA\",\"MADAGASCAR\",\"MALAWI\",\"MALAYSIA\",\"MALDIVES\",\"MALI\",\"MARSHALL ISLANDS\",\"MAURITANIA\",\"MAURITIUS\",\"MEXICO\",\"MONGOLIA\",\"MONTENEGRO\",\"MOROCCO\",\"MOZAMBIQUE\",\"MYANMAR\",\"NAMIBIA\",\"NAURU\",\"NEPAL\",\"NICARAGUA\",\"NIGER (THE)\",\"NIGERIA\",\"NORTH MACEDONIA\",\"OMAN\",\"PAKISTAN\",\"PANAMA\",\"PAPUA NEW GUINEA\",\"PARAGUAY\",\"PERU\",\"PHILIPPINES (THE)\",\"POLAND\",\"QATAR\",\"REPUBLIC OF KOREA (THE)\",\"REPUBLIC OF MOLDOVA (THE)\",\"ROMANIA\",\"RWANDA\",\"SAINT LUCIA\",\"SAMOA\",\"SAO TOME AND PRINCIPE\",\"SAUDI ARABIA\",\"SENEGAL\",\"SERBIA\",\"SEYCHELLES\",\"SIERRA LEONE\",\"SINGAPORE\",\"SOLOMON ISLANDS\",\"SOMALIA\",\"SOUTH AFRICA\",\"SOUTH SUDAN\",\"SRI LANKA\",\"STATE OF PALESTINE\",\"SUDAN (THE)\",\"SURINAME\",\"SYRIAN ARAB REPUBLIC (THE)\",\"TAJIKISTAN\",\"THAILAND\",\"TIMOR-LESTE\",\"TOGO\",\"TONGA\",\"TRINIDAD AND TOBAGO\",\"TUNISIA\",\"TURKEY\",\"TURKMENISTAN\",\"TUVALU\",\"UGANDA\",\"UKRAINE\",\"UNITED REPUBLIC OF TANZANIA (THE)\",\"UNITED STATES OF AMERICA (THE)\",\"URUGUAY\",\"UZBEKISTAN\",\"VANUATU\",\"VENEZUELA (BOLIVARIAN REPUBLIC OF)\",\"VIET NAM\",\"YEMEN\",\"ZAMBIA\",\"ZIMBABWE\"],\"z\":[10.35,7.76,5.942857142857143,6.933333333333333,2.1500000000000004,3.94,0.0,5.433333333333334,6.699999999999999,14.5375,6.8,2.2,2.333333333333333,7.7,4.525,1.9,4.566666666666666,8.8,2.3,2.9,4.666666666666667,12.73076923076923,6.666666666666667,5.550000000000001,11.466666666666669,5.671428571428571,null,8.766666666666667,15.239999999999998,0.4666666666666667,3.1749999999999994,1.657142857142857,10.125,7.2,1.7,8.8,2.4,3.7,8.842857142857143,10.86,17.075,2.2125,2.183333333333333,5.79,1.7,4.775,14.6,1.7,9.957142857142856,8.05,3.8,8.385714285714286,2.5666666666666664,0.65,7.622222222222222,2.2857142857142856,9.425,8.125,9.12,6.616666666666667,1.828571428571429,18.766666666666666,11.375,5.75,5.542857142857143,3.3950000000000005,2.3,2.58,4.2,6.466666666666667,12.6,2.5222222222222226,2.533333333333333,10.514285714285714,5.1,6.671428571428571,5.84,6.766666666666666,9.957142857142856,4.64,11.6,15.779999999999998,13.242857142857144,3.5,13.41,17.0,3.825,2.444444444444444,3.5,4.483333333333333,6.8,9.771428571428572,8.575000000000001,1.0,10.325,2.033333333333333,15.936363636363636,12.045454545454549,2.3,7.783333333333334,14.314285714285711,1.366666666666667,8.0,1.3250000000000002,0.7933333333333332,7.127272727272726,null,2.1,1.05,3.85,3.72,4.866666666666666,3.7,2.6,7.0200000000000005,7.35,8.27142857142857,3.966666666666667,3.5,8.610000000000001,3.6,6.733333333333333,15.633333333333336,5.371428571428572,23.65,15.7625,3.733333333333334,15.4,5.633333333333333,9.566666666666665,8.290909090909091,6.083333333333333,15.62,7.712499999999999,3.25,5.466666666666666,3.583333333333334,2.1,6.166666666666667,3.3,4.522222222222222,8.2,5.054545454545454,0.5142857142857143,2.3833333333333333,6.4750000000000005,5.8,4.333333333333333,8.661904761904761,15.242857142857142,5.542857142857144,4.166666666666666],\"type\":\"choropleth\"}],                        {\"geo\":{\"bgcolor\":\"rgba(255,255,255,0)\",\"projection\":{\"type\":\"natural earth\"},\"scope\":\"world\",\"showframe\":false},\"margin\":{\"b\":0,\"l\":0,\"r\":0,\"t\":40},\"paper_bgcolor\":\"#000000\",\"title\":{\"font\":{\"color\":\"White\",\"size\":15},\"text\":\" Wasting % (South-Sudan)\"},\"template\":{\"data\":{\"bar\":[{\"error_x\":{\"color\":\"#2a3f5f\"},\"error_y\":{\"color\":\"#2a3f5f\"},\"marker\":{\"line\":{\"color\":\"#E5ECF6\",\"width\":0.5},\"pattern\":{\"fillmode\":\"overlay\",\"size\":10,\"solidity\":0.2}},\"type\":\"bar\"}],\"barpolar\":[{\"marker\":{\"line\":{\"color\":\"#E5ECF6\",\"width\":0.5},\"pattern\":{\"fillmode\":\"overlay\",\"size\":10,\"solidity\":0.2}},\"type\":\"barpolar\"}],\"carpet\":[{\"aaxis\":{\"endlinecolor\":\"#2a3f5f\",\"gridcolor\":\"white\",\"linecolor\":\"white\",\"minorgridcolor\":\"white\",\"startlinecolor\":\"#2a3f5f\"},\"baxis\":{\"endlinecolor\":\"#2a3f5f\",\"gridcolor\":\"white\",\"linecolor\":\"white\",\"minorgridcolor\":\"white\",\"startlinecolor\":\"#2a3f5f\"},\"type\":\"carpet\"}],\"choropleth\":[{\"colorbar\":{\"outlinewidth\":0,\"ticks\":\"\"},\"type\":\"choropleth\"}],\"contour\":[{\"colorbar\":{\"outlinewidth\":0,\"ticks\":\"\"},\"colorscale\":[[0.0,\"#0d0887\"],[0.1111111111111111,\"#46039f\"],[0.2222222222222222,\"#7201a8\"],[0.3333333333333333,\"#9c179e\"],[0.4444444444444444,\"#bd3786\"],[0.5555555555555556,\"#d8576b\"],[0.6666666666666666,\"#ed7953\"],[0.7777777777777778,\"#fb9f3a\"],[0.8888888888888888,\"#fdca26\"],[1.0,\"#f0f921\"]],\"type\":\"contour\"}],\"contourcarpet\":[{\"colorbar\":{\"outlinewidth\":0,\"ticks\":\"\"},\"type\":\"contourcarpet\"}],\"heatmap\":[{\"colorbar\":{\"outlinewidth\":0,\"ticks\":\"\"},\"colorscale\":[[0.0,\"#0d0887\"],[0.1111111111111111,\"#46039f\"],[0.2222222222222222,\"#7201a8\"],[0.3333333333333333,\"#9c179e\"],[0.4444444444444444,\"#bd3786\"],[0.5555555555555556,\"#d8576b\"],[0.6666666666666666,\"#ed7953\"],[0.7777777777777778,\"#fb9f3a\"],[0.8888888888888888,\"#fdca26\"],[1.0,\"#f0f921\"]],\"type\":\"heatmap\"}],\"heatmapgl\":[{\"colorbar\":{\"outlinewidth\":0,\"ticks\":\"\"},\"colorscale\":[[0.0,\"#0d0887\"],[0.1111111111111111,\"#46039f\"],[0.2222222222222222,\"#7201a8\"],[0.3333333333333333,\"#9c179e\"],[0.4444444444444444,\"#bd3786\"],[0.5555555555555556,\"#d8576b\"],[0.6666666666666666,\"#ed7953\"],[0.7777777777777778,\"#fb9f3a\"],[0.8888888888888888,\"#fdca26\"],[1.0,\"#f0f921\"]],\"type\":\"heatmapgl\"}],\"histogram\":[{\"marker\":{\"pattern\":{\"fillmode\":\"overlay\",\"size\":10,\"solidity\":0.2}},\"type\":\"histogram\"}],\"histogram2d\":[{\"colorbar\":{\"outlinewidth\":0,\"ticks\":\"\"},\"colorscale\":[[0.0,\"#0d0887\"],[0.1111111111111111,\"#46039f\"],[0.2222222222222222,\"#7201a8\"],[0.3333333333333333,\"#9c179e\"],[0.4444444444444444,\"#bd3786\"],[0.5555555555555556,\"#d8576b\"],[0.6666666666666666,\"#ed7953\"],[0.7777777777777778,\"#fb9f3a\"],[0.8888888888888888,\"#fdca26\"],[1.0,\"#f0f921\"]],\"type\":\"histogram2d\"}],\"histogram2dcontour\":[{\"colorbar\":{\"outlinewidth\":0,\"ticks\":\"\"},\"colorscale\":[[0.0,\"#0d0887\"],[0.1111111111111111,\"#46039f\"],[0.2222222222222222,\"#7201a8\"],[0.3333333333333333,\"#9c179e\"],[0.4444444444444444,\"#bd3786\"],[0.5555555555555556,\"#d8576b\"],[0.6666666666666666,\"#ed7953\"],[0.7777777777777778,\"#fb9f3a\"],[0.8888888888888888,\"#fdca26\"],[1.0,\"#f0f921\"]],\"type\":\"histogram2dcontour\"}],\"mesh3d\":[{\"colorbar\":{\"outlinewidth\":0,\"ticks\":\"\"},\"type\":\"mesh3d\"}],\"parcoords\":[{\"line\":{\"colorbar\":{\"outlinewidth\":0,\"ticks\":\"\"}},\"type\":\"parcoords\"}],\"pie\":[{\"automargin\":true,\"type\":\"pie\"}],\"scatter\":[{\"marker\":{\"colorbar\":{\"outlinewidth\":0,\"ticks\":\"\"}},\"type\":\"scatter\"}],\"scatter3d\":[{\"line\":{\"colorbar\":{\"outlinewidth\":0,\"ticks\":\"\"}},\"marker\":{\"colorbar\":{\"outlinewidth\":0,\"ticks\":\"\"}},\"type\":\"scatter3d\"}],\"scattercarpet\":[{\"marker\":{\"colorbar\":{\"outlinewidth\":0,\"ticks\":\"\"}},\"type\":\"scattercarpet\"}],\"scattergeo\":[{\"marker\":{\"colorbar\":{\"outlinewidth\":0,\"ticks\":\"\"}},\"type\":\"scattergeo\"}],\"scattergl\":[{\"marker\":{\"colorbar\":{\"outlinewidth\":0,\"ticks\":\"\"}},\"type\":\"scattergl\"}],\"scattermapbox\":[{\"marker\":{\"colorbar\":{\"outlinewidth\":0,\"ticks\":\"\"}},\"type\":\"scattermapbox\"}],\"scatterpolar\":[{\"marker\":{\"colorbar\":{\"outlinewidth\":0,\"ticks\":\"\"}},\"type\":\"scatterpolar\"}],\"scatterpolargl\":[{\"marker\":{\"colorbar\":{\"outlinewidth\":0,\"ticks\":\"\"}},\"type\":\"scatterpolargl\"}],\"scatterternary\":[{\"marker\":{\"colorbar\":{\"outlinewidth\":0,\"ticks\":\"\"}},\"type\":\"scatterternary\"}],\"surface\":[{\"colorbar\":{\"outlinewidth\":0,\"ticks\":\"\"},\"colorscale\":[[0.0,\"#0d0887\"],[0.1111111111111111,\"#46039f\"],[0.2222222222222222,\"#7201a8\"],[0.3333333333333333,\"#9c179e\"],[0.4444444444444444,\"#bd3786\"],[0.5555555555555556,\"#d8576b\"],[0.6666666666666666,\"#ed7953\"],[0.7777777777777778,\"#fb9f3a\"],[0.8888888888888888,\"#fdca26\"],[1.0,\"#f0f921\"]],\"type\":\"surface\"}],\"table\":[{\"cells\":{\"fill\":{\"color\":\"#EBF0F8\"},\"line\":{\"color\":\"white\"}},\"header\":{\"fill\":{\"color\":\"#C8D4E3\"},\"line\":{\"color\":\"white\"}},\"type\":\"table\"}]},\"layout\":{\"annotationdefaults\":{\"arrowcolor\":\"#2a3f5f\",\"arrowhead\":0,\"arrowwidth\":1},\"autotypenumbers\":\"strict\",\"coloraxis\":{\"colorbar\":{\"outlinewidth\":0,\"ticks\":\"\"}},\"colorscale\":{\"diverging\":[[0,\"#8e0152\"],[0.1,\"#c51b7d\"],[0.2,\"#de77ae\"],[0.3,\"#f1b6da\"],[0.4,\"#fde0ef\"],[0.5,\"#f7f7f7\"],[0.6,\"#e6f5d0\"],[0.7,\"#b8e186\"],[0.8,\"#7fbc41\"],[0.9,\"#4d9221\"],[1,\"#276419\"]],\"sequential\":[[0.0,\"#0d0887\"],[0.1111111111111111,\"#46039f\"],[0.2222222222222222,\"#7201a8\"],[0.3333333333333333,\"#9c179e\"],[0.4444444444444444,\"#bd3786\"],[0.5555555555555556,\"#d8576b\"],[0.6666666666666666,\"#ed7953\"],[0.7777777777777778,\"#fb9f3a\"],[0.8888888888888888,\"#fdca26\"],[1.0,\"#f0f921\"]],\"sequentialminus\":[[0.0,\"#0d0887\"],[0.1111111111111111,\"#46039f\"],[0.2222222222222222,\"#7201a8\"],[0.3333333333333333,\"#9c179e\"],[0.4444444444444444,\"#bd3786\"],[0.5555555555555556,\"#d8576b\"],[0.6666666666666666,\"#ed7953\"],[0.7777777777777778,\"#fb9f3a\"],[0.8888888888888888,\"#fdca26\"],[1.0,\"#f0f921\"]]},\"colorway\":[\"#636efa\",\"#EF553B\",\"#00cc96\",\"#ab63fa\",\"#FFA15A\",\"#19d3f3\",\"#FF6692\",\"#B6E880\",\"#FF97FF\",\"#FECB52\"],\"font\":{\"color\":\"#2a3f5f\"},\"geo\":{\"bgcolor\":\"white\",\"lakecolor\":\"white\",\"landcolor\":\"#E5ECF6\",\"showlakes\":true,\"showland\":true,\"subunitcolor\":\"white\"},\"hoverlabel\":{\"align\":\"left\"},\"hovermode\":\"closest\",\"mapbox\":{\"style\":\"light\"},\"paper_bgcolor\":\"white\",\"plot_bgcolor\":\"#E5ECF6\",\"polar\":{\"angularaxis\":{\"gridcolor\":\"white\",\"linecolor\":\"white\",\"ticks\":\"\"},\"bgcolor\":\"#E5ECF6\",\"radialaxis\":{\"gridcolor\":\"white\",\"linecolor\":\"white\",\"ticks\":\"\"}},\"scene\":{\"xaxis\":{\"backgroundcolor\":\"#E5ECF6\",\"gridcolor\":\"white\",\"gridwidth\":2,\"linecolor\":\"white\",\"showbackground\":true,\"ticks\":\"\",\"zerolinecolor\":\"white\"},\"yaxis\":{\"backgroundcolor\":\"#E5ECF6\",\"gridcolor\":\"white\",\"gridwidth\":2,\"linecolor\":\"white\",\"showbackground\":true,\"ticks\":\"\",\"zerolinecolor\":\"white\"},\"zaxis\":{\"backgroundcolor\":\"#E5ECF6\",\"gridcolor\":\"white\",\"gridwidth\":2,\"linecolor\":\"white\",\"showbackground\":true,\"ticks\":\"\",\"zerolinecolor\":\"white\"}},\"shapedefaults\":{\"line\":{\"color\":\"#2a3f5f\"}},\"ternary\":{\"aaxis\":{\"gridcolor\":\"white\",\"linecolor\":\"white\",\"ticks\":\"\"},\"baxis\":{\"gridcolor\":\"white\",\"linecolor\":\"white\",\"ticks\":\"\"},\"bgcolor\":\"#E5ECF6\",\"caxis\":{\"gridcolor\":\"white\",\"linecolor\":\"white\",\"ticks\":\"\"}},\"title\":{\"x\":0.05},\"xaxis\":{\"automargin\":true,\"gridcolor\":\"white\",\"linecolor\":\"white\",\"ticks\":\"\",\"title\":{\"standoff\":15},\"zerolinecolor\":\"white\",\"zerolinewidth\":2},\"yaxis\":{\"automargin\":true,\"gridcolor\":\"white\",\"linecolor\":\"white\",\"ticks\":\"\",\"title\":{\"standoff\":15},\"zerolinecolor\":\"white\",\"zerolinewidth\":2}}}},                        {\"responsive\": true}                    ).then(function(){\n",
       "                            \n",
       "var gd = document.getElementById('b541d34f-5d07-4a0f-b807-2eabe44d9fd8');\n",
       "var x = new MutationObserver(function (mutations, observer) {{\n",
       "        var display = window.getComputedStyle(gd).display;\n",
       "        if (!display || display === 'none') {{\n",
       "            console.log([gd, 'removed!']);\n",
       "            Plotly.purge(gd);\n",
       "            observer.disconnect();\n",
       "        }}\n",
       "}});\n",
       "\n",
       "// Listen for the removal of the full notebook cells\n",
       "var notebookContainer = gd.closest('#notebook-container');\n",
       "if (notebookContainer) {{\n",
       "    x.observe(notebookContainer, {childList: true});\n",
       "}}\n",
       "\n",
       "// Listen for the clearing of the current output cell\n",
       "var outputEl = gd.closest('.output');\n",
       "if (outputEl) {{\n",
       "    x.observe(outputEl, {childList: true});\n",
       "}}\n",
       "\n",
       "                        })                };                });            </script>        </div>"
      ]
     },
     "metadata": {},
     "output_type": "display_data"
    }
   ],
   "source": [
    "x2 = df.groupby([\"Country\"])[\"Wasting\"].mean()\n",
    "col_map2 = go.Figure(\n",
    "                data=go.Choropleth(\n",
    "                locations = x2.index,\n",
    "                locationmode = 'country names',\n",
    "                colorscale= 'portland',\n",
    "                text= x2.index,\n",
    "                z=x2,\n",
    "                colorbar = {'title':' Wasting %', 'len':200,'lenmode':'pixels' },\n",
    "                \n",
    "            ), layout = go.Layout(geo=dict(bgcolor= 'rgba(255,255,255,0)',showframe=False, projection = {'type': 'natural earth'}),\n",
    "                                  title = ' Wasting % (South-Sudan)',\n",
    "                                  \n",
    "                                  titlefont = {\"size\": 15, \"color\":\"White\"},\n",
    "                                  geo_scope='world',\n",
    "                                  margin={\"r\":0,\"t\":40,\"l\":0,\"b\":0},\n",
    "                                  paper_bgcolor='#000000',\n",
    "                                 \n",
    "                                  )\n",
    "            )\n",
    "\n",
    "col_map2.show()"
   ]
  },
  {
   "cell_type": "code",
   "execution_count": 96,
   "id": "2d47239d",
   "metadata": {},
   "outputs": [
    {
     "data": {
      "application/vnd.plotly.v1+json": {
       "config": {
        "plotlyServerURL": "https://plot.ly"
       },
       "data": [
        {
         "colorbar": {
          "len": 200,
          "lenmode": "pixels",
          "title": {
           "text": "Overweight %"
          }
         },
         "colorscale": [
          [
           0,
           "rgb(12,51,131)"
          ],
          [
           0.25,
           "rgb(10,136,186)"
          ],
          [
           0.5,
           "rgb(242,211,56)"
          ],
          [
           0.75,
           "rgb(242,143,56)"
          ],
          [
           1,
           "rgb(217,30,30)"
          ]
         ],
         "locationmode": "country names",
         "locations": [
          "AFGHANISTAN",
          "ALBANIA",
          "ALGERIA",
          "ANGOLA",
          "ARGENTINA",
          "ARMENIA",
          "AUSTRALIA",
          "AZERBAIJAN",
          "BAHRAIN",
          "BANGLADESH",
          "BARBADOS",
          "BELARUS",
          "BELIZE",
          "BENIN",
          "BHUTAN",
          "BOLIVIA (PLURINATIONAL STATE OF)",
          "BOSNIA AND HERZEGOVINA",
          "BOTSWANA",
          "BRAZIL",
          "BRUNEI DARUSSALAM",
          "BULGARIA",
          "BURKINA FASO",
          "BURUNDI",
          "CABO VERDE",
          "CAMBODIA",
          "CAMEROON",
          "CANADA",
          "CENTRAL AFRICAN REPUBLIC (THE)",
          "CHAD",
          "CHILE",
          "CHINA",
          "COLOMBIA",
          "COMOROS (THE)",
          "CONGO (THE)",
          "COSTA RICA",
          "COTE D'IVOIRE",
          "CUBA",
          "CZECHIA",
          "DEMOCRATIC PEOPLE'S REP. OF KOREA (THE)",
          "DEMOCRATIC REP. OF THE CONGO (THE)",
          "DJIBOUTI",
          "DOMINICAN REPUBLIC (THE)",
          "ECUADOR",
          "EGYPT",
          "EL SALVADOR",
          "EQUATORIAL GUINEA",
          "ERITREA",
          "ESWATINI",
          "ETHIOPIA",
          "FIJI",
          "GABON",
          "GAMBIA (THE)",
          "GEORGIA",
          "GERMANY",
          "GHANA",
          "GUATEMALA",
          "GUINEA",
          "GUINEA-BISSAU",
          "GUYANA",
          "HAITI",
          "HONDURAS",
          "INDIA",
          "INDONESIA",
          "IRAN (ISLAMIC REPUBLIC OF)",
          "IRAQ",
          "JAMAICA",
          "JAPAN",
          "JORDAN",
          "KAZAKHSTAN",
          "KENYA",
          "KIRIBATI",
          "KUWAIT",
          "KYRGYZSTAN",
          "LAO PEOPLE'S DEMOCRATIC REP. (THE)",
          "LEBANON",
          "LESOTHO",
          "LIBERIA",
          "LIBYA",
          "MADAGASCAR",
          "MALAWI",
          "MALAYSIA",
          "MALDIVES",
          "MALI",
          "MARSHALL ISLANDS",
          "MAURITANIA",
          "MAURITIUS",
          "MEXICO",
          "MONGOLIA",
          "MONTENEGRO",
          "MOROCCO",
          "MOZAMBIQUE",
          "MYANMAR",
          "NAMIBIA",
          "NAURU",
          "NEPAL",
          "NICARAGUA",
          "NIGER (THE)",
          "NIGERIA",
          "NORTH MACEDONIA",
          "OMAN",
          "PAKISTAN",
          "PANAMA",
          "PAPUA NEW GUINEA",
          "PARAGUAY",
          "PERU",
          "PHILIPPINES (THE)",
          "POLAND",
          "QATAR",
          "REPUBLIC OF KOREA (THE)",
          "REPUBLIC OF MOLDOVA (THE)",
          "ROMANIA",
          "RWANDA",
          "SAINT LUCIA",
          "SAMOA",
          "SAO TOME AND PRINCIPE",
          "SAUDI ARABIA",
          "SENEGAL",
          "SERBIA",
          "SEYCHELLES",
          "SIERRA LEONE",
          "SINGAPORE",
          "SOLOMON ISLANDS",
          "SOMALIA",
          "SOUTH AFRICA",
          "SOUTH SUDAN",
          "SRI LANKA",
          "STATE OF PALESTINE",
          "SUDAN (THE)",
          "SURINAME",
          "SYRIAN ARAB REPUBLIC (THE)",
          "TAJIKISTAN",
          "THAILAND",
          "TIMOR-LESTE",
          "TOGO",
          "TONGA",
          "TRINIDAD AND TOBAGO",
          "TUNISIA",
          "TURKEY",
          "TURKMENISTAN",
          "TUVALU",
          "UGANDA",
          "UKRAINE",
          "UNITED REPUBLIC OF TANZANIA (THE)",
          "UNITED STATES OF AMERICA (THE)",
          "URUGUAY",
          "UZBEKISTAN",
          "VANUATU",
          "VENEZUELA (BOLIVARIAN REPUBLIC OF)",
          "VIET NAM",
          "YEMEN",
          "ZAMBIA",
          "ZIMBABWE"
         ],
         "text": [
          "AFGHANISTAN",
          "ALBANIA",
          "ALGERIA",
          "ANGOLA",
          "ARGENTINA",
          "ARMENIA",
          "AUSTRALIA",
          "AZERBAIJAN",
          "BAHRAIN",
          "BANGLADESH",
          "BARBADOS",
          "BELARUS",
          "BELIZE",
          "BENIN",
          "BHUTAN",
          "BOLIVIA (PLURINATIONAL STATE OF)",
          "BOSNIA AND HERZEGOVINA",
          "BOTSWANA",
          "BRAZIL",
          "BRUNEI DARUSSALAM",
          "BULGARIA",
          "BURKINA FASO",
          "BURUNDI",
          "CABO VERDE",
          "CAMBODIA",
          "CAMEROON",
          "CANADA",
          "CENTRAL AFRICAN REPUBLIC (THE)",
          "CHAD",
          "CHILE",
          "CHINA",
          "COLOMBIA",
          "COMOROS (THE)",
          "CONGO (THE)",
          "COSTA RICA",
          "COTE D'IVOIRE",
          "CUBA",
          "CZECHIA",
          "DEMOCRATIC PEOPLE'S REP. OF KOREA (THE)",
          "DEMOCRATIC REP. OF THE CONGO (THE)",
          "DJIBOUTI",
          "DOMINICAN REPUBLIC (THE)",
          "ECUADOR",
          "EGYPT",
          "EL SALVADOR",
          "EQUATORIAL GUINEA",
          "ERITREA",
          "ESWATINI",
          "ETHIOPIA",
          "FIJI",
          "GABON",
          "GAMBIA (THE)",
          "GEORGIA",
          "GERMANY",
          "GHANA",
          "GUATEMALA",
          "GUINEA",
          "GUINEA-BISSAU",
          "GUYANA",
          "HAITI",
          "HONDURAS",
          "INDIA",
          "INDONESIA",
          "IRAN (ISLAMIC REPUBLIC OF)",
          "IRAQ",
          "JAMAICA",
          "JAPAN",
          "JORDAN",
          "KAZAKHSTAN",
          "KENYA",
          "KIRIBATI",
          "KUWAIT",
          "KYRGYZSTAN",
          "LAO PEOPLE'S DEMOCRATIC REP. (THE)",
          "LEBANON",
          "LESOTHO",
          "LIBERIA",
          "LIBYA",
          "MADAGASCAR",
          "MALAWI",
          "MALAYSIA",
          "MALDIVES",
          "MALI",
          "MARSHALL ISLANDS",
          "MAURITANIA",
          "MAURITIUS",
          "MEXICO",
          "MONGOLIA",
          "MONTENEGRO",
          "MOROCCO",
          "MOZAMBIQUE",
          "MYANMAR",
          "NAMIBIA",
          "NAURU",
          "NEPAL",
          "NICARAGUA",
          "NIGER (THE)",
          "NIGERIA",
          "NORTH MACEDONIA",
          "OMAN",
          "PAKISTAN",
          "PANAMA",
          "PAPUA NEW GUINEA",
          "PARAGUAY",
          "PERU",
          "PHILIPPINES (THE)",
          "POLAND",
          "QATAR",
          "REPUBLIC OF KOREA (THE)",
          "REPUBLIC OF MOLDOVA (THE)",
          "ROMANIA",
          "RWANDA",
          "SAINT LUCIA",
          "SAMOA",
          "SAO TOME AND PRINCIPE",
          "SAUDI ARABIA",
          "SENEGAL",
          "SERBIA",
          "SEYCHELLES",
          "SIERRA LEONE",
          "SINGAPORE",
          "SOLOMON ISLANDS",
          "SOMALIA",
          "SOUTH AFRICA",
          "SOUTH SUDAN",
          "SRI LANKA",
          "STATE OF PALESTINE",
          "SUDAN (THE)",
          "SURINAME",
          "SYRIAN ARAB REPUBLIC (THE)",
          "TAJIKISTAN",
          "THAILAND",
          "TIMOR-LESTE",
          "TOGO",
          "TONGA",
          "TRINIDAD AND TOBAGO",
          "TUNISIA",
          "TURKEY",
          "TURKMENISTAN",
          "TUVALU",
          "UGANDA",
          "UKRAINE",
          "UNITED REPUBLIC OF TANZANIA (THE)",
          "UNITED STATES OF AMERICA (THE)",
          "URUGUAY",
          "UZBEKISTAN",
          "VANUATU",
          "VENEZUELA (BOLIVARIAN REPUBLIC OF)",
          "VIET NAM",
          "YEMEN",
          "ZAMBIA",
          "ZIMBABWE"
         ],
         "type": "choropleth",
         "z": [
          5.125,
          20.8,
          12.833333333333334,
          2.55,
          11.125,
          13.62,
          13.875,
          9.183333333333334,
          7.5,
          0.9625000000000002,
          12.2,
          9.7,
          9.6,
          2.275,
          5.1,
          8.6,
          19.8,
          10.05,
          6.25,
          8.3,
          9,
          2.2500000000000004,
          1.775,
          null,
          3.033333333333333,
          8.042857142857143,
          10.4,
          5.380000000000001,
          3.0400000000000005,
          11.313333333333334,
          7.027272727272727,
          4.783333333333333,
          12.466666666666669,
          4.875,
          8.8,
          4.3,
          null,
          5.550000000000001,
          1.0666666666666669,
          5.75,
          8.25,
          6.7,
          5.720000000000001,
          13.7625,
          4.75,
          8.85,
          1.6666666666666667,
          11.425,
          2.75,
          3.65,
          6.6,
          2.228571428571428,
          19.53333333333333,
          3.35,
          2.8222222222222224,
          5.4,
          4.333333333333333,
          6.75,
          5.24,
          3.66,
          3.9,
          2.9333333333333336,
          7.199999999999999,
          6.2,
          9.5,
          5.994736842105262,
          1.5,
          5.72,
          9.7,
          5.95,
          15.9,
          7.98888888888889,
          7.666666666666665,
          2.4,
          18.75,
          9.82,
          3.4799999999999995,
          21.8,
          2.5,
          7.484615384615385,
          6.2,
          4.66,
          2.2,
          4.1,
          2.6375,
          7.65,
          7.371428571428572,
          9.925,
          19,
          10.866666666666667,
          6.566666666666666,
          4.62,
          4.125,
          2.8,
          1.0285714285714287,
          6.55,
          1.52,
          4.890909090909092,
          12.733333333333333,
          3.5500000000000003,
          4.757142857142857,
          9.066666666666666,
          6.733333333333333,
          9.275,
          8.940000000000001,
          3.1,
          null,
          10.4,
          6.75,
          6.9,
          8.080000000000002,
          6.314285714285715,
          6.3,
          5.75,
          9.55,
          3.65,
          2.115384615384615,
          16.266666666666666,
          8,
          6.237500000000001,
          2.6,
          2.966666666666667,
          3.85,
          13.614285714285714,
          8.45,
          1.05,
          7.58,
          2.9,
          3.633333333333333,
          17.825000000000003,
          6.116666666666666,
          6.619999999999999,
          3.65,
          2.3999999999999995,
          17.3,
          6.633333333333333,
          9.080000000000002,
          7.75,
          5.2,
          6.3,
          4.277777777777778,
          26.5,
          4.540000000000001,
          7.414285714285714,
          9.166666666666666,
          10.925,
          4.800000000000001,
          5.40952380952381,
          3.3176470588235287,
          4.842857142857143,
          7.228571428571429,
          5.788888888888889
         ]
        }
       ],
       "layout": {
        "geo": {
         "bgcolor": "rgba(255,255,255,0)",
         "projection": {
          "type": "natural earth"
         },
         "scope": "world",
         "showframe": false
        },
        "margin": {
         "b": 0,
         "l": 0,
         "r": 0,
         "t": 40
        },
        "paper_bgcolor": "#000000",
        "template": {
         "data": {
          "bar": [
           {
            "error_x": {
             "color": "#2a3f5f"
            },
            "error_y": {
             "color": "#2a3f5f"
            },
            "marker": {
             "line": {
              "color": "#E5ECF6",
              "width": 0.5
             },
             "pattern": {
              "fillmode": "overlay",
              "size": 10,
              "solidity": 0.2
             }
            },
            "type": "bar"
           }
          ],
          "barpolar": [
           {
            "marker": {
             "line": {
              "color": "#E5ECF6",
              "width": 0.5
             },
             "pattern": {
              "fillmode": "overlay",
              "size": 10,
              "solidity": 0.2
             }
            },
            "type": "barpolar"
           }
          ],
          "carpet": [
           {
            "aaxis": {
             "endlinecolor": "#2a3f5f",
             "gridcolor": "white",
             "linecolor": "white",
             "minorgridcolor": "white",
             "startlinecolor": "#2a3f5f"
            },
            "baxis": {
             "endlinecolor": "#2a3f5f",
             "gridcolor": "white",
             "linecolor": "white",
             "minorgridcolor": "white",
             "startlinecolor": "#2a3f5f"
            },
            "type": "carpet"
           }
          ],
          "choropleth": [
           {
            "colorbar": {
             "outlinewidth": 0,
             "ticks": ""
            },
            "type": "choropleth"
           }
          ],
          "contour": [
           {
            "colorbar": {
             "outlinewidth": 0,
             "ticks": ""
            },
            "colorscale": [
             [
              0,
              "#0d0887"
             ],
             [
              0.1111111111111111,
              "#46039f"
             ],
             [
              0.2222222222222222,
              "#7201a8"
             ],
             [
              0.3333333333333333,
              "#9c179e"
             ],
             [
              0.4444444444444444,
              "#bd3786"
             ],
             [
              0.5555555555555556,
              "#d8576b"
             ],
             [
              0.6666666666666666,
              "#ed7953"
             ],
             [
              0.7777777777777778,
              "#fb9f3a"
             ],
             [
              0.8888888888888888,
              "#fdca26"
             ],
             [
              1,
              "#f0f921"
             ]
            ],
            "type": "contour"
           }
          ],
          "contourcarpet": [
           {
            "colorbar": {
             "outlinewidth": 0,
             "ticks": ""
            },
            "type": "contourcarpet"
           }
          ],
          "heatmap": [
           {
            "colorbar": {
             "outlinewidth": 0,
             "ticks": ""
            },
            "colorscale": [
             [
              0,
              "#0d0887"
             ],
             [
              0.1111111111111111,
              "#46039f"
             ],
             [
              0.2222222222222222,
              "#7201a8"
             ],
             [
              0.3333333333333333,
              "#9c179e"
             ],
             [
              0.4444444444444444,
              "#bd3786"
             ],
             [
              0.5555555555555556,
              "#d8576b"
             ],
             [
              0.6666666666666666,
              "#ed7953"
             ],
             [
              0.7777777777777778,
              "#fb9f3a"
             ],
             [
              0.8888888888888888,
              "#fdca26"
             ],
             [
              1,
              "#f0f921"
             ]
            ],
            "type": "heatmap"
           }
          ],
          "heatmapgl": [
           {
            "colorbar": {
             "outlinewidth": 0,
             "ticks": ""
            },
            "colorscale": [
             [
              0,
              "#0d0887"
             ],
             [
              0.1111111111111111,
              "#46039f"
             ],
             [
              0.2222222222222222,
              "#7201a8"
             ],
             [
              0.3333333333333333,
              "#9c179e"
             ],
             [
              0.4444444444444444,
              "#bd3786"
             ],
             [
              0.5555555555555556,
              "#d8576b"
             ],
             [
              0.6666666666666666,
              "#ed7953"
             ],
             [
              0.7777777777777778,
              "#fb9f3a"
             ],
             [
              0.8888888888888888,
              "#fdca26"
             ],
             [
              1,
              "#f0f921"
             ]
            ],
            "type": "heatmapgl"
           }
          ],
          "histogram": [
           {
            "marker": {
             "pattern": {
              "fillmode": "overlay",
              "size": 10,
              "solidity": 0.2
             }
            },
            "type": "histogram"
           }
          ],
          "histogram2d": [
           {
            "colorbar": {
             "outlinewidth": 0,
             "ticks": ""
            },
            "colorscale": [
             [
              0,
              "#0d0887"
             ],
             [
              0.1111111111111111,
              "#46039f"
             ],
             [
              0.2222222222222222,
              "#7201a8"
             ],
             [
              0.3333333333333333,
              "#9c179e"
             ],
             [
              0.4444444444444444,
              "#bd3786"
             ],
             [
              0.5555555555555556,
              "#d8576b"
             ],
             [
              0.6666666666666666,
              "#ed7953"
             ],
             [
              0.7777777777777778,
              "#fb9f3a"
             ],
             [
              0.8888888888888888,
              "#fdca26"
             ],
             [
              1,
              "#f0f921"
             ]
            ],
            "type": "histogram2d"
           }
          ],
          "histogram2dcontour": [
           {
            "colorbar": {
             "outlinewidth": 0,
             "ticks": ""
            },
            "colorscale": [
             [
              0,
              "#0d0887"
             ],
             [
              0.1111111111111111,
              "#46039f"
             ],
             [
              0.2222222222222222,
              "#7201a8"
             ],
             [
              0.3333333333333333,
              "#9c179e"
             ],
             [
              0.4444444444444444,
              "#bd3786"
             ],
             [
              0.5555555555555556,
              "#d8576b"
             ],
             [
              0.6666666666666666,
              "#ed7953"
             ],
             [
              0.7777777777777778,
              "#fb9f3a"
             ],
             [
              0.8888888888888888,
              "#fdca26"
             ],
             [
              1,
              "#f0f921"
             ]
            ],
            "type": "histogram2dcontour"
           }
          ],
          "mesh3d": [
           {
            "colorbar": {
             "outlinewidth": 0,
             "ticks": ""
            },
            "type": "mesh3d"
           }
          ],
          "parcoords": [
           {
            "line": {
             "colorbar": {
              "outlinewidth": 0,
              "ticks": ""
             }
            },
            "type": "parcoords"
           }
          ],
          "pie": [
           {
            "automargin": true,
            "type": "pie"
           }
          ],
          "scatter": [
           {
            "marker": {
             "colorbar": {
              "outlinewidth": 0,
              "ticks": ""
             }
            },
            "type": "scatter"
           }
          ],
          "scatter3d": [
           {
            "line": {
             "colorbar": {
              "outlinewidth": 0,
              "ticks": ""
             }
            },
            "marker": {
             "colorbar": {
              "outlinewidth": 0,
              "ticks": ""
             }
            },
            "type": "scatter3d"
           }
          ],
          "scattercarpet": [
           {
            "marker": {
             "colorbar": {
              "outlinewidth": 0,
              "ticks": ""
             }
            },
            "type": "scattercarpet"
           }
          ],
          "scattergeo": [
           {
            "marker": {
             "colorbar": {
              "outlinewidth": 0,
              "ticks": ""
             }
            },
            "type": "scattergeo"
           }
          ],
          "scattergl": [
           {
            "marker": {
             "colorbar": {
              "outlinewidth": 0,
              "ticks": ""
             }
            },
            "type": "scattergl"
           }
          ],
          "scattermapbox": [
           {
            "marker": {
             "colorbar": {
              "outlinewidth": 0,
              "ticks": ""
             }
            },
            "type": "scattermapbox"
           }
          ],
          "scatterpolar": [
           {
            "marker": {
             "colorbar": {
              "outlinewidth": 0,
              "ticks": ""
             }
            },
            "type": "scatterpolar"
           }
          ],
          "scatterpolargl": [
           {
            "marker": {
             "colorbar": {
              "outlinewidth": 0,
              "ticks": ""
             }
            },
            "type": "scatterpolargl"
           }
          ],
          "scatterternary": [
           {
            "marker": {
             "colorbar": {
              "outlinewidth": 0,
              "ticks": ""
             }
            },
            "type": "scatterternary"
           }
          ],
          "surface": [
           {
            "colorbar": {
             "outlinewidth": 0,
             "ticks": ""
            },
            "colorscale": [
             [
              0,
              "#0d0887"
             ],
             [
              0.1111111111111111,
              "#46039f"
             ],
             [
              0.2222222222222222,
              "#7201a8"
             ],
             [
              0.3333333333333333,
              "#9c179e"
             ],
             [
              0.4444444444444444,
              "#bd3786"
             ],
             [
              0.5555555555555556,
              "#d8576b"
             ],
             [
              0.6666666666666666,
              "#ed7953"
             ],
             [
              0.7777777777777778,
              "#fb9f3a"
             ],
             [
              0.8888888888888888,
              "#fdca26"
             ],
             [
              1,
              "#f0f921"
             ]
            ],
            "type": "surface"
           }
          ],
          "table": [
           {
            "cells": {
             "fill": {
              "color": "#EBF0F8"
             },
             "line": {
              "color": "white"
             }
            },
            "header": {
             "fill": {
              "color": "#C8D4E3"
             },
             "line": {
              "color": "white"
             }
            },
            "type": "table"
           }
          ]
         },
         "layout": {
          "annotationdefaults": {
           "arrowcolor": "#2a3f5f",
           "arrowhead": 0,
           "arrowwidth": 1
          },
          "autotypenumbers": "strict",
          "coloraxis": {
           "colorbar": {
            "outlinewidth": 0,
            "ticks": ""
           }
          },
          "colorscale": {
           "diverging": [
            [
             0,
             "#8e0152"
            ],
            [
             0.1,
             "#c51b7d"
            ],
            [
             0.2,
             "#de77ae"
            ],
            [
             0.3,
             "#f1b6da"
            ],
            [
             0.4,
             "#fde0ef"
            ],
            [
             0.5,
             "#f7f7f7"
            ],
            [
             0.6,
             "#e6f5d0"
            ],
            [
             0.7,
             "#b8e186"
            ],
            [
             0.8,
             "#7fbc41"
            ],
            [
             0.9,
             "#4d9221"
            ],
            [
             1,
             "#276419"
            ]
           ],
           "sequential": [
            [
             0,
             "#0d0887"
            ],
            [
             0.1111111111111111,
             "#46039f"
            ],
            [
             0.2222222222222222,
             "#7201a8"
            ],
            [
             0.3333333333333333,
             "#9c179e"
            ],
            [
             0.4444444444444444,
             "#bd3786"
            ],
            [
             0.5555555555555556,
             "#d8576b"
            ],
            [
             0.6666666666666666,
             "#ed7953"
            ],
            [
             0.7777777777777778,
             "#fb9f3a"
            ],
            [
             0.8888888888888888,
             "#fdca26"
            ],
            [
             1,
             "#f0f921"
            ]
           ],
           "sequentialminus": [
            [
             0,
             "#0d0887"
            ],
            [
             0.1111111111111111,
             "#46039f"
            ],
            [
             0.2222222222222222,
             "#7201a8"
            ],
            [
             0.3333333333333333,
             "#9c179e"
            ],
            [
             0.4444444444444444,
             "#bd3786"
            ],
            [
             0.5555555555555556,
             "#d8576b"
            ],
            [
             0.6666666666666666,
             "#ed7953"
            ],
            [
             0.7777777777777778,
             "#fb9f3a"
            ],
            [
             0.8888888888888888,
             "#fdca26"
            ],
            [
             1,
             "#f0f921"
            ]
           ]
          },
          "colorway": [
           "#636efa",
           "#EF553B",
           "#00cc96",
           "#ab63fa",
           "#FFA15A",
           "#19d3f3",
           "#FF6692",
           "#B6E880",
           "#FF97FF",
           "#FECB52"
          ],
          "font": {
           "color": "#2a3f5f"
          },
          "geo": {
           "bgcolor": "white",
           "lakecolor": "white",
           "landcolor": "#E5ECF6",
           "showlakes": true,
           "showland": true,
           "subunitcolor": "white"
          },
          "hoverlabel": {
           "align": "left"
          },
          "hovermode": "closest",
          "mapbox": {
           "style": "light"
          },
          "paper_bgcolor": "white",
          "plot_bgcolor": "#E5ECF6",
          "polar": {
           "angularaxis": {
            "gridcolor": "white",
            "linecolor": "white",
            "ticks": ""
           },
           "bgcolor": "#E5ECF6",
           "radialaxis": {
            "gridcolor": "white",
            "linecolor": "white",
            "ticks": ""
           }
          },
          "scene": {
           "xaxis": {
            "backgroundcolor": "#E5ECF6",
            "gridcolor": "white",
            "gridwidth": 2,
            "linecolor": "white",
            "showbackground": true,
            "ticks": "",
            "zerolinecolor": "white"
           },
           "yaxis": {
            "backgroundcolor": "#E5ECF6",
            "gridcolor": "white",
            "gridwidth": 2,
            "linecolor": "white",
            "showbackground": true,
            "ticks": "",
            "zerolinecolor": "white"
           },
           "zaxis": {
            "backgroundcolor": "#E5ECF6",
            "gridcolor": "white",
            "gridwidth": 2,
            "linecolor": "white",
            "showbackground": true,
            "ticks": "",
            "zerolinecolor": "white"
           }
          },
          "shapedefaults": {
           "line": {
            "color": "#2a3f5f"
           }
          },
          "ternary": {
           "aaxis": {
            "gridcolor": "white",
            "linecolor": "white",
            "ticks": ""
           },
           "baxis": {
            "gridcolor": "white",
            "linecolor": "white",
            "ticks": ""
           },
           "bgcolor": "#E5ECF6",
           "caxis": {
            "gridcolor": "white",
            "linecolor": "white",
            "ticks": ""
           }
          },
          "title": {
           "x": 0.05
          },
          "xaxis": {
           "automargin": true,
           "gridcolor": "white",
           "linecolor": "white",
           "ticks": "",
           "title": {
            "standoff": 15
           },
           "zerolinecolor": "white",
           "zerolinewidth": 2
          },
          "yaxis": {
           "automargin": true,
           "gridcolor": "white",
           "linecolor": "white",
           "ticks": "",
           "title": {
            "standoff": 15
           },
           "zerolinecolor": "white",
           "zerolinewidth": 2
          }
         }
        },
        "title": {
         "font": {
          "color": "White",
          "size": 15
         },
         "text": "Overweight % (Ukraine)"
        }
       }
      },
      "text/html": [
       "<div>                            <div id=\"f7053534-064c-46bd-9669-3e7115eee38e\" class=\"plotly-graph-div\" style=\"height:525px; width:100%;\"></div>            <script type=\"text/javascript\">                require([\"plotly\"], function(Plotly) {                    window.PLOTLYENV=window.PLOTLYENV || {};                                    if (document.getElementById(\"f7053534-064c-46bd-9669-3e7115eee38e\")) {                    Plotly.newPlot(                        \"f7053534-064c-46bd-9669-3e7115eee38e\",                        [{\"colorbar\":{\"len\":200,\"lenmode\":\"pixels\",\"title\":{\"text\":\"Overweight %\"}},\"colorscale\":[[0.0,\"rgb(12,51,131)\"],[0.25,\"rgb(10,136,186)\"],[0.5,\"rgb(242,211,56)\"],[0.75,\"rgb(242,143,56)\"],[1.0,\"rgb(217,30,30)\"]],\"locationmode\":\"country names\",\"locations\":[\"AFGHANISTAN\",\"ALBANIA\",\"ALGERIA\",\"ANGOLA\",\"ARGENTINA\",\"ARMENIA\",\"AUSTRALIA\",\"AZERBAIJAN\",\"BAHRAIN\",\"BANGLADESH\",\"BARBADOS\",\"BELARUS\",\"BELIZE\",\"BENIN\",\"BHUTAN\",\"BOLIVIA (PLURINATIONAL STATE OF)\",\"BOSNIA AND HERZEGOVINA\",\"BOTSWANA\",\"BRAZIL\",\"BRUNEI DARUSSALAM\",\"BULGARIA\",\"BURKINA FASO\",\"BURUNDI\",\"CABO VERDE\",\"CAMBODIA\",\"CAMEROON\",\"CANADA\",\"CENTRAL AFRICAN REPUBLIC (THE)\",\"CHAD\",\"CHILE\",\"CHINA\",\"COLOMBIA\",\"COMOROS (THE)\",\"CONGO (THE)\",\"COSTA RICA\",\"COTE D'IVOIRE\",\"CUBA\",\"CZECHIA\",\"DEMOCRATIC PEOPLE'S REP. OF KOREA (THE)\",\"DEMOCRATIC REP. OF THE CONGO (THE)\",\"DJIBOUTI\",\"DOMINICAN REPUBLIC (THE)\",\"ECUADOR\",\"EGYPT\",\"EL SALVADOR\",\"EQUATORIAL GUINEA\",\"ERITREA\",\"ESWATINI\",\"ETHIOPIA\",\"FIJI\",\"GABON\",\"GAMBIA (THE)\",\"GEORGIA\",\"GERMANY\",\"GHANA\",\"GUATEMALA\",\"GUINEA\",\"GUINEA-BISSAU\",\"GUYANA\",\"HAITI\",\"HONDURAS\",\"INDIA\",\"INDONESIA\",\"IRAN (ISLAMIC REPUBLIC OF)\",\"IRAQ\",\"JAMAICA\",\"JAPAN\",\"JORDAN\",\"KAZAKHSTAN\",\"KENYA\",\"KIRIBATI\",\"KUWAIT\",\"KYRGYZSTAN\",\"LAO PEOPLE'S DEMOCRATIC REP. (THE)\",\"LEBANON\",\"LESOTHO\",\"LIBERIA\",\"LIBYA\",\"MADAGASCAR\",\"MALAWI\",\"MALAYSIA\",\"MALDIVES\",\"MALI\",\"MARSHALL ISLANDS\",\"MAURITANIA\",\"MAURITIUS\",\"MEXICO\",\"MONGOLIA\",\"MONTENEGRO\",\"MOROCCO\",\"MOZAMBIQUE\",\"MYANMAR\",\"NAMIBIA\",\"NAURU\",\"NEPAL\",\"NICARAGUA\",\"NIGER (THE)\",\"NIGERIA\",\"NORTH MACEDONIA\",\"OMAN\",\"PAKISTAN\",\"PANAMA\",\"PAPUA NEW GUINEA\",\"PARAGUAY\",\"PERU\",\"PHILIPPINES (THE)\",\"POLAND\",\"QATAR\",\"REPUBLIC OF KOREA (THE)\",\"REPUBLIC OF MOLDOVA (THE)\",\"ROMANIA\",\"RWANDA\",\"SAINT LUCIA\",\"SAMOA\",\"SAO TOME AND PRINCIPE\",\"SAUDI ARABIA\",\"SENEGAL\",\"SERBIA\",\"SEYCHELLES\",\"SIERRA LEONE\",\"SINGAPORE\",\"SOLOMON ISLANDS\",\"SOMALIA\",\"SOUTH AFRICA\",\"SOUTH SUDAN\",\"SRI LANKA\",\"STATE OF PALESTINE\",\"SUDAN (THE)\",\"SURINAME\",\"SYRIAN ARAB REPUBLIC (THE)\",\"TAJIKISTAN\",\"THAILAND\",\"TIMOR-LESTE\",\"TOGO\",\"TONGA\",\"TRINIDAD AND TOBAGO\",\"TUNISIA\",\"TURKEY\",\"TURKMENISTAN\",\"TUVALU\",\"UGANDA\",\"UKRAINE\",\"UNITED REPUBLIC OF TANZANIA (THE)\",\"UNITED STATES OF AMERICA (THE)\",\"URUGUAY\",\"UZBEKISTAN\",\"VANUATU\",\"VENEZUELA (BOLIVARIAN REPUBLIC OF)\",\"VIET NAM\",\"YEMEN\",\"ZAMBIA\",\"ZIMBABWE\"],\"text\":[\"AFGHANISTAN\",\"ALBANIA\",\"ALGERIA\",\"ANGOLA\",\"ARGENTINA\",\"ARMENIA\",\"AUSTRALIA\",\"AZERBAIJAN\",\"BAHRAIN\",\"BANGLADESH\",\"BARBADOS\",\"BELARUS\",\"BELIZE\",\"BENIN\",\"BHUTAN\",\"BOLIVIA (PLURINATIONAL STATE OF)\",\"BOSNIA AND HERZEGOVINA\",\"BOTSWANA\",\"BRAZIL\",\"BRUNEI DARUSSALAM\",\"BULGARIA\",\"BURKINA FASO\",\"BURUNDI\",\"CABO VERDE\",\"CAMBODIA\",\"CAMEROON\",\"CANADA\",\"CENTRAL AFRICAN REPUBLIC (THE)\",\"CHAD\",\"CHILE\",\"CHINA\",\"COLOMBIA\",\"COMOROS (THE)\",\"CONGO (THE)\",\"COSTA RICA\",\"COTE D'IVOIRE\",\"CUBA\",\"CZECHIA\",\"DEMOCRATIC PEOPLE'S REP. OF KOREA (THE)\",\"DEMOCRATIC REP. OF THE CONGO (THE)\",\"DJIBOUTI\",\"DOMINICAN REPUBLIC (THE)\",\"ECUADOR\",\"EGYPT\",\"EL SALVADOR\",\"EQUATORIAL GUINEA\",\"ERITREA\",\"ESWATINI\",\"ETHIOPIA\",\"FIJI\",\"GABON\",\"GAMBIA (THE)\",\"GEORGIA\",\"GERMANY\",\"GHANA\",\"GUATEMALA\",\"GUINEA\",\"GUINEA-BISSAU\",\"GUYANA\",\"HAITI\",\"HONDURAS\",\"INDIA\",\"INDONESIA\",\"IRAN (ISLAMIC REPUBLIC OF)\",\"IRAQ\",\"JAMAICA\",\"JAPAN\",\"JORDAN\",\"KAZAKHSTAN\",\"KENYA\",\"KIRIBATI\",\"KUWAIT\",\"KYRGYZSTAN\",\"LAO PEOPLE'S DEMOCRATIC REP. (THE)\",\"LEBANON\",\"LESOTHO\",\"LIBERIA\",\"LIBYA\",\"MADAGASCAR\",\"MALAWI\",\"MALAYSIA\",\"MALDIVES\",\"MALI\",\"MARSHALL ISLANDS\",\"MAURITANIA\",\"MAURITIUS\",\"MEXICO\",\"MONGOLIA\",\"MONTENEGRO\",\"MOROCCO\",\"MOZAMBIQUE\",\"MYANMAR\",\"NAMIBIA\",\"NAURU\",\"NEPAL\",\"NICARAGUA\",\"NIGER (THE)\",\"NIGERIA\",\"NORTH MACEDONIA\",\"OMAN\",\"PAKISTAN\",\"PANAMA\",\"PAPUA NEW GUINEA\",\"PARAGUAY\",\"PERU\",\"PHILIPPINES (THE)\",\"POLAND\",\"QATAR\",\"REPUBLIC OF KOREA (THE)\",\"REPUBLIC OF MOLDOVA (THE)\",\"ROMANIA\",\"RWANDA\",\"SAINT LUCIA\",\"SAMOA\",\"SAO TOME AND PRINCIPE\",\"SAUDI ARABIA\",\"SENEGAL\",\"SERBIA\",\"SEYCHELLES\",\"SIERRA LEONE\",\"SINGAPORE\",\"SOLOMON ISLANDS\",\"SOMALIA\",\"SOUTH AFRICA\",\"SOUTH SUDAN\",\"SRI LANKA\",\"STATE OF PALESTINE\",\"SUDAN (THE)\",\"SURINAME\",\"SYRIAN ARAB REPUBLIC (THE)\",\"TAJIKISTAN\",\"THAILAND\",\"TIMOR-LESTE\",\"TOGO\",\"TONGA\",\"TRINIDAD AND TOBAGO\",\"TUNISIA\",\"TURKEY\",\"TURKMENISTAN\",\"TUVALU\",\"UGANDA\",\"UKRAINE\",\"UNITED REPUBLIC OF TANZANIA (THE)\",\"UNITED STATES OF AMERICA (THE)\",\"URUGUAY\",\"UZBEKISTAN\",\"VANUATU\",\"VENEZUELA (BOLIVARIAN REPUBLIC OF)\",\"VIET NAM\",\"YEMEN\",\"ZAMBIA\",\"ZIMBABWE\"],\"z\":[5.125,20.8,12.833333333333334,2.55,11.125,13.62,13.875,9.183333333333334,7.5,0.9625000000000002,12.2,9.7,9.6,2.275,5.1,8.6,19.8,10.05,6.25,8.3,9.0,2.2500000000000004,1.775,null,3.033333333333333,8.042857142857143,10.4,5.380000000000001,3.0400000000000005,11.313333333333334,7.027272727272727,4.783333333333333,12.466666666666669,4.875,8.8,4.3,null,5.550000000000001,1.0666666666666669,5.75,8.25,6.7,5.720000000000001,13.7625,4.75,8.85,1.6666666666666667,11.425,2.75,3.65,6.6,2.228571428571428,19.53333333333333,3.35,2.8222222222222224,5.4,4.333333333333333,6.75,5.24,3.66,3.9,2.9333333333333336,7.199999999999999,6.2,9.5,5.994736842105262,1.5,5.72,9.7,5.95,15.9,7.98888888888889,7.666666666666665,2.4,18.75,9.82,3.4799999999999995,21.8,2.5,7.484615384615385,6.2,4.66,2.2,4.1,2.6375,7.65,7.371428571428572,9.925,19.0,10.866666666666667,6.566666666666666,4.62,4.125,2.8,1.0285714285714287,6.55,1.52,4.890909090909092,12.733333333333333,3.5500000000000003,4.757142857142857,9.066666666666666,6.733333333333333,9.275,8.940000000000001,3.1,null,10.4,6.75,6.9,8.080000000000002,6.314285714285715,6.3,5.75,9.55,3.65,2.115384615384615,16.266666666666666,8.0,6.237500000000001,2.6,2.966666666666667,3.85,13.614285714285714,8.45,1.05,7.58,2.9,3.633333333333333,17.825000000000003,6.116666666666666,6.619999999999999,3.65,2.3999999999999995,17.3,6.633333333333333,9.080000000000002,7.75,5.2,6.3,4.277777777777778,26.5,4.540000000000001,7.414285714285714,9.166666666666666,10.925,4.800000000000001,5.40952380952381,3.3176470588235287,4.842857142857143,7.228571428571429,5.788888888888889],\"type\":\"choropleth\"}],                        {\"geo\":{\"bgcolor\":\"rgba(255,255,255,0)\",\"projection\":{\"type\":\"natural earth\"},\"scope\":\"world\",\"showframe\":false},\"margin\":{\"b\":0,\"l\":0,\"r\":0,\"t\":40},\"paper_bgcolor\":\"#000000\",\"title\":{\"font\":{\"color\":\"White\",\"size\":15},\"text\":\"Overweight % (Ukraine)\"},\"template\":{\"data\":{\"bar\":[{\"error_x\":{\"color\":\"#2a3f5f\"},\"error_y\":{\"color\":\"#2a3f5f\"},\"marker\":{\"line\":{\"color\":\"#E5ECF6\",\"width\":0.5},\"pattern\":{\"fillmode\":\"overlay\",\"size\":10,\"solidity\":0.2}},\"type\":\"bar\"}],\"barpolar\":[{\"marker\":{\"line\":{\"color\":\"#E5ECF6\",\"width\":0.5},\"pattern\":{\"fillmode\":\"overlay\",\"size\":10,\"solidity\":0.2}},\"type\":\"barpolar\"}],\"carpet\":[{\"aaxis\":{\"endlinecolor\":\"#2a3f5f\",\"gridcolor\":\"white\",\"linecolor\":\"white\",\"minorgridcolor\":\"white\",\"startlinecolor\":\"#2a3f5f\"},\"baxis\":{\"endlinecolor\":\"#2a3f5f\",\"gridcolor\":\"white\",\"linecolor\":\"white\",\"minorgridcolor\":\"white\",\"startlinecolor\":\"#2a3f5f\"},\"type\":\"carpet\"}],\"choropleth\":[{\"colorbar\":{\"outlinewidth\":0,\"ticks\":\"\"},\"type\":\"choropleth\"}],\"contour\":[{\"colorbar\":{\"outlinewidth\":0,\"ticks\":\"\"},\"colorscale\":[[0.0,\"#0d0887\"],[0.1111111111111111,\"#46039f\"],[0.2222222222222222,\"#7201a8\"],[0.3333333333333333,\"#9c179e\"],[0.4444444444444444,\"#bd3786\"],[0.5555555555555556,\"#d8576b\"],[0.6666666666666666,\"#ed7953\"],[0.7777777777777778,\"#fb9f3a\"],[0.8888888888888888,\"#fdca26\"],[1.0,\"#f0f921\"]],\"type\":\"contour\"}],\"contourcarpet\":[{\"colorbar\":{\"outlinewidth\":0,\"ticks\":\"\"},\"type\":\"contourcarpet\"}],\"heatmap\":[{\"colorbar\":{\"outlinewidth\":0,\"ticks\":\"\"},\"colorscale\":[[0.0,\"#0d0887\"],[0.1111111111111111,\"#46039f\"],[0.2222222222222222,\"#7201a8\"],[0.3333333333333333,\"#9c179e\"],[0.4444444444444444,\"#bd3786\"],[0.5555555555555556,\"#d8576b\"],[0.6666666666666666,\"#ed7953\"],[0.7777777777777778,\"#fb9f3a\"],[0.8888888888888888,\"#fdca26\"],[1.0,\"#f0f921\"]],\"type\":\"heatmap\"}],\"heatmapgl\":[{\"colorbar\":{\"outlinewidth\":0,\"ticks\":\"\"},\"colorscale\":[[0.0,\"#0d0887\"],[0.1111111111111111,\"#46039f\"],[0.2222222222222222,\"#7201a8\"],[0.3333333333333333,\"#9c179e\"],[0.4444444444444444,\"#bd3786\"],[0.5555555555555556,\"#d8576b\"],[0.6666666666666666,\"#ed7953\"],[0.7777777777777778,\"#fb9f3a\"],[0.8888888888888888,\"#fdca26\"],[1.0,\"#f0f921\"]],\"type\":\"heatmapgl\"}],\"histogram\":[{\"marker\":{\"pattern\":{\"fillmode\":\"overlay\",\"size\":10,\"solidity\":0.2}},\"type\":\"histogram\"}],\"histogram2d\":[{\"colorbar\":{\"outlinewidth\":0,\"ticks\":\"\"},\"colorscale\":[[0.0,\"#0d0887\"],[0.1111111111111111,\"#46039f\"],[0.2222222222222222,\"#7201a8\"],[0.3333333333333333,\"#9c179e\"],[0.4444444444444444,\"#bd3786\"],[0.5555555555555556,\"#d8576b\"],[0.6666666666666666,\"#ed7953\"],[0.7777777777777778,\"#fb9f3a\"],[0.8888888888888888,\"#fdca26\"],[1.0,\"#f0f921\"]],\"type\":\"histogram2d\"}],\"histogram2dcontour\":[{\"colorbar\":{\"outlinewidth\":0,\"ticks\":\"\"},\"colorscale\":[[0.0,\"#0d0887\"],[0.1111111111111111,\"#46039f\"],[0.2222222222222222,\"#7201a8\"],[0.3333333333333333,\"#9c179e\"],[0.4444444444444444,\"#bd3786\"],[0.5555555555555556,\"#d8576b\"],[0.6666666666666666,\"#ed7953\"],[0.7777777777777778,\"#fb9f3a\"],[0.8888888888888888,\"#fdca26\"],[1.0,\"#f0f921\"]],\"type\":\"histogram2dcontour\"}],\"mesh3d\":[{\"colorbar\":{\"outlinewidth\":0,\"ticks\":\"\"},\"type\":\"mesh3d\"}],\"parcoords\":[{\"line\":{\"colorbar\":{\"outlinewidth\":0,\"ticks\":\"\"}},\"type\":\"parcoords\"}],\"pie\":[{\"automargin\":true,\"type\":\"pie\"}],\"scatter\":[{\"marker\":{\"colorbar\":{\"outlinewidth\":0,\"ticks\":\"\"}},\"type\":\"scatter\"}],\"scatter3d\":[{\"line\":{\"colorbar\":{\"outlinewidth\":0,\"ticks\":\"\"}},\"marker\":{\"colorbar\":{\"outlinewidth\":0,\"ticks\":\"\"}},\"type\":\"scatter3d\"}],\"scattercarpet\":[{\"marker\":{\"colorbar\":{\"outlinewidth\":0,\"ticks\":\"\"}},\"type\":\"scattercarpet\"}],\"scattergeo\":[{\"marker\":{\"colorbar\":{\"outlinewidth\":0,\"ticks\":\"\"}},\"type\":\"scattergeo\"}],\"scattergl\":[{\"marker\":{\"colorbar\":{\"outlinewidth\":0,\"ticks\":\"\"}},\"type\":\"scattergl\"}],\"scattermapbox\":[{\"marker\":{\"colorbar\":{\"outlinewidth\":0,\"ticks\":\"\"}},\"type\":\"scattermapbox\"}],\"scatterpolar\":[{\"marker\":{\"colorbar\":{\"outlinewidth\":0,\"ticks\":\"\"}},\"type\":\"scatterpolar\"}],\"scatterpolargl\":[{\"marker\":{\"colorbar\":{\"outlinewidth\":0,\"ticks\":\"\"}},\"type\":\"scatterpolargl\"}],\"scatterternary\":[{\"marker\":{\"colorbar\":{\"outlinewidth\":0,\"ticks\":\"\"}},\"type\":\"scatterternary\"}],\"surface\":[{\"colorbar\":{\"outlinewidth\":0,\"ticks\":\"\"},\"colorscale\":[[0.0,\"#0d0887\"],[0.1111111111111111,\"#46039f\"],[0.2222222222222222,\"#7201a8\"],[0.3333333333333333,\"#9c179e\"],[0.4444444444444444,\"#bd3786\"],[0.5555555555555556,\"#d8576b\"],[0.6666666666666666,\"#ed7953\"],[0.7777777777777778,\"#fb9f3a\"],[0.8888888888888888,\"#fdca26\"],[1.0,\"#f0f921\"]],\"type\":\"surface\"}],\"table\":[{\"cells\":{\"fill\":{\"color\":\"#EBF0F8\"},\"line\":{\"color\":\"white\"}},\"header\":{\"fill\":{\"color\":\"#C8D4E3\"},\"line\":{\"color\":\"white\"}},\"type\":\"table\"}]},\"layout\":{\"annotationdefaults\":{\"arrowcolor\":\"#2a3f5f\",\"arrowhead\":0,\"arrowwidth\":1},\"autotypenumbers\":\"strict\",\"coloraxis\":{\"colorbar\":{\"outlinewidth\":0,\"ticks\":\"\"}},\"colorscale\":{\"diverging\":[[0,\"#8e0152\"],[0.1,\"#c51b7d\"],[0.2,\"#de77ae\"],[0.3,\"#f1b6da\"],[0.4,\"#fde0ef\"],[0.5,\"#f7f7f7\"],[0.6,\"#e6f5d0\"],[0.7,\"#b8e186\"],[0.8,\"#7fbc41\"],[0.9,\"#4d9221\"],[1,\"#276419\"]],\"sequential\":[[0.0,\"#0d0887\"],[0.1111111111111111,\"#46039f\"],[0.2222222222222222,\"#7201a8\"],[0.3333333333333333,\"#9c179e\"],[0.4444444444444444,\"#bd3786\"],[0.5555555555555556,\"#d8576b\"],[0.6666666666666666,\"#ed7953\"],[0.7777777777777778,\"#fb9f3a\"],[0.8888888888888888,\"#fdca26\"],[1.0,\"#f0f921\"]],\"sequentialminus\":[[0.0,\"#0d0887\"],[0.1111111111111111,\"#46039f\"],[0.2222222222222222,\"#7201a8\"],[0.3333333333333333,\"#9c179e\"],[0.4444444444444444,\"#bd3786\"],[0.5555555555555556,\"#d8576b\"],[0.6666666666666666,\"#ed7953\"],[0.7777777777777778,\"#fb9f3a\"],[0.8888888888888888,\"#fdca26\"],[1.0,\"#f0f921\"]]},\"colorway\":[\"#636efa\",\"#EF553B\",\"#00cc96\",\"#ab63fa\",\"#FFA15A\",\"#19d3f3\",\"#FF6692\",\"#B6E880\",\"#FF97FF\",\"#FECB52\"],\"font\":{\"color\":\"#2a3f5f\"},\"geo\":{\"bgcolor\":\"white\",\"lakecolor\":\"white\",\"landcolor\":\"#E5ECF6\",\"showlakes\":true,\"showland\":true,\"subunitcolor\":\"white\"},\"hoverlabel\":{\"align\":\"left\"},\"hovermode\":\"closest\",\"mapbox\":{\"style\":\"light\"},\"paper_bgcolor\":\"white\",\"plot_bgcolor\":\"#E5ECF6\",\"polar\":{\"angularaxis\":{\"gridcolor\":\"white\",\"linecolor\":\"white\",\"ticks\":\"\"},\"bgcolor\":\"#E5ECF6\",\"radialaxis\":{\"gridcolor\":\"white\",\"linecolor\":\"white\",\"ticks\":\"\"}},\"scene\":{\"xaxis\":{\"backgroundcolor\":\"#E5ECF6\",\"gridcolor\":\"white\",\"gridwidth\":2,\"linecolor\":\"white\",\"showbackground\":true,\"ticks\":\"\",\"zerolinecolor\":\"white\"},\"yaxis\":{\"backgroundcolor\":\"#E5ECF6\",\"gridcolor\":\"white\",\"gridwidth\":2,\"linecolor\":\"white\",\"showbackground\":true,\"ticks\":\"\",\"zerolinecolor\":\"white\"},\"zaxis\":{\"backgroundcolor\":\"#E5ECF6\",\"gridcolor\":\"white\",\"gridwidth\":2,\"linecolor\":\"white\",\"showbackground\":true,\"ticks\":\"\",\"zerolinecolor\":\"white\"}},\"shapedefaults\":{\"line\":{\"color\":\"#2a3f5f\"}},\"ternary\":{\"aaxis\":{\"gridcolor\":\"white\",\"linecolor\":\"white\",\"ticks\":\"\"},\"baxis\":{\"gridcolor\":\"white\",\"linecolor\":\"white\",\"ticks\":\"\"},\"bgcolor\":\"#E5ECF6\",\"caxis\":{\"gridcolor\":\"white\",\"linecolor\":\"white\",\"ticks\":\"\"}},\"title\":{\"x\":0.05},\"xaxis\":{\"automargin\":true,\"gridcolor\":\"white\",\"linecolor\":\"white\",\"ticks\":\"\",\"title\":{\"standoff\":15},\"zerolinecolor\":\"white\",\"zerolinewidth\":2},\"yaxis\":{\"automargin\":true,\"gridcolor\":\"white\",\"linecolor\":\"white\",\"ticks\":\"\",\"title\":{\"standoff\":15},\"zerolinecolor\":\"white\",\"zerolinewidth\":2}}}},                        {\"responsive\": true}                    ).then(function(){\n",
       "                            \n",
       "var gd = document.getElementById('f7053534-064c-46bd-9669-3e7115eee38e');\n",
       "var x = new MutationObserver(function (mutations, observer) {{\n",
       "        var display = window.getComputedStyle(gd).display;\n",
       "        if (!display || display === 'none') {{\n",
       "            console.log([gd, 'removed!']);\n",
       "            Plotly.purge(gd);\n",
       "            observer.disconnect();\n",
       "        }}\n",
       "}});\n",
       "\n",
       "// Listen for the removal of the full notebook cells\n",
       "var notebookContainer = gd.closest('#notebook-container');\n",
       "if (notebookContainer) {{\n",
       "    x.observe(notebookContainer, {childList: true});\n",
       "}}\n",
       "\n",
       "// Listen for the clearing of the current output cell\n",
       "var outputEl = gd.closest('.output');\n",
       "if (outputEl) {{\n",
       "    x.observe(outputEl, {childList: true});\n",
       "}}\n",
       "\n",
       "                        })                };                });            </script>        </div>"
      ]
     },
     "metadata": {},
     "output_type": "display_data"
    }
   ],
   "source": [
    "#Plotting on the WorldMap using plotly\n",
    "x3 = df.groupby([\"Country\"])[\"Overweight\"].mean()\n",
    "col_map3 = go.Figure(\n",
    "                data=go.Choropleth(\n",
    "                locations = x3.index,\n",
    "                locationmode = 'country names',\n",
    "                colorscale= 'portland',\n",
    "                text= x3.index,\n",
    "                z=x3,\n",
    "                colorbar = {'title':'Overweight %', 'len':200,'lenmode':'pixels' },\n",
    "                \n",
    "            ), layout = go.Layout(geo=dict(bgcolor= 'rgba(255,255,255,0)',showframe=False, projection = {'type': 'natural earth'}),\n",
    "                                  title = 'Overweight % (Ukraine)',\n",
    "                                  \n",
    "                                  titlefont = {\"size\": 15, \"color\":\"White\"},\n",
    "                                  geo_scope='world',\n",
    "                                  margin={\"r\":0,\"t\":40,\"l\":0,\"b\":0},\n",
    "                                  paper_bgcolor='#000000',\n",
    "                                 \n",
    "                                  )\n",
    "            )\n",
    "\n",
    "col_map3.show()"
   ]
  },
  {
   "cell_type": "code",
   "execution_count": 97,
   "id": "c8a377ef",
   "metadata": {},
   "outputs": [
    {
     "data": {
      "application/vnd.plotly.v1+json": {
       "config": {
        "plotlyServerURL": "https://plot.ly"
       },
       "data": [
        {
         "colorbar": {
          "len": 200,
          "lenmode": "pixels",
          "title": {
           "text": "Stunting%"
          }
         },
         "colorscale": [
          [
           0,
           "rgb(12,51,131)"
          ],
          [
           0.25,
           "rgb(10,136,186)"
          ],
          [
           0.5,
           "rgb(242,211,56)"
          ],
          [
           0.75,
           "rgb(242,143,56)"
          ],
          [
           1,
           "rgb(217,30,30)"
          ]
         ],
         "locationmode": "country names",
         "locations": [
          "AFGHANISTAN",
          "ALBANIA",
          "ALGERIA",
          "ANGOLA",
          "ARGENTINA",
          "ARMENIA",
          "AUSTRALIA",
          "AZERBAIJAN",
          "BAHRAIN",
          "BANGLADESH",
          "BARBADOS",
          "BELARUS",
          "BELIZE",
          "BENIN",
          "BHUTAN",
          "BOLIVIA (PLURINATIONAL STATE OF)",
          "BOSNIA AND HERZEGOVINA",
          "BOTSWANA",
          "BRAZIL",
          "BRUNEI DARUSSALAM",
          "BULGARIA",
          "BURKINA FASO",
          "BURUNDI",
          "CABO VERDE",
          "CAMBODIA",
          "CAMEROON",
          "CANADA",
          "CENTRAL AFRICAN REPUBLIC (THE)",
          "CHAD",
          "CHILE",
          "CHINA",
          "COLOMBIA",
          "COMOROS (THE)",
          "CONGO (THE)",
          "COSTA RICA",
          "COTE D'IVOIRE",
          "CUBA",
          "CZECHIA",
          "DEMOCRATIC PEOPLE'S REP. OF KOREA (THE)",
          "DEMOCRATIC REP. OF THE CONGO (THE)",
          "DJIBOUTI",
          "DOMINICAN REPUBLIC (THE)",
          "ECUADOR",
          "EGYPT",
          "EL SALVADOR",
          "EQUATORIAL GUINEA",
          "ERITREA",
          "ESWATINI",
          "ETHIOPIA",
          "FIJI",
          "GABON",
          "GAMBIA (THE)",
          "GEORGIA",
          "GERMANY",
          "GHANA",
          "GUATEMALA",
          "GUINEA",
          "GUINEA-BISSAU",
          "GUYANA",
          "HAITI",
          "HONDURAS",
          "INDIA",
          "INDONESIA",
          "IRAN (ISLAMIC REPUBLIC OF)",
          "IRAQ",
          "JAMAICA",
          "JAPAN",
          "JORDAN",
          "KAZAKHSTAN",
          "KENYA",
          "KIRIBATI",
          "KUWAIT",
          "KYRGYZSTAN",
          "LAO PEOPLE'S DEMOCRATIC REP. (THE)",
          "LEBANON",
          "LESOTHO",
          "LIBERIA",
          "LIBYA",
          "MADAGASCAR",
          "MALAWI",
          "MALAYSIA",
          "MALDIVES",
          "MALI",
          "MARSHALL ISLANDS",
          "MAURITANIA",
          "MAURITIUS",
          "MEXICO",
          "MONGOLIA",
          "MONTENEGRO",
          "MOROCCO",
          "MOZAMBIQUE",
          "MYANMAR",
          "NAMIBIA",
          "NAURU",
          "NEPAL",
          "NICARAGUA",
          "NIGER (THE)",
          "NIGERIA",
          "NORTH MACEDONIA",
          "OMAN",
          "PAKISTAN",
          "PANAMA",
          "PAPUA NEW GUINEA",
          "PARAGUAY",
          "PERU",
          "PHILIPPINES (THE)",
          "POLAND",
          "QATAR",
          "REPUBLIC OF KOREA (THE)",
          "REPUBLIC OF MOLDOVA (THE)",
          "ROMANIA",
          "RWANDA",
          "SAINT LUCIA",
          "SAMOA",
          "SAO TOME AND PRINCIPE",
          "SAUDI ARABIA",
          "SENEGAL",
          "SERBIA",
          "SEYCHELLES",
          "SIERRA LEONE",
          "SINGAPORE",
          "SOLOMON ISLANDS",
          "SOMALIA",
          "SOUTH AFRICA",
          "SOUTH SUDAN",
          "SRI LANKA",
          "STATE OF PALESTINE",
          "SUDAN (THE)",
          "SURINAME",
          "SYRIAN ARAB REPUBLIC (THE)",
          "TAJIKISTAN",
          "THAILAND",
          "TIMOR-LESTE",
          "TOGO",
          "TONGA",
          "TRINIDAD AND TOBAGO",
          "TUNISIA",
          "TURKEY",
          "TURKMENISTAN",
          "TUVALU",
          "UGANDA",
          "UKRAINE",
          "UNITED REPUBLIC OF TANZANIA (THE)",
          "UNITED STATES OF AMERICA (THE)",
          "URUGUAY",
          "UZBEKISTAN",
          "VANUATU",
          "VENEZUELA (BOLIVARIAN REPUBLIC OF)",
          "VIET NAM",
          "YEMEN",
          "ZAMBIA",
          "ZIMBABWE"
         ],
         "text": [
          "AFGHANISTAN",
          "ALBANIA",
          "ALGERIA",
          "ANGOLA",
          "ARGENTINA",
          "ARMENIA",
          "AUSTRALIA",
          "AZERBAIJAN",
          "BAHRAIN",
          "BANGLADESH",
          "BARBADOS",
          "BELARUS",
          "BELIZE",
          "BENIN",
          "BHUTAN",
          "BOLIVIA (PLURINATIONAL STATE OF)",
          "BOSNIA AND HERZEGOVINA",
          "BOTSWANA",
          "BRAZIL",
          "BRUNEI DARUSSALAM",
          "BULGARIA",
          "BURKINA FASO",
          "BURUNDI",
          "CABO VERDE",
          "CAMBODIA",
          "CAMEROON",
          "CANADA",
          "CENTRAL AFRICAN REPUBLIC (THE)",
          "CHAD",
          "CHILE",
          "CHINA",
          "COLOMBIA",
          "COMOROS (THE)",
          "CONGO (THE)",
          "COSTA RICA",
          "COTE D'IVOIRE",
          "CUBA",
          "CZECHIA",
          "DEMOCRATIC PEOPLE'S REP. OF KOREA (THE)",
          "DEMOCRATIC REP. OF THE CONGO (THE)",
          "DJIBOUTI",
          "DOMINICAN REPUBLIC (THE)",
          "ECUADOR",
          "EGYPT",
          "EL SALVADOR",
          "EQUATORIAL GUINEA",
          "ERITREA",
          "ESWATINI",
          "ETHIOPIA",
          "FIJI",
          "GABON",
          "GAMBIA (THE)",
          "GEORGIA",
          "GERMANY",
          "GHANA",
          "GUATEMALA",
          "GUINEA",
          "GUINEA-BISSAU",
          "GUYANA",
          "HAITI",
          "HONDURAS",
          "INDIA",
          "INDONESIA",
          "IRAN (ISLAMIC REPUBLIC OF)",
          "IRAQ",
          "JAMAICA",
          "JAPAN",
          "JORDAN",
          "KAZAKHSTAN",
          "KENYA",
          "KIRIBATI",
          "KUWAIT",
          "KYRGYZSTAN",
          "LAO PEOPLE'S DEMOCRATIC REP. (THE)",
          "LEBANON",
          "LESOTHO",
          "LIBERIA",
          "LIBYA",
          "MADAGASCAR",
          "MALAWI",
          "MALAYSIA",
          "MALDIVES",
          "MALI",
          "MARSHALL ISLANDS",
          "MAURITANIA",
          "MAURITIUS",
          "MEXICO",
          "MONGOLIA",
          "MONTENEGRO",
          "MOROCCO",
          "MOZAMBIQUE",
          "MYANMAR",
          "NAMIBIA",
          "NAURU",
          "NEPAL",
          "NICARAGUA",
          "NIGER (THE)",
          "NIGERIA",
          "NORTH MACEDONIA",
          "OMAN",
          "PAKISTAN",
          "PANAMA",
          "PAPUA NEW GUINEA",
          "PARAGUAY",
          "PERU",
          "PHILIPPINES (THE)",
          "POLAND",
          "QATAR",
          "REPUBLIC OF KOREA (THE)",
          "REPUBLIC OF MOLDOVA (THE)",
          "ROMANIA",
          "RWANDA",
          "SAINT LUCIA",
          "SAMOA",
          "SAO TOME AND PRINCIPE",
          "SAUDI ARABIA",
          "SENEGAL",
          "SERBIA",
          "SEYCHELLES",
          "SIERRA LEONE",
          "SINGAPORE",
          "SOLOMON ISLANDS",
          "SOMALIA",
          "SOUTH AFRICA",
          "SOUTH SUDAN",
          "SRI LANKA",
          "STATE OF PALESTINE",
          "SUDAN (THE)",
          "SURINAME",
          "SYRIAN ARAB REPUBLIC (THE)",
          "TAJIKISTAN",
          "THAILAND",
          "TIMOR-LESTE",
          "TOGO",
          "TONGA",
          "TRINIDAD AND TOBAGO",
          "TUNISIA",
          "TURKEY",
          "TURKMENISTAN",
          "TUVALU",
          "UGANDA",
          "UKRAINE",
          "UNITED REPUBLIC OF TANZANIA (THE)",
          "UNITED STATES OF AMERICA (THE)",
          "URUGUAY",
          "UZBEKISTAN",
          "VANUATU",
          "VENEZUELA (BOLIVARIAN REPUBLIC OF)",
          "VIET NAM",
          "YEMEN",
          "ZAMBIA",
          "ZIMBABWE"
         ],
         "type": "choropleth",
         "z": [
          47.775000000000006,
          24.16,
          19.571428571428573,
          42.63333333333333,
          10.025,
          16.119999999999997,
          1,
          21.816666666666663,
          13.75,
          54.22916666666666,
          7.7,
          4.5,
          18.766666666666666,
          35.375,
          44.25,
          29.728571428571424,
          10.933333333333332,
          31.03333333333333,
          13.133333333333333,
          19.7,
          7.466666666666666,
          33.346153846153854,
          57.6,
          24.1,
          43.68333333333333,
          33.74285714285714,
          null,
          41.78333333333333,
          41.260000000000005,
          3.453333333333333,
          20.6,
          18.214285714285715,
          39.125,
          26.725,
          6.9,
          31.385714285714283,
          7,
          2.9000000000000004,
          40.3,
          45.46,
          30.075000000000003,
          12.749999999999998,
          28.75,
          28.5,
          26.600000000000005,
          35.65,
          53.225,
          32.5,
          47.84285714285714,
          5.9,
          21.45,
          23.7,
          14,
          1.5,
          29.477777777777785,
          54.1,
          34.2375,
          35.275,
          15.279999999999998,
          29.916666666666668,
          36.85714285714285,
          49.05555555555556,
          38.3625,
          14.675,
          24.514285714285712,
          8.680000000000001,
          7.1,
          11.76,
          15.02,
          37.144444444444446,
          34.4,
          4.661111111111112,
          19.916666666666668,
          44.92857142857143,
          16.85,
          40.2,
          37.22,
          26.73333333333333,
          52.575,
          49.10714285714285,
          19.075,
          32.6,
          34.41428571428572,
          34.8,
          34.17,
          20.45,
          19.175,
          20.777777777777786,
          8.65,
          23.85,
          47.84285714285715,
          45.1,
          29.200000000000003,
          24,
          51.9125,
          24.066666666666663,
          46,
          39.46363636363637,
          8.066666666666668,
          16.066666666666666,
          46.67142857142858,
          19.83333333333333,
          46.46666666666667,
          13.025,
          21.860000000000003,
          36.27272727272728,
          2.75,
          11.6,
          2.5,
          8.55,
          13.22,
          46.31111111111111,
          2.5,
          5.65,
          28.880000000000003,
          15.35,
          22.73571428571429,
          6.9,
          7.800000000000001,
          37.2,
          4.4,
          32.733333333333334,
          32.166666666666664,
          29.071428571428573,
          33.75,
          21.8625,
          11.550000000000002,
          36.86666666666667,
          11.166666666666666,
          28.55,
          33.77272727272727,
          17.733333333333334,
          55.38,
          30.922222222222224,
          5.15,
          6.933333333333333,
          12.45,
          14.35,
          19.5,
          10,
          38.333333333333336,
          22.9,
          40.99090909090909,
          2.914285714285714,
          14.242857142857144,
          23.7,
          26.766666666666666,
          16.957142857142863,
          34.922727272727265,
          51.9,
          48.1375,
          30.455555555555552
         ]
        }
       ],
       "layout": {
        "geo": {
         "bgcolor": "rgba(255,255,255,0)",
         "projection": {
          "type": "natural earth"
         },
         "scope": "world",
         "showframe": false
        },
        "margin": {
         "b": 0,
         "l": 0,
         "r": 0,
         "t": 40
        },
        "paper_bgcolor": "#000000",
        "template": {
         "data": {
          "bar": [
           {
            "error_x": {
             "color": "#2a3f5f"
            },
            "error_y": {
             "color": "#2a3f5f"
            },
            "marker": {
             "line": {
              "color": "#E5ECF6",
              "width": 0.5
             },
             "pattern": {
              "fillmode": "overlay",
              "size": 10,
              "solidity": 0.2
             }
            },
            "type": "bar"
           }
          ],
          "barpolar": [
           {
            "marker": {
             "line": {
              "color": "#E5ECF6",
              "width": 0.5
             },
             "pattern": {
              "fillmode": "overlay",
              "size": 10,
              "solidity": 0.2
             }
            },
            "type": "barpolar"
           }
          ],
          "carpet": [
           {
            "aaxis": {
             "endlinecolor": "#2a3f5f",
             "gridcolor": "white",
             "linecolor": "white",
             "minorgridcolor": "white",
             "startlinecolor": "#2a3f5f"
            },
            "baxis": {
             "endlinecolor": "#2a3f5f",
             "gridcolor": "white",
             "linecolor": "white",
             "minorgridcolor": "white",
             "startlinecolor": "#2a3f5f"
            },
            "type": "carpet"
           }
          ],
          "choropleth": [
           {
            "colorbar": {
             "outlinewidth": 0,
             "ticks": ""
            },
            "type": "choropleth"
           }
          ],
          "contour": [
           {
            "colorbar": {
             "outlinewidth": 0,
             "ticks": ""
            },
            "colorscale": [
             [
              0,
              "#0d0887"
             ],
             [
              0.1111111111111111,
              "#46039f"
             ],
             [
              0.2222222222222222,
              "#7201a8"
             ],
             [
              0.3333333333333333,
              "#9c179e"
             ],
             [
              0.4444444444444444,
              "#bd3786"
             ],
             [
              0.5555555555555556,
              "#d8576b"
             ],
             [
              0.6666666666666666,
              "#ed7953"
             ],
             [
              0.7777777777777778,
              "#fb9f3a"
             ],
             [
              0.8888888888888888,
              "#fdca26"
             ],
             [
              1,
              "#f0f921"
             ]
            ],
            "type": "contour"
           }
          ],
          "contourcarpet": [
           {
            "colorbar": {
             "outlinewidth": 0,
             "ticks": ""
            },
            "type": "contourcarpet"
           }
          ],
          "heatmap": [
           {
            "colorbar": {
             "outlinewidth": 0,
             "ticks": ""
            },
            "colorscale": [
             [
              0,
              "#0d0887"
             ],
             [
              0.1111111111111111,
              "#46039f"
             ],
             [
              0.2222222222222222,
              "#7201a8"
             ],
             [
              0.3333333333333333,
              "#9c179e"
             ],
             [
              0.4444444444444444,
              "#bd3786"
             ],
             [
              0.5555555555555556,
              "#d8576b"
             ],
             [
              0.6666666666666666,
              "#ed7953"
             ],
             [
              0.7777777777777778,
              "#fb9f3a"
             ],
             [
              0.8888888888888888,
              "#fdca26"
             ],
             [
              1,
              "#f0f921"
             ]
            ],
            "type": "heatmap"
           }
          ],
          "heatmapgl": [
           {
            "colorbar": {
             "outlinewidth": 0,
             "ticks": ""
            },
            "colorscale": [
             [
              0,
              "#0d0887"
             ],
             [
              0.1111111111111111,
              "#46039f"
             ],
             [
              0.2222222222222222,
              "#7201a8"
             ],
             [
              0.3333333333333333,
              "#9c179e"
             ],
             [
              0.4444444444444444,
              "#bd3786"
             ],
             [
              0.5555555555555556,
              "#d8576b"
             ],
             [
              0.6666666666666666,
              "#ed7953"
             ],
             [
              0.7777777777777778,
              "#fb9f3a"
             ],
             [
              0.8888888888888888,
              "#fdca26"
             ],
             [
              1,
              "#f0f921"
             ]
            ],
            "type": "heatmapgl"
           }
          ],
          "histogram": [
           {
            "marker": {
             "pattern": {
              "fillmode": "overlay",
              "size": 10,
              "solidity": 0.2
             }
            },
            "type": "histogram"
           }
          ],
          "histogram2d": [
           {
            "colorbar": {
             "outlinewidth": 0,
             "ticks": ""
            },
            "colorscale": [
             [
              0,
              "#0d0887"
             ],
             [
              0.1111111111111111,
              "#46039f"
             ],
             [
              0.2222222222222222,
              "#7201a8"
             ],
             [
              0.3333333333333333,
              "#9c179e"
             ],
             [
              0.4444444444444444,
              "#bd3786"
             ],
             [
              0.5555555555555556,
              "#d8576b"
             ],
             [
              0.6666666666666666,
              "#ed7953"
             ],
             [
              0.7777777777777778,
              "#fb9f3a"
             ],
             [
              0.8888888888888888,
              "#fdca26"
             ],
             [
              1,
              "#f0f921"
             ]
            ],
            "type": "histogram2d"
           }
          ],
          "histogram2dcontour": [
           {
            "colorbar": {
             "outlinewidth": 0,
             "ticks": ""
            },
            "colorscale": [
             [
              0,
              "#0d0887"
             ],
             [
              0.1111111111111111,
              "#46039f"
             ],
             [
              0.2222222222222222,
              "#7201a8"
             ],
             [
              0.3333333333333333,
              "#9c179e"
             ],
             [
              0.4444444444444444,
              "#bd3786"
             ],
             [
              0.5555555555555556,
              "#d8576b"
             ],
             [
              0.6666666666666666,
              "#ed7953"
             ],
             [
              0.7777777777777778,
              "#fb9f3a"
             ],
             [
              0.8888888888888888,
              "#fdca26"
             ],
             [
              1,
              "#f0f921"
             ]
            ],
            "type": "histogram2dcontour"
           }
          ],
          "mesh3d": [
           {
            "colorbar": {
             "outlinewidth": 0,
             "ticks": ""
            },
            "type": "mesh3d"
           }
          ],
          "parcoords": [
           {
            "line": {
             "colorbar": {
              "outlinewidth": 0,
              "ticks": ""
             }
            },
            "type": "parcoords"
           }
          ],
          "pie": [
           {
            "automargin": true,
            "type": "pie"
           }
          ],
          "scatter": [
           {
            "marker": {
             "colorbar": {
              "outlinewidth": 0,
              "ticks": ""
             }
            },
            "type": "scatter"
           }
          ],
          "scatter3d": [
           {
            "line": {
             "colorbar": {
              "outlinewidth": 0,
              "ticks": ""
             }
            },
            "marker": {
             "colorbar": {
              "outlinewidth": 0,
              "ticks": ""
             }
            },
            "type": "scatter3d"
           }
          ],
          "scattercarpet": [
           {
            "marker": {
             "colorbar": {
              "outlinewidth": 0,
              "ticks": ""
             }
            },
            "type": "scattercarpet"
           }
          ],
          "scattergeo": [
           {
            "marker": {
             "colorbar": {
              "outlinewidth": 0,
              "ticks": ""
             }
            },
            "type": "scattergeo"
           }
          ],
          "scattergl": [
           {
            "marker": {
             "colorbar": {
              "outlinewidth": 0,
              "ticks": ""
             }
            },
            "type": "scattergl"
           }
          ],
          "scattermapbox": [
           {
            "marker": {
             "colorbar": {
              "outlinewidth": 0,
              "ticks": ""
             }
            },
            "type": "scattermapbox"
           }
          ],
          "scatterpolar": [
           {
            "marker": {
             "colorbar": {
              "outlinewidth": 0,
              "ticks": ""
             }
            },
            "type": "scatterpolar"
           }
          ],
          "scatterpolargl": [
           {
            "marker": {
             "colorbar": {
              "outlinewidth": 0,
              "ticks": ""
             }
            },
            "type": "scatterpolargl"
           }
          ],
          "scatterternary": [
           {
            "marker": {
             "colorbar": {
              "outlinewidth": 0,
              "ticks": ""
             }
            },
            "type": "scatterternary"
           }
          ],
          "surface": [
           {
            "colorbar": {
             "outlinewidth": 0,
             "ticks": ""
            },
            "colorscale": [
             [
              0,
              "#0d0887"
             ],
             [
              0.1111111111111111,
              "#46039f"
             ],
             [
              0.2222222222222222,
              "#7201a8"
             ],
             [
              0.3333333333333333,
              "#9c179e"
             ],
             [
              0.4444444444444444,
              "#bd3786"
             ],
             [
              0.5555555555555556,
              "#d8576b"
             ],
             [
              0.6666666666666666,
              "#ed7953"
             ],
             [
              0.7777777777777778,
              "#fb9f3a"
             ],
             [
              0.8888888888888888,
              "#fdca26"
             ],
             [
              1,
              "#f0f921"
             ]
            ],
            "type": "surface"
           }
          ],
          "table": [
           {
            "cells": {
             "fill": {
              "color": "#EBF0F8"
             },
             "line": {
              "color": "white"
             }
            },
            "header": {
             "fill": {
              "color": "#C8D4E3"
             },
             "line": {
              "color": "white"
             }
            },
            "type": "table"
           }
          ]
         },
         "layout": {
          "annotationdefaults": {
           "arrowcolor": "#2a3f5f",
           "arrowhead": 0,
           "arrowwidth": 1
          },
          "autotypenumbers": "strict",
          "coloraxis": {
           "colorbar": {
            "outlinewidth": 0,
            "ticks": ""
           }
          },
          "colorscale": {
           "diverging": [
            [
             0,
             "#8e0152"
            ],
            [
             0.1,
             "#c51b7d"
            ],
            [
             0.2,
             "#de77ae"
            ],
            [
             0.3,
             "#f1b6da"
            ],
            [
             0.4,
             "#fde0ef"
            ],
            [
             0.5,
             "#f7f7f7"
            ],
            [
             0.6,
             "#e6f5d0"
            ],
            [
             0.7,
             "#b8e186"
            ],
            [
             0.8,
             "#7fbc41"
            ],
            [
             0.9,
             "#4d9221"
            ],
            [
             1,
             "#276419"
            ]
           ],
           "sequential": [
            [
             0,
             "#0d0887"
            ],
            [
             0.1111111111111111,
             "#46039f"
            ],
            [
             0.2222222222222222,
             "#7201a8"
            ],
            [
             0.3333333333333333,
             "#9c179e"
            ],
            [
             0.4444444444444444,
             "#bd3786"
            ],
            [
             0.5555555555555556,
             "#d8576b"
            ],
            [
             0.6666666666666666,
             "#ed7953"
            ],
            [
             0.7777777777777778,
             "#fb9f3a"
            ],
            [
             0.8888888888888888,
             "#fdca26"
            ],
            [
             1,
             "#f0f921"
            ]
           ],
           "sequentialminus": [
            [
             0,
             "#0d0887"
            ],
            [
             0.1111111111111111,
             "#46039f"
            ],
            [
             0.2222222222222222,
             "#7201a8"
            ],
            [
             0.3333333333333333,
             "#9c179e"
            ],
            [
             0.4444444444444444,
             "#bd3786"
            ],
            [
             0.5555555555555556,
             "#d8576b"
            ],
            [
             0.6666666666666666,
             "#ed7953"
            ],
            [
             0.7777777777777778,
             "#fb9f3a"
            ],
            [
             0.8888888888888888,
             "#fdca26"
            ],
            [
             1,
             "#f0f921"
            ]
           ]
          },
          "colorway": [
           "#636efa",
           "#EF553B",
           "#00cc96",
           "#ab63fa",
           "#FFA15A",
           "#19d3f3",
           "#FF6692",
           "#B6E880",
           "#FF97FF",
           "#FECB52"
          ],
          "font": {
           "color": "#2a3f5f"
          },
          "geo": {
           "bgcolor": "white",
           "lakecolor": "white",
           "landcolor": "#E5ECF6",
           "showlakes": true,
           "showland": true,
           "subunitcolor": "white"
          },
          "hoverlabel": {
           "align": "left"
          },
          "hovermode": "closest",
          "mapbox": {
           "style": "light"
          },
          "paper_bgcolor": "white",
          "plot_bgcolor": "#E5ECF6",
          "polar": {
           "angularaxis": {
            "gridcolor": "white",
            "linecolor": "white",
            "ticks": ""
           },
           "bgcolor": "#E5ECF6",
           "radialaxis": {
            "gridcolor": "white",
            "linecolor": "white",
            "ticks": ""
           }
          },
          "scene": {
           "xaxis": {
            "backgroundcolor": "#E5ECF6",
            "gridcolor": "white",
            "gridwidth": 2,
            "linecolor": "white",
            "showbackground": true,
            "ticks": "",
            "zerolinecolor": "white"
           },
           "yaxis": {
            "backgroundcolor": "#E5ECF6",
            "gridcolor": "white",
            "gridwidth": 2,
            "linecolor": "white",
            "showbackground": true,
            "ticks": "",
            "zerolinecolor": "white"
           },
           "zaxis": {
            "backgroundcolor": "#E5ECF6",
            "gridcolor": "white",
            "gridwidth": 2,
            "linecolor": "white",
            "showbackground": true,
            "ticks": "",
            "zerolinecolor": "white"
           }
          },
          "shapedefaults": {
           "line": {
            "color": "#2a3f5f"
           }
          },
          "ternary": {
           "aaxis": {
            "gridcolor": "white",
            "linecolor": "white",
            "ticks": ""
           },
           "baxis": {
            "gridcolor": "white",
            "linecolor": "white",
            "ticks": ""
           },
           "bgcolor": "#E5ECF6",
           "caxis": {
            "gridcolor": "white",
            "linecolor": "white",
            "ticks": ""
           }
          },
          "title": {
           "x": 0.05
          },
          "xaxis": {
           "automargin": true,
           "gridcolor": "white",
           "linecolor": "white",
           "ticks": "",
           "title": {
            "standoff": 15
           },
           "zerolinecolor": "white",
           "zerolinewidth": 2
          },
          "yaxis": {
           "automargin": true,
           "gridcolor": "white",
           "linecolor": "white",
           "ticks": "",
           "title": {
            "standoff": 15
           },
           "zerolinecolor": "white",
           "zerolinewidth": 2
          }
         }
        },
        "title": {
         "font": {
          "color": "White",
          "size": 15
         },
         "text": "Stunting %(Bangladesh)"
        }
       }
      },
      "text/html": [
       "<div>                            <div id=\"b06ed518-b422-474e-a515-bc3a6ff54510\" class=\"plotly-graph-div\" style=\"height:525px; width:100%;\"></div>            <script type=\"text/javascript\">                require([\"plotly\"], function(Plotly) {                    window.PLOTLYENV=window.PLOTLYENV || {};                                    if (document.getElementById(\"b06ed518-b422-474e-a515-bc3a6ff54510\")) {                    Plotly.newPlot(                        \"b06ed518-b422-474e-a515-bc3a6ff54510\",                        [{\"colorbar\":{\"len\":200,\"lenmode\":\"pixels\",\"title\":{\"text\":\"Stunting%\"}},\"colorscale\":[[0.0,\"rgb(12,51,131)\"],[0.25,\"rgb(10,136,186)\"],[0.5,\"rgb(242,211,56)\"],[0.75,\"rgb(242,143,56)\"],[1.0,\"rgb(217,30,30)\"]],\"locationmode\":\"country names\",\"locations\":[\"AFGHANISTAN\",\"ALBANIA\",\"ALGERIA\",\"ANGOLA\",\"ARGENTINA\",\"ARMENIA\",\"AUSTRALIA\",\"AZERBAIJAN\",\"BAHRAIN\",\"BANGLADESH\",\"BARBADOS\",\"BELARUS\",\"BELIZE\",\"BENIN\",\"BHUTAN\",\"BOLIVIA (PLURINATIONAL STATE OF)\",\"BOSNIA AND HERZEGOVINA\",\"BOTSWANA\",\"BRAZIL\",\"BRUNEI DARUSSALAM\",\"BULGARIA\",\"BURKINA FASO\",\"BURUNDI\",\"CABO VERDE\",\"CAMBODIA\",\"CAMEROON\",\"CANADA\",\"CENTRAL AFRICAN REPUBLIC (THE)\",\"CHAD\",\"CHILE\",\"CHINA\",\"COLOMBIA\",\"COMOROS (THE)\",\"CONGO (THE)\",\"COSTA RICA\",\"COTE D'IVOIRE\",\"CUBA\",\"CZECHIA\",\"DEMOCRATIC PEOPLE'S REP. OF KOREA (THE)\",\"DEMOCRATIC REP. OF THE CONGO (THE)\",\"DJIBOUTI\",\"DOMINICAN REPUBLIC (THE)\",\"ECUADOR\",\"EGYPT\",\"EL SALVADOR\",\"EQUATORIAL GUINEA\",\"ERITREA\",\"ESWATINI\",\"ETHIOPIA\",\"FIJI\",\"GABON\",\"GAMBIA (THE)\",\"GEORGIA\",\"GERMANY\",\"GHANA\",\"GUATEMALA\",\"GUINEA\",\"GUINEA-BISSAU\",\"GUYANA\",\"HAITI\",\"HONDURAS\",\"INDIA\",\"INDONESIA\",\"IRAN (ISLAMIC REPUBLIC OF)\",\"IRAQ\",\"JAMAICA\",\"JAPAN\",\"JORDAN\",\"KAZAKHSTAN\",\"KENYA\",\"KIRIBATI\",\"KUWAIT\",\"KYRGYZSTAN\",\"LAO PEOPLE'S DEMOCRATIC REP. (THE)\",\"LEBANON\",\"LESOTHO\",\"LIBERIA\",\"LIBYA\",\"MADAGASCAR\",\"MALAWI\",\"MALAYSIA\",\"MALDIVES\",\"MALI\",\"MARSHALL ISLANDS\",\"MAURITANIA\",\"MAURITIUS\",\"MEXICO\",\"MONGOLIA\",\"MONTENEGRO\",\"MOROCCO\",\"MOZAMBIQUE\",\"MYANMAR\",\"NAMIBIA\",\"NAURU\",\"NEPAL\",\"NICARAGUA\",\"NIGER (THE)\",\"NIGERIA\",\"NORTH MACEDONIA\",\"OMAN\",\"PAKISTAN\",\"PANAMA\",\"PAPUA NEW GUINEA\",\"PARAGUAY\",\"PERU\",\"PHILIPPINES (THE)\",\"POLAND\",\"QATAR\",\"REPUBLIC OF KOREA (THE)\",\"REPUBLIC OF MOLDOVA (THE)\",\"ROMANIA\",\"RWANDA\",\"SAINT LUCIA\",\"SAMOA\",\"SAO TOME AND PRINCIPE\",\"SAUDI ARABIA\",\"SENEGAL\",\"SERBIA\",\"SEYCHELLES\",\"SIERRA LEONE\",\"SINGAPORE\",\"SOLOMON ISLANDS\",\"SOMALIA\",\"SOUTH AFRICA\",\"SOUTH SUDAN\",\"SRI LANKA\",\"STATE OF PALESTINE\",\"SUDAN (THE)\",\"SURINAME\",\"SYRIAN ARAB REPUBLIC (THE)\",\"TAJIKISTAN\",\"THAILAND\",\"TIMOR-LESTE\",\"TOGO\",\"TONGA\",\"TRINIDAD AND TOBAGO\",\"TUNISIA\",\"TURKEY\",\"TURKMENISTAN\",\"TUVALU\",\"UGANDA\",\"UKRAINE\",\"UNITED REPUBLIC OF TANZANIA (THE)\",\"UNITED STATES OF AMERICA (THE)\",\"URUGUAY\",\"UZBEKISTAN\",\"VANUATU\",\"VENEZUELA (BOLIVARIAN REPUBLIC OF)\",\"VIET NAM\",\"YEMEN\",\"ZAMBIA\",\"ZIMBABWE\"],\"text\":[\"AFGHANISTAN\",\"ALBANIA\",\"ALGERIA\",\"ANGOLA\",\"ARGENTINA\",\"ARMENIA\",\"AUSTRALIA\",\"AZERBAIJAN\",\"BAHRAIN\",\"BANGLADESH\",\"BARBADOS\",\"BELARUS\",\"BELIZE\",\"BENIN\",\"BHUTAN\",\"BOLIVIA (PLURINATIONAL STATE OF)\",\"BOSNIA AND HERZEGOVINA\",\"BOTSWANA\",\"BRAZIL\",\"BRUNEI DARUSSALAM\",\"BULGARIA\",\"BURKINA FASO\",\"BURUNDI\",\"CABO VERDE\",\"CAMBODIA\",\"CAMEROON\",\"CANADA\",\"CENTRAL AFRICAN REPUBLIC (THE)\",\"CHAD\",\"CHILE\",\"CHINA\",\"COLOMBIA\",\"COMOROS (THE)\",\"CONGO (THE)\",\"COSTA RICA\",\"COTE D'IVOIRE\",\"CUBA\",\"CZECHIA\",\"DEMOCRATIC PEOPLE'S REP. OF KOREA (THE)\",\"DEMOCRATIC REP. OF THE CONGO (THE)\",\"DJIBOUTI\",\"DOMINICAN REPUBLIC (THE)\",\"ECUADOR\",\"EGYPT\",\"EL SALVADOR\",\"EQUATORIAL GUINEA\",\"ERITREA\",\"ESWATINI\",\"ETHIOPIA\",\"FIJI\",\"GABON\",\"GAMBIA (THE)\",\"GEORGIA\",\"GERMANY\",\"GHANA\",\"GUATEMALA\",\"GUINEA\",\"GUINEA-BISSAU\",\"GUYANA\",\"HAITI\",\"HONDURAS\",\"INDIA\",\"INDONESIA\",\"IRAN (ISLAMIC REPUBLIC OF)\",\"IRAQ\",\"JAMAICA\",\"JAPAN\",\"JORDAN\",\"KAZAKHSTAN\",\"KENYA\",\"KIRIBATI\",\"KUWAIT\",\"KYRGYZSTAN\",\"LAO PEOPLE'S DEMOCRATIC REP. (THE)\",\"LEBANON\",\"LESOTHO\",\"LIBERIA\",\"LIBYA\",\"MADAGASCAR\",\"MALAWI\",\"MALAYSIA\",\"MALDIVES\",\"MALI\",\"MARSHALL ISLANDS\",\"MAURITANIA\",\"MAURITIUS\",\"MEXICO\",\"MONGOLIA\",\"MONTENEGRO\",\"MOROCCO\",\"MOZAMBIQUE\",\"MYANMAR\",\"NAMIBIA\",\"NAURU\",\"NEPAL\",\"NICARAGUA\",\"NIGER (THE)\",\"NIGERIA\",\"NORTH MACEDONIA\",\"OMAN\",\"PAKISTAN\",\"PANAMA\",\"PAPUA NEW GUINEA\",\"PARAGUAY\",\"PERU\",\"PHILIPPINES (THE)\",\"POLAND\",\"QATAR\",\"REPUBLIC OF KOREA (THE)\",\"REPUBLIC OF MOLDOVA (THE)\",\"ROMANIA\",\"RWANDA\",\"SAINT LUCIA\",\"SAMOA\",\"SAO TOME AND PRINCIPE\",\"SAUDI ARABIA\",\"SENEGAL\",\"SERBIA\",\"SEYCHELLES\",\"SIERRA LEONE\",\"SINGAPORE\",\"SOLOMON ISLANDS\",\"SOMALIA\",\"SOUTH AFRICA\",\"SOUTH SUDAN\",\"SRI LANKA\",\"STATE OF PALESTINE\",\"SUDAN (THE)\",\"SURINAME\",\"SYRIAN ARAB REPUBLIC (THE)\",\"TAJIKISTAN\",\"THAILAND\",\"TIMOR-LESTE\",\"TOGO\",\"TONGA\",\"TRINIDAD AND TOBAGO\",\"TUNISIA\",\"TURKEY\",\"TURKMENISTAN\",\"TUVALU\",\"UGANDA\",\"UKRAINE\",\"UNITED REPUBLIC OF TANZANIA (THE)\",\"UNITED STATES OF AMERICA (THE)\",\"URUGUAY\",\"UZBEKISTAN\",\"VANUATU\",\"VENEZUELA (BOLIVARIAN REPUBLIC OF)\",\"VIET NAM\",\"YEMEN\",\"ZAMBIA\",\"ZIMBABWE\"],\"z\":[47.775000000000006,24.16,19.571428571428573,42.63333333333333,10.025,16.119999999999997,1.0,21.816666666666663,13.75,54.22916666666666,7.7,4.5,18.766666666666666,35.375,44.25,29.728571428571424,10.933333333333332,31.03333333333333,13.133333333333333,19.7,7.466666666666666,33.346153846153854,57.6,24.1,43.68333333333333,33.74285714285714,null,41.78333333333333,41.260000000000005,3.453333333333333,20.6,18.214285714285715,39.125,26.725,6.9,31.385714285714283,7.0,2.9000000000000004,40.3,45.46,30.075000000000003,12.749999999999998,28.75,28.5,26.600000000000005,35.65,53.225,32.5,47.84285714285714,5.9,21.45,23.7,14.0,1.5,29.477777777777785,54.1,34.2375,35.275,15.279999999999998,29.916666666666668,36.85714285714285,49.05555555555556,38.3625,14.675,24.514285714285712,8.680000000000001,7.1,11.76,15.02,37.144444444444446,34.4,4.661111111111112,19.916666666666668,44.92857142857143,16.85,40.2,37.22,26.73333333333333,52.575,49.10714285714285,19.075,32.6,34.41428571428572,34.8,34.17,20.45,19.175,20.777777777777786,8.65,23.85,47.84285714285715,45.1,29.200000000000003,24.0,51.9125,24.066666666666663,46.0,39.46363636363637,8.066666666666668,16.066666666666666,46.67142857142858,19.83333333333333,46.46666666666667,13.025,21.860000000000003,36.27272727272728,2.75,11.6,2.5,8.55,13.22,46.31111111111111,2.5,5.65,28.880000000000003,15.35,22.73571428571429,6.9,7.800000000000001,37.2,4.4,32.733333333333334,32.166666666666664,29.071428571428573,33.75,21.8625,11.550000000000002,36.86666666666667,11.166666666666666,28.55,33.77272727272727,17.733333333333334,55.38,30.922222222222224,5.15,6.933333333333333,12.45,14.35,19.5,10.0,38.333333333333336,22.9,40.99090909090909,2.914285714285714,14.242857142857144,23.7,26.766666666666666,16.957142857142863,34.922727272727265,51.9,48.1375,30.455555555555552],\"type\":\"choropleth\"}],                        {\"geo\":{\"bgcolor\":\"rgba(255,255,255,0)\",\"projection\":{\"type\":\"natural earth\"},\"scope\":\"world\",\"showframe\":false},\"margin\":{\"b\":0,\"l\":0,\"r\":0,\"t\":40},\"paper_bgcolor\":\"#000000\",\"title\":{\"font\":{\"color\":\"White\",\"size\":15},\"text\":\"Stunting %(Bangladesh)\"},\"template\":{\"data\":{\"bar\":[{\"error_x\":{\"color\":\"#2a3f5f\"},\"error_y\":{\"color\":\"#2a3f5f\"},\"marker\":{\"line\":{\"color\":\"#E5ECF6\",\"width\":0.5},\"pattern\":{\"fillmode\":\"overlay\",\"size\":10,\"solidity\":0.2}},\"type\":\"bar\"}],\"barpolar\":[{\"marker\":{\"line\":{\"color\":\"#E5ECF6\",\"width\":0.5},\"pattern\":{\"fillmode\":\"overlay\",\"size\":10,\"solidity\":0.2}},\"type\":\"barpolar\"}],\"carpet\":[{\"aaxis\":{\"endlinecolor\":\"#2a3f5f\",\"gridcolor\":\"white\",\"linecolor\":\"white\",\"minorgridcolor\":\"white\",\"startlinecolor\":\"#2a3f5f\"},\"baxis\":{\"endlinecolor\":\"#2a3f5f\",\"gridcolor\":\"white\",\"linecolor\":\"white\",\"minorgridcolor\":\"white\",\"startlinecolor\":\"#2a3f5f\"},\"type\":\"carpet\"}],\"choropleth\":[{\"colorbar\":{\"outlinewidth\":0,\"ticks\":\"\"},\"type\":\"choropleth\"}],\"contour\":[{\"colorbar\":{\"outlinewidth\":0,\"ticks\":\"\"},\"colorscale\":[[0.0,\"#0d0887\"],[0.1111111111111111,\"#46039f\"],[0.2222222222222222,\"#7201a8\"],[0.3333333333333333,\"#9c179e\"],[0.4444444444444444,\"#bd3786\"],[0.5555555555555556,\"#d8576b\"],[0.6666666666666666,\"#ed7953\"],[0.7777777777777778,\"#fb9f3a\"],[0.8888888888888888,\"#fdca26\"],[1.0,\"#f0f921\"]],\"type\":\"contour\"}],\"contourcarpet\":[{\"colorbar\":{\"outlinewidth\":0,\"ticks\":\"\"},\"type\":\"contourcarpet\"}],\"heatmap\":[{\"colorbar\":{\"outlinewidth\":0,\"ticks\":\"\"},\"colorscale\":[[0.0,\"#0d0887\"],[0.1111111111111111,\"#46039f\"],[0.2222222222222222,\"#7201a8\"],[0.3333333333333333,\"#9c179e\"],[0.4444444444444444,\"#bd3786\"],[0.5555555555555556,\"#d8576b\"],[0.6666666666666666,\"#ed7953\"],[0.7777777777777778,\"#fb9f3a\"],[0.8888888888888888,\"#fdca26\"],[1.0,\"#f0f921\"]],\"type\":\"heatmap\"}],\"heatmapgl\":[{\"colorbar\":{\"outlinewidth\":0,\"ticks\":\"\"},\"colorscale\":[[0.0,\"#0d0887\"],[0.1111111111111111,\"#46039f\"],[0.2222222222222222,\"#7201a8\"],[0.3333333333333333,\"#9c179e\"],[0.4444444444444444,\"#bd3786\"],[0.5555555555555556,\"#d8576b\"],[0.6666666666666666,\"#ed7953\"],[0.7777777777777778,\"#fb9f3a\"],[0.8888888888888888,\"#fdca26\"],[1.0,\"#f0f921\"]],\"type\":\"heatmapgl\"}],\"histogram\":[{\"marker\":{\"pattern\":{\"fillmode\":\"overlay\",\"size\":10,\"solidity\":0.2}},\"type\":\"histogram\"}],\"histogram2d\":[{\"colorbar\":{\"outlinewidth\":0,\"ticks\":\"\"},\"colorscale\":[[0.0,\"#0d0887\"],[0.1111111111111111,\"#46039f\"],[0.2222222222222222,\"#7201a8\"],[0.3333333333333333,\"#9c179e\"],[0.4444444444444444,\"#bd3786\"],[0.5555555555555556,\"#d8576b\"],[0.6666666666666666,\"#ed7953\"],[0.7777777777777778,\"#fb9f3a\"],[0.8888888888888888,\"#fdca26\"],[1.0,\"#f0f921\"]],\"type\":\"histogram2d\"}],\"histogram2dcontour\":[{\"colorbar\":{\"outlinewidth\":0,\"ticks\":\"\"},\"colorscale\":[[0.0,\"#0d0887\"],[0.1111111111111111,\"#46039f\"],[0.2222222222222222,\"#7201a8\"],[0.3333333333333333,\"#9c179e\"],[0.4444444444444444,\"#bd3786\"],[0.5555555555555556,\"#d8576b\"],[0.6666666666666666,\"#ed7953\"],[0.7777777777777778,\"#fb9f3a\"],[0.8888888888888888,\"#fdca26\"],[1.0,\"#f0f921\"]],\"type\":\"histogram2dcontour\"}],\"mesh3d\":[{\"colorbar\":{\"outlinewidth\":0,\"ticks\":\"\"},\"type\":\"mesh3d\"}],\"parcoords\":[{\"line\":{\"colorbar\":{\"outlinewidth\":0,\"ticks\":\"\"}},\"type\":\"parcoords\"}],\"pie\":[{\"automargin\":true,\"type\":\"pie\"}],\"scatter\":[{\"marker\":{\"colorbar\":{\"outlinewidth\":0,\"ticks\":\"\"}},\"type\":\"scatter\"}],\"scatter3d\":[{\"line\":{\"colorbar\":{\"outlinewidth\":0,\"ticks\":\"\"}},\"marker\":{\"colorbar\":{\"outlinewidth\":0,\"ticks\":\"\"}},\"type\":\"scatter3d\"}],\"scattercarpet\":[{\"marker\":{\"colorbar\":{\"outlinewidth\":0,\"ticks\":\"\"}},\"type\":\"scattercarpet\"}],\"scattergeo\":[{\"marker\":{\"colorbar\":{\"outlinewidth\":0,\"ticks\":\"\"}},\"type\":\"scattergeo\"}],\"scattergl\":[{\"marker\":{\"colorbar\":{\"outlinewidth\":0,\"ticks\":\"\"}},\"type\":\"scattergl\"}],\"scattermapbox\":[{\"marker\":{\"colorbar\":{\"outlinewidth\":0,\"ticks\":\"\"}},\"type\":\"scattermapbox\"}],\"scatterpolar\":[{\"marker\":{\"colorbar\":{\"outlinewidth\":0,\"ticks\":\"\"}},\"type\":\"scatterpolar\"}],\"scatterpolargl\":[{\"marker\":{\"colorbar\":{\"outlinewidth\":0,\"ticks\":\"\"}},\"type\":\"scatterpolargl\"}],\"scatterternary\":[{\"marker\":{\"colorbar\":{\"outlinewidth\":0,\"ticks\":\"\"}},\"type\":\"scatterternary\"}],\"surface\":[{\"colorbar\":{\"outlinewidth\":0,\"ticks\":\"\"},\"colorscale\":[[0.0,\"#0d0887\"],[0.1111111111111111,\"#46039f\"],[0.2222222222222222,\"#7201a8\"],[0.3333333333333333,\"#9c179e\"],[0.4444444444444444,\"#bd3786\"],[0.5555555555555556,\"#d8576b\"],[0.6666666666666666,\"#ed7953\"],[0.7777777777777778,\"#fb9f3a\"],[0.8888888888888888,\"#fdca26\"],[1.0,\"#f0f921\"]],\"type\":\"surface\"}],\"table\":[{\"cells\":{\"fill\":{\"color\":\"#EBF0F8\"},\"line\":{\"color\":\"white\"}},\"header\":{\"fill\":{\"color\":\"#C8D4E3\"},\"line\":{\"color\":\"white\"}},\"type\":\"table\"}]},\"layout\":{\"annotationdefaults\":{\"arrowcolor\":\"#2a3f5f\",\"arrowhead\":0,\"arrowwidth\":1},\"autotypenumbers\":\"strict\",\"coloraxis\":{\"colorbar\":{\"outlinewidth\":0,\"ticks\":\"\"}},\"colorscale\":{\"diverging\":[[0,\"#8e0152\"],[0.1,\"#c51b7d\"],[0.2,\"#de77ae\"],[0.3,\"#f1b6da\"],[0.4,\"#fde0ef\"],[0.5,\"#f7f7f7\"],[0.6,\"#e6f5d0\"],[0.7,\"#b8e186\"],[0.8,\"#7fbc41\"],[0.9,\"#4d9221\"],[1,\"#276419\"]],\"sequential\":[[0.0,\"#0d0887\"],[0.1111111111111111,\"#46039f\"],[0.2222222222222222,\"#7201a8\"],[0.3333333333333333,\"#9c179e\"],[0.4444444444444444,\"#bd3786\"],[0.5555555555555556,\"#d8576b\"],[0.6666666666666666,\"#ed7953\"],[0.7777777777777778,\"#fb9f3a\"],[0.8888888888888888,\"#fdca26\"],[1.0,\"#f0f921\"]],\"sequentialminus\":[[0.0,\"#0d0887\"],[0.1111111111111111,\"#46039f\"],[0.2222222222222222,\"#7201a8\"],[0.3333333333333333,\"#9c179e\"],[0.4444444444444444,\"#bd3786\"],[0.5555555555555556,\"#d8576b\"],[0.6666666666666666,\"#ed7953\"],[0.7777777777777778,\"#fb9f3a\"],[0.8888888888888888,\"#fdca26\"],[1.0,\"#f0f921\"]]},\"colorway\":[\"#636efa\",\"#EF553B\",\"#00cc96\",\"#ab63fa\",\"#FFA15A\",\"#19d3f3\",\"#FF6692\",\"#B6E880\",\"#FF97FF\",\"#FECB52\"],\"font\":{\"color\":\"#2a3f5f\"},\"geo\":{\"bgcolor\":\"white\",\"lakecolor\":\"white\",\"landcolor\":\"#E5ECF6\",\"showlakes\":true,\"showland\":true,\"subunitcolor\":\"white\"},\"hoverlabel\":{\"align\":\"left\"},\"hovermode\":\"closest\",\"mapbox\":{\"style\":\"light\"},\"paper_bgcolor\":\"white\",\"plot_bgcolor\":\"#E5ECF6\",\"polar\":{\"angularaxis\":{\"gridcolor\":\"white\",\"linecolor\":\"white\",\"ticks\":\"\"},\"bgcolor\":\"#E5ECF6\",\"radialaxis\":{\"gridcolor\":\"white\",\"linecolor\":\"white\",\"ticks\":\"\"}},\"scene\":{\"xaxis\":{\"backgroundcolor\":\"#E5ECF6\",\"gridcolor\":\"white\",\"gridwidth\":2,\"linecolor\":\"white\",\"showbackground\":true,\"ticks\":\"\",\"zerolinecolor\":\"white\"},\"yaxis\":{\"backgroundcolor\":\"#E5ECF6\",\"gridcolor\":\"white\",\"gridwidth\":2,\"linecolor\":\"white\",\"showbackground\":true,\"ticks\":\"\",\"zerolinecolor\":\"white\"},\"zaxis\":{\"backgroundcolor\":\"#E5ECF6\",\"gridcolor\":\"white\",\"gridwidth\":2,\"linecolor\":\"white\",\"showbackground\":true,\"ticks\":\"\",\"zerolinecolor\":\"white\"}},\"shapedefaults\":{\"line\":{\"color\":\"#2a3f5f\"}},\"ternary\":{\"aaxis\":{\"gridcolor\":\"white\",\"linecolor\":\"white\",\"ticks\":\"\"},\"baxis\":{\"gridcolor\":\"white\",\"linecolor\":\"white\",\"ticks\":\"\"},\"bgcolor\":\"#E5ECF6\",\"caxis\":{\"gridcolor\":\"white\",\"linecolor\":\"white\",\"ticks\":\"\"}},\"title\":{\"x\":0.05},\"xaxis\":{\"automargin\":true,\"gridcolor\":\"white\",\"linecolor\":\"white\",\"ticks\":\"\",\"title\":{\"standoff\":15},\"zerolinecolor\":\"white\",\"zerolinewidth\":2},\"yaxis\":{\"automargin\":true,\"gridcolor\":\"white\",\"linecolor\":\"white\",\"ticks\":\"\",\"title\":{\"standoff\":15},\"zerolinecolor\":\"white\",\"zerolinewidth\":2}}}},                        {\"responsive\": true}                    ).then(function(){\n",
       "                            \n",
       "var gd = document.getElementById('b06ed518-b422-474e-a515-bc3a6ff54510');\n",
       "var x = new MutationObserver(function (mutations, observer) {{\n",
       "        var display = window.getComputedStyle(gd).display;\n",
       "        if (!display || display === 'none') {{\n",
       "            console.log([gd, 'removed!']);\n",
       "            Plotly.purge(gd);\n",
       "            observer.disconnect();\n",
       "        }}\n",
       "}});\n",
       "\n",
       "// Listen for the removal of the full notebook cells\n",
       "var notebookContainer = gd.closest('#notebook-container');\n",
       "if (notebookContainer) {{\n",
       "    x.observe(notebookContainer, {childList: true});\n",
       "}}\n",
       "\n",
       "// Listen for the clearing of the current output cell\n",
       "var outputEl = gd.closest('.output');\n",
       "if (outputEl) {{\n",
       "    x.observe(outputEl, {childList: true});\n",
       "}}\n",
       "\n",
       "                        })                };                });            </script>        </div>"
      ]
     },
     "metadata": {},
     "output_type": "display_data"
    }
   ],
   "source": [
    "x4 = df.groupby([\"Country\"])[\"Stunting\"].mean()\n",
    "col_map4= go.Figure(\n",
    "                data=go.Choropleth(\n",
    "                locations = x4.index,\n",
    "                locationmode = 'country names',\n",
    "                colorscale= 'portland',\n",
    "                text= x4.index,\n",
    "                z=x4,\n",
    "                colorbar = {'title':'Stunting%', 'len':200,'lenmode':'pixels' },\n",
    "                \n",
    "            ), layout = go.Layout(geo=dict(bgcolor= 'rgba(255,255,255,0)',showframe=False, projection = {'type': 'natural earth'}),\n",
    "                                  title = 'Stunting %(Bangladesh)',\n",
    "                                  \n",
    "                                  titlefont = {\"size\": 15, \"color\":\"White\"},\n",
    "                                  geo_scope='world',\n",
    "                                  margin={\"r\":0,\"t\":40,\"l\":0,\"b\":0},\n",
    "                                  paper_bgcolor='#000000',\n",
    "                                 \n",
    "                                  )\n",
    "            )\n",
    "\n",
    "col_map4.show()"
   ]
  },
  {
   "cell_type": "code",
   "execution_count": 98,
   "id": "6e1978bb",
   "metadata": {},
   "outputs": [
    {
     "data": {
      "application/vnd.plotly.v1+json": {
       "config": {
        "plotlyServerURL": "https://plot.ly"
       },
       "data": [
        {
         "colorbar": {
          "len": 200,
          "lenmode": "pixels",
          "title": {
           "text": " Underweight %"
          }
         },
         "colorscale": [
          [
           0,
           "rgb(12,51,131)"
          ],
          [
           0.25,
           "rgb(10,136,186)"
          ],
          [
           0.5,
           "rgb(242,211,56)"
          ],
          [
           0.75,
           "rgb(242,143,56)"
          ],
          [
           1,
           "rgb(217,30,30)"
          ]
         ],
         "locationmode": "country names",
         "locations": [
          "AFGHANISTAN",
          "ALBANIA",
          "ALGERIA",
          "ANGOLA",
          "ARGENTINA",
          "ARMENIA",
          "AUSTRALIA",
          "AZERBAIJAN",
          "BAHRAIN",
          "BANGLADESH",
          "BARBADOS",
          "BELARUS",
          "BELIZE",
          "BENIN",
          "BHUTAN",
          "BOLIVIA (PLURINATIONAL STATE OF)",
          "BOSNIA AND HERZEGOVINA",
          "BOTSWANA",
          "BRAZIL",
          "BRUNEI DARUSSALAM",
          "BULGARIA",
          "BURKINA FASO",
          "BURUNDI",
          "CABO VERDE",
          "CAMBODIA",
          "CAMEROON",
          "CANADA",
          "CENTRAL AFRICAN REPUBLIC (THE)",
          "CHAD",
          "CHILE",
          "CHINA",
          "COLOMBIA",
          "COMOROS (THE)",
          "CONGO (THE)",
          "COSTA RICA",
          "COTE D'IVOIRE",
          "CUBA",
          "CZECHIA",
          "DEMOCRATIC PEOPLE'S REP. OF KOREA (THE)",
          "DEMOCRATIC REP. OF THE CONGO (THE)",
          "DJIBOUTI",
          "DOMINICAN REPUBLIC (THE)",
          "ECUADOR",
          "EGYPT",
          "EL SALVADOR",
          "EQUATORIAL GUINEA",
          "ERITREA",
          "ESWATINI",
          "ETHIOPIA",
          "FIJI",
          "GABON",
          "GAMBIA (THE)",
          "GEORGIA",
          "GERMANY",
          "GHANA",
          "GUATEMALA",
          "GUINEA",
          "GUINEA-BISSAU",
          "GUYANA",
          "HAITI",
          "HONDURAS",
          "INDIA",
          "INDONESIA",
          "IRAN (ISLAMIC REPUBLIC OF)",
          "IRAQ",
          "JAMAICA",
          "JAPAN",
          "JORDAN",
          "KAZAKHSTAN",
          "KENYA",
          "KIRIBATI",
          "KUWAIT",
          "KYRGYZSTAN",
          "LAO PEOPLE'S DEMOCRATIC REP. (THE)",
          "LEBANON",
          "LESOTHO",
          "LIBERIA",
          "LIBYA",
          "MADAGASCAR",
          "MALAWI",
          "MALAYSIA",
          "MALDIVES",
          "MALI",
          "MARSHALL ISLANDS",
          "MAURITANIA",
          "MAURITIUS",
          "MEXICO",
          "MONGOLIA",
          "MONTENEGRO",
          "MOROCCO",
          "MOZAMBIQUE",
          "MYANMAR",
          "NAMIBIA",
          "NAURU",
          "NEPAL",
          "NICARAGUA",
          "NIGER (THE)",
          "NIGERIA",
          "NORTH MACEDONIA",
          "OMAN",
          "PAKISTAN",
          "PANAMA",
          "PAPUA NEW GUINEA",
          "PARAGUAY",
          "PERU",
          "PHILIPPINES (THE)",
          "POLAND",
          "QATAR",
          "REPUBLIC OF KOREA (THE)",
          "REPUBLIC OF MOLDOVA (THE)",
          "ROMANIA",
          "RWANDA",
          "SAINT LUCIA",
          "SAMOA",
          "SAO TOME AND PRINCIPE",
          "SAUDI ARABIA",
          "SENEGAL",
          "SERBIA",
          "SEYCHELLES",
          "SIERRA LEONE",
          "SINGAPORE",
          "SOLOMON ISLANDS",
          "SOMALIA",
          "SOUTH AFRICA",
          "SOUTH SUDAN",
          "SRI LANKA",
          "STATE OF PALESTINE",
          "SUDAN (THE)",
          "SURINAME",
          "SYRIAN ARAB REPUBLIC (THE)",
          "TAJIKISTAN",
          "THAILAND",
          "TIMOR-LESTE",
          "TOGO",
          "TONGA",
          "TRINIDAD AND TOBAGO",
          "TUNISIA",
          "TURKEY",
          "TURKMENISTAN",
          "TUVALU",
          "UGANDA",
          "UKRAINE",
          "UNITED REPUBLIC OF TANZANIA (THE)",
          "UNITED STATES OF AMERICA (THE)",
          "URUGUAY",
          "UZBEKISTAN",
          "VANUATU",
          "VENEZUELA (BOLIVARIAN REPUBLIC OF)",
          "VIET NAM",
          "YEMEN",
          "ZAMBIA",
          "ZIMBABWE"
         ],
         "text": [
          "AFGHANISTAN",
          "ALBANIA",
          "ALGERIA",
          "ANGOLA",
          "ARGENTINA",
          "ARMENIA",
          "AUSTRALIA",
          "AZERBAIJAN",
          "BAHRAIN",
          "BANGLADESH",
          "BARBADOS",
          "BELARUS",
          "BELIZE",
          "BENIN",
          "BHUTAN",
          "BOLIVIA (PLURINATIONAL STATE OF)",
          "BOSNIA AND HERZEGOVINA",
          "BOTSWANA",
          "BRAZIL",
          "BRUNEI DARUSSALAM",
          "BULGARIA",
          "BURKINA FASO",
          "BURUNDI",
          "CABO VERDE",
          "CAMBODIA",
          "CAMEROON",
          "CANADA",
          "CENTRAL AFRICAN REPUBLIC (THE)",
          "CHAD",
          "CHILE",
          "CHINA",
          "COLOMBIA",
          "COMOROS (THE)",
          "CONGO (THE)",
          "COSTA RICA",
          "COTE D'IVOIRE",
          "CUBA",
          "CZECHIA",
          "DEMOCRATIC PEOPLE'S REP. OF KOREA (THE)",
          "DEMOCRATIC REP. OF THE CONGO (THE)",
          "DJIBOUTI",
          "DOMINICAN REPUBLIC (THE)",
          "ECUADOR",
          "EGYPT",
          "EL SALVADOR",
          "EQUATORIAL GUINEA",
          "ERITREA",
          "ESWATINI",
          "ETHIOPIA",
          "FIJI",
          "GABON",
          "GAMBIA (THE)",
          "GEORGIA",
          "GERMANY",
          "GHANA",
          "GUATEMALA",
          "GUINEA",
          "GUINEA-BISSAU",
          "GUYANA",
          "HAITI",
          "HONDURAS",
          "INDIA",
          "INDONESIA",
          "IRAN (ISLAMIC REPUBLIC OF)",
          "IRAQ",
          "JAMAICA",
          "JAPAN",
          "JORDAN",
          "KAZAKHSTAN",
          "KENYA",
          "KIRIBATI",
          "KUWAIT",
          "KYRGYZSTAN",
          "LAO PEOPLE'S DEMOCRATIC REP. (THE)",
          "LEBANON",
          "LESOTHO",
          "LIBERIA",
          "LIBYA",
          "MADAGASCAR",
          "MALAWI",
          "MALAYSIA",
          "MALDIVES",
          "MALI",
          "MARSHALL ISLANDS",
          "MAURITANIA",
          "MAURITIUS",
          "MEXICO",
          "MONGOLIA",
          "MONTENEGRO",
          "MOROCCO",
          "MOZAMBIQUE",
          "MYANMAR",
          "NAMIBIA",
          "NAURU",
          "NEPAL",
          "NICARAGUA",
          "NIGER (THE)",
          "NIGERIA",
          "NORTH MACEDONIA",
          "OMAN",
          "PAKISTAN",
          "PANAMA",
          "PAPUA NEW GUINEA",
          "PARAGUAY",
          "PERU",
          "PHILIPPINES (THE)",
          "POLAND",
          "QATAR",
          "REPUBLIC OF KOREA (THE)",
          "REPUBLIC OF MOLDOVA (THE)",
          "ROMANIA",
          "RWANDA",
          "SAINT LUCIA",
          "SAMOA",
          "SAO TOME AND PRINCIPE",
          "SAUDI ARABIA",
          "SENEGAL",
          "SERBIA",
          "SEYCHELLES",
          "SIERRA LEONE",
          "SINGAPORE",
          "SOLOMON ISLANDS",
          "SOMALIA",
          "SOUTH AFRICA",
          "SOUTH SUDAN",
          "SRI LANKA",
          "STATE OF PALESTINE",
          "SUDAN (THE)",
          "SURINAME",
          "SYRIAN ARAB REPUBLIC (THE)",
          "TAJIKISTAN",
          "THAILAND",
          "TIMOR-LESTE",
          "TOGO",
          "TONGA",
          "TRINIDAD AND TOBAGO",
          "TUNISIA",
          "TURKEY",
          "TURKMENISTAN",
          "TUVALU",
          "UGANDA",
          "UKRAINE",
          "UNITED REPUBLIC OF TANZANIA (THE)",
          "UNITED STATES OF AMERICA (THE)",
          "URUGUAY",
          "UZBEKISTAN",
          "VANUATU",
          "VENEZUELA (BOLIVARIAN REPUBLIC OF)",
          "VIET NAM",
          "YEMEN",
          "ZAMBIA",
          "ZIMBABWE"
         ],
         "type": "choropleth",
         "z": [
          30.375,
          7.7,
          7.3428571428571425,
          23.600000000000005,
          2.6,
          3.4800000000000004,
          0.1,
          8.083333333333334,
          6.949999999999999,
          46.26666666666666,
          3.5,
          1.3,
          5.300000000000001,
          20.125,
          17.8,
          7.472727272727273,
          2.466666666666667,
          12.666666666666666,
          3.925,
          9.6,
          2,
          25.076923076923077,
          32.25,
          12.75,
          31.98333333333333,
          14.685714285714283,
          null,
          23.36666666666667,
          31.4,
          0.7466666666666666,
          7.900000000000001,
          5.8571428571428585,
          19.575,
          13.099999999999998,
          2.2375000000000003,
          17.67142857142857,
          3.4,
          1.5,
          23.12857142857143,
          26.84,
          22.625,
          5.1625,
          8.316666666666666,
          8.639999999999999,
          7.766666666666667,
          11.425,
          37.55,
          6.819999999999999,
          31.057142857142853,
          6.1,
          7.7,
          16.300000000000004,
          2.0666666666666664,
          0.8,
          17.244444444444444,
          19.057142857142853,
          19.262500000000003,
          18.05,
          11.383333333333336,
          16.9,
          13.785714285714286,
          42.977777777777774,
          24.3625,
          8,
          8.500000000000002,
          3.955000000000001,
          3.4,
          3.5,
          3.76,
          16.75,
          13.2,
          2.353333333333333,
          4.366666666666667,
          30.871428571428567,
          3.85,
          14.085714285714287,
          17.740000000000002,
          7.166666666666667,
          34.31428571428571,
          17.40666666666667,
          18.14,
          30.32,
          26.67142857142857,
          11.9,
          24.866666666666667,
          17.05,
          6.525,
          5.911111111111111,
          1.6,
          6.916666666666667,
          20.75714285714286,
          29.75555555555555,
          18.05,
          4.8,
          36.95,
          7.033333333333334,
          38.263636363636365,
          26.681818181818183,
          1.6666666666666667,
          11.916666666666666,
          33.737500000000004,
          4.733333333333333,
          22.9,
          2.525,
          4.320000000000001,
          24.14545454545454,
          null,
          4.8,
          0.8,
          2.7,
          3.88,
          15.88888888888889,
          2.8,
          2.45,
          11.26,
          9.4,
          16.3,
          1.7333333333333334,
          4.3,
          20.39,
          3.3,
          14.666666666666666,
          26.03333333333333,
          9.714285714285715,
          30.1,
          26,
          2.92,
          29.933333333333334,
          8.133333333333335,
          10.05,
          10.933333333333332,
          12.466666666666669,
          42.8,
          18.93333333333333,
          1.9,
          5.133333333333334,
          3.65,
          4.842857142857143,
          7.633333333333333,
          1.6,
          15.533333333333337,
          4.1,
          17.727272727272723,
          0.8800000000000001,
          5.128571428571429,
          7,
          11.266666666666666,
          4.242857142857143,
          22.91818181818182,
          37.78571428571428,
          17.885714285714286,
          10.71
         ]
        }
       ],
       "layout": {
        "geo": {
         "bgcolor": "rgba(255,255,255,0)",
         "projection": {
          "type": "natural earth"
         },
         "scope": "world",
         "showframe": false
        },
        "margin": {
         "b": 0,
         "l": 0,
         "r": 0,
         "t": 40
        },
        "paper_bgcolor": "#000000",
        "template": {
         "data": {
          "bar": [
           {
            "error_x": {
             "color": "#2a3f5f"
            },
            "error_y": {
             "color": "#2a3f5f"
            },
            "marker": {
             "line": {
              "color": "#E5ECF6",
              "width": 0.5
             },
             "pattern": {
              "fillmode": "overlay",
              "size": 10,
              "solidity": 0.2
             }
            },
            "type": "bar"
           }
          ],
          "barpolar": [
           {
            "marker": {
             "line": {
              "color": "#E5ECF6",
              "width": 0.5
             },
             "pattern": {
              "fillmode": "overlay",
              "size": 10,
              "solidity": 0.2
             }
            },
            "type": "barpolar"
           }
          ],
          "carpet": [
           {
            "aaxis": {
             "endlinecolor": "#2a3f5f",
             "gridcolor": "white",
             "linecolor": "white",
             "minorgridcolor": "white",
             "startlinecolor": "#2a3f5f"
            },
            "baxis": {
             "endlinecolor": "#2a3f5f",
             "gridcolor": "white",
             "linecolor": "white",
             "minorgridcolor": "white",
             "startlinecolor": "#2a3f5f"
            },
            "type": "carpet"
           }
          ],
          "choropleth": [
           {
            "colorbar": {
             "outlinewidth": 0,
             "ticks": ""
            },
            "type": "choropleth"
           }
          ],
          "contour": [
           {
            "colorbar": {
             "outlinewidth": 0,
             "ticks": ""
            },
            "colorscale": [
             [
              0,
              "#0d0887"
             ],
             [
              0.1111111111111111,
              "#46039f"
             ],
             [
              0.2222222222222222,
              "#7201a8"
             ],
             [
              0.3333333333333333,
              "#9c179e"
             ],
             [
              0.4444444444444444,
              "#bd3786"
             ],
             [
              0.5555555555555556,
              "#d8576b"
             ],
             [
              0.6666666666666666,
              "#ed7953"
             ],
             [
              0.7777777777777778,
              "#fb9f3a"
             ],
             [
              0.8888888888888888,
              "#fdca26"
             ],
             [
              1,
              "#f0f921"
             ]
            ],
            "type": "contour"
           }
          ],
          "contourcarpet": [
           {
            "colorbar": {
             "outlinewidth": 0,
             "ticks": ""
            },
            "type": "contourcarpet"
           }
          ],
          "heatmap": [
           {
            "colorbar": {
             "outlinewidth": 0,
             "ticks": ""
            },
            "colorscale": [
             [
              0,
              "#0d0887"
             ],
             [
              0.1111111111111111,
              "#46039f"
             ],
             [
              0.2222222222222222,
              "#7201a8"
             ],
             [
              0.3333333333333333,
              "#9c179e"
             ],
             [
              0.4444444444444444,
              "#bd3786"
             ],
             [
              0.5555555555555556,
              "#d8576b"
             ],
             [
              0.6666666666666666,
              "#ed7953"
             ],
             [
              0.7777777777777778,
              "#fb9f3a"
             ],
             [
              0.8888888888888888,
              "#fdca26"
             ],
             [
              1,
              "#f0f921"
             ]
            ],
            "type": "heatmap"
           }
          ],
          "heatmapgl": [
           {
            "colorbar": {
             "outlinewidth": 0,
             "ticks": ""
            },
            "colorscale": [
             [
              0,
              "#0d0887"
             ],
             [
              0.1111111111111111,
              "#46039f"
             ],
             [
              0.2222222222222222,
              "#7201a8"
             ],
             [
              0.3333333333333333,
              "#9c179e"
             ],
             [
              0.4444444444444444,
              "#bd3786"
             ],
             [
              0.5555555555555556,
              "#d8576b"
             ],
             [
              0.6666666666666666,
              "#ed7953"
             ],
             [
              0.7777777777777778,
              "#fb9f3a"
             ],
             [
              0.8888888888888888,
              "#fdca26"
             ],
             [
              1,
              "#f0f921"
             ]
            ],
            "type": "heatmapgl"
           }
          ],
          "histogram": [
           {
            "marker": {
             "pattern": {
              "fillmode": "overlay",
              "size": 10,
              "solidity": 0.2
             }
            },
            "type": "histogram"
           }
          ],
          "histogram2d": [
           {
            "colorbar": {
             "outlinewidth": 0,
             "ticks": ""
            },
            "colorscale": [
             [
              0,
              "#0d0887"
             ],
             [
              0.1111111111111111,
              "#46039f"
             ],
             [
              0.2222222222222222,
              "#7201a8"
             ],
             [
              0.3333333333333333,
              "#9c179e"
             ],
             [
              0.4444444444444444,
              "#bd3786"
             ],
             [
              0.5555555555555556,
              "#d8576b"
             ],
             [
              0.6666666666666666,
              "#ed7953"
             ],
             [
              0.7777777777777778,
              "#fb9f3a"
             ],
             [
              0.8888888888888888,
              "#fdca26"
             ],
             [
              1,
              "#f0f921"
             ]
            ],
            "type": "histogram2d"
           }
          ],
          "histogram2dcontour": [
           {
            "colorbar": {
             "outlinewidth": 0,
             "ticks": ""
            },
            "colorscale": [
             [
              0,
              "#0d0887"
             ],
             [
              0.1111111111111111,
              "#46039f"
             ],
             [
              0.2222222222222222,
              "#7201a8"
             ],
             [
              0.3333333333333333,
              "#9c179e"
             ],
             [
              0.4444444444444444,
              "#bd3786"
             ],
             [
              0.5555555555555556,
              "#d8576b"
             ],
             [
              0.6666666666666666,
              "#ed7953"
             ],
             [
              0.7777777777777778,
              "#fb9f3a"
             ],
             [
              0.8888888888888888,
              "#fdca26"
             ],
             [
              1,
              "#f0f921"
             ]
            ],
            "type": "histogram2dcontour"
           }
          ],
          "mesh3d": [
           {
            "colorbar": {
             "outlinewidth": 0,
             "ticks": ""
            },
            "type": "mesh3d"
           }
          ],
          "parcoords": [
           {
            "line": {
             "colorbar": {
              "outlinewidth": 0,
              "ticks": ""
             }
            },
            "type": "parcoords"
           }
          ],
          "pie": [
           {
            "automargin": true,
            "type": "pie"
           }
          ],
          "scatter": [
           {
            "marker": {
             "colorbar": {
              "outlinewidth": 0,
              "ticks": ""
             }
            },
            "type": "scatter"
           }
          ],
          "scatter3d": [
           {
            "line": {
             "colorbar": {
              "outlinewidth": 0,
              "ticks": ""
             }
            },
            "marker": {
             "colorbar": {
              "outlinewidth": 0,
              "ticks": ""
             }
            },
            "type": "scatter3d"
           }
          ],
          "scattercarpet": [
           {
            "marker": {
             "colorbar": {
              "outlinewidth": 0,
              "ticks": ""
             }
            },
            "type": "scattercarpet"
           }
          ],
          "scattergeo": [
           {
            "marker": {
             "colorbar": {
              "outlinewidth": 0,
              "ticks": ""
             }
            },
            "type": "scattergeo"
           }
          ],
          "scattergl": [
           {
            "marker": {
             "colorbar": {
              "outlinewidth": 0,
              "ticks": ""
             }
            },
            "type": "scattergl"
           }
          ],
          "scattermapbox": [
           {
            "marker": {
             "colorbar": {
              "outlinewidth": 0,
              "ticks": ""
             }
            },
            "type": "scattermapbox"
           }
          ],
          "scatterpolar": [
           {
            "marker": {
             "colorbar": {
              "outlinewidth": 0,
              "ticks": ""
             }
            },
            "type": "scatterpolar"
           }
          ],
          "scatterpolargl": [
           {
            "marker": {
             "colorbar": {
              "outlinewidth": 0,
              "ticks": ""
             }
            },
            "type": "scatterpolargl"
           }
          ],
          "scatterternary": [
           {
            "marker": {
             "colorbar": {
              "outlinewidth": 0,
              "ticks": ""
             }
            },
            "type": "scatterternary"
           }
          ],
          "surface": [
           {
            "colorbar": {
             "outlinewidth": 0,
             "ticks": ""
            },
            "colorscale": [
             [
              0,
              "#0d0887"
             ],
             [
              0.1111111111111111,
              "#46039f"
             ],
             [
              0.2222222222222222,
              "#7201a8"
             ],
             [
              0.3333333333333333,
              "#9c179e"
             ],
             [
              0.4444444444444444,
              "#bd3786"
             ],
             [
              0.5555555555555556,
              "#d8576b"
             ],
             [
              0.6666666666666666,
              "#ed7953"
             ],
             [
              0.7777777777777778,
              "#fb9f3a"
             ],
             [
              0.8888888888888888,
              "#fdca26"
             ],
             [
              1,
              "#f0f921"
             ]
            ],
            "type": "surface"
           }
          ],
          "table": [
           {
            "cells": {
             "fill": {
              "color": "#EBF0F8"
             },
             "line": {
              "color": "white"
             }
            },
            "header": {
             "fill": {
              "color": "#C8D4E3"
             },
             "line": {
              "color": "white"
             }
            },
            "type": "table"
           }
          ]
         },
         "layout": {
          "annotationdefaults": {
           "arrowcolor": "#2a3f5f",
           "arrowhead": 0,
           "arrowwidth": 1
          },
          "autotypenumbers": "strict",
          "coloraxis": {
           "colorbar": {
            "outlinewidth": 0,
            "ticks": ""
           }
          },
          "colorscale": {
           "diverging": [
            [
             0,
             "#8e0152"
            ],
            [
             0.1,
             "#c51b7d"
            ],
            [
             0.2,
             "#de77ae"
            ],
            [
             0.3,
             "#f1b6da"
            ],
            [
             0.4,
             "#fde0ef"
            ],
            [
             0.5,
             "#f7f7f7"
            ],
            [
             0.6,
             "#e6f5d0"
            ],
            [
             0.7,
             "#b8e186"
            ],
            [
             0.8,
             "#7fbc41"
            ],
            [
             0.9,
             "#4d9221"
            ],
            [
             1,
             "#276419"
            ]
           ],
           "sequential": [
            [
             0,
             "#0d0887"
            ],
            [
             0.1111111111111111,
             "#46039f"
            ],
            [
             0.2222222222222222,
             "#7201a8"
            ],
            [
             0.3333333333333333,
             "#9c179e"
            ],
            [
             0.4444444444444444,
             "#bd3786"
            ],
            [
             0.5555555555555556,
             "#d8576b"
            ],
            [
             0.6666666666666666,
             "#ed7953"
            ],
            [
             0.7777777777777778,
             "#fb9f3a"
            ],
            [
             0.8888888888888888,
             "#fdca26"
            ],
            [
             1,
             "#f0f921"
            ]
           ],
           "sequentialminus": [
            [
             0,
             "#0d0887"
            ],
            [
             0.1111111111111111,
             "#46039f"
            ],
            [
             0.2222222222222222,
             "#7201a8"
            ],
            [
             0.3333333333333333,
             "#9c179e"
            ],
            [
             0.4444444444444444,
             "#bd3786"
            ],
            [
             0.5555555555555556,
             "#d8576b"
            ],
            [
             0.6666666666666666,
             "#ed7953"
            ],
            [
             0.7777777777777778,
             "#fb9f3a"
            ],
            [
             0.8888888888888888,
             "#fdca26"
            ],
            [
             1,
             "#f0f921"
            ]
           ]
          },
          "colorway": [
           "#636efa",
           "#EF553B",
           "#00cc96",
           "#ab63fa",
           "#FFA15A",
           "#19d3f3",
           "#FF6692",
           "#B6E880",
           "#FF97FF",
           "#FECB52"
          ],
          "font": {
           "color": "#2a3f5f"
          },
          "geo": {
           "bgcolor": "white",
           "lakecolor": "white",
           "landcolor": "#E5ECF6",
           "showlakes": true,
           "showland": true,
           "subunitcolor": "white"
          },
          "hoverlabel": {
           "align": "left"
          },
          "hovermode": "closest",
          "mapbox": {
           "style": "light"
          },
          "paper_bgcolor": "white",
          "plot_bgcolor": "#E5ECF6",
          "polar": {
           "angularaxis": {
            "gridcolor": "white",
            "linecolor": "white",
            "ticks": ""
           },
           "bgcolor": "#E5ECF6",
           "radialaxis": {
            "gridcolor": "white",
            "linecolor": "white",
            "ticks": ""
           }
          },
          "scene": {
           "xaxis": {
            "backgroundcolor": "#E5ECF6",
            "gridcolor": "white",
            "gridwidth": 2,
            "linecolor": "white",
            "showbackground": true,
            "ticks": "",
            "zerolinecolor": "white"
           },
           "yaxis": {
            "backgroundcolor": "#E5ECF6",
            "gridcolor": "white",
            "gridwidth": 2,
            "linecolor": "white",
            "showbackground": true,
            "ticks": "",
            "zerolinecolor": "white"
           },
           "zaxis": {
            "backgroundcolor": "#E5ECF6",
            "gridcolor": "white",
            "gridwidth": 2,
            "linecolor": "white",
            "showbackground": true,
            "ticks": "",
            "zerolinecolor": "white"
           }
          },
          "shapedefaults": {
           "line": {
            "color": "#2a3f5f"
           }
          },
          "ternary": {
           "aaxis": {
            "gridcolor": "white",
            "linecolor": "white",
            "ticks": ""
           },
           "baxis": {
            "gridcolor": "white",
            "linecolor": "white",
            "ticks": ""
           },
           "bgcolor": "#E5ECF6",
           "caxis": {
            "gridcolor": "white",
            "linecolor": "white",
            "ticks": ""
           }
          },
          "title": {
           "x": 0.05
          },
          "xaxis": {
           "automargin": true,
           "gridcolor": "white",
           "linecolor": "white",
           "ticks": "",
           "title": {
            "standoff": 15
           },
           "zerolinecolor": "white",
           "zerolinewidth": 2
          },
          "yaxis": {
           "automargin": true,
           "gridcolor": "white",
           "linecolor": "white",
           "ticks": "",
           "title": {
            "standoff": 15
           },
           "zerolinecolor": "white",
           "zerolinewidth": 2
          }
         }
        },
        "title": {
         "font": {
          "color": "White",
          "size": 15
         },
         "text": "Underweight % (Bangladesh)"
        }
       }
      },
      "text/html": [
       "<div>                            <div id=\"9c5e0289-52b3-48f4-8fe3-21bb785196af\" class=\"plotly-graph-div\" style=\"height:525px; width:100%;\"></div>            <script type=\"text/javascript\">                require([\"plotly\"], function(Plotly) {                    window.PLOTLYENV=window.PLOTLYENV || {};                                    if (document.getElementById(\"9c5e0289-52b3-48f4-8fe3-21bb785196af\")) {                    Plotly.newPlot(                        \"9c5e0289-52b3-48f4-8fe3-21bb785196af\",                        [{\"colorbar\":{\"len\":200,\"lenmode\":\"pixels\",\"title\":{\"text\":\" Underweight %\"}},\"colorscale\":[[0.0,\"rgb(12,51,131)\"],[0.25,\"rgb(10,136,186)\"],[0.5,\"rgb(242,211,56)\"],[0.75,\"rgb(242,143,56)\"],[1.0,\"rgb(217,30,30)\"]],\"locationmode\":\"country names\",\"locations\":[\"AFGHANISTAN\",\"ALBANIA\",\"ALGERIA\",\"ANGOLA\",\"ARGENTINA\",\"ARMENIA\",\"AUSTRALIA\",\"AZERBAIJAN\",\"BAHRAIN\",\"BANGLADESH\",\"BARBADOS\",\"BELARUS\",\"BELIZE\",\"BENIN\",\"BHUTAN\",\"BOLIVIA (PLURINATIONAL STATE OF)\",\"BOSNIA AND HERZEGOVINA\",\"BOTSWANA\",\"BRAZIL\",\"BRUNEI DARUSSALAM\",\"BULGARIA\",\"BURKINA FASO\",\"BURUNDI\",\"CABO VERDE\",\"CAMBODIA\",\"CAMEROON\",\"CANADA\",\"CENTRAL AFRICAN REPUBLIC (THE)\",\"CHAD\",\"CHILE\",\"CHINA\",\"COLOMBIA\",\"COMOROS (THE)\",\"CONGO (THE)\",\"COSTA RICA\",\"COTE D'IVOIRE\",\"CUBA\",\"CZECHIA\",\"DEMOCRATIC PEOPLE'S REP. OF KOREA (THE)\",\"DEMOCRATIC REP. OF THE CONGO (THE)\",\"DJIBOUTI\",\"DOMINICAN REPUBLIC (THE)\",\"ECUADOR\",\"EGYPT\",\"EL SALVADOR\",\"EQUATORIAL GUINEA\",\"ERITREA\",\"ESWATINI\",\"ETHIOPIA\",\"FIJI\",\"GABON\",\"GAMBIA (THE)\",\"GEORGIA\",\"GERMANY\",\"GHANA\",\"GUATEMALA\",\"GUINEA\",\"GUINEA-BISSAU\",\"GUYANA\",\"HAITI\",\"HONDURAS\",\"INDIA\",\"INDONESIA\",\"IRAN (ISLAMIC REPUBLIC OF)\",\"IRAQ\",\"JAMAICA\",\"JAPAN\",\"JORDAN\",\"KAZAKHSTAN\",\"KENYA\",\"KIRIBATI\",\"KUWAIT\",\"KYRGYZSTAN\",\"LAO PEOPLE'S DEMOCRATIC REP. (THE)\",\"LEBANON\",\"LESOTHO\",\"LIBERIA\",\"LIBYA\",\"MADAGASCAR\",\"MALAWI\",\"MALAYSIA\",\"MALDIVES\",\"MALI\",\"MARSHALL ISLANDS\",\"MAURITANIA\",\"MAURITIUS\",\"MEXICO\",\"MONGOLIA\",\"MONTENEGRO\",\"MOROCCO\",\"MOZAMBIQUE\",\"MYANMAR\",\"NAMIBIA\",\"NAURU\",\"NEPAL\",\"NICARAGUA\",\"NIGER (THE)\",\"NIGERIA\",\"NORTH MACEDONIA\",\"OMAN\",\"PAKISTAN\",\"PANAMA\",\"PAPUA NEW GUINEA\",\"PARAGUAY\",\"PERU\",\"PHILIPPINES (THE)\",\"POLAND\",\"QATAR\",\"REPUBLIC OF KOREA (THE)\",\"REPUBLIC OF MOLDOVA (THE)\",\"ROMANIA\",\"RWANDA\",\"SAINT LUCIA\",\"SAMOA\",\"SAO TOME AND PRINCIPE\",\"SAUDI ARABIA\",\"SENEGAL\",\"SERBIA\",\"SEYCHELLES\",\"SIERRA LEONE\",\"SINGAPORE\",\"SOLOMON ISLANDS\",\"SOMALIA\",\"SOUTH AFRICA\",\"SOUTH SUDAN\",\"SRI LANKA\",\"STATE OF PALESTINE\",\"SUDAN (THE)\",\"SURINAME\",\"SYRIAN ARAB REPUBLIC (THE)\",\"TAJIKISTAN\",\"THAILAND\",\"TIMOR-LESTE\",\"TOGO\",\"TONGA\",\"TRINIDAD AND TOBAGO\",\"TUNISIA\",\"TURKEY\",\"TURKMENISTAN\",\"TUVALU\",\"UGANDA\",\"UKRAINE\",\"UNITED REPUBLIC OF TANZANIA (THE)\",\"UNITED STATES OF AMERICA (THE)\",\"URUGUAY\",\"UZBEKISTAN\",\"VANUATU\",\"VENEZUELA (BOLIVARIAN REPUBLIC OF)\",\"VIET NAM\",\"YEMEN\",\"ZAMBIA\",\"ZIMBABWE\"],\"text\":[\"AFGHANISTAN\",\"ALBANIA\",\"ALGERIA\",\"ANGOLA\",\"ARGENTINA\",\"ARMENIA\",\"AUSTRALIA\",\"AZERBAIJAN\",\"BAHRAIN\",\"BANGLADESH\",\"BARBADOS\",\"BELARUS\",\"BELIZE\",\"BENIN\",\"BHUTAN\",\"BOLIVIA (PLURINATIONAL STATE OF)\",\"BOSNIA AND HERZEGOVINA\",\"BOTSWANA\",\"BRAZIL\",\"BRUNEI DARUSSALAM\",\"BULGARIA\",\"BURKINA FASO\",\"BURUNDI\",\"CABO VERDE\",\"CAMBODIA\",\"CAMEROON\",\"CANADA\",\"CENTRAL AFRICAN REPUBLIC (THE)\",\"CHAD\",\"CHILE\",\"CHINA\",\"COLOMBIA\",\"COMOROS (THE)\",\"CONGO (THE)\",\"COSTA RICA\",\"COTE D'IVOIRE\",\"CUBA\",\"CZECHIA\",\"DEMOCRATIC PEOPLE'S REP. OF KOREA (THE)\",\"DEMOCRATIC REP. OF THE CONGO (THE)\",\"DJIBOUTI\",\"DOMINICAN REPUBLIC (THE)\",\"ECUADOR\",\"EGYPT\",\"EL SALVADOR\",\"EQUATORIAL GUINEA\",\"ERITREA\",\"ESWATINI\",\"ETHIOPIA\",\"FIJI\",\"GABON\",\"GAMBIA (THE)\",\"GEORGIA\",\"GERMANY\",\"GHANA\",\"GUATEMALA\",\"GUINEA\",\"GUINEA-BISSAU\",\"GUYANA\",\"HAITI\",\"HONDURAS\",\"INDIA\",\"INDONESIA\",\"IRAN (ISLAMIC REPUBLIC OF)\",\"IRAQ\",\"JAMAICA\",\"JAPAN\",\"JORDAN\",\"KAZAKHSTAN\",\"KENYA\",\"KIRIBATI\",\"KUWAIT\",\"KYRGYZSTAN\",\"LAO PEOPLE'S DEMOCRATIC REP. (THE)\",\"LEBANON\",\"LESOTHO\",\"LIBERIA\",\"LIBYA\",\"MADAGASCAR\",\"MALAWI\",\"MALAYSIA\",\"MALDIVES\",\"MALI\",\"MARSHALL ISLANDS\",\"MAURITANIA\",\"MAURITIUS\",\"MEXICO\",\"MONGOLIA\",\"MONTENEGRO\",\"MOROCCO\",\"MOZAMBIQUE\",\"MYANMAR\",\"NAMIBIA\",\"NAURU\",\"NEPAL\",\"NICARAGUA\",\"NIGER (THE)\",\"NIGERIA\",\"NORTH MACEDONIA\",\"OMAN\",\"PAKISTAN\",\"PANAMA\",\"PAPUA NEW GUINEA\",\"PARAGUAY\",\"PERU\",\"PHILIPPINES (THE)\",\"POLAND\",\"QATAR\",\"REPUBLIC OF KOREA (THE)\",\"REPUBLIC OF MOLDOVA (THE)\",\"ROMANIA\",\"RWANDA\",\"SAINT LUCIA\",\"SAMOA\",\"SAO TOME AND PRINCIPE\",\"SAUDI ARABIA\",\"SENEGAL\",\"SERBIA\",\"SEYCHELLES\",\"SIERRA LEONE\",\"SINGAPORE\",\"SOLOMON ISLANDS\",\"SOMALIA\",\"SOUTH AFRICA\",\"SOUTH SUDAN\",\"SRI LANKA\",\"STATE OF PALESTINE\",\"SUDAN (THE)\",\"SURINAME\",\"SYRIAN ARAB REPUBLIC (THE)\",\"TAJIKISTAN\",\"THAILAND\",\"TIMOR-LESTE\",\"TOGO\",\"TONGA\",\"TRINIDAD AND TOBAGO\",\"TUNISIA\",\"TURKEY\",\"TURKMENISTAN\",\"TUVALU\",\"UGANDA\",\"UKRAINE\",\"UNITED REPUBLIC OF TANZANIA (THE)\",\"UNITED STATES OF AMERICA (THE)\",\"URUGUAY\",\"UZBEKISTAN\",\"VANUATU\",\"VENEZUELA (BOLIVARIAN REPUBLIC OF)\",\"VIET NAM\",\"YEMEN\",\"ZAMBIA\",\"ZIMBABWE\"],\"z\":[30.375,7.7,7.3428571428571425,23.600000000000005,2.6,3.4800000000000004,0.1,8.083333333333334,6.949999999999999,46.26666666666666,3.5,1.3,5.300000000000001,20.125,17.8,7.472727272727273,2.466666666666667,12.666666666666666,3.925,9.6,2.0,25.076923076923077,32.25,12.75,31.98333333333333,14.685714285714283,null,23.36666666666667,31.4,0.7466666666666666,7.900000000000001,5.8571428571428585,19.575,13.099999999999998,2.2375000000000003,17.67142857142857,3.4,1.5,23.12857142857143,26.84,22.625,5.1625,8.316666666666666,8.639999999999999,7.766666666666667,11.425,37.55,6.819999999999999,31.057142857142853,6.1,7.7,16.300000000000004,2.0666666666666664,0.8,17.244444444444444,19.057142857142853,19.262500000000003,18.05,11.383333333333336,16.9,13.785714285714286,42.977777777777774,24.3625,8.0,8.500000000000002,3.955000000000001,3.4,3.5,3.76,16.75,13.2,2.353333333333333,4.366666666666667,30.871428571428567,3.85,14.085714285714287,17.740000000000002,7.166666666666667,34.31428571428571,17.40666666666667,18.14,30.32,26.67142857142857,11.9,24.866666666666667,17.05,6.525,5.911111111111111,1.6,6.916666666666667,20.75714285714286,29.75555555555555,18.05,4.8,36.95,7.033333333333334,38.263636363636365,26.681818181818183,1.6666666666666667,11.916666666666666,33.737500000000004,4.733333333333333,22.9,2.525,4.320000000000001,24.14545454545454,null,4.8,0.8,2.7,3.88,15.88888888888889,2.8,2.45,11.26,9.4,16.3,1.7333333333333334,4.3,20.39,3.3,14.666666666666666,26.03333333333333,9.714285714285715,30.1,26.0,2.92,29.933333333333334,8.133333333333335,10.05,10.933333333333332,12.466666666666669,42.8,18.93333333333333,1.9,5.133333333333334,3.65,4.842857142857143,7.633333333333333,1.6,15.533333333333337,4.1,17.727272727272723,0.8800000000000001,5.128571428571429,7.0,11.266666666666666,4.242857142857143,22.91818181818182,37.78571428571428,17.885714285714286,10.71],\"type\":\"choropleth\"}],                        {\"geo\":{\"bgcolor\":\"rgba(255,255,255,0)\",\"projection\":{\"type\":\"natural earth\"},\"scope\":\"world\",\"showframe\":false},\"margin\":{\"b\":0,\"l\":0,\"r\":0,\"t\":40},\"paper_bgcolor\":\"#000000\",\"title\":{\"font\":{\"color\":\"White\",\"size\":15},\"text\":\"Underweight % (Bangladesh)\"},\"template\":{\"data\":{\"bar\":[{\"error_x\":{\"color\":\"#2a3f5f\"},\"error_y\":{\"color\":\"#2a3f5f\"},\"marker\":{\"line\":{\"color\":\"#E5ECF6\",\"width\":0.5},\"pattern\":{\"fillmode\":\"overlay\",\"size\":10,\"solidity\":0.2}},\"type\":\"bar\"}],\"barpolar\":[{\"marker\":{\"line\":{\"color\":\"#E5ECF6\",\"width\":0.5},\"pattern\":{\"fillmode\":\"overlay\",\"size\":10,\"solidity\":0.2}},\"type\":\"barpolar\"}],\"carpet\":[{\"aaxis\":{\"endlinecolor\":\"#2a3f5f\",\"gridcolor\":\"white\",\"linecolor\":\"white\",\"minorgridcolor\":\"white\",\"startlinecolor\":\"#2a3f5f\"},\"baxis\":{\"endlinecolor\":\"#2a3f5f\",\"gridcolor\":\"white\",\"linecolor\":\"white\",\"minorgridcolor\":\"white\",\"startlinecolor\":\"#2a3f5f\"},\"type\":\"carpet\"}],\"choropleth\":[{\"colorbar\":{\"outlinewidth\":0,\"ticks\":\"\"},\"type\":\"choropleth\"}],\"contour\":[{\"colorbar\":{\"outlinewidth\":0,\"ticks\":\"\"},\"colorscale\":[[0.0,\"#0d0887\"],[0.1111111111111111,\"#46039f\"],[0.2222222222222222,\"#7201a8\"],[0.3333333333333333,\"#9c179e\"],[0.4444444444444444,\"#bd3786\"],[0.5555555555555556,\"#d8576b\"],[0.6666666666666666,\"#ed7953\"],[0.7777777777777778,\"#fb9f3a\"],[0.8888888888888888,\"#fdca26\"],[1.0,\"#f0f921\"]],\"type\":\"contour\"}],\"contourcarpet\":[{\"colorbar\":{\"outlinewidth\":0,\"ticks\":\"\"},\"type\":\"contourcarpet\"}],\"heatmap\":[{\"colorbar\":{\"outlinewidth\":0,\"ticks\":\"\"},\"colorscale\":[[0.0,\"#0d0887\"],[0.1111111111111111,\"#46039f\"],[0.2222222222222222,\"#7201a8\"],[0.3333333333333333,\"#9c179e\"],[0.4444444444444444,\"#bd3786\"],[0.5555555555555556,\"#d8576b\"],[0.6666666666666666,\"#ed7953\"],[0.7777777777777778,\"#fb9f3a\"],[0.8888888888888888,\"#fdca26\"],[1.0,\"#f0f921\"]],\"type\":\"heatmap\"}],\"heatmapgl\":[{\"colorbar\":{\"outlinewidth\":0,\"ticks\":\"\"},\"colorscale\":[[0.0,\"#0d0887\"],[0.1111111111111111,\"#46039f\"],[0.2222222222222222,\"#7201a8\"],[0.3333333333333333,\"#9c179e\"],[0.4444444444444444,\"#bd3786\"],[0.5555555555555556,\"#d8576b\"],[0.6666666666666666,\"#ed7953\"],[0.7777777777777778,\"#fb9f3a\"],[0.8888888888888888,\"#fdca26\"],[1.0,\"#f0f921\"]],\"type\":\"heatmapgl\"}],\"histogram\":[{\"marker\":{\"pattern\":{\"fillmode\":\"overlay\",\"size\":10,\"solidity\":0.2}},\"type\":\"histogram\"}],\"histogram2d\":[{\"colorbar\":{\"outlinewidth\":0,\"ticks\":\"\"},\"colorscale\":[[0.0,\"#0d0887\"],[0.1111111111111111,\"#46039f\"],[0.2222222222222222,\"#7201a8\"],[0.3333333333333333,\"#9c179e\"],[0.4444444444444444,\"#bd3786\"],[0.5555555555555556,\"#d8576b\"],[0.6666666666666666,\"#ed7953\"],[0.7777777777777778,\"#fb9f3a\"],[0.8888888888888888,\"#fdca26\"],[1.0,\"#f0f921\"]],\"type\":\"histogram2d\"}],\"histogram2dcontour\":[{\"colorbar\":{\"outlinewidth\":0,\"ticks\":\"\"},\"colorscale\":[[0.0,\"#0d0887\"],[0.1111111111111111,\"#46039f\"],[0.2222222222222222,\"#7201a8\"],[0.3333333333333333,\"#9c179e\"],[0.4444444444444444,\"#bd3786\"],[0.5555555555555556,\"#d8576b\"],[0.6666666666666666,\"#ed7953\"],[0.7777777777777778,\"#fb9f3a\"],[0.8888888888888888,\"#fdca26\"],[1.0,\"#f0f921\"]],\"type\":\"histogram2dcontour\"}],\"mesh3d\":[{\"colorbar\":{\"outlinewidth\":0,\"ticks\":\"\"},\"type\":\"mesh3d\"}],\"parcoords\":[{\"line\":{\"colorbar\":{\"outlinewidth\":0,\"ticks\":\"\"}},\"type\":\"parcoords\"}],\"pie\":[{\"automargin\":true,\"type\":\"pie\"}],\"scatter\":[{\"marker\":{\"colorbar\":{\"outlinewidth\":0,\"ticks\":\"\"}},\"type\":\"scatter\"}],\"scatter3d\":[{\"line\":{\"colorbar\":{\"outlinewidth\":0,\"ticks\":\"\"}},\"marker\":{\"colorbar\":{\"outlinewidth\":0,\"ticks\":\"\"}},\"type\":\"scatter3d\"}],\"scattercarpet\":[{\"marker\":{\"colorbar\":{\"outlinewidth\":0,\"ticks\":\"\"}},\"type\":\"scattercarpet\"}],\"scattergeo\":[{\"marker\":{\"colorbar\":{\"outlinewidth\":0,\"ticks\":\"\"}},\"type\":\"scattergeo\"}],\"scattergl\":[{\"marker\":{\"colorbar\":{\"outlinewidth\":0,\"ticks\":\"\"}},\"type\":\"scattergl\"}],\"scattermapbox\":[{\"marker\":{\"colorbar\":{\"outlinewidth\":0,\"ticks\":\"\"}},\"type\":\"scattermapbox\"}],\"scatterpolar\":[{\"marker\":{\"colorbar\":{\"outlinewidth\":0,\"ticks\":\"\"}},\"type\":\"scatterpolar\"}],\"scatterpolargl\":[{\"marker\":{\"colorbar\":{\"outlinewidth\":0,\"ticks\":\"\"}},\"type\":\"scatterpolargl\"}],\"scatterternary\":[{\"marker\":{\"colorbar\":{\"outlinewidth\":0,\"ticks\":\"\"}},\"type\":\"scatterternary\"}],\"surface\":[{\"colorbar\":{\"outlinewidth\":0,\"ticks\":\"\"},\"colorscale\":[[0.0,\"#0d0887\"],[0.1111111111111111,\"#46039f\"],[0.2222222222222222,\"#7201a8\"],[0.3333333333333333,\"#9c179e\"],[0.4444444444444444,\"#bd3786\"],[0.5555555555555556,\"#d8576b\"],[0.6666666666666666,\"#ed7953\"],[0.7777777777777778,\"#fb9f3a\"],[0.8888888888888888,\"#fdca26\"],[1.0,\"#f0f921\"]],\"type\":\"surface\"}],\"table\":[{\"cells\":{\"fill\":{\"color\":\"#EBF0F8\"},\"line\":{\"color\":\"white\"}},\"header\":{\"fill\":{\"color\":\"#C8D4E3\"},\"line\":{\"color\":\"white\"}},\"type\":\"table\"}]},\"layout\":{\"annotationdefaults\":{\"arrowcolor\":\"#2a3f5f\",\"arrowhead\":0,\"arrowwidth\":1},\"autotypenumbers\":\"strict\",\"coloraxis\":{\"colorbar\":{\"outlinewidth\":0,\"ticks\":\"\"}},\"colorscale\":{\"diverging\":[[0,\"#8e0152\"],[0.1,\"#c51b7d\"],[0.2,\"#de77ae\"],[0.3,\"#f1b6da\"],[0.4,\"#fde0ef\"],[0.5,\"#f7f7f7\"],[0.6,\"#e6f5d0\"],[0.7,\"#b8e186\"],[0.8,\"#7fbc41\"],[0.9,\"#4d9221\"],[1,\"#276419\"]],\"sequential\":[[0.0,\"#0d0887\"],[0.1111111111111111,\"#46039f\"],[0.2222222222222222,\"#7201a8\"],[0.3333333333333333,\"#9c179e\"],[0.4444444444444444,\"#bd3786\"],[0.5555555555555556,\"#d8576b\"],[0.6666666666666666,\"#ed7953\"],[0.7777777777777778,\"#fb9f3a\"],[0.8888888888888888,\"#fdca26\"],[1.0,\"#f0f921\"]],\"sequentialminus\":[[0.0,\"#0d0887\"],[0.1111111111111111,\"#46039f\"],[0.2222222222222222,\"#7201a8\"],[0.3333333333333333,\"#9c179e\"],[0.4444444444444444,\"#bd3786\"],[0.5555555555555556,\"#d8576b\"],[0.6666666666666666,\"#ed7953\"],[0.7777777777777778,\"#fb9f3a\"],[0.8888888888888888,\"#fdca26\"],[1.0,\"#f0f921\"]]},\"colorway\":[\"#636efa\",\"#EF553B\",\"#00cc96\",\"#ab63fa\",\"#FFA15A\",\"#19d3f3\",\"#FF6692\",\"#B6E880\",\"#FF97FF\",\"#FECB52\"],\"font\":{\"color\":\"#2a3f5f\"},\"geo\":{\"bgcolor\":\"white\",\"lakecolor\":\"white\",\"landcolor\":\"#E5ECF6\",\"showlakes\":true,\"showland\":true,\"subunitcolor\":\"white\"},\"hoverlabel\":{\"align\":\"left\"},\"hovermode\":\"closest\",\"mapbox\":{\"style\":\"light\"},\"paper_bgcolor\":\"white\",\"plot_bgcolor\":\"#E5ECF6\",\"polar\":{\"angularaxis\":{\"gridcolor\":\"white\",\"linecolor\":\"white\",\"ticks\":\"\"},\"bgcolor\":\"#E5ECF6\",\"radialaxis\":{\"gridcolor\":\"white\",\"linecolor\":\"white\",\"ticks\":\"\"}},\"scene\":{\"xaxis\":{\"backgroundcolor\":\"#E5ECF6\",\"gridcolor\":\"white\",\"gridwidth\":2,\"linecolor\":\"white\",\"showbackground\":true,\"ticks\":\"\",\"zerolinecolor\":\"white\"},\"yaxis\":{\"backgroundcolor\":\"#E5ECF6\",\"gridcolor\":\"white\",\"gridwidth\":2,\"linecolor\":\"white\",\"showbackground\":true,\"ticks\":\"\",\"zerolinecolor\":\"white\"},\"zaxis\":{\"backgroundcolor\":\"#E5ECF6\",\"gridcolor\":\"white\",\"gridwidth\":2,\"linecolor\":\"white\",\"showbackground\":true,\"ticks\":\"\",\"zerolinecolor\":\"white\"}},\"shapedefaults\":{\"line\":{\"color\":\"#2a3f5f\"}},\"ternary\":{\"aaxis\":{\"gridcolor\":\"white\",\"linecolor\":\"white\",\"ticks\":\"\"},\"baxis\":{\"gridcolor\":\"white\",\"linecolor\":\"white\",\"ticks\":\"\"},\"bgcolor\":\"#E5ECF6\",\"caxis\":{\"gridcolor\":\"white\",\"linecolor\":\"white\",\"ticks\":\"\"}},\"title\":{\"x\":0.05},\"xaxis\":{\"automargin\":true,\"gridcolor\":\"white\",\"linecolor\":\"white\",\"ticks\":\"\",\"title\":{\"standoff\":15},\"zerolinecolor\":\"white\",\"zerolinewidth\":2},\"yaxis\":{\"automargin\":true,\"gridcolor\":\"white\",\"linecolor\":\"white\",\"ticks\":\"\",\"title\":{\"standoff\":15},\"zerolinecolor\":\"white\",\"zerolinewidth\":2}}}},                        {\"responsive\": true}                    ).then(function(){\n",
       "                            \n",
       "var gd = document.getElementById('9c5e0289-52b3-48f4-8fe3-21bb785196af');\n",
       "var x = new MutationObserver(function (mutations, observer) {{\n",
       "        var display = window.getComputedStyle(gd).display;\n",
       "        if (!display || display === 'none') {{\n",
       "            console.log([gd, 'removed!']);\n",
       "            Plotly.purge(gd);\n",
       "            observer.disconnect();\n",
       "        }}\n",
       "}});\n",
       "\n",
       "// Listen for the removal of the full notebook cells\n",
       "var notebookContainer = gd.closest('#notebook-container');\n",
       "if (notebookContainer) {{\n",
       "    x.observe(notebookContainer, {childList: true});\n",
       "}}\n",
       "\n",
       "// Listen for the clearing of the current output cell\n",
       "var outputEl = gd.closest('.output');\n",
       "if (outputEl) {{\n",
       "    x.observe(outputEl, {childList: true});\n",
       "}}\n",
       "\n",
       "                        })                };                });            </script>        </div>"
      ]
     },
     "metadata": {},
     "output_type": "display_data"
    }
   ],
   "source": [
    "\n",
    "import plotly.graph_objects as go\n",
    "x5 = df.groupby([\"Country\"])[\"Underweight\"].mean()\n",
    "col_map5  = go.Figure(\n",
    "                data=go.Choropleth(\n",
    "                locations = x5.index,\n",
    "                locationmode = 'country names',\n",
    "                colorscale= 'portland',\n",
    "                text= x5.index,\n",
    "                z=x5,\n",
    "                colorbar = {'title':' Underweight %', 'len':200,'lenmode':'pixels' },\n",
    "                \n",
    "            ), layout = go.Layout(geo=dict(bgcolor= 'rgba(255,255,255,0)',showframe=False, projection = {'type': 'natural earth'}),\n",
    "                                  title = 'Underweight % (Bangladesh)',\n",
    "                                  \n",
    "                                  titlefont = {\"size\": 15, \"color\":\"White\"},\n",
    "                                  geo_scope='world',\n",
    "                                  margin={\"r\":0,\"t\":40,\"l\":0,\"b\":0},\n",
    "                                  paper_bgcolor='#000000',\n",
    "                                 \n",
    "                                  )\n",
    "            )\n",
    "\n",
    "col_map5.show()"
   ]
  },
  {
   "cell_type": "code",
   "execution_count": 99,
   "id": "ff465da1",
   "metadata": {},
   "outputs": [
    {
     "data": {
      "text/html": [
       "<div>\n",
       "<style scoped>\n",
       "    .dataframe tbody tr th:only-of-type {\n",
       "        vertical-align: middle;\n",
       "    }\n",
       "\n",
       "    .dataframe tbody tr th {\n",
       "        vertical-align: top;\n",
       "    }\n",
       "\n",
       "    .dataframe thead th {\n",
       "        text-align: right;\n",
       "    }\n",
       "</style>\n",
       "<table border=\"1\" class=\"dataframe\">\n",
       "  <thead>\n",
       "    <tr style=\"text-align: right;\">\n",
       "      <th></th>\n",
       "      <th>Country</th>\n",
       "      <th>Income Classification</th>\n",
       "      <th>Severe Wasting</th>\n",
       "      <th>Wasting</th>\n",
       "      <th>Overweight</th>\n",
       "      <th>Stunting</th>\n",
       "      <th>Underweight</th>\n",
       "      <th>U5 Population ('000s)</th>\n",
       "    </tr>\n",
       "  </thead>\n",
       "  <tbody>\n",
       "    <tr>\n",
       "      <th>124</th>\n",
       "      <td>SOUTH SUDAN</td>\n",
       "      <td>0.0</td>\n",
       "      <td>11.400000</td>\n",
       "      <td>23.650000</td>\n",
       "      <td>8.450000</td>\n",
       "      <td>33.750000</td>\n",
       "      <td>30.100000</td>\n",
       "      <td>1459.262500</td>\n",
       "    </tr>\n",
       "    <tr>\n",
       "      <th>40</th>\n",
       "      <td>DJIBOUTI</td>\n",
       "      <td>1.0</td>\n",
       "      <td>9.400000</td>\n",
       "      <td>17.075000</td>\n",
       "      <td>8.250000</td>\n",
       "      <td>30.075000</td>\n",
       "      <td>22.625000</td>\n",
       "      <td>99.445250</td>\n",
       "    </tr>\n",
       "    <tr>\n",
       "      <th>61</th>\n",
       "      <td>INDIA</td>\n",
       "      <td>1.0</td>\n",
       "      <td>6.116667</td>\n",
       "      <td>18.766667</td>\n",
       "      <td>2.933333</td>\n",
       "      <td>49.055556</td>\n",
       "      <td>42.977778</td>\n",
       "      <td>123014.491000</td>\n",
       "    </tr>\n",
       "    <tr>\n",
       "      <th>28</th>\n",
       "      <td>CHAD</td>\n",
       "      <td>0.0</td>\n",
       "      <td>5.500000</td>\n",
       "      <td>15.240000</td>\n",
       "      <td>3.040000</td>\n",
       "      <td>41.260000</td>\n",
       "      <td>31.400000</td>\n",
       "      <td>2024.290400</td>\n",
       "    </tr>\n",
       "    <tr>\n",
       "      <th>32</th>\n",
       "      <td>COMOROS (THE)</td>\n",
       "      <td>1.0</td>\n",
       "      <td>5.400000</td>\n",
       "      <td>10.125000</td>\n",
       "      <td>12.466667</td>\n",
       "      <td>39.125000</td>\n",
       "      <td>19.575000</td>\n",
       "      <td>90.287750</td>\n",
       "    </tr>\n",
       "    <tr>\n",
       "      <th>149</th>\n",
       "      <td>YEMEN</td>\n",
       "      <td>0.0</td>\n",
       "      <td>5.300000</td>\n",
       "      <td>15.242857</td>\n",
       "      <td>4.842857</td>\n",
       "      <td>51.900000</td>\n",
       "      <td>37.785714</td>\n",
       "      <td>3269.476000</td>\n",
       "    </tr>\n",
       "    <tr>\n",
       "      <th>129</th>\n",
       "      <td>SYRIAN ARAB REPUBLIC (THE)</td>\n",
       "      <td>0.0</td>\n",
       "      <td>5.050000</td>\n",
       "      <td>9.566667</td>\n",
       "      <td>17.825000</td>\n",
       "      <td>28.550000</td>\n",
       "      <td>10.050000</td>\n",
       "      <td>2476.209333</td>\n",
       "    </tr>\n",
       "    <tr>\n",
       "      <th>132</th>\n",
       "      <td>TIMOR-LESTE</td>\n",
       "      <td>1.0</td>\n",
       "      <td>4.775000</td>\n",
       "      <td>15.620000</td>\n",
       "      <td>3.650000</td>\n",
       "      <td>55.380000</td>\n",
       "      <td>42.800000</td>\n",
       "      <td>160.444800</td>\n",
       "    </tr>\n",
       "    <tr>\n",
       "      <th>127</th>\n",
       "      <td>SUDAN (THE)</td>\n",
       "      <td>1.0</td>\n",
       "      <td>4.766667</td>\n",
       "      <td>15.400000</td>\n",
       "      <td>2.900000</td>\n",
       "      <td>36.866667</td>\n",
       "      <td>29.933333</td>\n",
       "      <td>5551.013000</td>\n",
       "    </tr>\n",
       "    <tr>\n",
       "      <th>81</th>\n",
       "      <td>MALDIVES</td>\n",
       "      <td>2.0</td>\n",
       "      <td>4.725000</td>\n",
       "      <td>15.780000</td>\n",
       "      <td>4.660000</td>\n",
       "      <td>32.600000</td>\n",
       "      <td>30.320000</td>\n",
       "      <td>36.045400</td>\n",
       "    </tr>\n",
       "  </tbody>\n",
       "</table>\n",
       "</div>"
      ],
      "text/plain": [
       "                        Country  Income Classification  Severe Wasting  \\\n",
       "124                 SOUTH SUDAN                    0.0       11.400000   \n",
       "40                     DJIBOUTI                    1.0        9.400000   \n",
       "61                        INDIA                    1.0        6.116667   \n",
       "28                         CHAD                    0.0        5.500000   \n",
       "32                COMOROS (THE)                    1.0        5.400000   \n",
       "149                       YEMEN                    0.0        5.300000   \n",
       "129  SYRIAN ARAB REPUBLIC (THE)                    0.0        5.050000   \n",
       "132                 TIMOR-LESTE                    1.0        4.775000   \n",
       "127                 SUDAN (THE)                    1.0        4.766667   \n",
       "81                     MALDIVES                    2.0        4.725000   \n",
       "\n",
       "       Wasting  Overweight   Stunting  Underweight  U5 Population ('000s)  \n",
       "124  23.650000    8.450000  33.750000    30.100000            1459.262500  \n",
       "40   17.075000    8.250000  30.075000    22.625000              99.445250  \n",
       "61   18.766667    2.933333  49.055556    42.977778          123014.491000  \n",
       "28   15.240000    3.040000  41.260000    31.400000            2024.290400  \n",
       "32   10.125000   12.466667  39.125000    19.575000              90.287750  \n",
       "149  15.242857    4.842857  51.900000    37.785714            3269.476000  \n",
       "129   9.566667   17.825000  28.550000    10.050000            2476.209333  \n",
       "132  15.620000    3.650000  55.380000    42.800000             160.444800  \n",
       "127  15.400000    2.900000  36.866667    29.933333            5551.013000  \n",
       "81   15.780000    4.660000  32.600000    30.320000              36.045400  "
      ]
     },
     "execution_count": 99,
     "metadata": {},
     "output_type": "execute_result"
    }
   ],
   "source": [
    "df.sort_values(by=['Severe Wasting','Stunting','Wasting','Underweight','Overweight'], ascending =False).head(10)"
   ]
  },
  {
   "cell_type": "code",
   "execution_count": 100,
   "id": "1a540dd5",
   "metadata": {},
   "outputs": [
    {
     "data": {
      "text/html": [
       "<div>\n",
       "<style scoped>\n",
       "    .dataframe tbody tr th:only-of-type {\n",
       "        vertical-align: middle;\n",
       "    }\n",
       "\n",
       "    .dataframe tbody tr th {\n",
       "        vertical-align: top;\n",
       "    }\n",
       "\n",
       "    .dataframe thead th {\n",
       "        text-align: right;\n",
       "    }\n",
       "</style>\n",
       "<table border=\"1\" class=\"dataframe\">\n",
       "  <thead>\n",
       "    <tr style=\"text-align: right;\">\n",
       "      <th></th>\n",
       "      <th>Country</th>\n",
       "      <th>Income Classification</th>\n",
       "      <th>Severe Wasting</th>\n",
       "      <th>Wasting</th>\n",
       "      <th>Overweight</th>\n",
       "      <th>Stunting</th>\n",
       "      <th>Underweight</th>\n",
       "      <th>U5 Population ('000s)</th>\n",
       "    </tr>\n",
       "  </thead>\n",
       "  <tbody>\n",
       "    <tr>\n",
       "      <th>6</th>\n",
       "      <td>AUSTRALIA</td>\n",
       "      <td>3.0</td>\n",
       "      <td>0.000000</td>\n",
       "      <td>0.000000</td>\n",
       "      <td>13.875000</td>\n",
       "      <td>1.000000</td>\n",
       "      <td>0.100000</td>\n",
       "      <td>1443.074500</td>\n",
       "    </tr>\n",
       "    <tr>\n",
       "      <th>143</th>\n",
       "      <td>UNITED STATES OF AMERICA (THE)</td>\n",
       "      <td>3.0</td>\n",
       "      <td>0.040000</td>\n",
       "      <td>0.514286</td>\n",
       "      <td>7.414286</td>\n",
       "      <td>2.914286</td>\n",
       "      <td>0.880000</td>\n",
       "      <td>20077.909571</td>\n",
       "    </tr>\n",
       "    <tr>\n",
       "      <th>53</th>\n",
       "      <td>GERMANY</td>\n",
       "      <td>3.0</td>\n",
       "      <td>0.100000</td>\n",
       "      <td>0.650000</td>\n",
       "      <td>3.350000</td>\n",
       "      <td>1.500000</td>\n",
       "      <td>0.800000</td>\n",
       "      <td>3641.690000</td>\n",
       "    </tr>\n",
       "    <tr>\n",
       "      <th>108</th>\n",
       "      <td>REPUBLIC OF KOREA (THE)</td>\n",
       "      <td>3.0</td>\n",
       "      <td>0.150000</td>\n",
       "      <td>1.050000</td>\n",
       "      <td>6.750000</td>\n",
       "      <td>2.500000</td>\n",
       "      <td>0.800000</td>\n",
       "      <td>2487.097000</td>\n",
       "    </tr>\n",
       "    <tr>\n",
       "      <th>66</th>\n",
       "      <td>JAPAN</td>\n",
       "      <td>3.0</td>\n",
       "      <td>0.200000</td>\n",
       "      <td>2.300000</td>\n",
       "      <td>1.500000</td>\n",
       "      <td>7.100000</td>\n",
       "      <td>3.400000</td>\n",
       "      <td>5554.144000</td>\n",
       "    </tr>\n",
       "    <tr>\n",
       "      <th>4</th>\n",
       "      <td>ARGENTINA</td>\n",
       "      <td>2.0</td>\n",
       "      <td>0.200000</td>\n",
       "      <td>2.150000</td>\n",
       "      <td>11.125000</td>\n",
       "      <td>10.025000</td>\n",
       "      <td>2.600000</td>\n",
       "      <td>3613.651750</td>\n",
       "    </tr>\n",
       "    <tr>\n",
       "      <th>93</th>\n",
       "      <td>NAURU</td>\n",
       "      <td>2.0</td>\n",
       "      <td>0.200000</td>\n",
       "      <td>1.000000</td>\n",
       "      <td>2.800000</td>\n",
       "      <td>24.000000</td>\n",
       "      <td>4.800000</td>\n",
       "      <td>1.000000</td>\n",
       "    </tr>\n",
       "    <tr>\n",
       "      <th>104</th>\n",
       "      <td>PERU</td>\n",
       "      <td>2.0</td>\n",
       "      <td>0.213333</td>\n",
       "      <td>0.793333</td>\n",
       "      <td>8.940000</td>\n",
       "      <td>21.860000</td>\n",
       "      <td>4.320000</td>\n",
       "      <td>2922.842400</td>\n",
       "    </tr>\n",
       "    <tr>\n",
       "      <th>60</th>\n",
       "      <td>HONDURAS</td>\n",
       "      <td>1.0</td>\n",
       "      <td>0.275000</td>\n",
       "      <td>1.828571</td>\n",
       "      <td>3.900000</td>\n",
       "      <td>36.857143</td>\n",
       "      <td>13.785714</td>\n",
       "      <td>963.024571</td>\n",
       "    </tr>\n",
       "    <tr>\n",
       "      <th>103</th>\n",
       "      <td>PARAGUAY</td>\n",
       "      <td>2.0</td>\n",
       "      <td>0.333333</td>\n",
       "      <td>1.325000</td>\n",
       "      <td>9.275000</td>\n",
       "      <td>13.025000</td>\n",
       "      <td>2.525000</td>\n",
       "      <td>679.476250</td>\n",
       "    </tr>\n",
       "  </tbody>\n",
       "</table>\n",
       "</div>"
      ],
      "text/plain": [
       "                            Country  Income Classification  Severe Wasting  \\\n",
       "6                         AUSTRALIA                    3.0        0.000000   \n",
       "143  UNITED STATES OF AMERICA (THE)                    3.0        0.040000   \n",
       "53                          GERMANY                    3.0        0.100000   \n",
       "108         REPUBLIC OF KOREA (THE)                    3.0        0.150000   \n",
       "66                            JAPAN                    3.0        0.200000   \n",
       "4                         ARGENTINA                    2.0        0.200000   \n",
       "93                            NAURU                    2.0        0.200000   \n",
       "104                            PERU                    2.0        0.213333   \n",
       "60                         HONDURAS                    1.0        0.275000   \n",
       "103                        PARAGUAY                    2.0        0.333333   \n",
       "\n",
       "      Wasting  Overweight   Stunting  Underweight  U5 Population ('000s)  \n",
       "6    0.000000   13.875000   1.000000     0.100000            1443.074500  \n",
       "143  0.514286    7.414286   2.914286     0.880000           20077.909571  \n",
       "53   0.650000    3.350000   1.500000     0.800000            3641.690000  \n",
       "108  1.050000    6.750000   2.500000     0.800000            2487.097000  \n",
       "66   2.300000    1.500000   7.100000     3.400000            5554.144000  \n",
       "4    2.150000   11.125000  10.025000     2.600000            3613.651750  \n",
       "93   1.000000    2.800000  24.000000     4.800000               1.000000  \n",
       "104  0.793333    8.940000  21.860000     4.320000            2922.842400  \n",
       "60   1.828571    3.900000  36.857143    13.785714             963.024571  \n",
       "103  1.325000    9.275000  13.025000     2.525000             679.476250  "
      ]
     },
     "execution_count": 100,
     "metadata": {},
     "output_type": "execute_result"
    }
   ],
   "source": [
    "df.sort_values(by=['Severe Wasting','Stunting','Wasting','Underweight','Overweight']).head(10)"
   ]
  },
  {
   "cell_type": "markdown",
   "id": "d365c080",
   "metadata": {},
   "source": [
    "\n",
    "Observation: Australia , USA, Germany Are less malnutrioned affected and as well High-Income Countries who can afford Three Meals per Day."
   ]
  },
  {
   "cell_type": "code",
   "execution_count": null,
   "id": "3225876e",
   "metadata": {},
   "outputs": [],
   "source": []
  }
 ],
 "metadata": {
  "kernelspec": {
   "display_name": "Python 3 (ipykernel)",
   "language": "python",
   "name": "python3"
  },
  "language_info": {
   "codemirror_mode": {
    "name": "ipython",
    "version": 3
   },
   "file_extension": ".py",
   "mimetype": "text/x-python",
   "name": "python",
   "nbconvert_exporter": "python",
   "pygments_lexer": "ipython3",
   "version": "3.9.12"
  }
 },
 "nbformat": 4,
 "nbformat_minor": 5
}
